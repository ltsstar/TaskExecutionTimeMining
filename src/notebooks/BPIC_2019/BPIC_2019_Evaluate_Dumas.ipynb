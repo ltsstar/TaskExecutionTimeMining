{
 "cells": [
  {
   "cell_type": "code",
   "execution_count": 1,
   "id": "5967c5de-b76e-47de-ba84-ce4a0f1a117f",
   "metadata": {},
   "outputs": [],
   "source": [
    "import numpy as np\n",
    "import pandas\n",
    "import pm4py\n",
    "from matplotlib import pyplot as plt\n",
    "from sklearn.mixture import GaussianMixture\n",
    "import scipy.stats as stats\n",
    "import ot\n",
    "import os\n",
    "from tqdm import tqdm\n",
    "import collections\n",
    "import matplotlib.dates as md\n",
    "import importlib\n",
    "import pickle\n",
    "import random\n",
    "import CRPS.CRPS as pscore\n",
    "\n",
    "\n",
    "pandas.set_option('display.max_columns', None)\n",
    "#pandas.set_option('display.max_rows', None)\n",
    "\n",
    "\n",
    "import sys\n",
    "sys.path.append('../../TaskExecutionTimeMining/')\n",
    "from drbart_parser import *\n",
    "from event_log_transformer import *\n",
    "\n",
    "#sys.path.append('../../Evaluation')\n",
    "sys.path.append('../../Evaluation/')\n",
    "from normal_evaluation.dumas_evaluation import *"
   ]
  },
  {
   "cell_type": "code",
   "execution_count": 2,
   "id": "fcbfb543-77a9-4ab6-91a6-21677681cdb6",
   "metadata": {},
   "outputs": [],
   "source": [
    "with open('../../../models/artificial/dumas_model.pickle', 'rb') as f:\n",
    "    dumas_model = pickle.load(f)\n",
    "\n",
    "with open('../../../models/artificial/dumas_model_no_resource.pickle', 'rb') as f:\n",
    "    dumas_model_no_resource = pickle.load(f)"
   ]
  },
  {
   "cell_type": "code",
   "execution_count": 3,
   "id": "e519eb9e-c059-4deb-9268-24a95190f396",
   "metadata": {},
   "outputs": [],
   "source": [
    "import conduct_evaluation\n",
    "get_pscores = lambda likelihoods : [pscore(likelihoods[1][i], likelihoods[2][k][3]).compute()[0] for i, k in enumerate(list(likelihoods[0].keys()))]\n",
    "\n",
    "N = 1000"
   ]
  },
  {
   "cell_type": "code",
   "execution_count": 4,
   "id": "92cd206e-8fb5-4ddd-aef2-33aa0a4049f7",
   "metadata": {},
   "outputs": [],
   "source": [
    "with open('../transformed_event_logs/artificial_start_end_2_train.pickle', 'rb') as f:\n",
    "    train_data = pickle.load(f)"
   ]
  },
  {
   "cell_type": "code",
   "execution_count": 5,
   "id": "0c26ffd5-b97d-4f60-8ad2-7875ca7d1755",
   "metadata": {},
   "outputs": [
    {
     "name": "stderr",
     "output_type": "stream",
     "text": [
      "100%|██████████████████████████████████████████████| 1802/1802 [08:50<00:00,  3.39it/s]\n"
     ]
    }
   ],
   "source": [
    "evaluator = conduct_evaluation.ConductEvaluation(dumas_model, SampleOutcomes_Dumas_Normal,\n",
    "                                                 {\n",
    "                                                        'activity_key' : 'concept:name',\n",
    "                                                        'resource_key' : 'org:resource',\n",
    "                                                 },\n",
    "                                     train_data, n=N)\n",
    "likelihoods_train_A_R = evaluator.sample_cases(plot_cases=False, multiprocessing=False)"
   ]
  },
  {
   "cell_type": "code",
   "execution_count": 6,
   "id": "f8842651-6d94-4ef4-b873-aa867a095794",
   "metadata": {},
   "outputs": [
    {
     "data": {
      "text/plain": [
       "Decimal('-11.09266236220206472456143419')"
      ]
     },
     "execution_count": 6,
     "metadata": {},
     "output_type": "execute_result"
    }
   ],
   "source": [
    "np.mean([v.ln() for v in likelihoods_train_A_R[0].values()])"
   ]
  },
  {
   "cell_type": "code",
   "execution_count": 7,
   "id": "4b194404-9feb-44a4-b52d-b42ff8c1d411",
   "metadata": {},
   "outputs": [
    {
     "data": {
      "text/plain": [
       "np.float64(9620.070722843333)"
      ]
     },
     "execution_count": 7,
     "metadata": {},
     "output_type": "execute_result"
    }
   ],
   "source": [
    "np.mean(get_pscores(likelihoods_train_A_R))"
   ]
  },
  {
   "cell_type": "code",
   "execution_count": 8,
   "id": "4e0ce523-9bc3-4ccc-a390-cf6adaa051a3",
   "metadata": {},
   "outputs": [],
   "source": [
    "with open('../transformed_event_logs/artificial_start_end_2_test.pickle', 'rb') as f:\n",
    "    test_data = pickle.load(f)"
   ]
  },
  {
   "cell_type": "code",
   "execution_count": 9,
   "id": "a6c335c8-a3b6-4229-96b0-32ba12ecb98f",
   "metadata": {},
   "outputs": [
    {
     "name": "stderr",
     "output_type": "stream",
     "text": [
      "100%|████████████████████████████████████████████████| 892/892 [04:25<00:00,  3.36it/s]\n"
     ]
    }
   ],
   "source": [
    "evaluator = conduct_evaluation.ConductEvaluation(dumas_model, SampleOutcomes_Dumas_Normal,\n",
    "                                                 {\n",
    "                                                        'activity_key' : 'concept:name',\n",
    "                                                        'resource_key' : 'org:resource',\n",
    "                                                 },\n",
    "                                     test_data, n=N)\n",
    "likelihoods_test_A_R = evaluator.sample_cases(plot_cases=False, multiprocessing=False)"
   ]
  },
  {
   "cell_type": "code",
   "execution_count": 10,
   "id": "b2b3f039-919a-4fd5-a60a-ebae3f0d1dd1",
   "metadata": {},
   "outputs": [
    {
     "data": {
      "text/plain": [
       "Decimal('-11.54052512055734716436593603')"
      ]
     },
     "execution_count": 10,
     "metadata": {},
     "output_type": "execute_result"
    }
   ],
   "source": [
    "np.mean([v.ln() for v in likelihoods_test_A_R[0].values()])"
   ]
  },
  {
   "cell_type": "code",
   "execution_count": 11,
   "id": "7b44f947-fcfe-498b-b699-085042e620a1",
   "metadata": {},
   "outputs": [
    {
     "data": {
      "text/plain": [
       "np.float64(9855.46452988503)"
      ]
     },
     "execution_count": 11,
     "metadata": {},
     "output_type": "execute_result"
    }
   ],
   "source": [
    "np.mean(get_pscores(likelihoods_test_A_R))"
   ]
  },
  {
   "cell_type": "code",
   "execution_count": 12,
   "id": "e3d23977-f2b8-4326-b759-e7097363960c",
   "metadata": {},
   "outputs": [
    {
     "name": "stderr",
     "output_type": "stream",
     "text": [
      "100%|██████████████████████████████████████████████| 1802/1802 [08:51<00:00,  3.39it/s]\n"
     ]
    }
   ],
   "source": [
    "evaluator = conduct_evaluation.ConductEvaluation(dumas_model_no_resource, SampleOutcomes_Dumas_Normal,\n",
    "                                                 {\n",
    "                                                        'activity_key' : 'concept:name',\n",
    "                                                        'resource_key' : 'org:resource',\n",
    "                                                 },\n",
    "                                     train_data, n=N)\n",
    "likelihoods_train_A = evaluator.sample_cases(plot_cases=False, multiprocessing=False)"
   ]
  },
  {
   "cell_type": "code",
   "execution_count": 13,
   "id": "87e982af-5585-43fa-9139-3261b8f408f0",
   "metadata": {},
   "outputs": [
    {
     "data": {
      "text/plain": [
       "Decimal('-11.20349764977855420773187591')"
      ]
     },
     "execution_count": 13,
     "metadata": {},
     "output_type": "execute_result"
    }
   ],
   "source": [
    "np.mean([v.ln() for v in likelihoods_train_A[0].values()])"
   ]
  },
  {
   "cell_type": "code",
   "execution_count": 14,
   "id": "b9e87451-67a4-4578-b750-a6d991ae31a9",
   "metadata": {},
   "outputs": [
    {
     "data": {
      "text/plain": [
       "np.float64(9887.346417640118)"
      ]
     },
     "execution_count": 14,
     "metadata": {},
     "output_type": "execute_result"
    }
   ],
   "source": [
    "np.mean(get_pscores(likelihoods_train_A))"
   ]
  },
  {
   "cell_type": "code",
   "execution_count": 15,
   "id": "ccc0f8b2-5e1f-481c-9627-121f372bf7be",
   "metadata": {},
   "outputs": [
    {
     "name": "stderr",
     "output_type": "stream",
     "text": [
      "100%|████████████████████████████████████████████████| 892/892 [04:23<00:00,  3.39it/s]\n"
     ]
    }
   ],
   "source": [
    "evaluator = conduct_evaluation.ConductEvaluation(dumas_model_no_resource, SampleOutcomes_Dumas_Normal,\n",
    "                                                 {\n",
    "                                                        'activity_key' : 'concept:name',\n",
    "                                                        'resource_key' : 'org:resource',\n",
    "                                                 },\n",
    "                                     test_data, n=N)\n",
    "likelihoods_test_A = evaluator.sample_cases(plot_cases=False, multiprocessing=False)"
   ]
  },
  {
   "cell_type": "code",
   "execution_count": 16,
   "id": "825fbb46-e0e5-469f-91c8-478a4238dc76",
   "metadata": {},
   "outputs": [
    {
     "data": {
      "text/plain": [
       "Decimal('-13.01212982265674538014732453')"
      ]
     },
     "execution_count": 16,
     "metadata": {},
     "output_type": "execute_result"
    }
   ],
   "source": [
    "np.mean([v.ln() for v in likelihoods_test_A[0].values()])"
   ]
  },
  {
   "cell_type": "code",
   "execution_count": 17,
   "id": "70964d63-7d24-4456-8d9e-a1c629c2eb8f",
   "metadata": {},
   "outputs": [
    {
     "data": {
      "text/plain": [
       "np.float64(10135.955341589937)"
      ]
     },
     "execution_count": 17,
     "metadata": {},
     "output_type": "execute_result"
    }
   ],
   "source": [
    "np.mean(get_pscores(likelihoods_test_A))"
   ]
  },
  {
   "cell_type": "code",
   "execution_count": 19,
   "id": "b4375872-4ff5-46cd-946e-7e0e8eef8a45",
   "metadata": {},
   "outputs": [],
   "source": [
    "results = {\n",
    "    'dumas_test_A' : likelihoods_test_A,\n",
    "    'dumas_test_A_R' : likelihoods_test_A_R,\n",
    "    'dumas_train_A' : likelihoods_train_A,\n",
    "    'dumas_train_A_R' : likelihoods_train_A_R\n",
    "}\n",
    "\n",
    "with open('./artificial_dumas_evaluation_.pickle', 'wb') as handle:\n",
    "    pickle.dump(results, handle)"
   ]
  }
 ],
 "metadata": {
  "kernelspec": {
   "display_name": "Python 3 (ipykernel)",
   "language": "python",
   "name": "python3"
  },
  "language_info": {
   "codemirror_mode": {
    "name": "ipython",
    "version": 3
   },
   "file_extension": ".py",
   "mimetype": "text/x-python",
   "name": "python",
   "nbconvert_exporter": "python",
   "pygments_lexer": "ipython3",
   "version": "3.10.13+"
  }
 },
 "nbformat": 4,
 "nbformat_minor": 5
}
