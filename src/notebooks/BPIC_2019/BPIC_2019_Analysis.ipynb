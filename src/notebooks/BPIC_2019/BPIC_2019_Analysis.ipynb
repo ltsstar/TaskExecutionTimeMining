{
 "cells": [
  {
   "cell_type": "code",
   "execution_count": 1,
   "id": "f7a8b4a5-f2e8-4b1e-8566-d3c0ef8ca4ba",
   "metadata": {},
   "outputs": [],
   "source": [
    "import pickle"
   ]
  },
  {
   "cell_type": "code",
   "execution_count": 2,
   "id": "7e750261-ab52-48cb-addb-ecf6b49220d9",
   "metadata": {},
   "outputs": [
    {
     "ename": "SyntaxError",
     "evalue": "incomplete input (2179875309.py, line 1)",
     "output_type": "error",
     "traceback": [
      "\u001b[0;36m  Cell \u001b[0;32mIn[2], line 1\u001b[0;36m\u001b[0m\n\u001b[0;31m    train_event_log = pickle.loads('../transformed_event_logs/BPIC_2019_start_end_train.pickle'(\u001b[0m\n\u001b[0m                                                                                                ^\u001b[0m\n\u001b[0;31mSyntaxError\u001b[0m\u001b[0;31m:\u001b[0m incomplete input\n"
     ]
    }
   ],
   "source": [
    "train_event_log = pickle.loads('../transformed_event_logs/BPIC_2019_start_end_train.pickle')"
   ]
  },
  {
   "cell_type": "code",
   "execution_count": null,
   "id": "c38ec85a-22b8-42c8-a3b3-ca4f4a99d547",
   "metadata": {},
   "outputs": [],
   "source": []
  }
 ],
 "metadata": {
  "kernelspec": {
   "display_name": "Python 3 (ipykernel)",
   "language": "python",
   "name": "python3"
  },
  "language_info": {
   "codemirror_mode": {
    "name": "ipython",
    "version": 3
   },
   "file_extension": ".py",
   "mimetype": "text/x-python",
   "name": "python",
   "nbconvert_exporter": "python",
   "pygments_lexer": "ipython3",
   "version": "3.10.12"
  }
 },
 "nbformat": 4,
 "nbformat_minor": 5
}
