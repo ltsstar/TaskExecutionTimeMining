{
 "cells": [
  {
   "cell_type": "code",
   "execution_count": 1,
   "id": "010f6bea-b645-4642-b85a-adadbecab7ae",
   "metadata": {},
   "outputs": [],
   "source": [
    "import numpy as np\n",
    "import pandas\n",
    "import pm4py\n",
    "from matplotlib import pyplot as plt\n",
    "from sklearn.mixture import GaussianMixture\n",
    "import scipy.stats as stats\n",
    "import ot\n",
    "import os\n",
    "from tqdm import tqdm\n",
    "import collections\n",
    "import matplotlib.dates as md\n",
    "import importlib\n",
    "import pickle\n",
    "import random\n",
    "import math\n",
    "import CRPS.CRPS as pscore\n",
    "import datetime\n",
    "\n",
    "pandas.set_option('display.max_columns', None)\n",
    "#pandas.set_option('display.max_rows', None)\n",
    "\n",
    "\n",
    "import sys\n",
    "sys.path.append('../../TaskExecutionTimeMining/')\n",
    "from drbart_parser import *\n",
    "from event_log_transformer import *\n",
    "\n",
    "#sys.path.append('../../Evaluation')\n",
    "sys.path.append('../../Evaluation/')\n",
    "from normal_evaluation.drbart_evaluation import *"
   ]
  },
  {
   "cell_type": "code",
   "execution_count": 2,
   "id": "959db81c-39c4-4381-86e0-2e0b8815c323",
   "metadata": {},
   "outputs": [],
   "source": [
    "model_name = 'artificial'\n",
    "log_name = 'train'\n",
    "with open('../transformed_event_logs/artificial_start_end_2_'+log_name+'.pickle', 'rb') as f:\n",
    "    test_event_log = pickle.load(f)\n",
    "\n",
    "#test_event_log['time:timestamp'] = test_event_log['time:timestamp_complete']\n",
    "test_event_log['case:concept:name'] = test_event_log['case:concept:name'].astype(str)\n",
    "known_resources = ['1', 'Clark', 'Jane', 'Joe', 'Karsten']\n",
    "known_activities = ['DIAGNOSIS', 'QUALITY_CONTROL', 'REPAIR']"
   ]
  },
  {
   "cell_type": "code",
   "execution_count": 3,
   "id": "49303dbc-a170-4c65-b862-35444e68e10d",
   "metadata": {},
   "outputs": [
    {
     "data": {
      "text/html": [
       "<div>\n",
       "<style scoped>\n",
       "    .dataframe tbody tr th:only-of-type {\n",
       "        vertical-align: middle;\n",
       "    }\n",
       "\n",
       "    .dataframe tbody tr th {\n",
       "        vertical-align: top;\n",
       "    }\n",
       "\n",
       "    .dataframe thead th {\n",
       "        text-align: right;\n",
       "    }\n",
       "</style>\n",
       "<table border=\"1\" class=\"dataframe\">\n",
       "  <thead>\n",
       "    <tr style=\"text-align: right;\">\n",
       "      <th></th>\n",
       "      <th>concept:name</th>\n",
       "      <th>lifecycle:transition_start</th>\n",
       "      <th>time:timestamp_start</th>\n",
       "      <th>org:resource</th>\n",
       "      <th>case:concept:name</th>\n",
       "      <th>id_start</th>\n",
       "      <th>lifecycle:transition_complete</th>\n",
       "      <th>time:timestamp_complete</th>\n",
       "      <th>id_complete</th>\n",
       "      <th>duration</th>\n",
       "      <th>duration_seconds</th>\n",
       "      <th>seconds_in_day</th>\n",
       "      <th>DIAGNOSIS</th>\n",
       "      <th>QUALITY_CONTROL</th>\n",
       "      <th>REPAIR</th>\n",
       "      <th>1</th>\n",
       "      <th>Clark</th>\n",
       "      <th>Jane</th>\n",
       "      <th>Joe</th>\n",
       "      <th>Karsten</th>\n",
       "    </tr>\n",
       "  </thead>\n",
       "  <tbody>\n",
       "    <tr>\n",
       "      <th>0</th>\n",
       "      <td>DIAGNOSIS</td>\n",
       "      <td>START</td>\n",
       "      <td>2020-01-01 03:57:40.044121+00:00</td>\n",
       "      <td>Jane</td>\n",
       "      <td>0</td>\n",
       "      <td>1</td>\n",
       "      <td>COMPLETE</td>\n",
       "      <td>2020-01-01 04:34:23.549454+00:00</td>\n",
       "      <td>2</td>\n",
       "      <td>0 days 00:36:43.505333</td>\n",
       "      <td>2203</td>\n",
       "      <td>14260</td>\n",
       "      <td>1</td>\n",
       "      <td>0</td>\n",
       "      <td>0</td>\n",
       "      <td>0</td>\n",
       "      <td>0</td>\n",
       "      <td>1</td>\n",
       "      <td>0</td>\n",
       "      <td>0</td>\n",
       "    </tr>\n",
       "    <tr>\n",
       "      <th>1</th>\n",
       "      <td>REPAIR</td>\n",
       "      <td>START</td>\n",
       "      <td>2020-01-01 04:34:23.549454+00:00</td>\n",
       "      <td>Joe</td>\n",
       "      <td>0</td>\n",
       "      <td>4</td>\n",
       "      <td>COMPLETE</td>\n",
       "      <td>2020-01-01 14:30:27.423999+00:00</td>\n",
       "      <td>5</td>\n",
       "      <td>0 days 09:56:03.874545</td>\n",
       "      <td>35763</td>\n",
       "      <td>16463</td>\n",
       "      <td>1</td>\n",
       "      <td>0</td>\n",
       "      <td>1</td>\n",
       "      <td>0</td>\n",
       "      <td>0</td>\n",
       "      <td>1</td>\n",
       "      <td>1</td>\n",
       "      <td>0</td>\n",
       "    </tr>\n",
       "    <tr>\n",
       "      <th>3</th>\n",
       "      <td>DIAGNOSIS</td>\n",
       "      <td>START</td>\n",
       "      <td>2020-01-01 08:16:35.844753+00:00</td>\n",
       "      <td>Jane</td>\n",
       "      <td>1</td>\n",
       "      <td>10</td>\n",
       "      <td>COMPLETE</td>\n",
       "      <td>2020-01-01 08:47:14.772217+00:00</td>\n",
       "      <td>11</td>\n",
       "      <td>0 days 00:30:38.927464</td>\n",
       "      <td>1838</td>\n",
       "      <td>29795</td>\n",
       "      <td>1</td>\n",
       "      <td>0</td>\n",
       "      <td>0</td>\n",
       "      <td>0</td>\n",
       "      <td>0</td>\n",
       "      <td>1</td>\n",
       "      <td>0</td>\n",
       "      <td>0</td>\n",
       "    </tr>\n",
       "    <tr>\n",
       "      <th>4</th>\n",
       "      <td>REPAIR</td>\n",
       "      <td>START</td>\n",
       "      <td>2020-01-01 08:47:14.772217+00:00</td>\n",
       "      <td>Karsten</td>\n",
       "      <td>1</td>\n",
       "      <td>13</td>\n",
       "      <td>COMPLETE</td>\n",
       "      <td>2020-01-01 13:27:22.316694+00:00</td>\n",
       "      <td>14</td>\n",
       "      <td>0 days 04:40:07.544477</td>\n",
       "      <td>16807</td>\n",
       "      <td>31634</td>\n",
       "      <td>1</td>\n",
       "      <td>0</td>\n",
       "      <td>1</td>\n",
       "      <td>0</td>\n",
       "      <td>0</td>\n",
       "      <td>1</td>\n",
       "      <td>0</td>\n",
       "      <td>1</td>\n",
       "    </tr>\n",
       "    <tr>\n",
       "      <th>5</th>\n",
       "      <td>QUALITY_CONTROL</td>\n",
       "      <td>START</td>\n",
       "      <td>2020-01-01 13:27:22.316694+00:00</td>\n",
       "      <td>Clark</td>\n",
       "      <td>1</td>\n",
       "      <td>16</td>\n",
       "      <td>COMPLETE</td>\n",
       "      <td>2020-01-01 17:21:42.825766+00:00</td>\n",
       "      <td>17</td>\n",
       "      <td>0 days 03:54:20.509072</td>\n",
       "      <td>14060</td>\n",
       "      <td>48442</td>\n",
       "      <td>1</td>\n",
       "      <td>1</td>\n",
       "      <td>1</td>\n",
       "      <td>0</td>\n",
       "      <td>1</td>\n",
       "      <td>1</td>\n",
       "      <td>0</td>\n",
       "      <td>1</td>\n",
       "    </tr>\n",
       "    <tr>\n",
       "      <th>...</th>\n",
       "      <td>...</td>\n",
       "      <td>...</td>\n",
       "      <td>...</td>\n",
       "      <td>...</td>\n",
       "      <td>...</td>\n",
       "      <td>...</td>\n",
       "      <td>...</td>\n",
       "      <td>...</td>\n",
       "      <td>...</td>\n",
       "      <td>...</td>\n",
       "      <td>...</td>\n",
       "      <td>...</td>\n",
       "      <td>...</td>\n",
       "      <td>...</td>\n",
       "      <td>...</td>\n",
       "      <td>...</td>\n",
       "      <td>...</td>\n",
       "      <td>...</td>\n",
       "      <td>...</td>\n",
       "      <td>...</td>\n",
       "    </tr>\n",
       "    <tr>\n",
       "      <th>5400</th>\n",
       "      <td>DIAGNOSIS</td>\n",
       "      <td>START</td>\n",
       "      <td>2024-12-26 18:05:59.540931+00:00</td>\n",
       "      <td>Clark</td>\n",
       "      <td>1800</td>\n",
       "      <td>16201</td>\n",
       "      <td>COMPLETE</td>\n",
       "      <td>2024-12-26 19:13:26.892809+00:00</td>\n",
       "      <td>16202</td>\n",
       "      <td>0 days 01:07:27.351878</td>\n",
       "      <td>4047</td>\n",
       "      <td>65159</td>\n",
       "      <td>1</td>\n",
       "      <td>0</td>\n",
       "      <td>0</td>\n",
       "      <td>0</td>\n",
       "      <td>1</td>\n",
       "      <td>0</td>\n",
       "      <td>0</td>\n",
       "      <td>0</td>\n",
       "    </tr>\n",
       "    <tr>\n",
       "      <th>5399</th>\n",
       "      <td>QUALITY_CONTROL</td>\n",
       "      <td>START</td>\n",
       "      <td>2024-12-26 19:03:41.622915+00:00</td>\n",
       "      <td>Joe</td>\n",
       "      <td>1799</td>\n",
       "      <td>16198</td>\n",
       "      <td>COMPLETE</td>\n",
       "      <td>2024-12-26 21:39:17.312456+00:00</td>\n",
       "      <td>16199</td>\n",
       "      <td>0 days 02:35:35.689541</td>\n",
       "      <td>9335</td>\n",
       "      <td>68621</td>\n",
       "      <td>1</td>\n",
       "      <td>1</td>\n",
       "      <td>1</td>\n",
       "      <td>1</td>\n",
       "      <td>0</td>\n",
       "      <td>0</td>\n",
       "      <td>1</td>\n",
       "      <td>1</td>\n",
       "    </tr>\n",
       "    <tr>\n",
       "      <th>5401</th>\n",
       "      <td>REPAIR</td>\n",
       "      <td>START</td>\n",
       "      <td>2024-12-26 19:13:26.892809+00:00</td>\n",
       "      <td>Clark</td>\n",
       "      <td>1800</td>\n",
       "      <td>16204</td>\n",
       "      <td>COMPLETE</td>\n",
       "      <td>2024-12-27 08:23:46.946760+00:00</td>\n",
       "      <td>16205</td>\n",
       "      <td>0 days 13:10:20.053951</td>\n",
       "      <td>47420</td>\n",
       "      <td>69206</td>\n",
       "      <td>1</td>\n",
       "      <td>0</td>\n",
       "      <td>1</td>\n",
       "      <td>0</td>\n",
       "      <td>2</td>\n",
       "      <td>0</td>\n",
       "      <td>0</td>\n",
       "      <td>0</td>\n",
       "    </tr>\n",
       "    <tr>\n",
       "      <th>5402</th>\n",
       "      <td>QUALITY_CONTROL</td>\n",
       "      <td>START</td>\n",
       "      <td>2024-12-27 08:23:46.946760+00:00</td>\n",
       "      <td>Jane</td>\n",
       "      <td>1800</td>\n",
       "      <td>16207</td>\n",
       "      <td>COMPLETE</td>\n",
       "      <td>2024-12-27 11:10:44.009123+00:00</td>\n",
       "      <td>16208</td>\n",
       "      <td>0 days 02:46:57.062363</td>\n",
       "      <td>10017</td>\n",
       "      <td>30226</td>\n",
       "      <td>1</td>\n",
       "      <td>1</td>\n",
       "      <td>1</td>\n",
       "      <td>0</td>\n",
       "      <td>2</td>\n",
       "      <td>1</td>\n",
       "      <td>0</td>\n",
       "      <td>0</td>\n",
       "    </tr>\n",
       "    <tr>\n",
       "      <th>5403</th>\n",
       "      <td>DIAGNOSIS</td>\n",
       "      <td>START</td>\n",
       "      <td>2024-12-29 20:55:45.405475+00:00</td>\n",
       "      <td>Joe</td>\n",
       "      <td>1801</td>\n",
       "      <td>16210</td>\n",
       "      <td>COMPLETE</td>\n",
       "      <td>2024-12-29 22:15:50.349701+00:00</td>\n",
       "      <td>16211</td>\n",
       "      <td>0 days 01:20:04.944226</td>\n",
       "      <td>4804</td>\n",
       "      <td>75345</td>\n",
       "      <td>1</td>\n",
       "      <td>0</td>\n",
       "      <td>0</td>\n",
       "      <td>0</td>\n",
       "      <td>0</td>\n",
       "      <td>0</td>\n",
       "      <td>1</td>\n",
       "      <td>0</td>\n",
       "    </tr>\n",
       "  </tbody>\n",
       "</table>\n",
       "<p>5404 rows × 20 columns</p>\n",
       "</div>"
      ],
      "text/plain": [
       "         concept:name lifecycle:transition_start  \\\n",
       "0           DIAGNOSIS                      START   \n",
       "1              REPAIR                      START   \n",
       "3           DIAGNOSIS                      START   \n",
       "4              REPAIR                      START   \n",
       "5     QUALITY_CONTROL                      START   \n",
       "...               ...                        ...   \n",
       "5400        DIAGNOSIS                      START   \n",
       "5399  QUALITY_CONTROL                      START   \n",
       "5401           REPAIR                      START   \n",
       "5402  QUALITY_CONTROL                      START   \n",
       "5403        DIAGNOSIS                      START   \n",
       "\n",
       "                 time:timestamp_start org:resource case:concept:name  \\\n",
       "0    2020-01-01 03:57:40.044121+00:00         Jane                 0   \n",
       "1    2020-01-01 04:34:23.549454+00:00          Joe                 0   \n",
       "3    2020-01-01 08:16:35.844753+00:00         Jane                 1   \n",
       "4    2020-01-01 08:47:14.772217+00:00      Karsten                 1   \n",
       "5    2020-01-01 13:27:22.316694+00:00        Clark                 1   \n",
       "...                               ...          ...               ...   \n",
       "5400 2024-12-26 18:05:59.540931+00:00        Clark              1800   \n",
       "5399 2024-12-26 19:03:41.622915+00:00          Joe              1799   \n",
       "5401 2024-12-26 19:13:26.892809+00:00        Clark              1800   \n",
       "5402 2024-12-27 08:23:46.946760+00:00         Jane              1800   \n",
       "5403 2024-12-29 20:55:45.405475+00:00          Joe              1801   \n",
       "\n",
       "      id_start lifecycle:transition_complete          time:timestamp_complete  \\\n",
       "0            1                      COMPLETE 2020-01-01 04:34:23.549454+00:00   \n",
       "1            4                      COMPLETE 2020-01-01 14:30:27.423999+00:00   \n",
       "3           10                      COMPLETE 2020-01-01 08:47:14.772217+00:00   \n",
       "4           13                      COMPLETE 2020-01-01 13:27:22.316694+00:00   \n",
       "5           16                      COMPLETE 2020-01-01 17:21:42.825766+00:00   \n",
       "...        ...                           ...                              ...   \n",
       "5400     16201                      COMPLETE 2024-12-26 19:13:26.892809+00:00   \n",
       "5399     16198                      COMPLETE 2024-12-26 21:39:17.312456+00:00   \n",
       "5401     16204                      COMPLETE 2024-12-27 08:23:46.946760+00:00   \n",
       "5402     16207                      COMPLETE 2024-12-27 11:10:44.009123+00:00   \n",
       "5403     16210                      COMPLETE 2024-12-29 22:15:50.349701+00:00   \n",
       "\n",
       "      id_complete               duration  duration_seconds  seconds_in_day  \\\n",
       "0               2 0 days 00:36:43.505333              2203           14260   \n",
       "1               5 0 days 09:56:03.874545             35763           16463   \n",
       "3              11 0 days 00:30:38.927464              1838           29795   \n",
       "4              14 0 days 04:40:07.544477             16807           31634   \n",
       "5              17 0 days 03:54:20.509072             14060           48442   \n",
       "...           ...                    ...               ...             ...   \n",
       "5400        16202 0 days 01:07:27.351878              4047           65159   \n",
       "5399        16199 0 days 02:35:35.689541              9335           68621   \n",
       "5401        16205 0 days 13:10:20.053951             47420           69206   \n",
       "5402        16208 0 days 02:46:57.062363             10017           30226   \n",
       "5403        16211 0 days 01:20:04.944226              4804           75345   \n",
       "\n",
       "      DIAGNOSIS  QUALITY_CONTROL  REPAIR  1  Clark  Jane  Joe  Karsten  \n",
       "0             1                0       0  0      0     1    0        0  \n",
       "1             1                0       1  0      0     1    1        0  \n",
       "3             1                0       0  0      0     1    0        0  \n",
       "4             1                0       1  0      0     1    0        1  \n",
       "5             1                1       1  0      1     1    0        1  \n",
       "...         ...              ...     ... ..    ...   ...  ...      ...  \n",
       "5400          1                0       0  0      1     0    0        0  \n",
       "5399          1                1       1  1      0     0    1        1  \n",
       "5401          1                0       1  0      2     0    0        0  \n",
       "5402          1                1       1  0      2     1    0        0  \n",
       "5403          1                0       0  0      0     0    1        0  \n",
       "\n",
       "[5404 rows x 20 columns]"
      ]
     },
     "execution_count": 3,
     "metadata": {},
     "output_type": "execute_result"
    }
   ],
   "source": [
    "test_event_log"
   ]
  },
  {
   "cell_type": "code",
   "execution_count": 4,
   "id": "c3029341-c6ff-405f-8cc2-20d36e53f3e3",
   "metadata": {},
   "outputs": [],
   "source": [
    "N = 1000\n",
    "import conduct_evaluation\n",
    "get_pscores = lambda likelihoods : [pscore(likelihoods[1][i], likelihoods[2][k][3]).compute()[0] for i, k in enumerate(list(likelihoods[0].keys()))]"
   ]
  },
  {
   "cell_type": "code",
   "execution_count": 5,
   "id": "5130458f-1fdb-4560-a9f8-dfc3f78fe8a1",
   "metadata": {},
   "outputs": [
    {
     "name": "stderr",
     "output_type": "stream",
     "text": [
      "100%|███████████████████████████████████████████████| 1802/1802 [02:08<00:00, 14.03it/s]\n"
     ]
    }
   ],
   "source": [
    "drbart_model_A = DRBART(parser_dir = '../../../models/artificial/concept-name/',\n",
    "                     strict_parser=True)\n",
    "evaluator_A = conduct_evaluation.ConductEvaluation(drbart_model_A, SampleOutcomes_DRBART_Normal_A,\n",
    "                                                   {\n",
    "                                                        'activity_key' : 'concept:name',\n",
    "                                                        'resource_key' : 'org:resource',\n",
    "                                                    },\n",
    "                                     test_event_log, n=N)\n",
    "likelihoods_A = evaluator_A.sample_cases(False, True)"
   ]
  },
  {
   "cell_type": "code",
   "execution_count": 6,
   "id": "d3986793-f9ce-46f6-95ea-27cee8860daa",
   "metadata": {},
   "outputs": [
    {
     "data": {
      "text/plain": [
       "Decimal('-11.29103954556296487899430175')"
      ]
     },
     "execution_count": 6,
     "metadata": {},
     "output_type": "execute_result"
    }
   ],
   "source": [
    "np.mean([v.ln() for v in likelihoods_A[0].values()])"
   ]
  },
  {
   "cell_type": "code",
   "execution_count": 7,
   "id": "8dd09f34-a29a-468d-9f92-e803d7720961",
   "metadata": {},
   "outputs": [
    {
     "data": {
      "text/plain": [
       "np.float64(11106.03273482976)"
      ]
     },
     "execution_count": 7,
     "metadata": {},
     "output_type": "execute_result"
    }
   ],
   "source": [
    "np.mean(get_pscores(likelihoods_A))"
   ]
  },
  {
   "cell_type": "code",
   "execution_count": 8,
   "id": "3c6e69bd-7473-4e18-abb1-e79e3f6c7133",
   "metadata": {},
   "outputs": [
    {
     "name": "stderr",
     "output_type": "stream",
     "text": [
      "100%|███████████████████████████████████████████████| 1802/1802 [02:04<00:00, 14.53it/s]\n"
     ]
    }
   ],
   "source": [
    "drbart_model_A_R = DRBART(parser_dir = '../../../models/artificial/concept-name_resource/',\n",
    "                     strict_parser=True)\n",
    "evaluator_A_R = conduct_evaluation.ConductEvaluation(drbart_model_A_R, SampleOutcomes_DRBART_Normal_A_R,\n",
    "                                                   {\n",
    "                                                        'activity_key' : 'concept:name',\n",
    "                                                        'resource_key' : 'org:resource',\n",
    "                                                    },\n",
    "                                     test_event_log, n=N)\n",
    "likelihoods_A_R = evaluator_A_R.sample_cases(False, True)"
   ]
  },
  {
   "cell_type": "code",
   "execution_count": 9,
   "id": "ea4d01b4-de17-469e-979e-c5485806d159",
   "metadata": {},
   "outputs": [
    {
     "data": {
      "text/plain": [
       "Decimal('-11.09089646766912641549289979')"
      ]
     },
     "execution_count": 9,
     "metadata": {},
     "output_type": "execute_result"
    }
   ],
   "source": [
    "np.mean([v.ln() for v in likelihoods_A_R[0].values()])"
   ]
  },
  {
   "cell_type": "code",
   "execution_count": 10,
   "id": "9619c3c4-dcf1-4f26-bbdd-63467304ca50",
   "metadata": {},
   "outputs": [
    {
     "data": {
      "text/plain": [
       "np.float64(9804.988686291626)"
      ]
     },
     "execution_count": 10,
     "metadata": {},
     "output_type": "execute_result"
    }
   ],
   "source": [
    "np.mean(get_pscores(likelihoods_A_R))"
   ]
  },
  {
   "cell_type": "code",
   "execution_count": 11,
   "id": "78cc140a-3d21-4084-9bf2-1fe93a761b0c",
   "metadata": {},
   "outputs": [
    {
     "name": "stderr",
     "output_type": "stream",
     "text": [
      "100%|███████████████████████████████████████████████| 1802/1802 [02:15<00:00, 13.33it/s]\n"
     ]
    }
   ],
   "source": [
    "drbart_model_R_S = DRBART(parser_dir = '../../../models/artificial/resource_seconds-in-day/',\n",
    "                     strict_parser=True)\n",
    "evaluator_R_S = conduct_evaluation.ConductEvaluation(drbart_model_R_S, SampleOutcomes_DRBART_Normal_R_S,\n",
    "                                                   {\n",
    "                                                        'activity_key' : 'concept:name',\n",
    "                                                        'resource_key' : 'org:resource',\n",
    "                                                    },\n",
    "                                     test_event_log, n=N)\n",
    "likelihoods_R_S = evaluator_R_S.sample_cases(False, True)"
   ]
  },
  {
   "cell_type": "code",
   "execution_count": 12,
   "id": "bee16961-a1e2-4828-9c4c-9d98d51acd29",
   "metadata": {},
   "outputs": [
    {
     "data": {
      "text/plain": [
       "Decimal('-11.25767775707060618772908362')"
      ]
     },
     "execution_count": 12,
     "metadata": {},
     "output_type": "execute_result"
    }
   ],
   "source": [
    "np.mean([v.ln() for v in likelihoods_R_S[0].values()])"
   ]
  },
  {
   "cell_type": "code",
   "execution_count": 13,
   "id": "f1646a81-ed02-458a-9723-333e798bf6f5",
   "metadata": {},
   "outputs": [
    {
     "data": {
      "text/plain": [
       "np.float64(11600.358034398065)"
      ]
     },
     "execution_count": 13,
     "metadata": {},
     "output_type": "execute_result"
    }
   ],
   "source": [
    "np.mean(get_pscores(likelihoods_R_S))"
   ]
  },
  {
   "cell_type": "code",
   "execution_count": 14,
   "id": "180d356b-fbc6-46a0-9d5b-d7180819f2a1",
   "metadata": {},
   "outputs": [
    {
     "name": "stderr",
     "output_type": "stream",
     "text": [
      "100%|███████████████████████████████████████████████| 1802/1802 [02:32<00:00, 11.85it/s]\n"
     ]
    }
   ],
   "source": [
    "drbart_model_R = DRBART(parser_dir = '../../../models/artificial/resource/',\n",
    "                     strict_parser=True)\n",
    "evaluator_R = conduct_evaluation.ConductEvaluation(drbart_model_R, SampleOutcomes_DRBART_Normal_R,\n",
    "                                                   {\n",
    "                                                        'activity_key' : 'concept:name',\n",
    "                                                        'resource_key' : 'org:resource',\n",
    "                                                    },\n",
    "                                     test_event_log, n=N)\n",
    "likelihoods_R = evaluator_R.sample_cases(False, True)"
   ]
  },
  {
   "cell_type": "code",
   "execution_count": 15,
   "id": "0ff89d4c-7b55-4bc6-9ed1-9d5dd29623a0",
   "metadata": {},
   "outputs": [
    {
     "data": {
      "text/plain": [
       "Decimal('-11.34352400266938185940497096')"
      ]
     },
     "execution_count": 15,
     "metadata": {},
     "output_type": "execute_result"
    }
   ],
   "source": [
    "np.mean([v.ln() for v in likelihoods_R[0].values()])"
   ]
  },
  {
   "cell_type": "code",
   "execution_count": 16,
   "id": "cc51f07d-60d8-4a3f-a2ef-7da1cc4bd805",
   "metadata": {},
   "outputs": [
    {
     "data": {
      "text/plain": [
       "np.float64(13239.542188074212)"
      ]
     },
     "execution_count": 16,
     "metadata": {},
     "output_type": "execute_result"
    }
   ],
   "source": [
    "np.mean(get_pscores(likelihoods_R))"
   ]
  },
  {
   "cell_type": "code",
   "execution_count": 17,
   "id": "54a137d2-afc7-4f93-9f5d-46ed5a45630d",
   "metadata": {},
   "outputs": [
    {
     "name": "stderr",
     "output_type": "stream",
     "text": [
      "100%|███████████████████████████████████████████████| 1802/1802 [02:02<00:00, 14.73it/s]\n"
     ]
    }
   ],
   "source": [
    "drbart_model_A_R_S = DRBART(parser_dir = '../../../models/artificial/concept-name_resource_seconds-in-day/',\n",
    "                     strict_parser=True)\n",
    "evaluator_A_R_S = conduct_evaluation.ConductEvaluation(drbart_model_A_R_S, SampleOutcomes_DRBART_Normal_A_R_S,\n",
    "                                                   {\n",
    "                                                        'activity_key' : 'concept:name',\n",
    "                                                        'resource_key' : 'org:resource',\n",
    "                                                    },\n",
    "                                     test_event_log, n=N)\n",
    "likelihoods_A_R_S = evaluator_A_R_S.sample_cases(False, True)"
   ]
  },
  {
   "cell_type": "code",
   "execution_count": 18,
   "id": "ab508215-96db-4b58-993c-f0b7d0072706",
   "metadata": {},
   "outputs": [
    {
     "data": {
      "text/plain": [
       "Decimal('-11.13809134103246568679812704')"
      ]
     },
     "execution_count": 18,
     "metadata": {},
     "output_type": "execute_result"
    }
   ],
   "source": [
    "np.mean([v.ln() for v in likelihoods_A_R_S[0].values()])"
   ]
  },
  {
   "cell_type": "code",
   "execution_count": 19,
   "id": "c6283890-a2d3-48ae-850f-2ecf68a85551",
   "metadata": {},
   "outputs": [
    {
     "data": {
      "text/plain": [
       "np.float64(10215.267228666871)"
      ]
     },
     "execution_count": 19,
     "metadata": {},
     "output_type": "execute_result"
    }
   ],
   "source": [
    "np.mean(get_pscores(likelihoods_A_R_S))"
   ]
  },
  {
   "cell_type": "code",
   "execution_count": 20,
   "id": "660b1a38-ef51-4fb3-8c4f-eb6753967388",
   "metadata": {},
   "outputs": [
    {
     "name": "stderr",
     "output_type": "stream",
     "text": [
      "100%|███████████████████████████████████████████████| 1802/1802 [02:09<00:00, 13.91it/s]\n"
     ]
    }
   ],
   "source": [
    "drbart_model_A_R_S_AC = DRBART(parser_dir = '../../../models/artificial/concept-name_resource_seconds-in-day_activity-count/',\n",
    "                     strict_parser=True)\n",
    "evaluator_A_R_S_AC = conduct_evaluation.ConductEvaluation(drbart_model_A_R_S_AC, SampleOutcomes_DRBART_Normal_A_R_S_AC,\n",
    "                                                   {\n",
    "                                                        'activity_key' : 'concept:name',\n",
    "                                                        'resource_key' : 'org:resource',\n",
    "                                                        'known_activities' : known_activities,\n",
    "                                                    },\n",
    "                                     test_event_log, n=N)\n",
    "likelihoods_A_R_S_AC = evaluator_A_R_S_AC.sample_cases(False, True)"
   ]
  },
  {
   "cell_type": "code",
   "execution_count": 21,
   "id": "4f9715c0-0354-4ede-a7e4-a9523976c1e2",
   "metadata": {},
   "outputs": [
    {
     "data": {
      "text/plain": [
       "Decimal('-11.10127085157318913387291713')"
      ]
     },
     "execution_count": 21,
     "metadata": {},
     "output_type": "execute_result"
    }
   ],
   "source": [
    "np.mean([v.ln() for v in likelihoods_A_R_S_AC[0].values()])"
   ]
  },
  {
   "cell_type": "code",
   "execution_count": 22,
   "id": "4ca24752-df20-42d6-a627-1071780bbca4",
   "metadata": {},
   "outputs": [
    {
     "data": {
      "text/plain": [
       "np.float64(9936.679286332079)"
      ]
     },
     "execution_count": 22,
     "metadata": {},
     "output_type": "execute_result"
    }
   ],
   "source": [
    "np.mean(get_pscores(likelihoods_A_R_S_AC))"
   ]
  },
  {
   "cell_type": "code",
   "execution_count": 23,
   "id": "45bfd131-8704-4883-8a24-d8986eaf13ca",
   "metadata": {},
   "outputs": [
    {
     "name": "stderr",
     "output_type": "stream",
     "text": [
      "100%|███████████████████████████████████████████████| 1802/1802 [02:24<00:00, 12.46it/s]\n"
     ]
    }
   ],
   "source": [
    "drbart_model_A_R_S_RC_AC = DRBART(parser_dir = '../../../models/artificial/concept-name_resource_seconds-in-day_activity-count_resource-count/',\n",
    "                     strict_parser=True)\n",
    "evaluator_A_R_S_RC_AC = conduct_evaluation.ConductEvaluation(drbart_model_A_R_S_RC_AC, SampleOutcomes_DRBART_Normal_A_R_S_RC_AC,\n",
    "                                                   {\n",
    "                                                        'activity_key' : 'concept:name',\n",
    "                                                        'resource_key' : 'org:resource',\n",
    "                                                        'known_resources' : known_resources,\n",
    "                                                        'known_activities' : known_activities,\n",
    "                                                    },\n",
    "                                     test_event_log, n=N)\n",
    "likelihoods_A_R_S_RC_AC = evaluator_A_R_S_RC_AC.sample_cases(False, True)"
   ]
  },
  {
   "cell_type": "code",
   "execution_count": 24,
   "id": "6e1969a0-0007-4790-abf6-ca5ff64507ee",
   "metadata": {},
   "outputs": [
    {
     "data": {
      "text/plain": [
       "Decimal('-11.05219798646674340129010193')"
      ]
     },
     "execution_count": 24,
     "metadata": {},
     "output_type": "execute_result"
    }
   ],
   "source": [
    "np.mean([v.ln() for v in likelihoods_A_R_S_RC_AC[0].values()])"
   ]
  },
  {
   "cell_type": "code",
   "execution_count": 25,
   "id": "bc3cb91e-f0a5-4ff4-99c2-76b35431baf7",
   "metadata": {},
   "outputs": [
    {
     "data": {
      "text/plain": [
       "np.float64(8397.386798415502)"
      ]
     },
     "execution_count": 25,
     "metadata": {},
     "output_type": "execute_result"
    }
   ],
   "source": [
    "np.mean(get_pscores(likelihoods_A_R_S_RC_AC))"
   ]
  },
  {
   "cell_type": "code",
   "execution_count": 26,
   "id": "959784f7-b717-4046-bd50-5b8c89a71c29",
   "metadata": {},
   "outputs": [
    {
     "name": "stderr",
     "output_type": "stream",
     "text": [
      "100%|███████████████████████████████████████████████| 1802/1802 [02:10<00:00, 13.86it/s]\n"
     ]
    }
   ],
   "source": [
    "drbart_model_A_R_S_RC = DRBART(parser_dir = '../../../models/artificial/concept-name_resource_seconds-in-day_resource-count/',\n",
    "                     strict_parser=True)\n",
    "evaluator_A_R_S_RC = conduct_evaluation.ConductEvaluation(drbart_model_A_R_S_RC, SampleOutcomes_DRBART_Normal_A_R_S_RC,\n",
    "                                                   {\n",
    "                                                        'activity_key' : 'concept:name',\n",
    "                                                        'resource_key' : 'org:resource',\n",
    "                                                        'known_resources' : known_resources,\n",
    "                                                    },\n",
    "                                     test_event_log, n=N)\n",
    "likelihoods_A_R_S_RC = evaluator_A_R_S_RC.sample_cases(False, True)"
   ]
  },
  {
   "cell_type": "code",
   "execution_count": 27,
   "id": "5892abf5-8019-440c-b5a4-e4e10362cbd7",
   "metadata": {},
   "outputs": [
    {
     "data": {
      "text/plain": [
       "Decimal('-10.95031050303239743799785854')"
      ]
     },
     "execution_count": 27,
     "metadata": {},
     "output_type": "execute_result"
    }
   ],
   "source": [
    "np.mean([v.ln() for v in likelihoods_A_R_S_RC[0].values()])"
   ]
  },
  {
   "cell_type": "code",
   "execution_count": 28,
   "id": "6dee890d-c56b-4211-841f-80862721d8e6",
   "metadata": {},
   "outputs": [
    {
     "data": {
      "text/plain": [
       "np.float64(8076.855230038752)"
      ]
     },
     "execution_count": 28,
     "metadata": {},
     "output_type": "execute_result"
    }
   ],
   "source": [
    "np.mean(get_pscores(likelihoods_A_R_S_RC))"
   ]
  },
  {
   "cell_type": "code",
   "execution_count": 29,
   "id": "532e3a1a-8c83-4e6c-b91a-045bf73096f2",
   "metadata": {},
   "outputs": [],
   "source": [
    "results = {\n",
    "    'drbart_model_A' : likelihoods_A,\n",
    "    'drbart_model_A_R' : likelihoods_A_R,\n",
    "    'drbart_model_R' : likelihoods_R,\n",
    "    'drbart_model_R_S' : likelihoods_R_S,\n",
    "    'drbart_model_A_R_S' : likelihoods_A_R_S,\n",
    "    'drbart_model_A_R_S_AC' : likelihoods_A_R_S_AC,\n",
    "    'drbart_model_A_R_S_RC' : likelihoods_A_R_S_RC,\n",
    "    'drbart_model_A_R_S_RC_AC' : likelihoods_A_R_S_RC_AC\n",
    "}\n",
    "\n",
    "with open('./artificial_dr_bart_evaluation_'+log_name+'.pickle', 'wb') as handle:\n",
    "    pickle.dump(results, handle)"
   ]
  },
  {
   "cell_type": "code",
   "execution_count": 30,
   "id": "8f641d59-4f2a-4185-824a-4fded35fee7e",
   "metadata": {},
   "outputs": [],
   "source": [
    "with open('./artificial_dr_bart_evaluation_'+log_name+'.pickle', 'rb') as handle:\n",
    "    results = pickle.load(handle)"
   ]
  }
 ],
 "metadata": {
  "kernelspec": {
   "display_name": "Python 3 (ipykernel)",
   "language": "python",
   "name": "python3"
  },
  "language_info": {
   "codemirror_mode": {
    "name": "ipython",
    "version": 3
   },
   "file_extension": ".py",
   "mimetype": "text/x-python",
   "name": "python",
   "nbconvert_exporter": "python",
   "pygments_lexer": "ipython3",
   "version": "3.10.12"
  }
 },
 "nbformat": 4,
 "nbformat_minor": 5
}
