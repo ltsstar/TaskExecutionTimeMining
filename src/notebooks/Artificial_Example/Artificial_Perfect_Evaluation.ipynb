{
 "cells": [
  {
   "cell_type": "code",
   "execution_count": 1,
   "id": "01c3f1f8-7f45-4f35-b712-b25876afb9d6",
   "metadata": {},
   "outputs": [],
   "source": [
    "import numpy as np\n",
    "import pandas\n",
    "import pm4py\n",
    "from matplotlib import pyplot as plt\n",
    "from sklearn.mixture import GaussianMixture\n",
    "import scipy.stats as stats\n",
    "import ot\n",
    "import os\n",
    "from tqdm import tqdm\n",
    "import collections\n",
    "import matplotlib.dates as md\n",
    "import importlib\n",
    "import pickle\n",
    "import random\n",
    "import math\n",
    "import CRPS.CRPS as pscore\n",
    "import datetime\n",
    "\n",
    "pandas.set_option('display.max_columns', None)\n",
    "#pandas.set_option('display.max_rows', None)\n",
    "\n",
    "\n",
    "import sys\n",
    "sys.path.append('../../TaskExecutionTimeMining/')\n",
    "from drbart_parser import *\n",
    "from event_log_transformer import *\n",
    "from artificial_model import *\n",
    "\n",
    "#sys.path.append('../../Evaluation')\n",
    "sys.path.append('../../Evaluation/')\n",
    "from normal_evaluation.drbart_evaluation import *"
   ]
  },
  {
   "cell_type": "code",
   "execution_count": 2,
   "id": "5447ae1c-400e-40bf-9e09-1fabc7a34342",
   "metadata": {},
   "outputs": [],
   "source": [
    "model_name = 'artificial'\n",
    "log_name = 'train'\n",
    "with open('../transformed_event_logs/artificial_start_end_2_'+log_name+'.pickle', 'rb') as f:\n",
    "    test_event_log = pickle.load(f)\n",
    "\n",
    "#test_event_log['time:timestamp'] = test_event_log['time:timestamp_complete']\n",
    "test_event_log['case:concept:name'] = test_event_log['case:concept:name'].astype(str)\n",
    "known_resources = ['1', 'Clark', 'Jane', 'Joe', 'Karsten']\n",
    "known_activities = ['DIAGNOSIS', 'QUALITY_CONTROL', 'REPAIR']"
   ]
  },
  {
   "cell_type": "code",
   "execution_count": 3,
   "id": "a96c90cd-9913-490c-b29b-3a5d46428fbd",
   "metadata": {},
   "outputs": [],
   "source": [
    "N = 10000\n",
    "n_processes = 50\n",
    "\n",
    "import conduct_evaluation\n",
    "get_pscores = lambda likelihoods : [pscore(likelihoods[1][i], likelihoods[2][k][3]).compute()[0] for i, k in enumerate(list(likelihoods[0].keys()))]"
   ]
  },
  {
   "cell_type": "code",
   "execution_count": 4,
   "id": "d46f417b-57c7-4a34-933a-65205c217564",
   "metadata": {},
   "outputs": [
    {
     "name": "stderr",
     "output_type": "stream",
     "text": [
      "100%|█████████████████████████████████████████████████████████████████████████████████████████| 1802/1802 [11:10<00:00,  2.69it/s]\n",
      "100%|█████████████████████████████████████████████████████████████████████████████████████████| 1802/1802 [01:18<00:00, 22.95it/s]\n"
     ]
    }
   ],
   "source": [
    "perfect_model = ArtificialModel()\n",
    "evaluator = conduct_evaluation.ConductEvaluation(perfect_model, SampleOutcomes_DRBART_Normal_A_R_S_RC,\n",
    "                                                   {\n",
    "                                                        'activity_key' : 'concept:name',\n",
    "                                                        'resource_key' : 'org:resource',\n",
    "                                                        'known_resources' : known_resources,\n",
    "                                                    },\n",
    "                                     test_event_log, n=N, n_processes=n_processes)\n",
    "likelihoods_train = evaluator.sample_cases(False, True)"
   ]
  },
  {
   "cell_type": "code",
   "execution_count": 7,
   "id": "49730bd9-6cf1-4e4c-8c2f-27ddf3949be3",
   "metadata": {},
   "outputs": [
    {
     "data": {
      "text/plain": [
       "Decimal('0.5026673872197590500066712016')"
      ]
     },
     "execution_count": 7,
     "metadata": {},
     "output_type": "execute_result"
    }
   ],
   "source": [
    "np.mean([v.ln() for v in likelihoods_train[0].values()])"
   ]
  },
  {
   "cell_type": "code",
   "execution_count": 8,
   "id": "62ab6e0c-1c32-4832-9470-ef71426f0779",
   "metadata": {},
   "outputs": [
    {
     "data": {
      "text/plain": [
       "np.float64(7970.176565336295)"
      ]
     },
     "execution_count": 8,
     "metadata": {},
     "output_type": "execute_result"
    }
   ],
   "source": [
    "np.mean(get_pscores(likelihoods_train))"
   ]
  },
  {
   "cell_type": "code",
   "execution_count": 5,
   "id": "0a39fca1-3f2c-4402-9b2c-8aa1a5a8aeb6",
   "metadata": {},
   "outputs": [],
   "source": [
    "log_name = 'test'\n",
    "with open('../transformed_event_logs/artificial_start_end_2_'+log_name+'.pickle', 'rb') as f:\n",
    "    test_event_log = pickle.load(f)"
   ]
  },
  {
   "cell_type": "code",
   "execution_count": 6,
   "id": "caabccf6-88ff-493c-a7c5-35c4db4a48aa",
   "metadata": {},
   "outputs": [
    {
     "name": "stderr",
     "output_type": "stream",
     "text": [
      "100%|████████████████████████████████████████████████████████████████████████████████| 892/892 [07:18<00:00,  2.03it/s]\n",
      "100%|████████████████████████████████████████████████████████████████████████████████| 892/892 [00:53<00:00, 16.62it/s]\n"
     ]
    }
   ],
   "source": [
    "perfect_model = ArtificialModel()\n",
    "evaluator = conduct_evaluation.ConductEvaluation(perfect_model, SampleOutcomes_DRBART_Normal_A_R_S_RC,\n",
    "                                                   {\n",
    "                                                        'activity_key' : 'concept:name',\n",
    "                                                        'resource_key' : 'org:resource',\n",
    "                                                        'known_resources' : known_resources,\n",
    "                                                    },\n",
    "                                     test_event_log, n=N, n_processes=n_processes)\n",
    "likelihoods_test = evaluator.sample_cases(False, True)"
   ]
  },
  {
   "cell_type": "code",
   "execution_count": 7,
   "id": "6e637b9c-7979-4f6e-b4e7-bdd30e017f7d",
   "metadata": {},
   "outputs": [
    {
     "data": {
      "text/plain": [
       "Decimal('0.5429999574310518661519231405')"
      ]
     },
     "execution_count": 7,
     "metadata": {},
     "output_type": "execute_result"
    }
   ],
   "source": [
    "np.mean([v.ln() for v in likelihoods_test[0].values()])"
   ]
  },
  {
   "cell_type": "code",
   "execution_count": 8,
   "id": "df1c6ee4-d973-4e9d-934e-abbdf569b62d",
   "metadata": {},
   "outputs": [
    {
     "data": {
      "text/plain": [
       "np.float64(7968.430202444587)"
      ]
     },
     "execution_count": 8,
     "metadata": {},
     "output_type": "execute_result"
    }
   ],
   "source": [
    "np.mean(get_pscores(likelihoods_test))"
   ]
  }
 ],
 "metadata": {
  "kernelspec": {
   "display_name": "Python 3 (ipykernel)",
   "language": "python",
   "name": "python3"
  },
  "language_info": {
   "codemirror_mode": {
    "name": "ipython",
    "version": 3
   },
   "file_extension": ".py",
   "mimetype": "text/x-python",
   "name": "python",
   "nbconvert_exporter": "python",
   "pygments_lexer": "ipython3",
   "version": "3.10.12"
  }
 },
 "nbformat": 4,
 "nbformat_minor": 5
}
