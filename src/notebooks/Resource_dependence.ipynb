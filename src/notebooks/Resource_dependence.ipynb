{
 "cells": [
  {
   "cell_type": "code",
   "execution_count": 3,
   "id": "a0493bfd-1653-4e61-b529-652713e0624d",
   "metadata": {},
   "outputs": [
    {
     "ename": "SyntaxError",
     "evalue": "positional argument follows keyword argument (411403861.py, line 40)",
     "output_type": "error",
     "traceback": [
      "\u001b[0;36m  Cell \u001b[0;32mIn[3], line 40\u001b[0;36m\u001b[0m\n\u001b[0;31m    self.log(state=self.state, start_time=self.state_start_time, self.current_time)\u001b[0m\n\u001b[0m                                                                                  ^\u001b[0m\n\u001b[0;31mSyntaxError\u001b[0m\u001b[0;31m:\u001b[0m positional argument follows keyword argument\n"
     ]
    }
   ],
   "source": [
    "from enum import Enum\n",
    "import numpy as np\n",
    "\n",
    "\n",
    "class Resources:\n",
    "    def __init__(self, name):\n",
    "        self.name = name\n",
    "\n",
    "class Activity:\n",
    "    def __init__(self, process_instance):\n",
    "        self.process_instance = process_instance\n",
    "\n",
    "class Diagnosis(Activity):\n",
    "    def sample_duration(resource):\n",
    "        if resource.name == 1:\n",
    "            return np.where(np.random.choice(a=[0, 1], size=1, p=[0.5, 0.5]),\n",
    "                             np.random.normal(2.2, 0.2, 1),\n",
    "                             np.random.normal(6, 0.2, 1)\n",
    "                           )\n",
    "        \n",
    "class ProcessInstance:\n",
    "    def __init__(self, log):\n",
    "        self.state = None\n",
    "        self.current_time = None\n",
    "        self.event_queue = []\n",
    "        self.log = log\n",
    "    \n",
    "    def change_state(self, next_state):\n",
    "        if self.state != None:\n",
    "            self.end_current_activity()\n",
    "        self.state = next_state\n",
    "\n",
    "    \n",
    "    \n",
    "    def start(self, start_time):\n",
    "        self.change_state(ProcessState.DIAGNOSIS)\n",
    "        self.current_time = start_time\n",
    "\n",
    "    def end_current_activity(self):\n",
    "        self.log(state=self.state, start_time=self.state_start_time, self.current_time)"
   ]
  },
  {
   "cell_type": "code",
   "execution_count": null,
   "id": "a706cf45-9635-43ae-8f21-4b84d1d78c6d",
   "metadata": {},
   "outputs": [],
   "source": [
    "\n"
   ]
  }
 ],
 "metadata": {
  "kernelspec": {
   "display_name": "Python 3 (ipykernel)",
   "language": "python",
   "name": "python3"
  },
  "language_info": {
   "codemirror_mode": {
    "name": "ipython",
    "version": 3
   },
   "file_extension": ".py",
   "mimetype": "text/x-python",
   "name": "python",
   "nbconvert_exporter": "python",
   "pygments_lexer": "ipython3",
   "version": "3.12.4"
  }
 },
 "nbformat": 4,
 "nbformat_minor": 5
}
