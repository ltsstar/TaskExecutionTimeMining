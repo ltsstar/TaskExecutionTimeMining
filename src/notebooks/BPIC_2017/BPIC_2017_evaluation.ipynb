{
 "cells": [
  {
   "cell_type": "code",
   "execution_count": 1,
   "id": "a37bd48b-6165-493c-bfe1-dddfa3ba983f",
   "metadata": {},
   "outputs": [],
   "source": [
    "import numpy as np\n",
    "import pandas\n",
    "import pm4py\n",
    "from matplotlib import pyplot as plt\n",
    "from sklearn.mixture import GaussianMixture\n",
    "import scipy.stats as stats\n",
    "import ot\n",
    "import os\n",
    "from tqdm import tqdm"
   ]
  },
  {
   "cell_type": "code",
   "execution_count": 2,
   "id": "f009f528-43bd-4b45-9cea-57a789c0b81b",
   "metadata": {},
   "outputs": [
    {
     "ename": "FileNotFoundError",
     "evalue": "[Errno 2] No such file or directory: 'artificial_start_end_2.pickle'",
     "output_type": "error",
     "traceback": [
      "\u001b[0;31m---------------------------------------------------------------------------\u001b[0m",
      "\u001b[0;31mFileNotFoundError\u001b[0m                         Traceback (most recent call last)",
      "Cell \u001b[0;32mIn[2], line 1\u001b[0m\n\u001b[0;32m----> 1\u001b[0m event_log \u001b[38;5;241m=\u001b[39m \u001b[43mpandas\u001b[49m\u001b[38;5;241;43m.\u001b[39;49m\u001b[43mread_pickle\u001b[49m\u001b[43m(\u001b[49m\u001b[38;5;124;43m'\u001b[39;49m\u001b[38;5;124;43martificial_start_end_2.pickle\u001b[39;49m\u001b[38;5;124;43m'\u001b[39;49m\u001b[43m)\u001b[49m\n\u001b[1;32m      2\u001b[0m event_log\n",
      "File \u001b[0;32m~/.local/share/virtualenvs/TaskExecutionTimeMining-vXwWxPoC/lib64/python3.12/site-packages/pandas/io/pickle.py:185\u001b[0m, in \u001b[0;36mread_pickle\u001b[0;34m(filepath_or_buffer, compression, storage_options)\u001b[0m\n\u001b[1;32m    123\u001b[0m \u001b[38;5;250m\u001b[39m\u001b[38;5;124;03m\"\"\"\u001b[39;00m\n\u001b[1;32m    124\u001b[0m \u001b[38;5;124;03mLoad pickled pandas object (or any object) from file.\u001b[39;00m\n\u001b[1;32m    125\u001b[0m \n\u001b[0;32m   (...)\u001b[0m\n\u001b[1;32m    182\u001b[0m \u001b[38;5;124;03m4    4    9\u001b[39;00m\n\u001b[1;32m    183\u001b[0m \u001b[38;5;124;03m\"\"\"\u001b[39;00m\n\u001b[1;32m    184\u001b[0m excs_to_catch \u001b[38;5;241m=\u001b[39m (\u001b[38;5;167;01mAttributeError\u001b[39;00m, \u001b[38;5;167;01mImportError\u001b[39;00m, \u001b[38;5;167;01mModuleNotFoundError\u001b[39;00m, \u001b[38;5;167;01mTypeError\u001b[39;00m)\n\u001b[0;32m--> 185\u001b[0m \u001b[38;5;28;01mwith\u001b[39;00m \u001b[43mget_handle\u001b[49m\u001b[43m(\u001b[49m\n\u001b[1;32m    186\u001b[0m \u001b[43m    \u001b[49m\u001b[43mfilepath_or_buffer\u001b[49m\u001b[43m,\u001b[49m\n\u001b[1;32m    187\u001b[0m \u001b[43m    \u001b[49m\u001b[38;5;124;43m\"\u001b[39;49m\u001b[38;5;124;43mrb\u001b[39;49m\u001b[38;5;124;43m\"\u001b[39;49m\u001b[43m,\u001b[49m\n\u001b[1;32m    188\u001b[0m \u001b[43m    \u001b[49m\u001b[43mcompression\u001b[49m\u001b[38;5;241;43m=\u001b[39;49m\u001b[43mcompression\u001b[49m\u001b[43m,\u001b[49m\n\u001b[1;32m    189\u001b[0m \u001b[43m    \u001b[49m\u001b[43mis_text\u001b[49m\u001b[38;5;241;43m=\u001b[39;49m\u001b[38;5;28;43;01mFalse\u001b[39;49;00m\u001b[43m,\u001b[49m\n\u001b[1;32m    190\u001b[0m \u001b[43m    \u001b[49m\u001b[43mstorage_options\u001b[49m\u001b[38;5;241;43m=\u001b[39;49m\u001b[43mstorage_options\u001b[49m\u001b[43m,\u001b[49m\n\u001b[1;32m    191\u001b[0m \u001b[43m\u001b[49m\u001b[43m)\u001b[49m \u001b[38;5;28;01mas\u001b[39;00m handles:\n\u001b[1;32m    192\u001b[0m     \u001b[38;5;66;03m# 1) try standard library Pickle\u001b[39;00m\n\u001b[1;32m    193\u001b[0m     \u001b[38;5;66;03m# 2) try pickle_compat (older pandas version) to handle subclass changes\u001b[39;00m\n\u001b[1;32m    194\u001b[0m     \u001b[38;5;66;03m# 3) try pickle_compat with latin-1 encoding upon a UnicodeDecodeError\u001b[39;00m\n\u001b[1;32m    196\u001b[0m     \u001b[38;5;28;01mtry\u001b[39;00m:\n\u001b[1;32m    197\u001b[0m         \u001b[38;5;66;03m# TypeError for Cython complaints about object.__new__ vs Tick.__new__\u001b[39;00m\n\u001b[1;32m    198\u001b[0m         \u001b[38;5;28;01mtry\u001b[39;00m:\n",
      "File \u001b[0;32m~/.local/share/virtualenvs/TaskExecutionTimeMining-vXwWxPoC/lib64/python3.12/site-packages/pandas/io/common.py:882\u001b[0m, in \u001b[0;36mget_handle\u001b[0;34m(path_or_buf, mode, encoding, compression, memory_map, is_text, errors, storage_options)\u001b[0m\n\u001b[1;32m    873\u001b[0m         handle \u001b[38;5;241m=\u001b[39m \u001b[38;5;28mopen\u001b[39m(\n\u001b[1;32m    874\u001b[0m             handle,\n\u001b[1;32m    875\u001b[0m             ioargs\u001b[38;5;241m.\u001b[39mmode,\n\u001b[0;32m   (...)\u001b[0m\n\u001b[1;32m    878\u001b[0m             newline\u001b[38;5;241m=\u001b[39m\u001b[38;5;124m\"\u001b[39m\u001b[38;5;124m\"\u001b[39m,\n\u001b[1;32m    879\u001b[0m         )\n\u001b[1;32m    880\u001b[0m     \u001b[38;5;28;01melse\u001b[39;00m:\n\u001b[1;32m    881\u001b[0m         \u001b[38;5;66;03m# Binary mode\u001b[39;00m\n\u001b[0;32m--> 882\u001b[0m         handle \u001b[38;5;241m=\u001b[39m \u001b[38;5;28;43mopen\u001b[39;49m\u001b[43m(\u001b[49m\u001b[43mhandle\u001b[49m\u001b[43m,\u001b[49m\u001b[43m \u001b[49m\u001b[43mioargs\u001b[49m\u001b[38;5;241;43m.\u001b[39;49m\u001b[43mmode\u001b[49m\u001b[43m)\u001b[49m\n\u001b[1;32m    883\u001b[0m     handles\u001b[38;5;241m.\u001b[39mappend(handle)\n\u001b[1;32m    885\u001b[0m \u001b[38;5;66;03m# Convert BytesIO or file objects passed with an encoding\u001b[39;00m\n",
      "\u001b[0;31mFileNotFoundError\u001b[0m: [Errno 2] No such file or directory: 'artificial_start_end_2.pickle'"
     ]
    }
   ],
   "source": [
    "event_log = pandas.read_pickle('artificial_start_end_2.pickle')\n",
    "event_log"
   ]
  },
  {
   "cell_type": "markdown",
   "id": "7643fd29-cd4d-4d14-a694-667c124ca2e6",
   "metadata": {},
   "source": [
    "# Get real case durations"
   ]
  },
  {
   "cell_type": "code",
   "execution_count": 10,
   "id": "d4fc5a79-eba8-45cf-b7d4-c802d82a3e4e",
   "metadata": {},
   "outputs": [],
   "source": [
    "merged_event_log = pandas.merge(event_log,\n",
    "                                event_log[['case:concept:name', 'time:timestamp_start']],\n",
    "                                left_on=['case:concept:name'],\n",
    "                                right_on=['case:concept:name'],\n",
    "                                suffixes=('', '_case_start'))\n",
    "\n",
    "start_end_start_case_event_log = merged_event_log.loc[merged_event_log.groupby(['case:concept:name', 'concept:name'])['time:timestamp_start_case_start'].idxmin()]\n",
    "\n",
    "merged_event_log = pandas.merge(start_end_start_case_event_log,\n",
    "                                start_end_start_case_event_log[['case:concept:name', 'time:timestamp_complete']],\n",
    "                                left_on=['case:concept:name'],\n",
    "                                right_on=['case:concept:name'],\n",
    "                                suffixes=('', '_case_end'))\n",
    "\n",
    "start_end_start_end_event_log = merged_event_log.loc[\n",
    "    merged_event_log.groupby(['case:concept:name', 'concept:name'])['time:timestamp_complete_case_end'].idxmax()\n",
    "]"
   ]
  },
  {
   "cell_type": "code",
   "execution_count": 11,
   "id": "6d5d9d21-f4be-418a-aaf8-3c00ebaf355a",
   "metadata": {},
   "outputs": [
    {
     "data": {
      "text/html": [
       "<div>\n",
       "<style scoped>\n",
       "    .dataframe tbody tr th:only-of-type {\n",
       "        vertical-align: middle;\n",
       "    }\n",
       "\n",
       "    .dataframe tbody tr th {\n",
       "        vertical-align: top;\n",
       "    }\n",
       "\n",
       "    .dataframe thead th {\n",
       "        text-align: right;\n",
       "    }\n",
       "</style>\n",
       "<table border=\"1\" class=\"dataframe\">\n",
       "  <thead>\n",
       "    <tr style=\"text-align: right;\">\n",
       "      <th></th>\n",
       "      <th>case:concept:name</th>\n",
       "      <th>time:timestamp_start_case_start</th>\n",
       "      <th>time:timestamp_complete_case_end</th>\n",
       "      <th>case_duration</th>\n",
       "      <th>case_duration_seconds</th>\n",
       "    </tr>\n",
       "  </thead>\n",
       "  <tbody>\n",
       "    <tr>\n",
       "      <th>1</th>\n",
       "      <td>0</td>\n",
       "      <td>2020-01-01 14:34:18.820288+00:00</td>\n",
       "      <td>2020-01-01 23:05:15.854003+00:00</td>\n",
       "      <td>0 days 08:30:57.033715</td>\n",
       "      <td>30657</td>\n",
       "    </tr>\n",
       "    <tr>\n",
       "      <th>10</th>\n",
       "      <td>1</td>\n",
       "      <td>2020-01-01 18:00:49.603934+00:00</td>\n",
       "      <td>2020-01-02 05:15:46.711023+00:00</td>\n",
       "      <td>0 days 11:14:57.107089</td>\n",
       "      <td>40497</td>\n",
       "    </tr>\n",
       "    <tr>\n",
       "      <th>19</th>\n",
       "      <td>10</td>\n",
       "      <td>2020-01-12 19:59:05.590033+00:00</td>\n",
       "      <td>2020-01-13 04:05:56.716266+00:00</td>\n",
       "      <td>0 days 08:06:51.126233</td>\n",
       "      <td>29211</td>\n",
       "    </tr>\n",
       "    <tr>\n",
       "      <th>28</th>\n",
       "      <td>100</td>\n",
       "      <td>2020-04-14 17:44:17.288791+00:00</td>\n",
       "      <td>2020-04-15 06:19:23.628814+00:00</td>\n",
       "      <td>0 days 12:35:06.340023</td>\n",
       "      <td>45306</td>\n",
       "    </tr>\n",
       "    <tr>\n",
       "      <th>37</th>\n",
       "      <td>1000</td>\n",
       "      <td>2022-07-11 20:26:25.689092+00:00</td>\n",
       "      <td>2022-07-12 05:09:29.696467+00:00</td>\n",
       "      <td>0 days 08:43:04.007375</td>\n",
       "      <td>31384</td>\n",
       "    </tr>\n",
       "    <tr>\n",
       "      <th>...</th>\n",
       "      <td>...</td>\n",
       "      <td>...</td>\n",
       "      <td>...</td>\n",
       "      <td>...</td>\n",
       "      <td>...</td>\n",
       "    </tr>\n",
       "    <tr>\n",
       "      <th>17030</th>\n",
       "      <td>995</td>\n",
       "      <td>2022-07-08 12:18:31.622463+00:00</td>\n",
       "      <td>2022-07-08 20:57:29.375155+00:00</td>\n",
       "      <td>0 days 08:38:57.752692</td>\n",
       "      <td>31137</td>\n",
       "    </tr>\n",
       "    <tr>\n",
       "      <th>17039</th>\n",
       "      <td>996</td>\n",
       "      <td>2022-07-09 00:20:25.132683+00:00</td>\n",
       "      <td>2022-07-09 19:02:42.462973+00:00</td>\n",
       "      <td>0 days 18:42:17.330290</td>\n",
       "      <td>67337</td>\n",
       "    </tr>\n",
       "    <tr>\n",
       "      <th>17048</th>\n",
       "      <td>997</td>\n",
       "      <td>2022-07-09 21:28:13.585886+00:00</td>\n",
       "      <td>2022-07-10 05:16:39.512122+00:00</td>\n",
       "      <td>0 days 07:48:25.926236</td>\n",
       "      <td>28105</td>\n",
       "    </tr>\n",
       "    <tr>\n",
       "      <th>17057</th>\n",
       "      <td>998</td>\n",
       "      <td>2022-07-10 07:48:58.547047+00:00</td>\n",
       "      <td>2022-07-10 20:58:08.635270+00:00</td>\n",
       "      <td>0 days 13:09:10.088223</td>\n",
       "      <td>47350</td>\n",
       "    </tr>\n",
       "    <tr>\n",
       "      <th>17066</th>\n",
       "      <td>999</td>\n",
       "      <td>2022-07-11 06:12:29.823642+00:00</td>\n",
       "      <td>2022-07-11 17:09:37.473425+00:00</td>\n",
       "      <td>0 days 10:57:07.649783</td>\n",
       "      <td>39427</td>\n",
       "    </tr>\n",
       "  </tbody>\n",
       "</table>\n",
       "<p>1898 rows × 5 columns</p>\n",
       "</div>"
      ],
      "text/plain": [
       "      case:concept:name  time:timestamp_start_case_start  \\\n",
       "1                     0 2020-01-01 14:34:18.820288+00:00   \n",
       "10                    1 2020-01-01 18:00:49.603934+00:00   \n",
       "19                   10 2020-01-12 19:59:05.590033+00:00   \n",
       "28                  100 2020-04-14 17:44:17.288791+00:00   \n",
       "37                 1000 2022-07-11 20:26:25.689092+00:00   \n",
       "...                 ...                              ...   \n",
       "17030               995 2022-07-08 12:18:31.622463+00:00   \n",
       "17039               996 2022-07-09 00:20:25.132683+00:00   \n",
       "17048               997 2022-07-09 21:28:13.585886+00:00   \n",
       "17057               998 2022-07-10 07:48:58.547047+00:00   \n",
       "17066               999 2022-07-11 06:12:29.823642+00:00   \n",
       "\n",
       "      time:timestamp_complete_case_end          case_duration  \\\n",
       "1     2020-01-01 23:05:15.854003+00:00 0 days 08:30:57.033715   \n",
       "10    2020-01-02 05:15:46.711023+00:00 0 days 11:14:57.107089   \n",
       "19    2020-01-13 04:05:56.716266+00:00 0 days 08:06:51.126233   \n",
       "28    2020-04-15 06:19:23.628814+00:00 0 days 12:35:06.340023   \n",
       "37    2022-07-12 05:09:29.696467+00:00 0 days 08:43:04.007375   \n",
       "...                                ...                    ...   \n",
       "17030 2022-07-08 20:57:29.375155+00:00 0 days 08:38:57.752692   \n",
       "17039 2022-07-09 19:02:42.462973+00:00 0 days 18:42:17.330290   \n",
       "17048 2022-07-10 05:16:39.512122+00:00 0 days 07:48:25.926236   \n",
       "17057 2022-07-10 20:58:08.635270+00:00 0 days 13:09:10.088223   \n",
       "17066 2022-07-11 17:09:37.473425+00:00 0 days 10:57:07.649783   \n",
       "\n",
       "       case_duration_seconds  \n",
       "1                      30657  \n",
       "10                     40497  \n",
       "19                     29211  \n",
       "28                     45306  \n",
       "37                     31384  \n",
       "...                      ...  \n",
       "17030                  31137  \n",
       "17039                  67337  \n",
       "17048                  28105  \n",
       "17057                  47350  \n",
       "17066                  39427  \n",
       "\n",
       "[1898 rows x 5 columns]"
      ]
     },
     "execution_count": 11,
     "metadata": {},
     "output_type": "execute_result"
    }
   ],
   "source": [
    "case_duration_log = start_end_start_end_event_log.copy()\n",
    "case_duration_log['case_duration'] = case_duration_log['time:timestamp_complete_case_end'] - case_duration_log['time:timestamp_start_case_start']\n",
    "case_duration_log['case_duration_seconds'] = (case_duration_log['case_duration']).astype('timedelta64[s]').astype(int)\n",
    "\n",
    "case_duration_log = case_duration_log.loc[case_duration_log.groupby('case:concept:name')['concept:name'].idxmin()]\n",
    "\n",
    "case_duration_log = case_duration_log[['case:concept:name', 'time:timestamp_start_case_start', 'time:timestamp_complete_case_end',\n",
    "                                       'case_duration', 'case_duration_seconds']]\n",
    "\n",
    "case_duration_log"
   ]
  },
  {
   "cell_type": "markdown",
   "id": "da988b79-3562-40ae-9c32-bf0fda01ff06",
   "metadata": {},
   "source": [
    "# Simulate case durations using model"
   ]
  },
  {
   "cell_type": "code",
   "execution_count": 12,
   "id": "311b9509-b9ee-4ad6-bfd7-92e1ca0043c2",
   "metadata": {},
   "outputs": [],
   "source": [
    "from drbart_parser import *"
   ]
  },
  {
   "cell_type": "markdown",
   "id": "431b052a-04c6-48f3-8d62-006cb11825f3",
   "metadata": {},
   "source": [
    "### All"
   ]
  },
  {
   "cell_type": "code",
   "execution_count": 25,
   "id": "f8ecd04e-0ec6-49d7-a88d-2b805521989f",
   "metadata": {},
   "outputs": [],
   "source": [
    "drbart = DRBART(parser_dir = '../../models/artificial/resource_concept_duration_seconds-day_resource-count_activity-count/')"
   ]
  },
  {
   "cell_type": "code",
   "execution_count": 26,
   "id": "070676ac-45a3-46b3-9206-9797a9645752",
   "metadata": {},
   "outputs": [],
   "source": [
    "event_log['duration_sampled'] = event_log.apply(lambda x : int(round(\n",
    "                                                drbart.sample([x['org:resource'], x['concept:name'],\n",
    "                                                              x['1'], x['Clark'], x['Jane'], x['Joe'], x['Karsten'],\n",
    "                                                              x['DIAGNOSIS'], x['REPAIR']],\n",
    "                                                              [x['seconds_in_day']])[1][0]\n",
    "                                                                                ,0)), axis=1)"
   ]
  },
  {
   "cell_type": "code",
   "execution_count": 27,
   "id": "431bba27-86ef-437e-9d6a-ad2471aa0f53",
   "metadata": {},
   "outputs": [
    {
     "data": {
      "image/png": "[encoded data removed]",
      "text/plain": [
       "<Figure size 640x480 with 1 Axes>"
      ]
     },
     "metadata": {},
     "output_type": "display_data"
    }
   ],
   "source": [
    "cased_duration_simulated = event_log.groupby('case:concept:name')['duration_sampled'].sum()\n",
    "bins = 100\n",
    "r = plt.hist(case_duration_log['case_duration_seconds'], bins, alpha=0.5, label='simulated')\n",
    "plt.hist(cased_duration_simulated, r[1], alpha=0.5, label='real')\n",
    "plt.legend(loc='upper right')\n",
    "plt.show()"
   ]
  },
  {
   "cell_type": "markdown",
   "id": "1caf8721-8266-4129-bf06-46124bbb1baf",
   "metadata": {},
   "source": [
    "### Only resource"
   ]
  },
  {
   "cell_type": "code",
   "execution_count": 28,
   "id": "af7460bc-1cc9-40f8-a6e7-db97ba36e20d",
   "metadata": {},
   "outputs": [],
   "source": [
    "drbart = DRBART(parser_dir = '../../models/artificial/resource_duration_10000_100_100/')\n",
    "event_log['duration_sampled'] = event_log.apply(lambda x : int(round(\n",
    "                                                drbart.sample([x['org:resource']],\n",
    "                                                              [])[1][0]\n",
    "                                                                                ,0)), axis=1)"
   ]
  },
  {
   "cell_type": "code",
   "execution_count": 29,
   "id": "5a4069af-6fa2-4701-8135-c71265179371",
   "metadata": {},
   "outputs": [
    {
     "data": {
      "image/png": "[encoded data removed]",
      "text/plain": [
       "<Figure size 640x480 with 1 Axes>"
      ]
     },
     "metadata": {},
     "output_type": "display_data"
    }
   ],
   "source": [
    "cased_duration_simulated = event_log.groupby('case:concept:name')['duration_sampled'].sum()\n",
    "bins = 100\n",
    "r = plt.hist(case_duration_log['case_duration_seconds'], bins, alpha=0.5, label='simulated')\n",
    "plt.hist(cased_duration_simulated, r[1], alpha=0.5, label='real')\n",
    "plt.legend(loc='upper right')\n",
    "plt.show()"
   ]
  }
 ],
 "metadata": {
  "kernelspec": {
   "display_name": "Python 3 (ipykernel)",
   "language": "python",
   "name": "python3"
  },
  "language_info": {
   "codemirror_mode": {
    "name": "ipython",
    "version": 3
   },
   "file_extension": ".py",
   "mimetype": "text/x-python",
   "name": "python",
   "nbconvert_exporter": "python",
   "pygments_lexer": "ipython3",
   "version": "3.12.4"
  }
 },
 "nbformat": 4,
 "nbformat_minor": 5
}
