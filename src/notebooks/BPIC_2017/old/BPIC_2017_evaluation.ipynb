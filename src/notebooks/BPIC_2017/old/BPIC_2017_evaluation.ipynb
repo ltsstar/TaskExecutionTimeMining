{
 "cells": [
  {
   "cell_type": "code",
   "execution_count": 1,
   "id": "a37bd48b-6165-493c-bfe1-dddfa3ba983f",
   "metadata": {},
   "outputs": [],
   "source": [
    "import numpy as np\n",
    "import pandas\n",
    "import pm4py\n",
    "from matplotlib import pyplot as plt\n",
    "from sklearn.mixture import GaussianMixture\n",
    "import scipy.stats as stats\n",
    "import ot\n",
    "import os\n",
    "from tqdm import tqdm"
   ]
  },
  {
   "cell_type": "code",
   "execution_count": 2,
   "id": "f009f528-43bd-4b45-9cea-57a789c0b81b",
   "metadata": {},
   "outputs": [
    {
     "data": {
      "application/vnd.jupyter.widget-view+json": {
       "model_id": "b09f36de2e8542178eeb8f274cdab55c",
       "version_major": 2,
       "version_minor": 0
      },
      "text/plain": [
       "parsing log, completed traces ::   0%|          | 0/31509 [00:00<?, ?it/s]"
      ]
     },
     "metadata": {},
     "output_type": "display_data"
    }
   ],
   "source": [
    "file_path = '../../../data/BPI Challenge 2017.xes'\n",
    "event_log = pm4py.read_xes(file_path)"
   ]
  },
  {
   "cell_type": "code",
   "execution_count": null,
   "id": "405169d1-c0b6-4c48-8a22-737f824185c0",
   "metadata": {},
   "outputs": [],
   "source": []
  },
  {
   "cell_type": "markdown",
   "id": "7643fd29-cd4d-4d14-a694-667c124ca2e6",
   "metadata": {},
   "source": [
    "# Get real case durations"
   ]
  },
  {
   "cell_type": "code",
   "execution_count": null,
   "id": "d4fc5a79-eba8-45cf-b7d4-c802d82a3e4e",
   "metadata": {},
   "outputs": [],
   "source": [
    "merged_event_log = pandas.merge(event_log,\n",
    "                                event_log[['case:concept:name', 'time:timestamp_start']],\n",
    "                                left_on=['case:concept:name'],\n",
    "                                right_on=['case:concept:name'],\n",
    "                                suffixes=('', '_case_start'))\n",
    "\n",
    "start_end_start_case_event_log = merged_event_log.loc[merged_event_log.groupby(['case:concept:name', 'concept:name'])['time:timestamp_start_case_start'].idxmin()]\n",
    "\n",
    "merged_event_log = pandas.merge(start_end_start_case_event_log,\n",
    "                                start_end_start_case_event_log[['case:concept:name', 'time:timestamp_complete']],\n",
    "                                left_on=['case:concept:name'],\n",
    "                                right_on=['case:concept:name'],\n",
    "                                suffixes=('', '_case_end'))\n",
    "\n",
    "start_end_start_end_event_log = merged_event_log.loc[\n",
    "    merged_event_log.groupby(['case:concept:name', 'concept:name'])['time:timestamp_complete_case_end'].idxmax()\n",
    "]"
   ]
  },
  {
   "cell_type": "code",
   "execution_count": null,
   "id": "6d5d9d21-f4be-418a-aaf8-3c00ebaf355a",
   "metadata": {},
   "outputs": [],
   "source": [
    "case_duration_log = start_end_start_end_event_log.copy()\n",
    "case_duration_log['case_duration'] = case_duration_log['time:timestamp_complete_case_end'] - case_duration_log['time:timestamp_start_case_start']\n",
    "case_duration_log['case_duration_seconds'] = (case_duration_log['case_duration']).astype('timedelta64[s]').astype(int)\n",
    "\n",
    "case_duration_log = case_duration_log.loc[case_duration_log.groupby('case:concept:name')['concept:name'].idxmin()]\n",
    "\n",
    "case_duration_log = case_duration_log[['case:concept:name', 'time:timestamp_start_case_start', 'time:timestamp_complete_case_end',\n",
    "                                       'case_duration', 'case_duration_seconds']]\n",
    "\n",
    "case_duration_log"
   ]
  },
  {
   "cell_type": "markdown",
   "id": "da988b79-3562-40ae-9c32-bf0fda01ff06",
   "metadata": {},
   "source": [
    "# Simulate case durations using model"
   ]
  },
  {
   "cell_type": "code",
   "execution_count": null,
   "id": "311b9509-b9ee-4ad6-bfd7-92e1ca0043c2",
   "metadata": {},
   "outputs": [],
   "source": [
    "from drbart_parser import *"
   ]
  },
  {
   "cell_type": "markdown",
   "id": "431b052a-04c6-48f3-8d62-006cb11825f3",
   "metadata": {},
   "source": [
    "### All"
   ]
  },
  {
   "cell_type": "code",
   "execution_count": null,
   "id": "f8ecd04e-0ec6-49d7-a88d-2b805521989f",
   "metadata": {},
   "outputs": [],
   "source": [
    "drbart = DRBART(parser_dir = '../../models/artificial/resource_concept_duration_seconds-day_resource-count_activity-count/')"
   ]
  },
  {
   "cell_type": "code",
   "execution_count": null,
   "id": "070676ac-45a3-46b3-9206-9797a9645752",
   "metadata": {},
   "outputs": [],
   "source": [
    "event_log['duration_sampled'] = event_log.apply(lambda x : int(round(\n",
    "                                                drbart.sample([x['org:resource'], x['concept:name'],\n",
    "                                                              x['1'], x['Clark'], x['Jane'], x['Joe'], x['Karsten'],\n",
    "                                                              x['DIAGNOSIS'], x['REPAIR']],\n",
    "                                                              [x['seconds_in_day']])[1][0]\n",
    "                                                                                ,0)), axis=1)"
   ]
  },
  {
   "cell_type": "code",
   "execution_count": null,
   "id": "431bba27-86ef-437e-9d6a-ad2471aa0f53",
   "metadata": {},
   "outputs": [],
   "source": [
    "cased_duration_simulated = event_log.groupby('case:concept:name')['duration_sampled'].sum()\n",
    "bins = 100\n",
    "r = plt.hist(case_duration_log['case_duration_seconds'], bins, alpha=0.5, label='simulated')\n",
    "plt.hist(cased_duration_simulated, r[1], alpha=0.5, label='real')\n",
    "plt.legend(loc='upper right')\n",
    "plt.show()"
   ]
  },
  {
   "cell_type": "markdown",
   "id": "1caf8721-8266-4129-bf06-46124bbb1baf",
   "metadata": {},
   "source": [
    "### Only resource"
   ]
  },
  {
   "cell_type": "code",
   "execution_count": null,
   "id": "af7460bc-1cc9-40f8-a6e7-db97ba36e20d",
   "metadata": {},
   "outputs": [],
   "source": [
    "drbart = DRBART(parser_dir = '../../models/artificial/resource_duration_10000_100_100/')\n",
    "event_log['duration_sampled'] = event_log.apply(lambda x : int(round(\n",
    "                                                drbart.sample([x['org:resource']],\n",
    "                                                              [])[1][0]\n",
    "                                                                                ,0)), axis=1)"
   ]
  },
  {
   "cell_type": "code",
   "execution_count": null,
   "id": "5a4069af-6fa2-4701-8135-c71265179371",
   "metadata": {},
   "outputs": [],
   "source": [
    "cased_duration_simulated = event_log.groupby('case:concept:name')['duration_sampled'].sum()\n",
    "bins = 100\n",
    "r = plt.hist(case_duration_log['case_duration_seconds'], bins, alpha=0.5, label='simulated')\n",
    "plt.hist(cased_duration_simulated, r[1], alpha=0.5, label='real')\n",
    "plt.legend(loc='upper right')\n",
    "plt.show()"
   ]
  }
 ],
 "metadata": {
  "kernelspec": {
   "display_name": "Python 3 (ipykernel)",
   "language": "python",
   "name": "python3"
  },
  "language_info": {
   "codemirror_mode": {
    "name": "ipython",
    "version": 3
   },
   "file_extension": ".py",
   "mimetype": "text/x-python",
   "name": "python",
   "nbconvert_exporter": "python",
   "pygments_lexer": "ipython3",
   "version": "3.12.6"
  }
 },
 "nbformat": 4,
 "nbformat_minor": 5
}
