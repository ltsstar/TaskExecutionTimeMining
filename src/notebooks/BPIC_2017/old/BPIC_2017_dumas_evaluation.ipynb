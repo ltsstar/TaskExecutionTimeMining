{
 "cells": [
  {
   "cell_type": "code",
   "execution_count": 1,
   "id": "8ef0ea34-7b7d-441e-af37-b18620fa9278",
   "metadata": {},
   "outputs": [],
   "source": [
    "import numpy as np\n",
    "import pandas\n",
    "import pm4py\n",
    "from matplotlib import pyplot as plt\n",
    "from sklearn.mixture import GaussianMixture\n",
    "import scipy.stats as stats\n",
    "import ot\n",
    "import os\n",
    "from tqdm import tqdm\n",
    "import collections\n",
    "import itertools\n",
    "import pickle\n",
    "import matplotlib.dates as md\n",
    "\n",
    "\n",
    "from pix_framework.statistics.distribution import DurationDistribution, get_best_fitting_distribution, DistributionType\n",
    "\n",
    "import sys\n",
    "sys.path.append('../../TaskExecutionTimeMining/')\n",
    "from drbart_parser import *\n",
    "from event_log_transformer import *\n",
    "\n",
    "sys.path.append('../../Evaluation/')\n",
    "from process_evaluation import *"
   ]
  },
  {
   "cell_type": "code",
   "execution_count": 2,
   "id": "54ff966d-dc8f-491c-8dff-98b57fdb1f92",
   "metadata": {},
   "outputs": [
    {
     "data": {
      "application/vnd.jupyter.widget-view+json": {
       "model_id": "f7512261647344c6a92e830d0f80af63",
       "version_major": 2,
       "version_minor": 0
      },
      "text/plain": [
       "parsing log, completed traces ::   0%|          | 0/31509 [00:00<?, ?it/s]"
      ]
     },
     "metadata": {},
     "output_type": "display_data"
    }
   ],
   "source": [
    "file_path = '../../../data/BPI Challenge 2017.xes'\n",
    "event_log = pm4py.read_xes(file_path)"
   ]
  },
  {
   "cell_type": "code",
   "execution_count": 3,
   "id": "51417e9c-1ea9-469e-a552-40bd01c14b53",
   "metadata": {},
   "outputs": [],
   "source": [
    "event_log = TransformEventLog.seconds_in_day(event_log)"
   ]
  },
  {
   "cell_type": "code",
   "execution_count": 6,
   "id": "44e9fb47-2853-492d-98d7-7148886b3667",
   "metadata": {},
   "outputs": [
    {
     "name": "stderr",
     "output_type": "stream",
     "text": [
      "/home/michel/Documents/TaskExecutionTimeMining/src/notebooks/BPIC_2017/../../TaskExecutionTimeMining/event_log_transformer.py:44: SettingWithCopyWarning: \n",
      "A value is trying to be set on a copy of a slice from a DataFrame.\n",
      "Try using .loc[row_indexer,col_indexer] = value instead\n",
      "\n",
      "See the caveats in the documentation: https://pandas.pydata.org/pandas-docs/stable/user_guide/indexing.html#returning-a-view-versus-a-copy\n",
      "  start_end_event_log.loc[:, 'duration'] = start_end_event_log[timestamp_name + complete_name_gen] - start_end_event_log[timestamp_name + start_name_gen]\n",
      "/home/michel/Documents/TaskExecutionTimeMining/src/notebooks/BPIC_2017/../../TaskExecutionTimeMining/event_log_transformer.py:45: SettingWithCopyWarning: \n",
      "A value is trying to be set on a copy of a slice from a DataFrame.\n",
      "Try using .loc[row_indexer,col_indexer] = value instead\n",
      "\n",
      "See the caveats in the documentation: https://pandas.pydata.org/pandas-docs/stable/user_guide/indexing.html#returning-a-view-versus-a-copy\n",
      "  start_end_event_log.loc[:, 'duration_seconds'] = start_end_event_log['duration'] / datetime.timedelta(seconds=1) #(start_end_event_log['duration']).astype('timedelta64[s]').astype(float)\n",
      "/home/michel/Documents/TaskExecutionTimeMining/src/notebooks/BPIC_2017/../../TaskExecutionTimeMining/event_log_transformer.py:46: SettingWithCopyWarning: \n",
      "A value is trying to be set on a copy of a slice from a DataFrame.\n",
      "Try using .loc[row_indexer,col_indexer] = value instead\n",
      "\n",
      "See the caveats in the documentation: https://pandas.pydata.org/pandas-docs/stable/user_guide/indexing.html#returning-a-view-versus-a-copy\n",
      "  start_end_event_log.loc[:, 'duration_ms'] = start_end_event_log['duration'] / datetime.timedelta(milliseconds=1)\n",
      "/home/michel/Documents/TaskExecutionTimeMining/src/notebooks/BPIC_2017/../../TaskExecutionTimeMining/event_log_transformer.py:47: SettingWithCopyWarning: \n",
      "A value is trying to be set on a copy of a slice from a DataFrame.\n",
      "Try using .loc[row_indexer,col_indexer] = value instead\n",
      "\n",
      "See the caveats in the documentation: https://pandas.pydata.org/pandas-docs/stable/user_guide/indexing.html#returning-a-view-versus-a-copy\n",
      "  start_end_event_log.loc[:, 'duration_hours'] = start_end_event_log['duration'] / datetime.timedelta(hours=1)\n",
      "/home/michel/Documents/TaskExecutionTimeMining/src/notebooks/BPIC_2017/../../TaskExecutionTimeMining/event_log_transformer.py:44: SettingWithCopyWarning: \n",
      "A value is trying to be set on a copy of a slice from a DataFrame.\n",
      "Try using .loc[row_indexer,col_indexer] = value instead\n",
      "\n",
      "See the caveats in the documentation: https://pandas.pydata.org/pandas-docs/stable/user_guide/indexing.html#returning-a-view-versus-a-copy\n",
      "  start_end_event_log.loc[:, 'duration'] = start_end_event_log[timestamp_name + complete_name_gen] - start_end_event_log[timestamp_name + start_name_gen]\n",
      "/home/michel/Documents/TaskExecutionTimeMining/src/notebooks/BPIC_2017/../../TaskExecutionTimeMining/event_log_transformer.py:45: SettingWithCopyWarning: \n",
      "A value is trying to be set on a copy of a slice from a DataFrame.\n",
      "Try using .loc[row_indexer,col_indexer] = value instead\n",
      "\n",
      "See the caveats in the documentation: https://pandas.pydata.org/pandas-docs/stable/user_guide/indexing.html#returning-a-view-versus-a-copy\n",
      "  start_end_event_log.loc[:, 'duration_seconds'] = start_end_event_log['duration'] / datetime.timedelta(seconds=1) #(start_end_event_log['duration']).astype('timedelta64[s]').astype(float)\n",
      "/home/michel/Documents/TaskExecutionTimeMining/src/notebooks/BPIC_2017/../../TaskExecutionTimeMining/event_log_transformer.py:46: SettingWithCopyWarning: \n",
      "A value is trying to be set on a copy of a slice from a DataFrame.\n",
      "Try using .loc[row_indexer,col_indexer] = value instead\n",
      "\n",
      "See the caveats in the documentation: https://pandas.pydata.org/pandas-docs/stable/user_guide/indexing.html#returning-a-view-versus-a-copy\n",
      "  start_end_event_log.loc[:, 'duration_ms'] = start_end_event_log['duration'] / datetime.timedelta(milliseconds=1)\n",
      "/home/michel/Documents/TaskExecutionTimeMining/src/notebooks/BPIC_2017/../../TaskExecutionTimeMining/event_log_transformer.py:47: SettingWithCopyWarning: \n",
      "A value is trying to be set on a copy of a slice from a DataFrame.\n",
      "Try using .loc[row_indexer,col_indexer] = value instead\n",
      "\n",
      "See the caveats in the documentation: https://pandas.pydata.org/pandas-docs/stable/user_guide/indexing.html#returning-a-view-versus-a-copy\n",
      "  start_end_event_log.loc[:, 'duration_hours'] = start_end_event_log['duration'] / datetime.timedelta(hours=1)\n",
      "/home/michel/Documents/TaskExecutionTimeMining/src/notebooks/BPIC_2017/../../TaskExecutionTimeMining/event_log_transformer.py:44: SettingWithCopyWarning: \n",
      "A value is trying to be set on a copy of a slice from a DataFrame.\n",
      "Try using .loc[row_indexer,col_indexer] = value instead\n",
      "\n",
      "See the caveats in the documentation: https://pandas.pydata.org/pandas-docs/stable/user_guide/indexing.html#returning-a-view-versus-a-copy\n",
      "  start_end_event_log.loc[:, 'duration'] = start_end_event_log[timestamp_name + complete_name_gen] - start_end_event_log[timestamp_name + start_name_gen]\n",
      "/home/michel/Documents/TaskExecutionTimeMining/src/notebooks/BPIC_2017/../../TaskExecutionTimeMining/event_log_transformer.py:45: SettingWithCopyWarning: \n",
      "A value is trying to be set on a copy of a slice from a DataFrame.\n",
      "Try using .loc[row_indexer,col_indexer] = value instead\n",
      "\n",
      "See the caveats in the documentation: https://pandas.pydata.org/pandas-docs/stable/user_guide/indexing.html#returning-a-view-versus-a-copy\n",
      "  start_end_event_log.loc[:, 'duration_seconds'] = start_end_event_log['duration'] / datetime.timedelta(seconds=1) #(start_end_event_log['duration']).astype('timedelta64[s]').astype(float)\n",
      "/home/michel/Documents/TaskExecutionTimeMining/src/notebooks/BPIC_2017/../../TaskExecutionTimeMining/event_log_transformer.py:46: SettingWithCopyWarning: \n",
      "A value is trying to be set on a copy of a slice from a DataFrame.\n",
      "Try using .loc[row_indexer,col_indexer] = value instead\n",
      "\n",
      "See the caveats in the documentation: https://pandas.pydata.org/pandas-docs/stable/user_guide/indexing.html#returning-a-view-versus-a-copy\n",
      "  start_end_event_log.loc[:, 'duration_ms'] = start_end_event_log['duration'] / datetime.timedelta(milliseconds=1)\n",
      "/home/michel/Documents/TaskExecutionTimeMining/src/notebooks/BPIC_2017/../../TaskExecutionTimeMining/event_log_transformer.py:47: SettingWithCopyWarning: \n",
      "A value is trying to be set on a copy of a slice from a DataFrame.\n",
      "Try using .loc[row_indexer,col_indexer] = value instead\n",
      "\n",
      "See the caveats in the documentation: https://pandas.pydata.org/pandas-docs/stable/user_guide/indexing.html#returning-a-view-versus-a-copy\n",
      "  start_end_event_log.loc[:, 'duration_hours'] = start_end_event_log['duration'] / datetime.timedelta(hours=1)\n"
     ]
    }
   ],
   "source": [
    "from dumas_model import DumasModel\n",
    "\n",
    "dm = DumasModel(event_log)\n",
    "\n",
    "\n",
    "with open('../../../models/bpic_2017_dumas_model/dumas_model.pickle', 'wb') as handle:\n",
    "    pickle.dump(dm, handle)\n"
   ]
  },
  {
   "cell_type": "code",
   "execution_count": 5,
   "id": "daf9a981-5c40-4c9c-aa9e-fa35fd3c401b",
   "metadata": {},
   "outputs": [
    {
     "ename": "EOFError",
     "evalue": "Ran out of input",
     "output_type": "error",
     "traceback": [
      "\u001b[0;31m---------------------------------------------------------------------------\u001b[0m",
      "\u001b[0;31mEOFError\u001b[0m                                  Traceback (most recent call last)",
      "Cell \u001b[0;32mIn[5], line 2\u001b[0m\n\u001b[1;32m      1\u001b[0m \u001b[38;5;28;01mwith\u001b[39;00m \u001b[38;5;28mopen\u001b[39m(\u001b[38;5;124m'\u001b[39m\u001b[38;5;124m../../../models/bpic_2017_dumas_model/dumas_model.pickle\u001b[39m\u001b[38;5;124m'\u001b[39m, \u001b[38;5;124m'\u001b[39m\u001b[38;5;124mrb\u001b[39m\u001b[38;5;124m'\u001b[39m) \u001b[38;5;28;01mas\u001b[39;00m handle:\n\u001b[0;32m----> 2\u001b[0m     dm \u001b[38;5;241m=\u001b[39m \u001b[43mpickle\u001b[49m\u001b[38;5;241;43m.\u001b[39;49m\u001b[43mload\u001b[49m\u001b[43m(\u001b[49m\u001b[43mhandle\u001b[49m\u001b[43m)\u001b[49m\n",
      "\u001b[0;31mEOFError\u001b[0m: Ran out of input"
     ]
    }
   ],
   "source": [
    "with open('../../../models/bpic_2017_dumas_model/dumas_model.pickle', 'rb') as handle:\n",
    "    dm = pickle.load(handle)"
   ]
  },
  {
   "cell_type": "code",
   "execution_count": null,
   "id": "0bee8cce-315c-4e3f-8ba5-e16e3044fcf1",
   "metadata": {},
   "outputs": [],
   "source": [
    "import importlib\n",
    "importlib.reload(sys.modules['process_evaluation'])\n",
    "from process_evaluation import *\n",
    "\n",
    "dumas_model = SampleOutcomes_Dumas_BPIC2017(event_log, dm)\n"
   ]
  },
  {
   "cell_type": "code",
   "execution_count": null,
   "id": "ec5cc76e-f3a8-4326-9dc6-44c61c934c5d",
   "metadata": {},
   "outputs": [],
   "source": [
    "from pm4py.objects.petri_net import semantics\n",
    "from scipy.stats import gaussian_kde\n",
    "\n",
    "\n",
    "get_real_end_time = lambda case_name : event_log[(event_log['case:concept:name'] == case_name)]['time:timestamp'].max().timestamp()\n",
    "results = []\n",
    "n = 1000\n",
    "i = 0\n",
    "for case_name in event_log['case:concept:name'].unique():\n",
    "    i += 1\n",
    "    if i < 2:\n",
    "        continue\n",
    "    case_samples = [dumas_model.sample_case(case_name) for i in range(n)]\n",
    "    real_end_time = get_real_end_time(case_name)\n",
    "\n",
    "    likelihood = kde_likelihood(case_samples, real_end_time) * (3600*24)\n",
    "    \n",
    "    case_samples = [datetime.datetime.fromtimestamp(ts) for ts in case_samples]\n",
    "    real_end_time = datetime.datetime.fromtimestamp(real_end_time)\n",
    "\n",
    "    plt.figure(figsize=(14, 6))\n",
    "    #plt.xticks( rotation=25 )\n",
    "    #print(case_samples)\n",
    "    ax=plt.gca()\n",
    "    xfmt = md.DateFormatter('%Y-%m-%d')\n",
    "    ax.xaxis.set_major_formatter(xfmt)\n",
    "    ax.xaxis.set_major_locator(md.WeekdayLocator(byweekday=md.SU, interval=1))\n",
    "    mxfmt = md.DateFormatter('%a')\n",
    "    ax.xaxis.set_minor_formatter(mxfmt)\n",
    "    ax.xaxis.set_minor_locator(md.DayLocator())\n",
    "    ax.tick_params(axis='both', which='major', labelsize=8, rotation=90)\n",
    "    ax.tick_params(axis='both', which='minor', labelsize=5, rotation=90)\n",
    "    \n",
    "    plt.gcf().autofmt_xdate()\n",
    "    plt.gcf().set_dpi(300)\n",
    "    plt.hist(case_samples, bins=pandas.date_range(start= pandas.to_datetime(min(case_samples)).floor('D'), end=pandas.to_datetime(max(case_samples)).ceil('D'), freq='6H'), density=True)\n",
    "    plt.axvline(x=real_end_time, color='red')\n",
    "    plt.show()\n",
    "    results.append(likelihood[0])\n",
    "    print(case_name, likelihood, min(case_samples), max(case_samples),  max(case_samples)-min(case_samples))"
   ]
  },
  {
   "cell_type": "code",
   "execution_count": null,
   "id": "4c5ab558-f192-48f0-a2fb-fd8a5a6ef07c",
   "metadata": {},
   "outputs": [],
   "source": [
    "results"
   ]
  },
  {
   "cell_type": "code",
   "execution_count": null,
   "id": "55c63db6-e218-417a-9244-bba6d886c56c",
   "metadata": {},
   "outputs": [],
   "source": [
    "ll = np.log(np.array(results))\n",
    "ll"
   ]
  },
  {
   "cell_type": "code",
   "execution_count": null,
   "id": "36fd0369-d019-4685-a58b-d0172ceceda1",
   "metadata": {},
   "outputs": [],
   "source": [
    "ll[:28]\n",
    "np.median(ll[:28])"
   ]
  },
  {
   "cell_type": "code",
   "execution_count": null,
   "id": "75175193-08dd-4974-bb6c-f2d52a24b74f",
   "metadata": {},
   "outputs": [],
   "source": [
    "np.mean(np.array(results[:28]))"
   ]
  }
 ],
 "metadata": {
  "kernelspec": {
   "display_name": "Python 3 (ipykernel)",
   "language": "python",
   "name": "python3"
  },
  "language_info": {
   "codemirror_mode": {
    "name": "ipython",
    "version": 3
   },
   "file_extension": ".py",
   "mimetype": "text/x-python",
   "name": "python",
   "nbconvert_exporter": "python",
   "pygments_lexer": "ipython3",
   "version": "3.12.7"
  }
 },
 "nbformat": 4,
 "nbformat_minor": 5
}
