{
 "cells": [
  {
   "cell_type": "code",
   "execution_count": 1,
   "id": "16b45146-59b8-420b-a8a2-8e53fc2199c7",
   "metadata": {},
   "outputs": [],
   "source": [
    "import pm4py\n",
    "import sys\n",
    "sys.path.append('../../TaskExecutionTimeMining/')\n",
    "from event_log_transformer import *\n",
    "pandas.set_option('display.max_columns', None)\n",
    "pandas.set_option('display.max_rows', 200)\n"
   ]
  },
  {
   "cell_type": "code",
   "execution_count": null,
   "id": "92488318-2d84-4d4b-b885-3a1974f60c12",
   "metadata": {},
   "outputs": [
    {
     "data": {
      "application/vnd.jupyter.widget-view+json": {
       "model_id": "509e5622f4ec4262831ccf326d646b6c",
       "version_major": 2,
       "version_minor": 0
      },
      "text/plain": [
       "parsing log, completed traces ::   0%|          | 0/31509 [00:00<?, ?it/s]"
      ]
     },
     "metadata": {},
     "output_type": "display_data"
    }
   ],
   "source": [
    "file_path = '../../../data/BPI Challenge 2017.xes'\n",
    "event_log = pm4py.read_xes(file_path)"
   ]
  },
  {
   "cell_type": "code",
   "execution_count": null,
   "id": "3dd14ed9-649d-4cd4-8e82-f9afc0cf1351",
   "metadata": {},
   "outputs": [],
   "source": [
    "event_log"
   ]
  },
  {
   "cell_type": "code",
   "execution_count": null,
   "id": "20234ab7-c842-49cd-9723-ff2bbf121135",
   "metadata": {},
   "outputs": [],
   "source": [
    "#event_log['concept'] = event_log['concept:name'] + '_' + event_log['lifecycle:transition']\n",
    "#event_log = event_log[event_log['concept:name'].str.startswith('W_')]"
   ]
  },
  {
   "cell_type": "code",
   "execution_count": null,
   "id": "fe1079f4-55bb-4337-a38e-01f1a137de5c",
   "metadata": {},
   "outputs": [],
   "source": [
    "#event_log[:99999].to_csv('test.csv', index=False, date_format='%Y-%m-%d %H:%M:%S.%f')"
   ]
  },
  {
   "cell_type": "code",
   "execution_count": null,
   "id": "93ea44b4-08d1-4bf6-8e0a-2430459586e2",
   "metadata": {},
   "outputs": [],
   "source": [
    "event_log['lifecycle:transition'].unique()"
   ]
  },
  {
   "cell_type": "code",
   "execution_count": null,
   "id": "03d00503-d777-497b-aab8-edd7e4964c33",
   "metadata": {},
   "outputs": [],
   "source": [
    "event_log['concept:name'].unique()"
   ]
  },
  {
   "cell_type": "code",
   "execution_count": null,
   "id": "5457fd29-6d99-437a-a1bb-e87c0e612f50",
   "metadata": {
    "scrolled": true
   },
   "outputs": [],
   "source": [
    "start_end_event_log = TransformEventLog.start_end_event_log_mult(event_log,\n",
    "                                                                   start_name_1 = 'start',\n",
    "                                                                   #start_name_2 = 'resume',\n",
    "                                                                   #complete_name_3 = 'suspend',\n",
    "                                                                   complete_name_1 = 'complete', complete_name_2 = 'ate_abort')"
   ]
  },
  {
   "cell_type": "code",
   "execution_count": null,
   "id": "ea0a2416-25f0-4015-9020-a6ce55dfb311",
   "metadata": {},
   "outputs": [],
   "source": [
    "start_end_event_log.groupby(['lifecycle:transition_start', 'lifecycle:transition_complete']).count()"
   ]
  },
  {
   "cell_type": "code",
   "execution_count": null,
   "id": "c7bac93d-bf9a-446b-92f9-acd32a3be771",
   "metadata": {},
   "outputs": [],
   "source": [
    "(start_end_event_log['duration_seconds']/3600).describe()"
   ]
  },
  {
   "cell_type": "code",
   "execution_count": null,
   "id": "4fef337b-05f8-4e79-85eb-20fde52c3e6d",
   "metadata": {},
   "outputs": [],
   "source": [
    "(start_end_event_log['duration_seconds']/3600).plot.box()"
   ]
  },
  {
   "cell_type": "code",
   "execution_count": null,
   "id": "af23f2ab-3306-46c2-b06e-c063c95d53fa",
   "metadata": {},
   "outputs": [],
   "source": [
    "start_end_event_log[start_end_event_log['duration_seconds'] > 3000*3600]"
   ]
  },
  {
   "cell_type": "code",
   "execution_count": null,
   "id": "5129f5c2-04cd-4b0d-a2c0-042a2a442f1e",
   "metadata": {},
   "outputs": [],
   "source": [
    "start_end_event_log[start_end_event_log['case:concept:name'] == 'Application_1283264254'].sort_values('time:timestamp_start')"
   ]
  },
  {
   "cell_type": "code",
   "execution_count": null,
   "id": "210166fd-2ecb-42ad-8ed3-033e6abaadb5",
   "metadata": {},
   "outputs": [],
   "source": [
    "event_log[event_log['case:concept:name'] == 'Application_1283264254'].sort_values('time:timestamp')"
   ]
  },
  {
   "cell_type": "code",
   "execution_count": null,
   "id": "498ca870-4d66-4adb-b519-fe3fcaeef752",
   "metadata": {},
   "outputs": [],
   "source": [
    "# Seconds in day\n",
    "start_end_event_log = TransformEventLog.seconds_in_day(start_end_event_log, 'time:timestamp_start')"
   ]
  },
  {
   "cell_type": "code",
   "execution_count": null,
   "id": "97b3a810-c90a-4098-927f-1929e2ebcdaf",
   "metadata": {},
   "outputs": [],
   "source": [
    "start_end_event_log"
   ]
  },
  {
   "cell_type": "code",
   "execution_count": null,
   "id": "86e5bc7a-f882-43b7-bab4-096fbfde6589",
   "metadata": {},
   "outputs": [],
   "source": [
    "#start_end_event_log[(start_end_event_log['case:concept:name'] == 'Application_949646433')].sort_values('time:timestamp_start')\\\n",
    "#[['case:concept:name', 'concept:name', 'org:resource_start', 'lifecycle:transition_start', 'time:timestamp_start', 'org:resource_complete', 'lifecycle:transition_complete', 'time:timestamp_complete', 'duration_seconds']]"
   ]
  },
  {
   "cell_type": "code",
   "execution_count": null,
   "id": "dc10f640-7907-435b-8caf-a73c673afb9a",
   "metadata": {},
   "outputs": [],
   "source": [
    "# Resource counts\n",
    "\n",
    "resource_count_event_log = TransformEventLog.value_count_per_case(start_end_event_log, 'org:resource_start',\n",
    "                                                                  timestamp_name = 'time:timestamp_start',\n",
    "                                                                 lifecycle_col_name = 'lifecycle:transition_start')"
   ]
  },
  {
   "cell_type": "code",
   "execution_count": null,
   "id": "99ad36af-7e72-4ac4-8fdd-89a1f04145a8",
   "metadata": {},
   "outputs": [],
   "source": [
    "resource_count_event_log"
   ]
  },
  {
   "cell_type": "code",
   "execution_count": null,
   "id": "f7171685-4c42-4993-bc35-b731d1ede457",
   "metadata": {},
   "outputs": [],
   "source": [
    "activity_count_event_log = TransformEventLog.value_count_per_case(resource_count_event_log, 'concept:name',\n",
    "                                                                  timestamp_name = 'time:timestamp_start',\n",
    "                                                                 lifecycle_col_name = 'lifecycle:transition_start' )"
   ]
  },
  {
   "cell_type": "code",
   "execution_count": null,
   "id": "5835acd2-3228-498a-99ae-11cfa7a6c25d",
   "metadata": {},
   "outputs": [],
   "source": [
    "activity_count_event_log"
   ]
  },
  {
   "cell_type": "code",
   "execution_count": null,
   "id": "7f4301d1-b553-45fb-a2aa-06511198f8b8",
   "metadata": {},
   "outputs": [],
   "source": [
    "activity_count_event_log.to_csv('../transformed_event_logs/BPIC_2017_start_end.csv')\n",
    "activity_count_event_log.to_pickle('../transformed_event_logs/BPIC_2017_start_end.pickle')"
   ]
  }
 ],
 "metadata": {
  "kernelspec": {
   "display_name": "Python 3 (ipykernel)",
   "language": "python",
   "name": "python3"
  },
  "language_info": {
   "codemirror_mode": {
    "name": "ipython",
    "version": 3
   },
   "file_extension": ".py",
   "mimetype": "text/x-python",
   "name": "python",
   "nbconvert_exporter": "python",
   "pygments_lexer": "ipython3",
   "version": "3.12.4"
  }
 },
 "nbformat": 4,
 "nbformat_minor": 5
}
