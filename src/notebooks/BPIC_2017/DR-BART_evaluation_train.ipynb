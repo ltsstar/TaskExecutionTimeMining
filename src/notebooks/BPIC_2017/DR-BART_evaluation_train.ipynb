{
 "cells": [
  {
   "cell_type": "code",
   "execution_count": 1,
   "id": "b76fb6b4-b5bb-4ed9-b3f5-2d35b620297d",
   "metadata": {
    "execution": {
     "iopub.execute_input": "2024-11-22T08:39:23.055042Z",
     "iopub.status.busy": "2024-11-22T08:39:23.054273Z",
     "iopub.status.idle": "2024-11-22T08:39:25.489819Z",
     "shell.execute_reply": "2024-11-22T08:39:25.487582Z"
    }
   },
   "outputs": [],
   "source": [
    "import numpy as np\n",
    "import pandas\n",
    "import pm4py\n",
    "from matplotlib import pyplot as plt\n",
    "from sklearn.mixture import GaussianMixture\n",
    "import scipy.stats as stats\n",
    "import ot\n",
    "import os\n",
    "from tqdm import tqdm\n",
    "import collections\n",
    "import matplotlib.dates as md\n",
    "import importlib\n",
    "import pickle\n",
    "import random\n",
    "import math\n",
    "import CRPS.CRPS as pscore\n",
    "import datetime\n",
    "\n",
    "pandas.set_option('display.max_columns', None)\n",
    "#pandas.set_option('display.max_rows', None)\n",
    "\n",
    "\n",
    "import sys\n",
    "sys.path.append('../../TaskExecutionTimeMining/')\n",
    "from drbart_parser import *\n",
    "from event_log_transformer import *\n",
    "\n",
    "#sys.path.append('../../Evaluation')\n",
    "sys.path.append('../../Evaluation/')\n",
    "from normal_evaluation.drbart_evaluation import *"
   ]
  },
  {
   "cell_type": "code",
   "execution_count": 2,
   "id": "947bebfa-e936-4dfa-8fb9-74a358dcfd1f",
   "metadata": {
    "execution": {
     "iopub.execute_input": "2024-11-22T08:39:25.496366Z",
     "iopub.status.busy": "2024-11-22T08:39:25.496009Z",
     "iopub.status.idle": "2024-11-22T08:39:26.658796Z",
     "shell.execute_reply": "2024-11-22T08:39:26.657176Z"
    }
   },
   "outputs": [
    {
     "name": "stderr",
     "output_type": "stream",
     "text": [
      "/tmp/ipykernel_5280/1826604161.py:6: DeprecationWarning: numpy.core.numeric is deprecated and has been renamed to numpy._core.numeric. The numpy._core namespace contains private NumPy internals and its use is discouraged, as NumPy internals can change without warning in any release. In practice, most real-world usage of numpy.core is to access functionality in the public NumPy API. If that is the case, use the public NumPy API. If not, you are using NumPy internals. If you would still like to access an internal attribute, use numpy._core.numeric._frombuffer.\n",
      "  test_event_log = pickle.load(f)\n"
     ]
    }
   ],
   "source": [
    "#model_name = 'bpic_2017_all_2'\n",
    "model_name = 'bpic_2017_all'\n",
    "\n",
    "log_name = 'train'\n",
    "with open('../transformed_event_logs/BPIC_2017_all_'+log_name+'.pickle', 'rb') as f:\n",
    "    test_event_log = pickle.load(f)\n",
    "\n",
    "test_event_log['case:concept:name'] = test_event_log['case:concept:name'].astype(str)\n",
    "known_resources = ['User_1','User_10','User_100','User_101','User_102','User_103','User_104','User_105','User_106','User_107','User_108','User_109','User_11','User_110','User_111','User_112','User_113','User_114','User_115','User_116','User_117','User_118','User_119','User_12','User_120','User_121','User_122','User_123','User_124','User_125','User_126','User_127','User_128','User_129','User_13','User_130','User_131','User_132','User_133','User_134','User_135','User_136','User_137','User_138','User_139','User_14','User_140','User_141','User_142','User_143','User_144','User_145','User_146','User_147','User_148','User_149','User_15','User_16','User_17','User_18','User_19','User_2','User_20','User_21','User_22','User_23','User_24','User_25','User_26','User_27','User_28','User_29','User_3','User_30','User_31','User_32','User_33','User_34','User_35','User_36','User_37','User_38','User_39','User_4','User_40','User_41','User_42','User_43','User_44','User_45','User_46','User_47','User_48','User_49','User_5','User_50','User_51','User_52','User_53','User_54','User_55','User_56','User_57','User_58','User_59','User_6','User_60','User_61','User_62','User_63','User_64','User_65','User_66','User_67','User_68','User_69','User_7','User_70','User_71','User_72','User_73','User_74','User_75','User_76','User_77','User_78','User_79','User_8','User_80','User_81','User_82','User_83','User_84','User_85','User_86','User_87','User_88','User_89','User_9','User_90','User_91','User_92','User_93','User_94','User_95','User_96','User_97','User_98','User_99']\n",
    "known_activities = ['W_Assess potential fraud__ate_abort','W_Assess potential fraud__complete','W_Assess potential fraud__resume','W_Assess potential fraud__schedule','W_Assess potential fraud__start','W_Assess potential fraud__suspend','W_Assess potential fraud__withdraw','W_Call after offers__ate_abort','W_Call after offers__complete','W_Call after offers__resume','W_Call after offers__schedule','W_Call after offers__start','W_Call after offers__suspend','W_Call after offers__withdraw','W_Call incomplete files__ate_abort','W_Call incomplete files__complete','W_Call incomplete files__resume','W_Call incomplete files__schedule','W_Call incomplete files__start','W_Call incomplete files__suspend','W_Complete application__ate_abort','W_Complete application__complete','W_Complete application__resume','W_Complete application__schedule','W_Complete application__start','W_Complete application__suspend','W_Handle leads__complete','W_Handle leads__resume','W_Handle leads__schedule','W_Handle leads__start','W_Handle leads__suspend','W_Handle leads__withdraw','W_Shortened completion __resume','W_Shortened completion __schedule','W_Shortened completion __start','W_Shortened completion __suspend','W_Validate application__ate_abort','W_Validate application__complete','W_Validate application__resume','W_Validate application__schedule','W_Validate application__start','W_Validate application__suspend']"
   ]
  },
  {
   "cell_type": "code",
   "execution_count": 3,
   "id": "b5035e82-57d7-466f-bedf-c2520361b5e2",
   "metadata": {
    "execution": {
     "iopub.execute_input": "2024-11-22T08:39:26.664871Z",
     "iopub.status.busy": "2024-11-22T08:39:26.664653Z",
     "iopub.status.idle": "2024-11-22T08:39:26.675623Z",
     "shell.execute_reply": "2024-11-22T08:39:26.673953Z"
    }
   },
   "outputs": [],
   "source": [
    "N = 1000\n",
    "n_processes = 20\n",
    "\n",
    "import conduct_evaluation\n",
    "get_pscores = lambda likelihoods : [pscore(likelihoods[1][i], likelihoods[2][k][3]).compute()[0] for i, k in enumerate(list(likelihoods[0].keys()))]\n",
    "\n",
    "likelihoods_A = None\n",
    "likelihoods_R = None\n",
    "likelihoods_R_A = None\n",
    "likelihoods_R_A_S = None\n",
    "likelihoods_R_A_S_AC = None\n",
    "likelihoods_R_A_S_RC = None\n",
    "likelihoods_R_A_S_RC_AC = None\n",
    "likelihoods_R_A_S_RC_AC_V = None\n",
    "likelihoods_R_A_S_D = None\n",
    "likelihoods_R_A_S_D_RC_AC = None"
   ]
  },
  {
   "cell_type": "code",
   "execution_count": 4,
   "id": "58c47d35-5bf5-4643-a5b2-9618cfc0f045",
   "metadata": {
    "execution": {
     "iopub.execute_input": "2024-11-22T08:39:26.681403Z",
     "iopub.status.busy": "2024-11-22T08:39:26.681121Z",
     "iopub.status.idle": "2024-11-22T12:49:23.866814Z",
     "shell.execute_reply": "2024-11-22T12:49:23.864155Z"
    }
   },
   "outputs": [
    {
     "name": "stderr",
     "output_type": "stream",
     "text": [
      "\r",
      "  0%|                                                                                                  | 0/24591 [00:00<?, ?it/s]"
     ]
    },
    {
     "name": "stderr",
     "output_type": "stream",
     "text": [
      "\r",
      "  0%|                                                                                      | 1/24591 [00:20<138:34:34, 20.29s/it]"
     ]
    },
    {
     "name": "stderr",
     "output_type": "stream",
     "text": [
      "\r",
      "  2%|█▊                                                                                      | 501/24591 [00:24<14:45, 27.19it/s]"
     ]
    },
    {
     "name": "stderr",
     "output_type": "stream",
     "text": [
      "\r",
      "  4%|███▌                                                                                   | 1001/24591 [00:28<08:01, 49.03it/s]"
     ]
    },
    {
     "name": "stderr",
     "output_type": "stream",
     "text": [
      "\r",
      "  6%|█████▎                                                                                 | 1501/24591 [00:34<06:04, 63.38it/s]"
     ]
    },
    {
     "name": "stderr",
     "output_type": "stream",
     "text": [
      "\r",
      "  8%|███████                                                                                | 2001/24591 [00:39<05:04, 74.27it/s]"
     ]
    },
    {
     "name": "stderr",
     "output_type": "stream",
     "text": [
      "\r",
      " 10%|████████▊                                                                              | 2501/24591 [00:43<04:24, 83.53it/s]"
     ]
    },
    {
     "name": "stderr",
     "output_type": "stream",
     "text": [
      "\r",
      " 12%|██████████▌                                                                            | 3001/24591 [00:49<04:08, 86.76it/s]"
     ]
    },
    {
     "name": "stderr",
     "output_type": "stream",
     "text": [
      "\r",
      " 14%|████████████▍                                                                          | 3501/24591 [00:53<03:46, 93.23it/s]"
     ]
    },
    {
     "name": "stderr",
     "output_type": "stream",
     "text": [
      "\r",
      " 16%|██████████████▏                                                                        | 4001/24591 [00:58<03:32, 97.01it/s]"
     ]
    },
    {
     "name": "stderr",
     "output_type": "stream",
     "text": [
      "\r",
      " 18%|███████████████▉                                                                       | 4501/24591 [01:03<03:24, 98.48it/s]"
     ]
    },
    {
     "name": "stderr",
     "output_type": "stream",
     "text": [
      "\r",
      " 20%|█████████████████▍                                                                    | 5001/24591 [01:07<03:11, 102.45it/s]"
     ]
    },
    {
     "name": "stderr",
     "output_type": "stream",
     "text": [
      "\r",
      " 22%|███████████████████▏                                                                  | 5501/24591 [01:12<03:04, 103.25it/s]"
     ]
    },
    {
     "name": "stderr",
     "output_type": "stream",
     "text": [
      "\r",
      " 24%|█████████████████████▏                                                                 | 6001/24591 [01:18<03:15, 95.08it/s]"
     ]
    },
    {
     "name": "stderr",
     "output_type": "stream",
     "text": [
      "\r",
      " 26%|██████████████████████▋                                                               | 6501/24591 [01:22<02:52, 104.80it/s]"
     ]
    },
    {
     "name": "stderr",
     "output_type": "stream",
     "text": [
      "\r",
      " 28%|████████████████████████▍                                                             | 7001/24591 [01:27<02:52, 102.03it/s]"
     ]
    },
    {
     "name": "stderr",
     "output_type": "stream",
     "text": [
      "\r",
      " 31%|██████████████████████████▌                                                            | 7501/24591 [01:33<02:59, 95.19it/s]"
     ]
    },
    {
     "name": "stderr",
     "output_type": "stream",
     "text": [
      "\r",
      " 33%|███████████████████████████▉                                                          | 8001/24591 [01:37<02:40, 103.19it/s]"
     ]
    },
    {
     "name": "stderr",
     "output_type": "stream",
     "text": [
      "\r",
      " 35%|█████████████████████████████▋                                                        | 8501/24591 [01:41<02:32, 105.67it/s]"
     ]
    },
    {
     "name": "stderr",
     "output_type": "stream",
     "text": [
      "\r",
      " 37%|███████████████████████████████▍                                                      | 9001/24591 [01:46<02:25, 107.39it/s]"
     ]
    },
    {
     "name": "stderr",
     "output_type": "stream",
     "text": [
      "\r",
      " 39%|█████████████████████████████████▏                                                    | 9501/24591 [01:50<02:17, 109.75it/s]"
     ]
    },
    {
     "name": "stderr",
     "output_type": "stream",
     "text": [
      "\r",
      " 41%|██████████████████████████████████▌                                                  | 10001/24591 [01:55<02:17, 106.11it/s]"
     ]
    },
    {
     "name": "stderr",
     "output_type": "stream",
     "text": [
      "\r",
      " 43%|████████████████████████████████████▎                                                | 10501/24591 [02:00<02:09, 108.97it/s]"
     ]
    },
    {
     "name": "stderr",
     "output_type": "stream",
     "text": [
      "\r",
      " 45%|██████████████████████████████████████                                               | 11001/24591 [02:05<02:08, 105.52it/s]"
     ]
    },
    {
     "name": "stderr",
     "output_type": "stream",
     "text": [
      "\r",
      " 47%|███████████████████████████████████████▊                                             | 11501/24591 [02:09<01:59, 109.18it/s]"
     ]
    },
    {
     "name": "stderr",
     "output_type": "stream",
     "text": [
      "\r",
      " 49%|█████████████████████████████████████████▍                                           | 12001/24591 [02:14<01:56, 107.80it/s]"
     ]
    },
    {
     "name": "stderr",
     "output_type": "stream",
     "text": [
      "\r",
      " 51%|███████████████████████████████████████████▏                                         | 12501/24591 [02:19<01:54, 105.57it/s]"
     ]
    },
    {
     "name": "stderr",
     "output_type": "stream",
     "text": [
      "\r",
      " 53%|████████████████████████████████████████████▉                                        | 13001/24591 [02:23<01:45, 110.02it/s]"
     ]
    },
    {
     "name": "stderr",
     "output_type": "stream",
     "text": [
      "\r",
      " 55%|██████████████████████████████████████████████▋                                      | 13501/24591 [02:28<01:46, 104.39it/s]"
     ]
    },
    {
     "name": "stderr",
     "output_type": "stream",
     "text": [
      "\r",
      " 57%|████████████████████████████████████████████████▍                                    | 14001/24591 [02:33<01:43, 102.48it/s]"
     ]
    },
    {
     "name": "stderr",
     "output_type": "stream",
     "text": [
      "\r",
      " 59%|██████████████████████████████████████████████████                                   | 14501/24591 [02:38<01:35, 105.58it/s]"
     ]
    },
    {
     "name": "stderr",
     "output_type": "stream",
     "text": [
      "\r",
      " 61%|███████████████████████████████████████████████████▊                                 | 15001/24591 [02:43<01:32, 103.36it/s]"
     ]
    },
    {
     "name": "stderr",
     "output_type": "stream",
     "text": [
      "\r",
      " 63%|█████████████████████████████████████████████████████▌                               | 15501/24591 [02:47<01:24, 108.11it/s]"
     ]
    },
    {
     "name": "stderr",
     "output_type": "stream",
     "text": [
      "\r",
      " 65%|███████████████████████████████████████████████████████▎                             | 16001/24591 [02:52<01:24, 101.22it/s]"
     ]
    },
    {
     "name": "stderr",
     "output_type": "stream",
     "text": [
      "\r",
      " 67%|█████████████████████████████████████████████████████████                            | 16501/24591 [02:57<01:15, 106.52it/s]"
     ]
    },
    {
     "name": "stderr",
     "output_type": "stream",
     "text": [
      "\r",
      " 69%|██████████████████████████████████████████████████████████▊                          | 17001/24591 [03:01<01:08, 110.08it/s]"
     ]
    },
    {
     "name": "stderr",
     "output_type": "stream",
     "text": [
      "\r",
      " 71%|█████████████████████████████████████████████████████████████▏                        | 17501/24591 [03:11<01:28, 80.46it/s]"
     ]
    },
    {
     "name": "stderr",
     "output_type": "stream",
     "text": [
      "\r",
      " 73%|██████████████████████████████████████████████████████████████▏                      | 18001/24591 [03:11<00:57, 113.65it/s]"
     ]
    },
    {
     "name": "stderr",
     "output_type": "stream",
     "text": [
      "\r",
      " 75%|███████████████████████████████████████████████████████████████▉                     | 18501/24591 [03:16<00:55, 110.50it/s]"
     ]
    },
    {
     "name": "stderr",
     "output_type": "stream",
     "text": [
      "\r",
      " 77%|█████████████████████████████████████████████████████████████████▋                   | 19001/24591 [03:21<00:51, 108.51it/s]"
     ]
    },
    {
     "name": "stderr",
     "output_type": "stream",
     "text": [
      "\r",
      " 79%|███████████████████████████████████████████████████████████████████▍                 | 19501/24591 [03:26<00:47, 106.65it/s]"
     ]
    },
    {
     "name": "stderr",
     "output_type": "stream",
     "text": [
      "\r",
      " 81%|█████████████████████████████████████████████████████████████████████▏               | 20001/24591 [03:31<00:45, 101.47it/s]"
     ]
    },
    {
     "name": "stderr",
     "output_type": "stream",
     "text": [
      "\r",
      " 83%|██████████████████████████████████████████████████████████████████████▊              | 20501/24591 [03:35<00:38, 106.87it/s]"
     ]
    },
    {
     "name": "stderr",
     "output_type": "stream",
     "text": [
      "\r",
      " 85%|████████████████████████████████████████████████████████████████████████▌            | 21001/24591 [03:40<00:34, 104.31it/s]"
     ]
    },
    {
     "name": "stderr",
     "output_type": "stream",
     "text": [
      "\r",
      " 87%|███████████████████████████████████████████████████████████████████████████▏          | 21501/24591 [03:46<00:31, 98.78it/s]"
     ]
    },
    {
     "name": "stderr",
     "output_type": "stream",
     "text": [
      "\r",
      " 89%|████████████████████████████████████████████████████████████████████████████         | 22001/24591 [03:49<00:23, 109.53it/s]"
     ]
    },
    {
     "name": "stderr",
     "output_type": "stream",
     "text": [
      "\r",
      " 92%|█████████████████████████████████████████████████████████████████████████████▊       | 22501/24591 [03:54<00:19, 105.31it/s]"
     ]
    },
    {
     "name": "stderr",
     "output_type": "stream",
     "text": [
      "\r",
      " 94%|████████████████████████████████████████████████████████████████████████████████▍     | 23001/24591 [04:00<00:16, 99.03it/s]"
     ]
    },
    {
     "name": "stderr",
     "output_type": "stream",
     "text": [
      "\r",
      " 96%|█████████████████████████████████████████████████████████████████████████████████▏   | 23501/24591 [04:03<00:09, 111.37it/s]"
     ]
    },
    {
     "name": "stderr",
     "output_type": "stream",
     "text": [
      "\r",
      " 98%|██████████████████████████████████████████████████████████████████████████████████▉  | 24001/24591 [04:09<00:05, 106.60it/s]"
     ]
    },
    {
     "name": "stderr",
     "output_type": "stream",
     "text": [
      "\r",
      "100%|██████████████████████████████████████████████████████████████████████████████████████| 24591/24591 [04:09<00:00, 98.75it/s]"
     ]
    },
    {
     "name": "stderr",
     "output_type": "stream",
     "text": [
      "\n"
     ]
    },
    {
     "name": "stderr",
     "output_type": "stream",
     "text": [
      "\r",
      "  0%|                                                                                                  | 0/24591 [00:00<?, ?it/s]"
     ]
    },
    {
     "name": "stderr",
     "output_type": "stream",
     "text": [
      "\r",
      "  0%|                                                                                | 1/24591 [1:30:19<37017:56:31, 5419.46s/it]"
     ]
    },
    {
     "name": "stderr",
     "output_type": "stream",
     "text": [
      "\r",
      "  2%|█▋                                                                                 | 501/24591 [1:30:27<50:48:26,  7.59s/it]"
     ]
    },
    {
     "name": "stderr",
     "output_type": "stream",
     "text": [
      "\r",
      "  2%|█▋                                                                                 | 501/24591 [1:30:38<50:48:26,  7.59s/it]"
     ]
    },
    {
     "name": "stderr",
     "output_type": "stream",
     "text": [
      "\r",
      " 41%|█████████████████████████████████▎                                                | 10001/24591 [2:51:07<3:05:10,  1.31it/s]"
     ]
    },
    {
     "name": "stderr",
     "output_type": "stream",
     "text": [
      "\r",
      " 43%|███████████████████████████████████                                               | 10501/24591 [2:54:49<2:53:47,  1.35it/s]"
     ]
    },
    {
     "name": "stderr",
     "output_type": "stream",
     "text": [
      "\r",
      " 47%|██████████████████████████████████████▎                                           | 11501/24591 [2:56:47<2:19:28,  1.56it/s]"
     ]
    },
    {
     "name": "stderr",
     "output_type": "stream",
     "text": [
      "\r",
      " 81%|████████████████████████████████████████████████████████████████████▎               | 20001/24591 [4:02:39<40:04,  1.91it/s]"
     ]
    },
    {
     "name": "stderr",
     "output_type": "stream",
     "text": [
      "\r",
      " 83%|██████████████████████████████████████████████████████████████████████              | 20501/24591 [4:04:00<34:23,  1.98it/s]"
     ]
    },
    {
     "name": "stderr",
     "output_type": "stream",
     "text": [
      "\r",
      "100%|████████████████████████████████████████████████████████████████████████████████████| 24591/24591 [4:04:00<00:00,  1.68it/s]"
     ]
    },
    {
     "name": "stderr",
     "output_type": "stream",
     "text": [
      "\n"
     ]
    },
    {
     "name": "stderr",
     "output_type": "stream",
     "text": [
      "\r",
      "  0%|                                                                                                  | 0/24591 [00:00<?, ?it/s]"
     ]
    },
    {
     "name": "stderr",
     "output_type": "stream",
     "text": [
      "\r",
      "  0%|                                                                                      | 1/24591 [00:31<216:49:42, 31.74s/it]"
     ]
    },
    {
     "name": "stderr",
     "output_type": "stream",
     "text": [
      "\r",
      "  6%|█████▎                                                                                 | 1501/24591 [00:32<05:47, 66.54it/s]"
     ]
    },
    {
     "name": "stderr",
     "output_type": "stream",
     "text": [
      "\r",
      " 14%|████████████▏                                                                         | 3501/24591 [00:32<01:54, 184.75it/s]"
     ]
    },
    {
     "name": "stderr",
     "output_type": "stream",
     "text": [
      "\r",
      " 26%|██████████████████████▋                                                               | 6501/24591 [00:33<00:42, 424.34it/s]"
     ]
    },
    {
     "name": "stderr",
     "output_type": "stream",
     "text": [
      "\r",
      " 26%|██████████████████████▋                                                               | 6501/24591 [00:46<00:42, 424.34it/s]"
     ]
    },
    {
     "name": "stderr",
     "output_type": "stream",
     "text": [
      "\r",
      " 41%|██████████████████████████████████▌                                                  | 10001/24591 [01:01<01:15, 194.49it/s]"
     ]
    },
    {
     "name": "stderr",
     "output_type": "stream",
     "text": [
      "\r",
      " 45%|██████████████████████████████████████                                               | 11001/24591 [01:01<00:58, 230.40it/s]"
     ]
    },
    {
     "name": "stderr",
     "output_type": "stream",
     "text": [
      "\r",
      " 51%|███████████████████████████████████████████▏                                         | 12501/24591 [01:02<00:39, 306.97it/s]"
     ]
    },
    {
     "name": "stderr",
     "output_type": "stream",
     "text": [
      "\r",
      " 55%|██████████████████████████████████████████████▋                                      | 13501/24591 [01:02<00:29, 379.27it/s]"
     ]
    },
    {
     "name": "stderr",
     "output_type": "stream",
     "text": [
      "\r",
      " 59%|██████████████████████████████████████████████████                                   | 14501/24591 [01:02<00:20, 482.72it/s]"
     ]
    },
    {
     "name": "stderr",
     "output_type": "stream",
     "text": [
      "\r",
      " 61%|████████████████████████████████████████████████████▎                                | 15122/24591 [01:02<00:16, 565.45it/s]"
     ]
    },
    {
     "name": "stderr",
     "output_type": "stream",
     "text": [
      "\r",
      " 69%|██████████████████████████████████████████████████████████▊                          | 17001/24591 [01:02<00:08, 945.53it/s]"
     ]
    },
    {
     "name": "stderr",
     "output_type": "stream",
     "text": [
      "\r",
      " 77%|████████████████████████████████████████████████████████████████▉                   | 19001/24591 [01:03<00:04, 1363.42it/s]"
     ]
    },
    {
     "name": "stderr",
     "output_type": "stream",
     "text": [
      "\r",
      " 80%|███████████████████████████████████████████████████████████████████▍                | 19752/24591 [01:03<00:03, 1438.03it/s]"
     ]
    },
    {
     "name": "stderr",
     "output_type": "stream",
     "text": [
      "\r",
      " 80%|███████████████████████████████████████████████████████████████████▍                | 19752/24591 [01:16<00:03, 1438.03it/s]"
     ]
    },
    {
     "name": "stderr",
     "output_type": "stream",
     "text": [
      "\r",
      " 81%|█████████████████████████████████████████████████████████████████████▏               | 20001/24591 [01:33<00:44, 103.83it/s]"
     ]
    },
    {
     "name": "stderr",
     "output_type": "stream",
     "text": [
      "\r",
      " 83%|██████████████████████████████████████████████████████████████████████▊              | 20501/24591 [01:33<00:33, 123.05it/s]"
     ]
    },
    {
     "name": "stderr",
     "output_type": "stream",
     "text": [
      "\r",
      "100%|█████████████████████████████████████████████████████████████████████████████████████| 24591/24591 [01:33<00:00, 262.41it/s]"
     ]
    },
    {
     "name": "stderr",
     "output_type": "stream",
     "text": [
      "\n"
     ]
    }
   ],
   "source": [
    "drbart_model_A = DRBART(parser_dir = '../../../models/'+model_name+'/concept-name/',\n",
    "                     strict_parser=True)\n",
    "evaluator_A = conduct_evaluation.ConductEvaluation(drbart_model_A, SampleOutcomes_DRBART_Normal_A, {\n",
    "                                                        'activity_key' : 'concept:name',\n",
    "                                                        'resource_key' : 'org:resource_start',\n",
    "                                                    },\n",
    "                                     test_event_log, n=N, n_processes=n_processes)\n",
    "likelihoods_A = evaluator_A.sample_cases(False, True)"
   ]
  },
  {
   "cell_type": "code",
   "execution_count": 5,
   "id": "f2d16c44-6feb-4bb8-bb9c-8c57aa84951e",
   "metadata": {
    "execution": {
     "iopub.execute_input": "2024-11-22T12:49:23.875693Z",
     "iopub.status.busy": "2024-11-22T12:49:23.874962Z",
     "iopub.status.idle": "2024-11-22T12:49:24.524244Z",
     "shell.execute_reply": "2024-11-22T12:49:24.522219Z"
    }
   },
   "outputs": [
    {
     "data": {
      "text/plain": [
       "Decimal('-70.71465727982486822561914025')"
      ]
     },
     "execution_count": 5,
     "metadata": {},
     "output_type": "execute_result"
    }
   ],
   "source": [
    "np.mean([v.ln() for v in likelihoods_A[0].values()])"
   ]
  },
  {
   "cell_type": "code",
   "execution_count": 6,
   "id": "831debb8-db1e-4739-96a4-af9909b1e3d0",
   "metadata": {
    "execution": {
     "iopub.execute_input": "2024-11-22T12:49:24.529694Z",
     "iopub.status.busy": "2024-11-22T12:49:24.529480Z",
     "iopub.status.idle": "2024-11-22T12:49:41.801281Z",
     "shell.execute_reply": "2024-11-22T12:49:41.799501Z"
    }
   },
   "outputs": [
    {
     "data": {
      "text/plain": [
       "np.float64(2.4625205785110657e+64)"
      ]
     },
     "execution_count": 6,
     "metadata": {},
     "output_type": "execute_result"
    }
   ],
   "source": [
    "np.mean(get_pscores(likelihoods_A))"
   ]
  },
  {
   "cell_type": "code",
   "execution_count": 7,
   "id": "15dfd50d-caaf-4d1b-86b7-9c128ee41681",
   "metadata": {
    "execution": {
     "iopub.execute_input": "2024-11-22T12:49:41.806685Z",
     "iopub.status.busy": "2024-11-22T12:49:41.806480Z",
     "iopub.status.idle": "2024-11-22T12:49:42.231452Z",
     "shell.execute_reply": "2024-11-22T12:49:42.230143Z"
    }
   },
   "outputs": [
    {
     "ename": "FileNotFoundError",
     "evalue": "[Errno 2] No such file or directory: '../../../models/bpic_2017_all/concept-name_resource/ucuts.json'",
     "output_type": "error",
     "traceback": [
      "\u001b[0;31m---------------------------------------------------------------------------\u001b[0m",
      "\u001b[0;31mFileNotFoundError\u001b[0m                         Traceback (most recent call last)",
      "Cell \u001b[0;32mIn[7], line 1\u001b[0m\n\u001b[0;32m----> 1\u001b[0m drbart_model_R_A \u001b[38;5;241m=\u001b[39m \u001b[43mDRBART\u001b[49m\u001b[43m(\u001b[49m\u001b[43mparser_dir\u001b[49m\u001b[43m \u001b[49m\u001b[38;5;241;43m=\u001b[39;49m\u001b[43m \u001b[49m\u001b[38;5;124;43m'\u001b[39;49m\u001b[38;5;124;43m../../../models/\u001b[39;49m\u001b[38;5;124;43m'\u001b[39;49m\u001b[38;5;241;43m+\u001b[39;49m\u001b[43mmodel_name\u001b[49m\u001b[38;5;241;43m+\u001b[39;49m\u001b[38;5;124;43m'\u001b[39;49m\u001b[38;5;124;43m/concept-name_resource/\u001b[39;49m\u001b[38;5;124;43m'\u001b[39;49m\u001b[43m,\u001b[49m\n\u001b[1;32m      2\u001b[0m \u001b[43m                     \u001b[49m\u001b[43mstrict_parser\u001b[49m\u001b[38;5;241;43m=\u001b[39;49m\u001b[38;5;28;43;01mFalse\u001b[39;49;00m\u001b[43m)\u001b[49m\n\u001b[1;32m      3\u001b[0m evaluator_R_A \u001b[38;5;241m=\u001b[39m conduct_evaluation\u001b[38;5;241m.\u001b[39mConductEvaluation(drbart_model_R_A, SampleOutcomes_DRBART_Normal_R_A,\n\u001b[1;32m      4\u001b[0m                                                    {\n\u001b[1;32m      5\u001b[0m                                                         \u001b[38;5;124m'\u001b[39m\u001b[38;5;124mactivity_key\u001b[39m\u001b[38;5;124m'\u001b[39m : \u001b[38;5;124m'\u001b[39m\u001b[38;5;124mconcept:name\u001b[39m\u001b[38;5;124m'\u001b[39m,\n\u001b[1;32m      6\u001b[0m                                                         \u001b[38;5;124m'\u001b[39m\u001b[38;5;124mresource_key\u001b[39m\u001b[38;5;124m'\u001b[39m : \u001b[38;5;124m'\u001b[39m\u001b[38;5;124morg:resource_start\u001b[39m\u001b[38;5;124m'\u001b[39m,\n\u001b[1;32m      7\u001b[0m                                                     },\n\u001b[1;32m      8\u001b[0m                                      test_event_log, n\u001b[38;5;241m=\u001b[39mN, n_processes\u001b[38;5;241m=\u001b[39mn_processes)\n\u001b[1;32m      9\u001b[0m likelihoods_R_A \u001b[38;5;241m=\u001b[39m evaluator_R_A\u001b[38;5;241m.\u001b[39msample_cases(\u001b[38;5;28;01mFalse\u001b[39;00m, \u001b[38;5;28;01mTrue\u001b[39;00m)\n",
      "File \u001b[0;32m~/Projects/TaskExecutionTimeMining/src/notebooks/BPIC_2017/../../TaskExecutionTimeMining/drbart_parser.py:218\u001b[0m, in \u001b[0;36mDRBART.__init__\u001b[0;34m(self, parser, parser_dir, strict_parser)\u001b[0m\n\u001b[1;32m    214\u001b[0m \u001b[38;5;28;01mdef\u001b[39;00m \u001b[38;5;21m__init__\u001b[39m(\u001b[38;5;28mself\u001b[39m, parser : Parser \u001b[38;5;241m=\u001b[39m \u001b[38;5;28;01mNone\u001b[39;00m,\n\u001b[1;32m    215\u001b[0m              parser_dir : \u001b[38;5;28mstr\u001b[39m \u001b[38;5;241m=\u001b[39m \u001b[38;5;124m'\u001b[39m\u001b[38;5;124m'\u001b[39m,\n\u001b[1;32m    216\u001b[0m              strict_parser \u001b[38;5;241m=\u001b[39m \u001b[38;5;28;01mTrue\u001b[39;00m):\n\u001b[1;32m    217\u001b[0m     \u001b[38;5;28;01mif\u001b[39;00m \u001b[38;5;129;01mnot\u001b[39;00m parser:\n\u001b[0;32m--> 218\u001b[0m         \u001b[38;5;28mself\u001b[39m\u001b[38;5;241m.\u001b[39mparser \u001b[38;5;241m=\u001b[39m \u001b[43mParser\u001b[49m\u001b[43m(\u001b[49m\u001b[43mparser_dir\u001b[49m\u001b[43m,\u001b[49m\u001b[43m \u001b[49m\u001b[43mstrict_parser\u001b[49m\u001b[43m)\u001b[49m\n\u001b[1;32m    219\u001b[0m     \u001b[38;5;28mself\u001b[39m\u001b[38;5;241m.\u001b[39mmean_cut_variables, \u001b[38;5;28mself\u001b[39m\u001b[38;5;241m.\u001b[39mmean_trees \u001b[38;5;241m=\u001b[39m \u001b[38;5;28mself\u001b[39m\u001b[38;5;241m.\u001b[39mparser\u001b[38;5;241m.\u001b[39mparse_mean()\n\u001b[1;32m    220\u001b[0m     \u001b[38;5;28mself\u001b[39m\u001b[38;5;241m.\u001b[39mprec_cut_variables, \u001b[38;5;28mself\u001b[39m\u001b[38;5;241m.\u001b[39mprec_trees \u001b[38;5;241m=\u001b[39m \u001b[38;5;28mself\u001b[39m\u001b[38;5;241m.\u001b[39mparser\u001b[38;5;241m.\u001b[39mparse_prec()\n",
      "File \u001b[0;32m~/Projects/TaskExecutionTimeMining/src/notebooks/BPIC_2017/../../TaskExecutionTimeMining/drbart_parser.py:11\u001b[0m, in \u001b[0;36mParser.__init__\u001b[0;34m(self, dir, strict)\u001b[0m\n\u001b[1;32m      9\u001b[0m \u001b[38;5;28mself\u001b[39m\u001b[38;5;241m.\u001b[39mf_dr_bart_mean \u001b[38;5;241m=\u001b[39m \u001b[38;5;28mopen\u001b[39m(\u001b[38;5;28mdir\u001b[39m \u001b[38;5;241m+\u001b[39m \u001b[38;5;124m'\u001b[39m\u001b[38;5;124mdr_bart_mean.txt\u001b[39m\u001b[38;5;124m'\u001b[39m)\n\u001b[1;32m     10\u001b[0m \u001b[38;5;28mself\u001b[39m\u001b[38;5;241m.\u001b[39mf_dr_bart_prec \u001b[38;5;241m=\u001b[39m \u001b[38;5;28mopen\u001b[39m(\u001b[38;5;28mdir\u001b[39m \u001b[38;5;241m+\u001b[39m \u001b[38;5;124m'\u001b[39m\u001b[38;5;124mdr_bart_prec.txt\u001b[39m\u001b[38;5;124m'\u001b[39m)\n\u001b[0;32m---> 11\u001b[0m \u001b[38;5;28mself\u001b[39m\u001b[38;5;241m.\u001b[39mucut_file \u001b[38;5;241m=\u001b[39m \u001b[38;5;28;43mopen\u001b[39;49m\u001b[43m(\u001b[49m\u001b[38;5;28;43mdir\u001b[39;49m\u001b[43m \u001b[49m\u001b[38;5;241;43m+\u001b[39;49m\u001b[43m \u001b[49m\u001b[38;5;124;43m'\u001b[39;49m\u001b[38;5;124;43mucuts.json\u001b[39;49m\u001b[38;5;124;43m'\u001b[39;49m\u001b[43m)\u001b[49m\n\u001b[1;32m     12\u001b[0m \u001b[38;5;28mself\u001b[39m\u001b[38;5;241m.\u001b[39mphistar_file \u001b[38;5;241m=\u001b[39m \u001b[38;5;28mopen\u001b[39m(\u001b[38;5;28mdir\u001b[39m \u001b[38;5;241m+\u001b[39m \u001b[38;5;124m'\u001b[39m\u001b[38;5;124mphistar.json\u001b[39m\u001b[38;5;124m'\u001b[39m)\n\u001b[1;32m     13\u001b[0m \u001b[38;5;28mself\u001b[39m\u001b[38;5;241m.\u001b[39mencoding_file \u001b[38;5;241m=\u001b[39m \u001b[38;5;28mopen\u001b[39m(\u001b[38;5;28mdir\u001b[39m \u001b[38;5;241m+\u001b[39m \u001b[38;5;124m'\u001b[39m\u001b[38;5;124mencoding.json\u001b[39m\u001b[38;5;124m'\u001b[39m)\n",
      "\u001b[0;31mFileNotFoundError\u001b[0m: [Errno 2] No such file or directory: '../../../models/bpic_2017_all/concept-name_resource/ucuts.json'"
     ]
    }
   ],
   "source": [
    "drbart_model_R_A = DRBART(parser_dir = '../../../models/'+model_name+'/concept-name_resource/',\n",
    "                     strict_parser=False)\n",
    "evaluator_R_A = conduct_evaluation.ConductEvaluation(drbart_model_R_A, SampleOutcomes_DRBART_Normal_R_A,\n",
    "                                                   {\n",
    "                                                        'activity_key' : 'concept:name',\n",
    "                                                        'resource_key' : 'org:resource_start',\n",
    "                                                    },\n",
    "                                     test_event_log, n=N, n_processes=n_processes)\n",
    "likelihoods_R_A = evaluator_R_A.sample_cases(False, True)"
   ]
  },
  {
   "cell_type": "code",
   "execution_count": 8,
   "id": "d7932c1b-dc40-4697-8098-4d3f8499d46d",
   "metadata": {
    "execution": {
     "iopub.execute_input": "2024-11-22T12:49:42.237174Z",
     "iopub.status.busy": "2024-11-22T12:49:42.236918Z",
     "iopub.status.idle": "2024-11-22T12:49:42.262042Z",
     "shell.execute_reply": "2024-11-22T12:49:42.260834Z"
    }
   },
   "outputs": [
    {
     "ename": "TypeError",
     "evalue": "'NoneType' object is not subscriptable",
     "output_type": "error",
     "traceback": [
      "\u001b[0;31m---------------------------------------------------------------------------\u001b[0m",
      "\u001b[0;31mTypeError\u001b[0m                                 Traceback (most recent call last)",
      "Cell \u001b[0;32mIn[8], line 1\u001b[0m\n\u001b[0;32m----> 1\u001b[0m np\u001b[38;5;241m.\u001b[39mmean([v\u001b[38;5;241m.\u001b[39mln() \u001b[38;5;28;01mfor\u001b[39;00m v \u001b[38;5;129;01min\u001b[39;00m \u001b[43mlikelihoods_R_A\u001b[49m\u001b[43m[\u001b[49m\u001b[38;5;241;43m0\u001b[39;49m\u001b[43m]\u001b[49m\u001b[38;5;241m.\u001b[39mvalues()])\n",
      "\u001b[0;31mTypeError\u001b[0m: 'NoneType' object is not subscriptable"
     ]
    }
   ],
   "source": [
    "np.mean([v.ln() for v in likelihoods_R_A[0].values()])"
   ]
  },
  {
   "cell_type": "code",
   "execution_count": 9,
   "id": "e7573911-d4d1-434c-91e4-bb1d451fc42c",
   "metadata": {
    "execution": {
     "iopub.execute_input": "2024-11-22T12:49:42.267064Z",
     "iopub.status.busy": "2024-11-22T12:49:42.266869Z",
     "iopub.status.idle": "2024-11-22T12:49:42.301778Z",
     "shell.execute_reply": "2024-11-22T12:49:42.299776Z"
    }
   },
   "outputs": [
    {
     "ename": "TypeError",
     "evalue": "'NoneType' object is not subscriptable",
     "output_type": "error",
     "traceback": [
      "\u001b[0;31m---------------------------------------------------------------------------\u001b[0m",
      "\u001b[0;31mTypeError\u001b[0m                                 Traceback (most recent call last)",
      "Cell \u001b[0;32mIn[9], line 1\u001b[0m\n\u001b[0;32m----> 1\u001b[0m np\u001b[38;5;241m.\u001b[39mmean(\u001b[43mget_pscores\u001b[49m\u001b[43m(\u001b[49m\u001b[43mlikelihoods_R_A\u001b[49m\u001b[43m)\u001b[49m)\n",
      "Cell \u001b[0;32mIn[3], line 5\u001b[0m, in \u001b[0;36m<lambda>\u001b[0;34m(likelihoods)\u001b[0m\n\u001b[1;32m      2\u001b[0m n_processes \u001b[38;5;241m=\u001b[39m \u001b[38;5;241m20\u001b[39m\n\u001b[1;32m      4\u001b[0m \u001b[38;5;28;01mimport\u001b[39;00m \u001b[38;5;21;01mconduct_evaluation\u001b[39;00m\n\u001b[0;32m----> 5\u001b[0m get_pscores \u001b[38;5;241m=\u001b[39m \u001b[38;5;28;01mlambda\u001b[39;00m likelihoods : [pscore(likelihoods[\u001b[38;5;241m1\u001b[39m][i], likelihoods[\u001b[38;5;241m2\u001b[39m][k][\u001b[38;5;241m3\u001b[39m])\u001b[38;5;241m.\u001b[39mcompute()[\u001b[38;5;241m0\u001b[39m] \u001b[38;5;28;01mfor\u001b[39;00m i, k \u001b[38;5;129;01min\u001b[39;00m \u001b[38;5;28menumerate\u001b[39m(\u001b[38;5;28mlist\u001b[39m(\u001b[43mlikelihoods\u001b[49m\u001b[43m[\u001b[49m\u001b[38;5;241;43m0\u001b[39;49m\u001b[43m]\u001b[49m\u001b[38;5;241m.\u001b[39mkeys()))]\n\u001b[1;32m      7\u001b[0m likelihoods_A \u001b[38;5;241m=\u001b[39m \u001b[38;5;28;01mNone\u001b[39;00m\n\u001b[1;32m      8\u001b[0m likelihoods_R \u001b[38;5;241m=\u001b[39m \u001b[38;5;28;01mNone\u001b[39;00m\n",
      "\u001b[0;31mTypeError\u001b[0m: 'NoneType' object is not subscriptable"
     ]
    }
   ],
   "source": [
    "np.mean(get_pscores(likelihoods_R_A))"
   ]
  },
  {
   "cell_type": "code",
   "execution_count": 10,
   "id": "50beeceb-33bc-41ed-8f40-9a84e46e7b59",
   "metadata": {
    "execution": {
     "iopub.execute_input": "2024-11-22T12:49:42.307002Z",
     "iopub.status.busy": "2024-11-22T12:49:42.306795Z",
     "iopub.status.idle": "2024-11-22T12:49:42.343695Z",
     "shell.execute_reply": "2024-11-22T12:49:42.341642Z"
    }
   },
   "outputs": [
    {
     "ename": "FileNotFoundError",
     "evalue": "[Errno 2] No such file or directory: '../../../models/bpic_2017_all/resource/ucuts.json'",
     "output_type": "error",
     "traceback": [
      "\u001b[0;31m---------------------------------------------------------------------------\u001b[0m",
      "\u001b[0;31mFileNotFoundError\u001b[0m                         Traceback (most recent call last)",
      "Cell \u001b[0;32mIn[10], line 1\u001b[0m\n\u001b[0;32m----> 1\u001b[0m drbart_model_R \u001b[38;5;241m=\u001b[39m \u001b[43mDRBART\u001b[49m\u001b[43m(\u001b[49m\u001b[43mparser_dir\u001b[49m\u001b[43m \u001b[49m\u001b[38;5;241;43m=\u001b[39;49m\u001b[43m \u001b[49m\u001b[38;5;124;43m'\u001b[39;49m\u001b[38;5;124;43m../../../models/\u001b[39;49m\u001b[38;5;124;43m'\u001b[39;49m\u001b[38;5;241;43m+\u001b[39;49m\u001b[43mmodel_name\u001b[49m\u001b[38;5;241;43m+\u001b[39;49m\u001b[38;5;124;43m'\u001b[39;49m\u001b[38;5;124;43m/resource/\u001b[39;49m\u001b[38;5;124;43m'\u001b[39;49m\u001b[43m,\u001b[49m\n\u001b[1;32m      2\u001b[0m \u001b[43m                     \u001b[49m\u001b[43mstrict_parser\u001b[49m\u001b[38;5;241;43m=\u001b[39;49m\u001b[38;5;28;43;01mFalse\u001b[39;49;00m\u001b[43m)\u001b[49m\n\u001b[1;32m      3\u001b[0m evaluator_R \u001b[38;5;241m=\u001b[39m conduct_evaluation\u001b[38;5;241m.\u001b[39mConductEvaluation(drbart_model_R, SampleOutcomes_DRBART_Normal_R,\n\u001b[1;32m      4\u001b[0m                                                    {\n\u001b[1;32m      5\u001b[0m                                                         \u001b[38;5;124m'\u001b[39m\u001b[38;5;124mactivity_key\u001b[39m\u001b[38;5;124m'\u001b[39m : \u001b[38;5;124m'\u001b[39m\u001b[38;5;124mconcept:name\u001b[39m\u001b[38;5;124m'\u001b[39m,\n\u001b[1;32m      6\u001b[0m                                                         \u001b[38;5;124m'\u001b[39m\u001b[38;5;124mresource_key\u001b[39m\u001b[38;5;124m'\u001b[39m : \u001b[38;5;124m'\u001b[39m\u001b[38;5;124morg:resource_start\u001b[39m\u001b[38;5;124m'\u001b[39m,\n\u001b[1;32m      7\u001b[0m                                                     },\n\u001b[1;32m      8\u001b[0m                                      test_event_log, n\u001b[38;5;241m=\u001b[39mN, n_processes\u001b[38;5;241m=\u001b[39mn_processes)\n\u001b[1;32m      9\u001b[0m likelihoods_R \u001b[38;5;241m=\u001b[39m evaluator_R\u001b[38;5;241m.\u001b[39msample_cases(\u001b[38;5;28;01mFalse\u001b[39;00m, \u001b[38;5;28;01mTrue\u001b[39;00m)\n",
      "File \u001b[0;32m~/Projects/TaskExecutionTimeMining/src/notebooks/BPIC_2017/../../TaskExecutionTimeMining/drbart_parser.py:218\u001b[0m, in \u001b[0;36mDRBART.__init__\u001b[0;34m(self, parser, parser_dir, strict_parser)\u001b[0m\n\u001b[1;32m    214\u001b[0m \u001b[38;5;28;01mdef\u001b[39;00m \u001b[38;5;21m__init__\u001b[39m(\u001b[38;5;28mself\u001b[39m, parser : Parser \u001b[38;5;241m=\u001b[39m \u001b[38;5;28;01mNone\u001b[39;00m,\n\u001b[1;32m    215\u001b[0m              parser_dir : \u001b[38;5;28mstr\u001b[39m \u001b[38;5;241m=\u001b[39m \u001b[38;5;124m'\u001b[39m\u001b[38;5;124m'\u001b[39m,\n\u001b[1;32m    216\u001b[0m              strict_parser \u001b[38;5;241m=\u001b[39m \u001b[38;5;28;01mTrue\u001b[39;00m):\n\u001b[1;32m    217\u001b[0m     \u001b[38;5;28;01mif\u001b[39;00m \u001b[38;5;129;01mnot\u001b[39;00m parser:\n\u001b[0;32m--> 218\u001b[0m         \u001b[38;5;28mself\u001b[39m\u001b[38;5;241m.\u001b[39mparser \u001b[38;5;241m=\u001b[39m \u001b[43mParser\u001b[49m\u001b[43m(\u001b[49m\u001b[43mparser_dir\u001b[49m\u001b[43m,\u001b[49m\u001b[43m \u001b[49m\u001b[43mstrict_parser\u001b[49m\u001b[43m)\u001b[49m\n\u001b[1;32m    219\u001b[0m     \u001b[38;5;28mself\u001b[39m\u001b[38;5;241m.\u001b[39mmean_cut_variables, \u001b[38;5;28mself\u001b[39m\u001b[38;5;241m.\u001b[39mmean_trees \u001b[38;5;241m=\u001b[39m \u001b[38;5;28mself\u001b[39m\u001b[38;5;241m.\u001b[39mparser\u001b[38;5;241m.\u001b[39mparse_mean()\n\u001b[1;32m    220\u001b[0m     \u001b[38;5;28mself\u001b[39m\u001b[38;5;241m.\u001b[39mprec_cut_variables, \u001b[38;5;28mself\u001b[39m\u001b[38;5;241m.\u001b[39mprec_trees \u001b[38;5;241m=\u001b[39m \u001b[38;5;28mself\u001b[39m\u001b[38;5;241m.\u001b[39mparser\u001b[38;5;241m.\u001b[39mparse_prec()\n",
      "File \u001b[0;32m~/Projects/TaskExecutionTimeMining/src/notebooks/BPIC_2017/../../TaskExecutionTimeMining/drbart_parser.py:11\u001b[0m, in \u001b[0;36mParser.__init__\u001b[0;34m(self, dir, strict)\u001b[0m\n\u001b[1;32m      9\u001b[0m \u001b[38;5;28mself\u001b[39m\u001b[38;5;241m.\u001b[39mf_dr_bart_mean \u001b[38;5;241m=\u001b[39m \u001b[38;5;28mopen\u001b[39m(\u001b[38;5;28mdir\u001b[39m \u001b[38;5;241m+\u001b[39m \u001b[38;5;124m'\u001b[39m\u001b[38;5;124mdr_bart_mean.txt\u001b[39m\u001b[38;5;124m'\u001b[39m)\n\u001b[1;32m     10\u001b[0m \u001b[38;5;28mself\u001b[39m\u001b[38;5;241m.\u001b[39mf_dr_bart_prec \u001b[38;5;241m=\u001b[39m \u001b[38;5;28mopen\u001b[39m(\u001b[38;5;28mdir\u001b[39m \u001b[38;5;241m+\u001b[39m \u001b[38;5;124m'\u001b[39m\u001b[38;5;124mdr_bart_prec.txt\u001b[39m\u001b[38;5;124m'\u001b[39m)\n\u001b[0;32m---> 11\u001b[0m \u001b[38;5;28mself\u001b[39m\u001b[38;5;241m.\u001b[39mucut_file \u001b[38;5;241m=\u001b[39m \u001b[38;5;28;43mopen\u001b[39;49m\u001b[43m(\u001b[49m\u001b[38;5;28;43mdir\u001b[39;49m\u001b[43m \u001b[49m\u001b[38;5;241;43m+\u001b[39;49m\u001b[43m \u001b[49m\u001b[38;5;124;43m'\u001b[39;49m\u001b[38;5;124;43mucuts.json\u001b[39;49m\u001b[38;5;124;43m'\u001b[39;49m\u001b[43m)\u001b[49m\n\u001b[1;32m     12\u001b[0m \u001b[38;5;28mself\u001b[39m\u001b[38;5;241m.\u001b[39mphistar_file \u001b[38;5;241m=\u001b[39m \u001b[38;5;28mopen\u001b[39m(\u001b[38;5;28mdir\u001b[39m \u001b[38;5;241m+\u001b[39m \u001b[38;5;124m'\u001b[39m\u001b[38;5;124mphistar.json\u001b[39m\u001b[38;5;124m'\u001b[39m)\n\u001b[1;32m     13\u001b[0m \u001b[38;5;28mself\u001b[39m\u001b[38;5;241m.\u001b[39mencoding_file \u001b[38;5;241m=\u001b[39m \u001b[38;5;28mopen\u001b[39m(\u001b[38;5;28mdir\u001b[39m \u001b[38;5;241m+\u001b[39m \u001b[38;5;124m'\u001b[39m\u001b[38;5;124mencoding.json\u001b[39m\u001b[38;5;124m'\u001b[39m)\n",
      "\u001b[0;31mFileNotFoundError\u001b[0m: [Errno 2] No such file or directory: '../../../models/bpic_2017_all/resource/ucuts.json'"
     ]
    }
   ],
   "source": [
    "drbart_model_R = DRBART(parser_dir = '../../../models/'+model_name+'/resource/',\n",
    "                     strict_parser=False)\n",
    "evaluator_R = conduct_evaluation.ConductEvaluation(drbart_model_R, SampleOutcomes_DRBART_Normal_R,\n",
    "                                                   {\n",
    "                                                        'activity_key' : 'concept:name',\n",
    "                                                        'resource_key' : 'org:resource_start',\n",
    "                                                    },\n",
    "                                     test_event_log, n=N, n_processes=n_processes)\n",
    "likelihoods_R = evaluator_R.sample_cases(False, True)"
   ]
  },
  {
   "cell_type": "code",
   "execution_count": 11,
   "id": "7e461dc7-bc5d-4e78-971d-2d6c7ed18966",
   "metadata": {
    "execution": {
     "iopub.execute_input": "2024-11-22T12:49:42.349233Z",
     "iopub.status.busy": "2024-11-22T12:49:42.349037Z",
     "iopub.status.idle": "2024-11-22T12:49:42.373417Z",
     "shell.execute_reply": "2024-11-22T12:49:42.371507Z"
    }
   },
   "outputs": [
    {
     "ename": "TypeError",
     "evalue": "'NoneType' object is not subscriptable",
     "output_type": "error",
     "traceback": [
      "\u001b[0;31m---------------------------------------------------------------------------\u001b[0m",
      "\u001b[0;31mTypeError\u001b[0m                                 Traceback (most recent call last)",
      "Cell \u001b[0;32mIn[11], line 1\u001b[0m\n\u001b[0;32m----> 1\u001b[0m np\u001b[38;5;241m.\u001b[39mmean([v\u001b[38;5;241m.\u001b[39mln() \u001b[38;5;28;01mfor\u001b[39;00m v \u001b[38;5;129;01min\u001b[39;00m \u001b[43mlikelihoods_R\u001b[49m\u001b[43m[\u001b[49m\u001b[38;5;241;43m0\u001b[39;49m\u001b[43m]\u001b[49m\u001b[38;5;241m.\u001b[39mvalues()])\n",
      "\u001b[0;31mTypeError\u001b[0m: 'NoneType' object is not subscriptable"
     ]
    }
   ],
   "source": [
    "np.mean([v.ln() for v in likelihoods_R[0].values()])"
   ]
  },
  {
   "cell_type": "code",
   "execution_count": 12,
   "id": "9750f12c-75bc-4c03-9e4f-5cf48876f8d4",
   "metadata": {
    "execution": {
     "iopub.execute_input": "2024-11-22T12:49:42.378557Z",
     "iopub.status.busy": "2024-11-22T12:49:42.378368Z",
     "iopub.status.idle": "2024-11-22T12:49:42.409618Z",
     "shell.execute_reply": "2024-11-22T12:49:42.407569Z"
    }
   },
   "outputs": [
    {
     "ename": "TypeError",
     "evalue": "'NoneType' object is not subscriptable",
     "output_type": "error",
     "traceback": [
      "\u001b[0;31m---------------------------------------------------------------------------\u001b[0m",
      "\u001b[0;31mTypeError\u001b[0m                                 Traceback (most recent call last)",
      "Cell \u001b[0;32mIn[12], line 1\u001b[0m\n\u001b[0;32m----> 1\u001b[0m np\u001b[38;5;241m.\u001b[39mmean(\u001b[43mget_pscores\u001b[49m\u001b[43m(\u001b[49m\u001b[43mlikelihoods_R\u001b[49m\u001b[43m)\u001b[49m)\n",
      "Cell \u001b[0;32mIn[3], line 5\u001b[0m, in \u001b[0;36m<lambda>\u001b[0;34m(likelihoods)\u001b[0m\n\u001b[1;32m      2\u001b[0m n_processes \u001b[38;5;241m=\u001b[39m \u001b[38;5;241m20\u001b[39m\n\u001b[1;32m      4\u001b[0m \u001b[38;5;28;01mimport\u001b[39;00m \u001b[38;5;21;01mconduct_evaluation\u001b[39;00m\n\u001b[0;32m----> 5\u001b[0m get_pscores \u001b[38;5;241m=\u001b[39m \u001b[38;5;28;01mlambda\u001b[39;00m likelihoods : [pscore(likelihoods[\u001b[38;5;241m1\u001b[39m][i], likelihoods[\u001b[38;5;241m2\u001b[39m][k][\u001b[38;5;241m3\u001b[39m])\u001b[38;5;241m.\u001b[39mcompute()[\u001b[38;5;241m0\u001b[39m] \u001b[38;5;28;01mfor\u001b[39;00m i, k \u001b[38;5;129;01min\u001b[39;00m \u001b[38;5;28menumerate\u001b[39m(\u001b[38;5;28mlist\u001b[39m(\u001b[43mlikelihoods\u001b[49m\u001b[43m[\u001b[49m\u001b[38;5;241;43m0\u001b[39;49m\u001b[43m]\u001b[49m\u001b[38;5;241m.\u001b[39mkeys()))]\n\u001b[1;32m      7\u001b[0m likelihoods_A \u001b[38;5;241m=\u001b[39m \u001b[38;5;28;01mNone\u001b[39;00m\n\u001b[1;32m      8\u001b[0m likelihoods_R \u001b[38;5;241m=\u001b[39m \u001b[38;5;28;01mNone\u001b[39;00m\n",
      "\u001b[0;31mTypeError\u001b[0m: 'NoneType' object is not subscriptable"
     ]
    }
   ],
   "source": [
    "np.mean(get_pscores(likelihoods_R))"
   ]
  },
  {
   "cell_type": "code",
   "execution_count": 13,
   "id": "cf6e1732-5330-4358-9d32-aa0fd4267a86",
   "metadata": {
    "execution": {
     "iopub.execute_input": "2024-11-22T12:49:42.414981Z",
     "iopub.status.busy": "2024-11-22T12:49:42.414732Z",
     "iopub.status.idle": "2024-11-22T21:21:09.153888Z",
     "shell.execute_reply": "2024-11-22T21:21:09.150941Z"
    }
   },
   "outputs": [
    {
     "name": "stderr",
     "output_type": "stream",
     "text": [
      "\r",
      "  0%|                                                                                                  | 0/24591 [00:00<?, ?it/s]"
     ]
    },
    {
     "name": "stderr",
     "output_type": "stream",
     "text": [
      "\r",
      "  0%|                                                                                      | 1/24591 [00:25<174:32:41, 25.55s/it]"
     ]
    },
    {
     "name": "stderr",
     "output_type": "stream",
     "text": [
      "\r",
      "  2%|█▊                                                                                      | 501/24591 [00:25<14:33, 27.58it/s]"
     ]
    },
    {
     "name": "stderr",
     "output_type": "stream",
     "text": [
      "\r",
      "  4%|███▌                                                                                   | 1001/24591 [00:36<10:47, 36.46it/s]"
     ]
    },
    {
     "name": "stderr",
     "output_type": "stream",
     "text": [
      "\r",
      "  6%|█████▎                                                                                 | 1501/24591 [00:36<05:48, 66.25it/s]"
     ]
    },
    {
     "name": "stderr",
     "output_type": "stream",
     "text": [
      "\r",
      "  8%|███████                                                                                | 2001/24591 [00:41<04:56, 76.25it/s]"
     ]
    },
    {
     "name": "stderr",
     "output_type": "stream",
     "text": [
      "\r",
      " 10%|████████▊                                                                              | 2501/24591 [00:46<04:19, 85.18it/s]"
     ]
    },
    {
     "name": "stderr",
     "output_type": "stream",
     "text": [
      "\r",
      " 12%|██████████▌                                                                            | 3001/24591 [00:51<03:56, 91.22it/s]"
     ]
    },
    {
     "name": "stderr",
     "output_type": "stream",
     "text": [
      "\r",
      " 14%|████████████▍                                                                          | 3501/24591 [00:55<03:40, 95.55it/s]"
     ]
    },
    {
     "name": "stderr",
     "output_type": "stream",
     "text": [
      "\r",
      " 16%|██████████████▏                                                                        | 4001/24591 [01:00<03:33, 96.47it/s]"
     ]
    },
    {
     "name": "stderr",
     "output_type": "stream",
     "text": [
      "\r",
      " 18%|███████████████▋                                                                      | 4501/24591 [01:05<03:18, 101.19it/s]"
     ]
    },
    {
     "name": "stderr",
     "output_type": "stream",
     "text": [
      "\r",
      " 20%|█████████████████▋                                                                     | 5001/24591 [01:10<03:20, 97.88it/s]"
     ]
    },
    {
     "name": "stderr",
     "output_type": "stream",
     "text": [
      "\r",
      " 22%|███████████████████▏                                                                  | 5501/24591 [01:15<03:10, 100.36it/s]"
     ]
    },
    {
     "name": "stderr",
     "output_type": "stream",
     "text": [
      "\r",
      " 24%|█████████████████████▏                                                                 | 6001/24591 [01:21<03:15, 95.18it/s]"
     ]
    },
    {
     "name": "stderr",
     "output_type": "stream",
     "text": [
      "\r",
      " 26%|██████████████████████▋                                                               | 6501/24591 [01:25<02:59, 100.97it/s]"
     ]
    },
    {
     "name": "stderr",
     "output_type": "stream",
     "text": [
      "\r",
      " 28%|████████████████████████▍                                                             | 7001/24591 [01:30<02:51, 102.38it/s]"
     ]
    },
    {
     "name": "stderr",
     "output_type": "stream",
     "text": [
      "\r",
      " 31%|██████████████████████████▌                                                            | 7501/24591 [01:40<03:37, 78.48it/s]"
     ]
    },
    {
     "name": "stderr",
     "output_type": "stream",
     "text": [
      "\r",
      " 33%|███████████████████████████▉                                                          | 8001/24591 [01:40<02:29, 110.81it/s]"
     ]
    },
    {
     "name": "stderr",
     "output_type": "stream",
     "text": [
      "\r",
      " 35%|█████████████████████████████▋                                                        | 8501/24591 [01:44<02:24, 111.56it/s]"
     ]
    },
    {
     "name": "stderr",
     "output_type": "stream",
     "text": [
      "\r",
      " 37%|███████████████████████████████▍                                                      | 9001/24591 [01:49<02:23, 108.47it/s]"
     ]
    },
    {
     "name": "stderr",
     "output_type": "stream",
     "text": [
      "\r",
      " 39%|█████████████████████████████████▏                                                    | 9501/24591 [01:54<02:21, 106.80it/s]"
     ]
    },
    {
     "name": "stderr",
     "output_type": "stream",
     "text": [
      "\r",
      " 41%|██████████████████████████████████▌                                                  | 10001/24591 [01:59<02:18, 105.32it/s]"
     ]
    },
    {
     "name": "stderr",
     "output_type": "stream",
     "text": [
      "\r",
      " 43%|████████████████████████████████████▎                                                | 10501/24591 [02:04<02:15, 103.91it/s]"
     ]
    },
    {
     "name": "stderr",
     "output_type": "stream",
     "text": [
      "\r",
      " 45%|██████████████████████████████████████                                               | 11001/24591 [02:09<02:09, 104.75it/s]"
     ]
    },
    {
     "name": "stderr",
     "output_type": "stream",
     "text": [
      "\r",
      " 47%|███████████████████████████████████████▊                                             | 11501/24591 [02:14<02:06, 103.45it/s]"
     ]
    },
    {
     "name": "stderr",
     "output_type": "stream",
     "text": [
      "\r",
      " 49%|█████████████████████████████████████████▍                                           | 12001/24591 [02:18<02:00, 104.53it/s]"
     ]
    },
    {
     "name": "stderr",
     "output_type": "stream",
     "text": [
      "\r",
      " 51%|███████████████████████████████████████████▋                                          | 12501/24591 [02:24<02:02, 98.61it/s]"
     ]
    },
    {
     "name": "stderr",
     "output_type": "stream",
     "text": [
      "\r",
      " 53%|████████████████████████████████████████████▉                                        | 13001/24591 [02:28<01:52, 102.78it/s]"
     ]
    },
    {
     "name": "stderr",
     "output_type": "stream",
     "text": [
      "\r",
      " 55%|██████████████████████████████████████████████▋                                      | 13501/24591 [02:33<01:48, 101.88it/s]"
     ]
    },
    {
     "name": "stderr",
     "output_type": "stream",
     "text": [
      "\r",
      " 57%|████████████████████████████████████████████████▉                                     | 14001/24591 [02:39<01:46, 99.07it/s]"
     ]
    },
    {
     "name": "stderr",
     "output_type": "stream",
     "text": [
      "\r",
      " 59%|██████████████████████████████████████████████████▋                                   | 14501/24591 [02:49<02:13, 75.47it/s]"
     ]
    },
    {
     "name": "stderr",
     "output_type": "stream",
     "text": [
      "\r",
      " 59%|██████████████████████████████████████████████████▋                                   | 14506/24591 [02:49<02:15, 74.70it/s]"
     ]
    },
    {
     "name": "stderr",
     "output_type": "stream",
     "text": [
      "\r",
      " 61%|███████████████████████████████████████████████████▊                                 | 15001/24591 [02:49<01:21, 117.76it/s]"
     ]
    },
    {
     "name": "stderr",
     "output_type": "stream",
     "text": [
      "\r",
      " 63%|█████████████████████████████████████████████████████▌                               | 15501/24591 [02:54<01:22, 110.78it/s]"
     ]
    },
    {
     "name": "stderr",
     "output_type": "stream",
     "text": [
      "\r",
      " 65%|███████████████████████████████████████████████████████▎                             | 16001/24591 [03:00<01:21, 105.76it/s]"
     ]
    },
    {
     "name": "stderr",
     "output_type": "stream",
     "text": [
      "\r",
      " 67%|█████████████████████████████████████████████████████████                            | 16501/24591 [03:05<01:19, 102.09it/s]"
     ]
    },
    {
     "name": "stderr",
     "output_type": "stream",
     "text": [
      "\r",
      " 69%|██████████████████████████████████████████████████████████▊                          | 17001/24591 [03:10<01:15, 100.86it/s]"
     ]
    },
    {
     "name": "stderr",
     "output_type": "stream",
     "text": [
      "\r",
      " 71%|████████████████████████████████████████████████████████████▍                        | 17501/24591 [03:15<01:08, 102.94it/s]"
     ]
    },
    {
     "name": "stderr",
     "output_type": "stream",
     "text": [
      "\r",
      " 73%|██████████████████████████████████████████████████████████████▏                      | 18001/24591 [03:19<01:04, 102.96it/s]"
     ]
    },
    {
     "name": "stderr",
     "output_type": "stream",
     "text": [
      "\r",
      " 75%|███████████████████████████████████████████████████████████████▉                     | 18501/24591 [03:25<01:00, 100.06it/s]"
     ]
    },
    {
     "name": "stderr",
     "output_type": "stream",
     "text": [
      "\r",
      " 77%|██████████████████████████████████████████████████████████████████▍                   | 19001/24591 [03:30<00:55, 99.96it/s]"
     ]
    },
    {
     "name": "stderr",
     "output_type": "stream",
     "text": [
      "\r",
      " 79%|███████████████████████████████████████████████████████████████████▍                 | 19501/24591 [03:34<00:49, 103.37it/s]"
     ]
    },
    {
     "name": "stderr",
     "output_type": "stream",
     "text": [
      "\r",
      " 81%|█████████████████████████████████████████████████████████████████████▉                | 20001/24591 [03:40<00:46, 98.38it/s]"
     ]
    },
    {
     "name": "stderr",
     "output_type": "stream",
     "text": [
      "\r",
      " 83%|███████████████████████████████████████████████████████████████████████▋              | 20501/24591 [03:48<00:48, 83.95it/s]"
     ]
    },
    {
     "name": "stderr",
     "output_type": "stream",
     "text": [
      "\r",
      " 85%|█████████████████████████████████████████████████████████████████████████▍            | 21001/24591 [03:53<00:40, 89.63it/s]"
     ]
    },
    {
     "name": "stderr",
     "output_type": "stream",
     "text": [
      "\r",
      " 87%|███████████████████████████████████████████████████████████████████████████▏          | 21501/24591 [03:57<00:32, 93.71it/s]"
     ]
    },
    {
     "name": "stderr",
     "output_type": "stream",
     "text": [
      "\r",
      " 89%|████████████████████████████████████████████████████████████████████████████▉         | 22001/24591 [04:02<00:27, 95.69it/s]"
     ]
    },
    {
     "name": "stderr",
     "output_type": "stream",
     "text": [
      "\r",
      " 92%|█████████████████████████████████████████████████████████████████████████████▊       | 22501/24591 [04:04<00:17, 116.16it/s]"
     ]
    },
    {
     "name": "stderr",
     "output_type": "stream",
     "text": [
      "\r",
      " 94%|███████████████████████████████████████████████████████████████████████████████▌     | 23001/24591 [04:07<00:12, 127.59it/s]"
     ]
    },
    {
     "name": "stderr",
     "output_type": "stream",
     "text": [
      "\r",
      " 96%|██████████████████████████████████████████████████████████████████████████████████▏   | 23501/24591 [04:15<00:11, 98.70it/s]"
     ]
    },
    {
     "name": "stderr",
     "output_type": "stream",
     "text": [
      "\r",
      " 98%|██████████████████████████████████████████████████████████████████████████████████▉  | 24001/24591 [04:17<00:04, 119.35it/s]"
     ]
    },
    {
     "name": "stderr",
     "output_type": "stream",
     "text": [
      "\r",
      "100%|██████████████████████████████████████████████████████████████████████████████████████| 24591/24591 [04:17<00:00, 95.38it/s]"
     ]
    },
    {
     "name": "stderr",
     "output_type": "stream",
     "text": [
      "\n"
     ]
    },
    {
     "name": "stderr",
     "output_type": "stream",
     "text": [
      "\r",
      "  0%|                                                                                                  | 0/24591 [00:00<?, ?it/s]"
     ]
    },
    {
     "name": "stderr",
     "output_type": "stream",
     "text": [
      "\r",
      "  0%|                                                                               | 1/24591 [3:28:07<85295:21:52, 12487.32s/it]"
     ]
    },
    {
     "name": "stderr",
     "output_type": "stream",
     "text": [
      "\r",
      "  2%|█▋                                                                                | 501/24591 [3:31:52<119:49:58, 17.91s/it]"
     ]
    },
    {
     "name": "stderr",
     "output_type": "stream",
     "text": [
      "\r",
      "  8%|██████▋                                                                           | 2001/24591 [3:36:27<22:12:58,  3.54s/it]"
     ]
    },
    {
     "name": "stderr",
     "output_type": "stream",
     "text": [
      "\r",
      " 41%|█████████████████████████████████▎                                                | 10001/24591 [6:15:43<6:09:56,  1.52s/it]"
     ]
    },
    {
     "name": "stderr",
     "output_type": "stream",
     "text": [
      "\r",
      " 45%|████████████████████████████████████▋                                             | 11001/24591 [6:25:42<5:16:47,  1.40s/it]"
     ]
    },
    {
     "name": "stderr",
     "output_type": "stream",
     "text": [
      "\r",
      " 51%|█████████████████████████████████████████▋                                        | 12501/24591 [6:27:11<3:41:52,  1.10s/it]"
     ]
    },
    {
     "name": "stderr",
     "output_type": "stream",
     "text": [
      "\r",
      " 51%|█████████████████████████████████████████▋                                        | 12501/24591 [6:27:23<3:41:52,  1.10s/it]"
     ]
    },
    {
     "name": "stderr",
     "output_type": "stream",
     "text": [
      "\r",
      " 57%|██████████████████████████████████████████████▋                                   | 14001/24591 [6:32:34<2:36:41,  1.13it/s]"
     ]
    },
    {
     "name": "stderr",
     "output_type": "stream",
     "text": [
      "\r",
      " 81%|██████████████████████████████████████████████████████████████████▋               | 20001/24591 [8:24:55<1:18:21,  1.02s/it]"
     ]
    },
    {
     "name": "stderr",
     "output_type": "stream",
     "text": [
      "\r",
      "100%|████████████████████████████████████████████████████████████████████████████████████| 24591/24591 [8:24:55<00:00,  1.23s/it]"
     ]
    },
    {
     "name": "stderr",
     "output_type": "stream",
     "text": [
      "\n"
     ]
    },
    {
     "name": "stderr",
     "output_type": "stream",
     "text": [
      "\r",
      "  0%|                                                                                                  | 0/24591 [00:00<?, ?it/s]"
     ]
    },
    {
     "name": "stderr",
     "output_type": "stream",
     "text": [
      "\r",
      "  0%|                                                                                      | 1/24591 [00:39<269:44:07, 39.49s/it]"
     ]
    },
    {
     "name": "stderr",
     "output_type": "stream",
     "text": [
      "\r",
      "  2%|█▊                                                                                      | 501/24591 [00:39<22:24, 17.91it/s]"
     ]
    },
    {
     "name": "stderr",
     "output_type": "stream",
     "text": [
      "\r",
      "  4%|███▌                                                                                   | 1001/24591 [00:40<09:20, 42.09it/s]"
     ]
    },
    {
     "name": "stderr",
     "output_type": "stream",
     "text": [
      "\r",
      " 16%|█████████████▉                                                                        | 4001/24591 [00:41<01:24, 243.83it/s]"
     ]
    },
    {
     "name": "stderr",
     "output_type": "stream",
     "text": [
      "\r",
      " 35%|█████████████████████████████▋                                                        | 8501/24591 [00:41<00:25, 633.50it/s]"
     ]
    },
    {
     "name": "stderr",
     "output_type": "stream",
     "text": [
      "\r",
      " 35%|█████████████████████████████▋                                                        | 8501/24591 [00:55<00:25, 633.50it/s]"
     ]
    },
    {
     "name": "stderr",
     "output_type": "stream",
     "text": [
      "\r",
      " 41%|██████████████████████████████████▌                                                  | 10001/24591 [01:18<01:40, 144.76it/s]"
     ]
    },
    {
     "name": "stderr",
     "output_type": "stream",
     "text": [
      "\r",
      " 45%|██████████████████████████████████████                                               | 11001/24591 [01:19<01:20, 169.65it/s]"
     ]
    },
    {
     "name": "stderr",
     "output_type": "stream",
     "text": [
      "\r",
      " 55%|██████████████████████████████████████████████▋                                      | 13501/24591 [01:20<00:40, 270.65it/s]"
     ]
    },
    {
     "name": "stderr",
     "output_type": "stream",
     "text": [
      "\r",
      " 63%|█████████████████████████████████████████████████████▌                               | 15501/24591 [01:21<00:24, 365.98it/s]"
     ]
    },
    {
     "name": "stderr",
     "output_type": "stream",
     "text": [
      "\r",
      " 63%|█████████████████████████████████████████████████████▌                               | 15501/24591 [01:35<00:24, 365.98it/s]"
     ]
    },
    {
     "name": "stderr",
     "output_type": "stream",
     "text": [
      "\r",
      " 81%|█████████████████████████████████████████████████████████████████████▏               | 20001/24591 [01:55<00:23, 193.16it/s]"
     ]
    },
    {
     "name": "stderr",
     "output_type": "stream",
     "text": [
      "\r",
      " 83%|██████████████████████████████████████████████████████████████████████▊              | 20501/24591 [01:57<00:20, 196.37it/s]"
     ]
    },
    {
     "name": "stderr",
     "output_type": "stream",
     "text": [
      "\r",
      "100%|█████████████████████████████████████████████████████████████████████████████████████| 24591/24591 [01:57<00:00, 208.41it/s]"
     ]
    },
    {
     "name": "stderr",
     "output_type": "stream",
     "text": [
      "\n"
     ]
    }
   ],
   "source": [
    "drbart_model_R_A_S = DRBART(parser_dir = '../../../models/'+model_name+'/concept-name_resource_seconds-in-day/',\n",
    "                     strict_parser=False)\n",
    "evaluator_R_A_S = conduct_evaluation.ConductEvaluation(drbart_model_R_A_S, SampleOutcomes_DRBART_Normal_R_A_S,\n",
    "                                                   {\n",
    "                                                        'activity_key' : 'concept:name',\n",
    "                                                        'resource_key' : 'org:resource_start',\n",
    "                                                    },\n",
    "                                     test_event_log, n=N, n_processes=n_processes)\n",
    "likelihoods_R_A_S = evaluator_R_A_S.sample_cases(False, True)"
   ]
  },
  {
   "cell_type": "code",
   "execution_count": 14,
   "id": "c1c766c5-64fb-42ac-84a2-f0a8bb2a20fe",
   "metadata": {
    "execution": {
     "iopub.execute_input": "2024-11-22T21:21:09.159269Z",
     "iopub.status.busy": "2024-11-22T21:21:09.158651Z",
     "iopub.status.idle": "2024-11-22T21:21:10.094958Z",
     "shell.execute_reply": "2024-11-22T21:21:10.092051Z"
    }
   },
   "outputs": [
    {
     "data": {
      "text/plain": [
       "Decimal('-20.43862182337049588696248303')"
      ]
     },
     "execution_count": 14,
     "metadata": {},
     "output_type": "execute_result"
    }
   ],
   "source": [
    "np.mean([v.ln() for v in likelihoods_R_A_S[0].values()])"
   ]
  },
  {
   "cell_type": "code",
   "execution_count": 15,
   "id": "840e203d-19f1-4121-99b5-79f94632bc8c",
   "metadata": {
    "execution": {
     "iopub.execute_input": "2024-11-22T21:21:10.100998Z",
     "iopub.status.busy": "2024-11-22T21:21:10.100667Z",
     "iopub.status.idle": "2024-11-22T21:21:33.210058Z",
     "shell.execute_reply": "2024-11-22T21:21:33.207887Z"
    }
   },
   "outputs": [
    {
     "data": {
      "text/plain": [
       "np.float64(5.983658016616012e+21)"
      ]
     },
     "execution_count": 15,
     "metadata": {},
     "output_type": "execute_result"
    }
   ],
   "source": [
    "np.mean(get_pscores(likelihoods_R_A_S))"
   ]
  },
  {
   "cell_type": "code",
   "execution_count": 16,
   "id": "3efa4f23-9d9b-4918-9ea2-66928efed225",
   "metadata": {
    "execution": {
     "iopub.execute_input": "2024-11-22T21:21:33.215749Z",
     "iopub.status.busy": "2024-11-22T21:21:33.215538Z",
     "iopub.status.idle": "2024-11-23T06:54:34.461110Z",
     "shell.execute_reply": "2024-11-23T06:54:34.458231Z"
    }
   },
   "outputs": [
    {
     "name": "stderr",
     "output_type": "stream",
     "text": [
      "\r",
      "  0%|                                                                                                  | 0/24591 [00:00<?, ?it/s]"
     ]
    },
    {
     "name": "stderr",
     "output_type": "stream",
     "text": [
      "\r",
      "  0%|                                                                                      | 1/24591 [00:22<153:36:30, 22.49s/it]"
     ]
    },
    {
     "name": "stderr",
     "output_type": "stream",
     "text": [
      "\r",
      "  2%|█▊                                                                                      | 501/24591 [00:32<20:19, 19.76it/s]"
     ]
    },
    {
     "name": "stderr",
     "output_type": "stream",
     "text": [
      "\r",
      "  4%|███▌                                                                                   | 1001/24591 [00:32<08:17, 47.38it/s]"
     ]
    },
    {
     "name": "stderr",
     "output_type": "stream",
     "text": [
      "\r",
      "  6%|█████▎                                                                                 | 1501/24591 [00:37<06:08, 62.69it/s]"
     ]
    },
    {
     "name": "stderr",
     "output_type": "stream",
     "text": [
      "\r",
      "  8%|███████                                                                                | 2001/24591 [00:42<05:04, 74.25it/s]"
     ]
    },
    {
     "name": "stderr",
     "output_type": "stream",
     "text": [
      "\r",
      " 10%|████████▊                                                                              | 2501/24591 [00:46<04:24, 83.57it/s]"
     ]
    },
    {
     "name": "stderr",
     "output_type": "stream",
     "text": [
      "\r",
      " 12%|██████████▌                                                                            | 3001/24591 [00:51<04:01, 89.32it/s]"
     ]
    },
    {
     "name": "stderr",
     "output_type": "stream",
     "text": [
      "\r",
      " 12%|██████████▌                                                                            | 3001/24591 [01:02<04:01, 89.32it/s]"
     ]
    },
    {
     "name": "stderr",
     "output_type": "stream",
     "text": [
      "\r",
      " 14%|████████████▍                                                                          | 3501/24591 [01:03<05:24, 64.91it/s]"
     ]
    },
    {
     "name": "stderr",
     "output_type": "stream",
     "text": [
      "\r",
      " 16%|██████████████▏                                                                        | 4001/24591 [01:03<03:38, 94.08it/s]"
     ]
    },
    {
     "name": "stderr",
     "output_type": "stream",
     "text": [
      "\r",
      " 18%|███████████████▉                                                                       | 4501/24591 [01:08<03:27, 96.70it/s]"
     ]
    },
    {
     "name": "stderr",
     "output_type": "stream",
     "text": [
      "\r",
      " 20%|█████████████████▋                                                                     | 5001/24591 [01:13<03:21, 97.38it/s]"
     ]
    },
    {
     "name": "stderr",
     "output_type": "stream",
     "text": [
      "\r",
      " 22%|███████████████████▏                                                                  | 5501/24591 [01:14<02:25, 130.87it/s]"
     ]
    },
    {
     "name": "stderr",
     "output_type": "stream",
     "text": [
      "\r",
      " 24%|█████████████████████▏                                                                 | 6001/24591 [01:22<03:11, 97.07it/s]"
     ]
    },
    {
     "name": "stderr",
     "output_type": "stream",
     "text": [
      "\r",
      " 26%|██████████████████████▉                                                                | 6501/24591 [01:28<03:08, 96.09it/s]"
     ]
    },
    {
     "name": "stderr",
     "output_type": "stream",
     "text": [
      "\r",
      " 28%|████████████████████████▊                                                              | 7001/24591 [01:36<03:37, 81.06it/s]"
     ]
    },
    {
     "name": "stderr",
     "output_type": "stream",
     "text": [
      "\r",
      " 31%|██████████████████████████▏                                                           | 7501/24591 [01:36<02:28, 114.81it/s]"
     ]
    },
    {
     "name": "stderr",
     "output_type": "stream",
     "text": [
      "\r",
      " 33%|████████████████████████████▎                                                          | 8001/24591 [01:45<03:13, 85.63it/s]"
     ]
    },
    {
     "name": "stderr",
     "output_type": "stream",
     "text": [
      "\r",
      " 35%|█████████████████████████████▋                                                        | 8501/24591 [01:46<02:13, 120.87it/s]"
     ]
    },
    {
     "name": "stderr",
     "output_type": "stream",
     "text": [
      "\r",
      " 37%|███████████████████████████████▍                                                      | 9001/24591 [01:51<02:17, 113.64it/s]"
     ]
    },
    {
     "name": "stderr",
     "output_type": "stream",
     "text": [
      "\r",
      " 39%|█████████████████████████████████▏                                                    | 9501/24591 [01:55<02:10, 115.83it/s]"
     ]
    },
    {
     "name": "stderr",
     "output_type": "stream",
     "text": [
      "\r",
      " 41%|██████████████████████████████████▌                                                  | 10001/24591 [02:00<02:12, 110.22it/s]"
     ]
    },
    {
     "name": "stderr",
     "output_type": "stream",
     "text": [
      "\r",
      " 43%|████████████████████████████████████▎                                                | 10501/24591 [02:04<02:06, 111.54it/s]"
     ]
    },
    {
     "name": "stderr",
     "output_type": "stream",
     "text": [
      "\r",
      " 45%|██████████████████████████████████████                                               | 11001/24591 [02:09<02:07, 106.35it/s]"
     ]
    },
    {
     "name": "stderr",
     "output_type": "stream",
     "text": [
      "\r",
      " 47%|███████████████████████████████████████▊                                             | 11501/24591 [02:14<02:05, 104.46it/s]"
     ]
    },
    {
     "name": "stderr",
     "output_type": "stream",
     "text": [
      "\r",
      " 49%|█████████████████████████████████████████▍                                           | 12001/24591 [02:19<02:00, 104.35it/s]"
     ]
    },
    {
     "name": "stderr",
     "output_type": "stream",
     "text": [
      "\r",
      " 51%|███████████████████████████████████████████▏                                         | 12501/24591 [02:24<01:58, 101.79it/s]"
     ]
    },
    {
     "name": "stderr",
     "output_type": "stream",
     "text": [
      "\r",
      " 53%|████████████████████████████████████████████▉                                        | 13001/24591 [02:29<01:49, 105.92it/s]"
     ]
    },
    {
     "name": "stderr",
     "output_type": "stream",
     "text": [
      "\r",
      " 55%|██████████████████████████████████████████████▋                                      | 13501/24591 [02:34<01:48, 102.35it/s]"
     ]
    },
    {
     "name": "stderr",
     "output_type": "stream",
     "text": [
      "\r",
      " 57%|████████████████████████████████████████████████▍                                    | 14001/24591 [02:39<01:43, 102.07it/s]"
     ]
    },
    {
     "name": "stderr",
     "output_type": "stream",
     "text": [
      "\r",
      " 59%|██████████████████████████████████████████████████                                   | 14501/24591 [02:44<01:40, 100.69it/s]"
     ]
    },
    {
     "name": "stderr",
     "output_type": "stream",
     "text": [
      "\r",
      " 59%|██████████████████████████████████████████████████                                   | 14501/24591 [02:56<01:40, 100.69it/s]"
     ]
    },
    {
     "name": "stderr",
     "output_type": "stream",
     "text": [
      "\r",
      " 61%|████████████████████████████████████████████████████▍                                 | 15001/24591 [02:56<02:17, 69.59it/s]"
     ]
    },
    {
     "name": "stderr",
     "output_type": "stream",
     "text": [
      "\r",
      " 63%|██████████████████████████████████████████████████████▏                               | 15501/24591 [02:56<01:32, 98.26it/s]"
     ]
    },
    {
     "name": "stderr",
     "output_type": "stream",
     "text": [
      "\r",
      " 65%|███████████████████████████████████████████████████████▎                             | 16001/24591 [02:57<01:05, 131.75it/s]"
     ]
    },
    {
     "name": "stderr",
     "output_type": "stream",
     "text": [
      "\r",
      " 67%|█████████████████████████████████████████████████████████                            | 16501/24591 [03:02<01:08, 118.85it/s]"
     ]
    },
    {
     "name": "stderr",
     "output_type": "stream",
     "text": [
      "\r",
      " 69%|███████████████████████████████████████████████████████████▍                          | 17001/24591 [03:11<01:21, 92.60it/s]"
     ]
    },
    {
     "name": "stderr",
     "output_type": "stream",
     "text": [
      "\r",
      " 71%|█████████████████████████████████████████████████████████████▏                        | 17501/24591 [03:16<01:15, 93.87it/s]"
     ]
    },
    {
     "name": "stderr",
     "output_type": "stream",
     "text": [
      "\r",
      " 73%|██████████████████████████████████████████████████████████████▉                       | 18001/24591 [03:20<01:07, 97.21it/s]"
     ]
    },
    {
     "name": "stderr",
     "output_type": "stream",
     "text": [
      "\r",
      " 75%|████████████████████████████████████████████████████████████████▋                     | 18501/24591 [03:25<01:02, 97.72it/s]"
     ]
    },
    {
     "name": "stderr",
     "output_type": "stream",
     "text": [
      "\r",
      " 77%|█████████████████████████████████████████████████████████████████▋                   | 19001/24591 [03:30<00:55, 100.44it/s]"
     ]
    },
    {
     "name": "stderr",
     "output_type": "stream",
     "text": [
      "\r",
      " 79%|███████████████████████████████████████████████████████████████████▍                 | 19501/24591 [03:35<00:49, 103.00it/s]"
     ]
    },
    {
     "name": "stderr",
     "output_type": "stream",
     "text": [
      "\r",
      " 81%|█████████████████████████████████████████████████████████████████████▉                | 20001/24591 [03:40<00:46, 99.25it/s]"
     ]
    },
    {
     "name": "stderr",
     "output_type": "stream",
     "text": [
      "\r",
      " 83%|██████████████████████████████████████████████████████████████████████▊              | 20501/24591 [03:45<00:40, 101.92it/s]"
     ]
    },
    {
     "name": "stderr",
     "output_type": "stream",
     "text": [
      "\r",
      " 85%|████████████████████████████████████████████████████████████████████████▌            | 21001/24591 [03:50<00:35, 101.59it/s]"
     ]
    },
    {
     "name": "stderr",
     "output_type": "stream",
     "text": [
      "\r",
      " 87%|██████████████████████████████████████████████████████████████████████████▎          | 21501/24591 [03:54<00:29, 104.79it/s]"
     ]
    },
    {
     "name": "stderr",
     "output_type": "stream",
     "text": [
      "\r",
      " 89%|████████████████████████████████████████████████████████████████████████████         | 22001/24591 [03:59<00:25, 101.77it/s]"
     ]
    },
    {
     "name": "stderr",
     "output_type": "stream",
     "text": [
      "\r",
      " 92%|█████████████████████████████████████████████████████████████████████████████▊       | 22501/24591 [04:05<00:20, 100.47it/s]"
     ]
    },
    {
     "name": "stderr",
     "output_type": "stream",
     "text": [
      "\r",
      " 94%|███████████████████████████████████████████████████████████████████████████████▌     | 23001/24591 [04:08<00:14, 111.98it/s]"
     ]
    },
    {
     "name": "stderr",
     "output_type": "stream",
     "text": [
      "\r",
      " 96%|█████████████████████████████████████████████████████████████████████████████████▏   | 23501/24591 [04:13<00:10, 104.09it/s]"
     ]
    },
    {
     "name": "stderr",
     "output_type": "stream",
     "text": [
      "\r",
      " 98%|██████████████████████████████████████████████████████████████████████████████████▉  | 24001/24591 [04:17<00:05, 109.55it/s]"
     ]
    },
    {
     "name": "stderr",
     "output_type": "stream",
     "text": [
      "\r",
      "100%|██████████████████████████████████████████████████████████████████████████████████████| 24591/24591 [04:17<00:00, 95.35it/s]"
     ]
    },
    {
     "name": "stderr",
     "output_type": "stream",
     "text": [
      "\n"
     ]
    },
    {
     "name": "stderr",
     "output_type": "stream",
     "text": [
      "\r",
      "  0%|                                                                                                  | 0/24591 [00:00<?, ?it/s]"
     ]
    },
    {
     "name": "stderr",
     "output_type": "stream",
     "text": [
      "\r",
      "  0%|                                                                              | 1/24591 [4:18:01<105745:02:41, 15481.18s/it]"
     ]
    },
    {
     "name": "stderr",
     "output_type": "stream",
     "text": [
      "\r",
      "  2%|█▋                                                                                | 501/24591 [4:28:40<153:22:10, 22.92s/it]"
     ]
    },
    {
     "name": "stderr",
     "output_type": "stream",
     "text": [
      "\r",
      "  8%|██████▋                                                                           | 2001/24591 [4:30:21<27:35:00,  4.40s/it]"
     ]
    },
    {
     "name": "stderr",
     "output_type": "stream",
     "text": [
      "\r",
      "  8%|██████▋                                                                           | 2001/24591 [4:30:32<27:35:00,  4.40s/it]"
     ]
    },
    {
     "name": "stderr",
     "output_type": "stream",
     "text": [
      "\r",
      " 41%|█████████████████████████████████▎                                                | 10001/24591 [7:32:21<7:14:37,  1.79s/it]"
     ]
    },
    {
     "name": "stderr",
     "output_type": "stream",
     "text": [
      "\r",
      " 45%|████████████████████████████████████▋                                             | 11001/24591 [7:34:26<5:54:40,  1.57s/it]"
     ]
    },
    {
     "name": "stderr",
     "output_type": "stream",
     "text": [
      "\r",
      " 51%|█████████████████████████████████████████▋                                        | 12501/24591 [7:40:27<4:16:14,  1.27s/it]"
     ]
    },
    {
     "name": "stderr",
     "output_type": "stream",
     "text": [
      "\r",
      " 81%|██████████████████████████████████████████████████████████████████▋               | 20001/24591 [9:23:59<1:16:28,  1.00it/s]"
     ]
    },
    {
     "name": "stderr",
     "output_type": "stream",
     "text": [
      "\r",
      " 83%|████████████████████████████████████████████████████████████████████▎             | 20501/24591 [9:26:04<1:05:19,  1.04it/s]"
     ]
    },
    {
     "name": "stderr",
     "output_type": "stream",
     "text": [
      "\r",
      "100%|████████████████████████████████████████████████████████████████████████████████████| 24591/24591 [9:26:04<00:00,  1.38s/it]"
     ]
    },
    {
     "name": "stderr",
     "output_type": "stream",
     "text": [
      "\n"
     ]
    },
    {
     "name": "stderr",
     "output_type": "stream",
     "text": [
      "\r",
      "  0%|                                                                                                  | 0/24591 [00:00<?, ?it/s]"
     ]
    },
    {
     "name": "stderr",
     "output_type": "stream",
     "text": [
      "\r",
      "  0%|                                                                                      | 1/24591 [00:48<328:44:50, 48.13s/it]"
     ]
    },
    {
     "name": "stderr",
     "output_type": "stream",
     "text": [
      "\r",
      "  2%|█▊                                                                                      | 501/24591 [00:49<27:52, 14.41it/s]"
     ]
    },
    {
     "name": "stderr",
     "output_type": "stream",
     "text": [
      "\r",
      " 28%|████████████████████████▍                                                             | 7001/24591 [00:49<01:03, 276.85it/s]"
     ]
    },
    {
     "name": "stderr",
     "output_type": "stream",
     "text": [
      "\r",
      " 28%|████████████████████████▍                                                             | 7001/24591 [01:07<01:03, 276.85it/s]"
     ]
    },
    {
     "name": "stderr",
     "output_type": "stream",
     "text": [
      "\r",
      " 41%|██████████████████████████████████▌                                                  | 10001/24591 [01:34<01:57, 124.53it/s]"
     ]
    },
    {
     "name": "stderr",
     "output_type": "stream",
     "text": [
      "\r",
      " 43%|████████████████████████████████████▎                                                | 10501/24591 [01:35<01:44, 134.85it/s]"
     ]
    },
    {
     "name": "stderr",
     "output_type": "stream",
     "text": [
      "\r",
      " 45%|██████████████████████████████████████▎                                              | 11075/24591 [01:35<01:29, 151.49it/s]"
     ]
    },
    {
     "name": "stderr",
     "output_type": "stream",
     "text": [
      "\r",
      " 49%|█████████████████████████████████████████▍                                           | 12001/24591 [01:36<01:07, 186.64it/s]"
     ]
    },
    {
     "name": "stderr",
     "output_type": "stream",
     "text": [
      "\r",
      " 51%|███████████████████████████████████████████▏                                         | 12501/24591 [01:36<00:56, 214.46it/s]"
     ]
    },
    {
     "name": "stderr",
     "output_type": "stream",
     "text": [
      "\r",
      " 53%|████████████████████████████████████████████▉                                        | 13001/24591 [01:36<00:45, 253.70it/s]"
     ]
    },
    {
     "name": "stderr",
     "output_type": "stream",
     "text": [
      "\r",
      " 67%|█████████████████████████████████████████████████████████                            | 16501/24591 [01:38<00:13, 585.43it/s]"
     ]
    },
    {
     "name": "stderr",
     "output_type": "stream",
     "text": [
      "\r",
      " 75%|███████████████████████████████████████████████████████████████▉                     | 18501/24591 [01:38<00:07, 833.46it/s]"
     ]
    },
    {
     "name": "stderr",
     "output_type": "stream",
     "text": [
      "\r",
      " 75%|███████████████████████████████████████████████████████████████▉                     | 18501/24591 [01:57<00:07, 833.46it/s]"
     ]
    },
    {
     "name": "stderr",
     "output_type": "stream",
     "text": [
      "\r",
      " 81%|█████████████████████████████████████████████████████████████████████▏               | 20001/24591 [02:21<00:39, 117.05it/s]"
     ]
    },
    {
     "name": "stderr",
     "output_type": "stream",
     "text": [
      "\r",
      " 83%|██████████████████████████████████████████████████████████████████████▊              | 20501/24591 [02:24<00:33, 121.68it/s]"
     ]
    },
    {
     "name": "stderr",
     "output_type": "stream",
     "text": [
      "\r",
      " 96%|█████████████████████████████████████████████████████████████████████████████████▏   | 23501/24591 [02:25<00:04, 235.20it/s]"
     ]
    },
    {
     "name": "stderr",
     "output_type": "stream",
     "text": [
      "\r",
      "100%|█████████████████████████████████████████████████████████████████████████████████████| 24591/24591 [02:25<00:00, 169.45it/s]"
     ]
    },
    {
     "name": "stderr",
     "output_type": "stream",
     "text": [
      "\n"
     ]
    }
   ],
   "source": [
    "drbart_model_R_A_S_AC = DRBART(parser_dir = '../../../models/'+model_name+'/concept-name_resource_seconds-in-day_activity-count/',\n",
    "                     strict_parser=False)\n",
    "evaluator_R_A_S_AC = conduct_evaluation.ConductEvaluation(drbart_model_R_A_S_AC, SampleOutcomes_DRBART_Normal_R_A_S_AC,\n",
    "                                                   {\n",
    "                                                        'activity_key' : 'concept:name',\n",
    "                                                        'resource_key' : 'org:resource_start',\n",
    "                                                        'known_activities' : known_activities,\n",
    "                                                    },\n",
    "                                     test_event_log, n=N, n_processes=n_processes)\n",
    "likelihoods_R_A_S_AC = evaluator_R_A_S_AC.sample_cases(False, True)"
   ]
  },
  {
   "cell_type": "code",
   "execution_count": 17,
   "id": "6cc9fd3b-a0dd-44cb-9bd9-b2951e3246da",
   "metadata": {
    "execution": {
     "iopub.execute_input": "2024-11-23T06:54:34.468784Z",
     "iopub.status.busy": "2024-11-23T06:54:34.468003Z",
     "iopub.status.idle": "2024-11-23T06:54:35.404971Z",
     "shell.execute_reply": "2024-11-23T06:54:35.402002Z"
    }
   },
   "outputs": [
    {
     "data": {
      "text/plain": [
       "Decimal('-9.704301759747161918170435273')"
      ]
     },
     "execution_count": 17,
     "metadata": {},
     "output_type": "execute_result"
    }
   ],
   "source": [
    "np.mean([v.ln() for v in likelihoods_R_A_S_AC[0].values()])"
   ]
  },
  {
   "cell_type": "code",
   "execution_count": 18,
   "id": "c2070461-4377-48ec-8bf3-8963fbfe455a",
   "metadata": {
    "execution": {
     "iopub.execute_input": "2024-11-23T06:54:35.411924Z",
     "iopub.status.busy": "2024-11-23T06:54:35.411557Z",
     "iopub.status.idle": "2024-11-23T06:54:53.663345Z",
     "shell.execute_reply": "2024-11-23T06:54:53.661195Z"
    }
   },
   "outputs": [
    {
     "data": {
      "text/plain": [
       "np.float64(42293234285902.87)"
      ]
     },
     "execution_count": 18,
     "metadata": {},
     "output_type": "execute_result"
    }
   ],
   "source": [
    "np.mean(get_pscores(likelihoods_R_A_S_AC))"
   ]
  },
  {
   "cell_type": "code",
   "execution_count": 19,
   "id": "3db10062-4115-4d0a-956e-1e36ebda9fd5",
   "metadata": {
    "execution": {
     "iopub.execute_input": "2024-11-23T06:54:53.668937Z",
     "iopub.status.busy": "2024-11-23T06:54:53.668706Z",
     "iopub.status.idle": "2024-11-23T12:30:14.555755Z",
     "shell.execute_reply": "2024-11-23T12:30:14.554830Z"
    }
   },
   "outputs": [
    {
     "name": "stderr",
     "output_type": "stream",
     "text": [
      "\r",
      "  0%|                                                                                                  | 0/24591 [00:00<?, ?it/s]"
     ]
    },
    {
     "name": "stderr",
     "output_type": "stream",
     "text": [
      "\r",
      "  0%|                                                                                      | 1/24591 [00:23<161:03:13, 23.58s/it]"
     ]
    },
    {
     "name": "stderr",
     "output_type": "stream",
     "text": [
      "\r",
      "  2%|█▊                                                                                      | 501/24591 [00:28<17:20, 23.16it/s]"
     ]
    },
    {
     "name": "stderr",
     "output_type": "stream",
     "text": [
      "\r",
      "  4%|███▌                                                                                   | 1001/24591 [00:33<09:18, 42.25it/s]"
     ]
    },
    {
     "name": "stderr",
     "output_type": "stream",
     "text": [
      "\r",
      "  6%|█████▎                                                                                 | 1501/24591 [00:38<06:35, 58.43it/s]"
     ]
    },
    {
     "name": "stderr",
     "output_type": "stream",
     "text": [
      "\r",
      "  8%|███████                                                                                | 2001/24591 [00:43<05:30, 68.44it/s]"
     ]
    },
    {
     "name": "stderr",
     "output_type": "stream",
     "text": [
      "\r",
      " 10%|████████▊                                                                              | 2501/24591 [00:48<04:47, 76.86it/s]"
     ]
    },
    {
     "name": "stderr",
     "output_type": "stream",
     "text": [
      "\r",
      " 12%|██████████▌                                                                            | 3001/24591 [00:53<04:12, 85.44it/s]"
     ]
    },
    {
     "name": "stderr",
     "output_type": "stream",
     "text": [
      "\r",
      " 14%|████████████▍                                                                          | 3501/24591 [00:58<03:51, 91.14it/s]"
     ]
    },
    {
     "name": "stderr",
     "output_type": "stream",
     "text": [
      "\r",
      " 16%|██████████████▏                                                                        | 4001/24591 [01:04<03:54, 87.96it/s]"
     ]
    },
    {
     "name": "stderr",
     "output_type": "stream",
     "text": [
      "\r",
      " 18%|███████████████▋                                                                      | 4501/24591 [01:07<03:19, 100.93it/s]"
     ]
    },
    {
     "name": "stderr",
     "output_type": "stream",
     "text": [
      "\r",
      " 20%|█████████████████▍                                                                    | 5001/24591 [01:12<03:10, 102.88it/s]"
     ]
    },
    {
     "name": "stderr",
     "output_type": "stream",
     "text": [
      "\r",
      " 22%|███████████████████▏                                                                  | 5501/24591 [01:17<03:05, 102.96it/s]"
     ]
    },
    {
     "name": "stderr",
     "output_type": "stream",
     "text": [
      "\r",
      " 24%|█████████████████████▏                                                                 | 6001/24591 [01:23<03:12, 96.52it/s]"
     ]
    },
    {
     "name": "stderr",
     "output_type": "stream",
     "text": [
      "\r",
      " 26%|██████████████████████▋                                                               | 6501/24591 [01:26<02:52, 104.97it/s]"
     ]
    },
    {
     "name": "stderr",
     "output_type": "stream",
     "text": [
      "\r",
      " 28%|████████████████████████▍                                                             | 7001/24591 [01:32<02:52, 102.06it/s]"
     ]
    },
    {
     "name": "stderr",
     "output_type": "stream",
     "text": [
      "\r",
      " 31%|██████████████████████████▏                                                           | 7501/24591 [01:37<02:49, 100.82it/s]"
     ]
    },
    {
     "name": "stderr",
     "output_type": "stream",
     "text": [
      "\r",
      " 33%|███████████████████████████▉                                                          | 8001/24591 [01:40<02:31, 109.68it/s]"
     ]
    },
    {
     "name": "stderr",
     "output_type": "stream",
     "text": [
      "\r",
      " 35%|█████████████████████████████▋                                                        | 8501/24591 [01:45<02:26, 109.90it/s]"
     ]
    },
    {
     "name": "stderr",
     "output_type": "stream",
     "text": [
      "\r",
      " 37%|███████████████████████████████▍                                                      | 9001/24591 [01:50<02:26, 106.74it/s]"
     ]
    },
    {
     "name": "stderr",
     "output_type": "stream",
     "text": [
      "\r",
      " 39%|█████████████████████████████████▌                                                     | 9501/24591 [02:00<03:08, 80.04it/s]"
     ]
    },
    {
     "name": "stderr",
     "output_type": "stream",
     "text": [
      "\r",
      " 41%|██████████████████████████████████▌                                                  | 10001/24591 [02:00<02:09, 112.98it/s]"
     ]
    },
    {
     "name": "stderr",
     "output_type": "stream",
     "text": [
      "\r",
      " 43%|████████████████████████████████████▎                                                | 10501/24591 [02:05<02:07, 110.09it/s]"
     ]
    },
    {
     "name": "stderr",
     "output_type": "stream",
     "text": [
      "\r",
      " 45%|██████████████████████████████████████                                               | 11001/24591 [02:09<02:05, 108.40it/s]"
     ]
    },
    {
     "name": "stderr",
     "output_type": "stream",
     "text": [
      "\r",
      " 47%|███████████████████████████████████████▊                                             | 11501/24591 [02:15<02:05, 104.52it/s]"
     ]
    },
    {
     "name": "stderr",
     "output_type": "stream",
     "text": [
      "\r",
      " 49%|█████████████████████████████████████████▉                                            | 12001/24591 [02:23<02:25, 86.49it/s]"
     ]
    },
    {
     "name": "stderr",
     "output_type": "stream",
     "text": [
      "\r",
      " 51%|███████████████████████████████████████████▏                                         | 12501/24591 [02:24<01:44, 115.56it/s]"
     ]
    },
    {
     "name": "stderr",
     "output_type": "stream",
     "text": [
      "\r",
      " 53%|████████████████████████████████████████████▉                                        | 13001/24591 [02:28<01:36, 119.53it/s]"
     ]
    },
    {
     "name": "stderr",
     "output_type": "stream",
     "text": [
      "\r",
      " 55%|██████████████████████████████████████████████▋                                      | 13501/24591 [02:32<01:37, 113.93it/s]"
     ]
    },
    {
     "name": "stderr",
     "output_type": "stream",
     "text": [
      "\r",
      " 55%|██████████████████████████████████████████████▋                                      | 13501/24591 [02:43<01:37, 113.93it/s]"
     ]
    },
    {
     "name": "stderr",
     "output_type": "stream",
     "text": [
      "\r",
      " 57%|████████████████████████████████████████████████▉                                     | 14001/24591 [02:45<02:25, 72.76it/s]"
     ]
    },
    {
     "name": "stderr",
     "output_type": "stream",
     "text": [
      "\r",
      " 57%|████████████████████████████████████████████████▉                                     | 14005/24591 [02:46<02:35, 67.91it/s]"
     ]
    },
    {
     "name": "stderr",
     "output_type": "stream",
     "text": [
      "\r",
      " 59%|██████████████████████████████████████████████████                                   | 14501/24591 [02:46<01:33, 107.39it/s]"
     ]
    },
    {
     "name": "stderr",
     "output_type": "stream",
     "text": [
      "\r",
      " 61%|███████████████████████████████████████████████████▊                                 | 15001/24591 [02:47<00:59, 162.27it/s]"
     ]
    },
    {
     "name": "stderr",
     "output_type": "stream",
     "text": [
      "\r",
      " 63%|█████████████████████████████████████████████████████▌                               | 15501/24591 [02:51<01:05, 137.98it/s]"
     ]
    },
    {
     "name": "stderr",
     "output_type": "stream",
     "text": [
      "\r",
      " 65%|███████████████████████████████████████████████████████▎                             | 16001/24591 [02:56<01:07, 127.21it/s]"
     ]
    },
    {
     "name": "stderr",
     "output_type": "stream",
     "text": [
      "\r",
      " 67%|█████████████████████████████████████████████████████████▋                            | 16501/24591 [03:06<01:34, 86.01it/s]"
     ]
    },
    {
     "name": "stderr",
     "output_type": "stream",
     "text": [
      "\r",
      " 69%|███████████████████████████████████████████████████████████▍                          | 17001/24591 [03:10<01:22, 91.51it/s]"
     ]
    },
    {
     "name": "stderr",
     "output_type": "stream",
     "text": [
      "\r",
      " 71%|█████████████████████████████████████████████████████████████▏                        | 17501/24591 [03:16<01:15, 93.55it/s]"
     ]
    },
    {
     "name": "stderr",
     "output_type": "stream",
     "text": [
      "\r",
      " 73%|██████████████████████████████████████████████████████████████▉                       | 18001/24591 [03:20<01:07, 97.13it/s]"
     ]
    },
    {
     "name": "stderr",
     "output_type": "stream",
     "text": [
      "\r",
      " 75%|███████████████████████████████████████████████████████████████▉                     | 18501/24591 [03:25<01:00, 100.00it/s]"
     ]
    },
    {
     "name": "stderr",
     "output_type": "stream",
     "text": [
      "\r",
      " 77%|█████████████████████████████████████████████████████████████████▋                   | 19001/24591 [03:30<00:54, 101.89it/s]"
     ]
    },
    {
     "name": "stderr",
     "output_type": "stream",
     "text": [
      "\r",
      " 79%|███████████████████████████████████████████████████████████████████▍                 | 19501/24591 [03:34<00:49, 101.99it/s]"
     ]
    },
    {
     "name": "stderr",
     "output_type": "stream",
     "text": [
      "\r",
      " 81%|█████████████████████████████████████████████████████████████████████▏               | 20001/24591 [03:39<00:44, 102.88it/s]"
     ]
    },
    {
     "name": "stderr",
     "output_type": "stream",
     "text": [
      "\r",
      " 83%|██████████████████████████████████████████████████████████████████████▊              | 20501/24591 [03:44<00:40, 101.42it/s]"
     ]
    },
    {
     "name": "stderr",
     "output_type": "stream",
     "text": [
      "\r",
      " 85%|████████████████████████████████████████████████████████████████████████▌            | 21001/24591 [03:49<00:34, 103.20it/s]"
     ]
    },
    {
     "name": "stderr",
     "output_type": "stream",
     "text": [
      "\r",
      " 87%|██████████████████████████████████████████████████████████████████████████▎          | 21501/24591 [03:54<00:29, 103.07it/s]"
     ]
    },
    {
     "name": "stderr",
     "output_type": "stream",
     "text": [
      "\r",
      " 89%|████████████████████████████████████████████████████████████████████████████         | 22001/24591 [03:59<00:24, 104.30it/s]"
     ]
    },
    {
     "name": "stderr",
     "output_type": "stream",
     "text": [
      "\r",
      " 92%|█████████████████████████████████████████████████████████████████████████████▊       | 22501/24591 [04:04<00:20, 102.06it/s]"
     ]
    },
    {
     "name": "stderr",
     "output_type": "stream",
     "text": [
      "\r",
      " 94%|███████████████████████████████████████████████████████████████████████████████▌     | 23001/24591 [04:08<00:15, 102.78it/s]"
     ]
    },
    {
     "name": "stderr",
     "output_type": "stream",
     "text": [
      "\r",
      " 96%|█████████████████████████████████████████████████████████████████████████████████▏   | 23501/24591 [04:12<00:09, 112.61it/s]"
     ]
    },
    {
     "name": "stderr",
     "output_type": "stream",
     "text": [
      "\r",
      " 98%|███████████████████████████████████████████████████████████████████████████████████▉  | 24001/24591 [04:18<00:05, 99.64it/s]"
     ]
    },
    {
     "name": "stderr",
     "output_type": "stream",
     "text": [
      "\r",
      "100%|██████████████████████████████████████████████████████████████████████████████████████| 24591/24591 [04:18<00:00, 95.03it/s]"
     ]
    },
    {
     "name": "stderr",
     "output_type": "stream",
     "text": [
      "\n"
     ]
    },
    {
     "name": "stderr",
     "output_type": "stream",
     "text": [
      "\r",
      "  0%|                                                                                                  | 0/24591 [00:00<?, ?it/s]"
     ]
    },
    {
     "name": "stderr",
     "output_type": "stream",
     "text": [
      "\r",
      "  0%|                                                                                | 1/24591 [2:37:56<64728:36:29, 9476.33s/it]"
     ]
    },
    {
     "name": "stderr",
     "output_type": "stream",
     "text": [
      "\r",
      " 41%|█████████████████████████████████▎                                                | 10001/24591 [4:13:03<5:00:03,  1.23s/it]"
     ]
    },
    {
     "name": "stderr",
     "output_type": "stream",
     "text": [
      "\r",
      " 43%|███████████████████████████████████                                               | 10501/24591 [4:14:47<4:33:43,  1.17s/it]"
     ]
    },
    {
     "name": "stderr",
     "output_type": "stream",
     "text": [
      "\r",
      " 45%|████████████████████████████████████▋                                             | 11001/24591 [4:21:43<4:17:26,  1.14s/it]"
     ]
    },
    {
     "name": "stderr",
     "output_type": "stream",
     "text": [
      "\r",
      " 51%|█████████████████████████████████████████▋                                        | 12501/24591 [4:23:48<2:51:23,  1.18it/s]"
     ]
    },
    {
     "name": "stderr",
     "output_type": "stream",
     "text": [
      "\r",
      " 51%|█████████████████████████████████████████▋                                        | 12501/24591 [4:23:58<2:51:23,  1.18it/s]"
     ]
    },
    {
     "name": "stderr",
     "output_type": "stream",
     "text": [
      "\r",
      " 81%|████████████████████████████████████████████████████████████████████▎               | 20001/24591 [5:26:27<47:26,  1.61it/s]"
     ]
    },
    {
     "name": "stderr",
     "output_type": "stream",
     "text": [
      "\r",
      "100%|████████████████████████████████████████████████████████████████████████████████████| 24591/24591 [5:26:27<00:00,  1.26it/s]"
     ]
    },
    {
     "name": "stderr",
     "output_type": "stream",
     "text": [
      "\n"
     ]
    },
    {
     "name": "stderr",
     "output_type": "stream",
     "text": [
      "\r",
      "  0%|                                               | 0/24591 [00:00<?, ?it/s]"
     ]
    },
    {
     "name": "stderr",
     "output_type": "stream",
     "text": [
      "\r",
      "  0%|                                  | 1/24591 [01:44<715:48:44, 104.80s/it]"
     ]
    },
    {
     "name": "stderr",
     "output_type": "stream",
     "text": [
      "\r",
      "  6%|██▏                                 | 1501/24591 [01:45<18:52, 20.39it/s]"
     ]
    },
    {
     "name": "stderr",
     "output_type": "stream",
     "text": [
      "\r",
      "  6%|██▏                                 | 1501/24591 [01:56<18:52, 20.39it/s]"
     ]
    },
    {
     "name": "stderr",
     "output_type": "stream",
     "text": [
      "\r",
      " 41%|██████████████▏                    | 10001/24591 [03:23<03:48, 63.81it/s]"
     ]
    },
    {
     "name": "stderr",
     "output_type": "stream",
     "text": [
      "\r",
      " 43%|██████████████▉                    | 10501/24591 [03:27<03:33, 66.00it/s]"
     ]
    },
    {
     "name": "stderr",
     "output_type": "stream",
     "text": [
      "\r",
      " 59%|████████████████████              | 14501/24591 [03:27<01:25, 117.63it/s]"
     ]
    },
    {
     "name": "stderr",
     "output_type": "stream",
     "text": [
      "\r",
      " 67%|██████████████████████▊           | 16501/24591 [03:28<00:52, 152.86it/s]"
     ]
    },
    {
     "name": "stderr",
     "output_type": "stream",
     "text": [
      "\r",
      " 69%|███████████████████████▌          | 17001/24591 [03:29<00:47, 160.12it/s]"
     ]
    },
    {
     "name": "stderr",
     "output_type": "stream",
     "text": [
      "\r",
      " 75%|█████████████████████████▌        | 18501/24591 [03:30<00:28, 211.94it/s]"
     ]
    },
    {
     "name": "stderr",
     "output_type": "stream",
     "text": [
      "\r",
      " 75%|█████████████████████████▌        | 18501/24591 [03:46<00:28, 211.94it/s]"
     ]
    },
    {
     "name": "stderr",
     "output_type": "stream",
     "text": [
      "\r",
      " 81%|████████████████████████████▍      | 20001/24591 [04:17<00:54, 84.67it/s]"
     ]
    },
    {
     "name": "stderr",
     "output_type": "stream",
     "text": [
      "\r",
      " 85%|█████████████████████████████     | 21001/24591 [04:18<00:34, 103.24it/s]"
     ]
    },
    {
     "name": "stderr",
     "output_type": "stream",
     "text": [
      "\r",
      " 89%|██████████████████████████████▍   | 22001/24591 [04:18<00:19, 132.12it/s]"
     ]
    },
    {
     "name": "stderr",
     "output_type": "stream",
     "text": [
      "\r",
      " 94%|███████████████████████████████▊  | 23001/24591 [04:19<00:09, 173.50it/s]"
     ]
    },
    {
     "name": "stderr",
     "output_type": "stream",
     "text": [
      "\r",
      " 96%|████████████████████████████████▍ | 23501/24591 [04:19<00:05, 196.39it/s]"
     ]
    },
    {
     "name": "stderr",
     "output_type": "stream",
     "text": [
      "\r",
      "100%|███████████████████████████████████| 24591/24591 [04:19<00:00, 94.71it/s]"
     ]
    },
    {
     "name": "stderr",
     "output_type": "stream",
     "text": [
      "\n"
     ]
    }
   ],
   "source": [
    "drbart_model_R_A_S_RC = DRBART(parser_dir = '../../../models/'+model_name+'/concept-name_resource_seconds-in-day_resource-count/',\n",
    "                     strict_parser=False)\n",
    "evaluator_R_A_S_RC = conduct_evaluation.ConductEvaluation(drbart_model_R_A_S_RC, SampleOutcomes_DRBART_Normal_R_A_S_RC,\n",
    "                                                   {\n",
    "                                                        'activity_key' : 'concept:name',\n",
    "                                                        'resource_key' : 'org:resource_start',\n",
    "                                                        'known_resources' : known_resources\n",
    "                                                    },\n",
    "                                     test_event_log, n=N, n_processes=n_processes)\n",
    "likelihoods_R_A_S_RC = evaluator_R_A_S_RC.sample_cases(False, True)"
   ]
  },
  {
   "cell_type": "code",
   "execution_count": 20,
   "id": "adf31d51-e701-4d65-98d3-66a6decbfb34",
   "metadata": {
    "execution": {
     "iopub.execute_input": "2024-11-23T12:30:14.558626Z",
     "iopub.status.busy": "2024-11-23T12:30:14.558381Z",
     "iopub.status.idle": "2024-11-23T12:30:15.296388Z",
     "shell.execute_reply": "2024-11-23T12:30:15.295732Z"
    }
   },
   "outputs": [
    {
     "data": {
      "text/plain": [
       "Decimal('-5.430988419041773511644517083')"
      ]
     },
     "execution_count": 20,
     "metadata": {},
     "output_type": "execute_result"
    }
   ],
   "source": [
    "np.mean([v.ln() for v in likelihoods_R_A_S_RC[0].values()])"
   ]
  },
  {
   "cell_type": "code",
   "execution_count": 21,
   "id": "6d08d847-1e9c-482c-96d0-2a255bd4201b",
   "metadata": {
    "execution": {
     "iopub.execute_input": "2024-11-23T12:30:15.298792Z",
     "iopub.status.busy": "2024-11-23T12:30:15.298432Z",
     "iopub.status.idle": "2024-11-23T12:30:35.885838Z",
     "shell.execute_reply": "2024-11-23T12:30:35.885103Z"
    }
   },
   "outputs": [
    {
     "data": {
      "text/plain": [
       "np.float64(4325338.168955379)"
      ]
     },
     "execution_count": 21,
     "metadata": {},
     "output_type": "execute_result"
    }
   ],
   "source": [
    "np.mean(get_pscores(likelihoods_R_A_S_RC))"
   ]
  },
  {
   "cell_type": "code",
   "execution_count": 22,
   "id": "0a70d939-f643-4d14-8818-0ad27d6e2550",
   "metadata": {
    "execution": {
     "iopub.execute_input": "2024-11-23T12:30:35.888914Z",
     "iopub.status.busy": "2024-11-23T12:30:35.888037Z",
     "iopub.status.idle": "2024-11-24T04:02:00.809783Z",
     "shell.execute_reply": "2024-11-24T04:02:00.806069Z"
    }
   },
   "outputs": [
    {
     "name": "stderr",
     "output_type": "stream",
     "text": [
      "\r",
      "  0%|                                               | 0/24591 [00:00<?, ?it/s]"
     ]
    },
    {
     "name": "stderr",
     "output_type": "stream",
     "text": [
      "\r",
      "  0%|                                   | 1/24591 [00:23<162:57:50, 23.86s/it]"
     ]
    },
    {
     "name": "stderr",
     "output_type": "stream",
     "text": [
      "\r",
      "  2%|▊                                    | 501/24591 [00:28<16:56, 23.69it/s]"
     ]
    },
    {
     "name": "stderr",
     "output_type": "stream",
     "text": [
      "\r",
      "  4%|█▍                                  | 1001/24591 [00:32<08:56, 43.98it/s]"
     ]
    },
    {
     "name": "stderr",
     "output_type": "stream",
     "text": [
      "\r",
      "  6%|██▏                                 | 1501/24591 [00:37<06:29, 59.31it/s]"
     ]
    },
    {
     "name": "stderr",
     "output_type": "stream",
     "text": [
      "\r",
      "  6%|██▏                                 | 1501/24591 [00:51<06:29, 59.31it/s]"
     ]
    },
    {
     "name": "stderr",
     "output_type": "stream",
     "text": [
      "\r",
      "  8%|██▉                                 | 2001/24591 [00:52<08:19, 45.19it/s]"
     ]
    },
    {
     "name": "stderr",
     "output_type": "stream",
     "text": [
      "\r",
      " 10%|███▋                                | 2501/24591 [00:53<05:14, 70.13it/s]"
     ]
    },
    {
     "name": "stderr",
     "output_type": "stream",
     "text": [
      "\r",
      " 12%|████▎                              | 3001/24591 [00:53<03:26, 104.71it/s]"
     ]
    },
    {
     "name": "stderr",
     "output_type": "stream",
     "text": [
      "\r",
      " 14%|████▉                              | 3501/24591 [00:57<03:20, 105.24it/s]"
     ]
    },
    {
     "name": "stderr",
     "output_type": "stream",
     "text": [
      "\r",
      " 16%|█████▋                             | 4001/24591 [01:02<03:12, 106.73it/s]"
     ]
    },
    {
     "name": "stderr",
     "output_type": "stream",
     "text": [
      "\r",
      " 16%|█████▋                             | 4001/24591 [01:12<03:12, 106.73it/s]"
     ]
    },
    {
     "name": "stderr",
     "output_type": "stream",
     "text": [
      "\r",
      " 18%|██████▌                             | 4501/24591 [01:13<04:27, 74.99it/s]"
     ]
    },
    {
     "name": "stderr",
     "output_type": "stream",
     "text": [
      "\r",
      " 20%|███████▎                            | 5001/24591 [01:17<03:50, 84.91it/s]"
     ]
    },
    {
     "name": "stderr",
     "output_type": "stream",
     "text": [
      "\r",
      " 22%|████████                            | 5501/24591 [01:22<03:30, 90.82it/s]"
     ]
    },
    {
     "name": "stderr",
     "output_type": "stream",
     "text": [
      "\r",
      " 24%|████████▊                           | 6001/24591 [01:27<03:16, 94.84it/s]"
     ]
    },
    {
     "name": "stderr",
     "output_type": "stream",
     "text": [
      "\r",
      " 26%|█████████▌                          | 6501/24591 [01:31<03:01, 99.70it/s]"
     ]
    },
    {
     "name": "stderr",
     "output_type": "stream",
     "text": [
      "\r",
      " 28%|█████████▉                         | 7001/24591 [01:35<02:51, 102.63it/s]"
     ]
    },
    {
     "name": "stderr",
     "output_type": "stream",
     "text": [
      "\r",
      " 31%|██████████▋                        | 7501/24591 [01:40<02:45, 103.54it/s]"
     ]
    },
    {
     "name": "stderr",
     "output_type": "stream",
     "text": [
      "\r",
      " 33%|███████████▋                        | 8001/24591 [01:49<03:19, 83.24it/s]"
     ]
    },
    {
     "name": "stderr",
     "output_type": "stream",
     "text": [
      "\r",
      " 35%|████████████                       | 8501/24591 [01:50<02:21, 113.61it/s]"
     ]
    },
    {
     "name": "stderr",
     "output_type": "stream",
     "text": [
      "\r",
      " 37%|████████████▊                      | 9001/24591 [01:54<02:18, 112.74it/s]"
     ]
    },
    {
     "name": "stderr",
     "output_type": "stream",
     "text": [
      "\r",
      " 39%|█████████████▌                     | 9501/24591 [01:59<02:13, 112.99it/s]"
     ]
    },
    {
     "name": "stderr",
     "output_type": "stream",
     "text": [
      "\r",
      " 41%|█████████████▊                    | 10001/24591 [02:03<02:12, 109.70it/s]"
     ]
    },
    {
     "name": "stderr",
     "output_type": "stream",
     "text": [
      "\r",
      " 43%|██████████████▌                   | 10501/24591 [02:08<02:09, 108.52it/s]"
     ]
    },
    {
     "name": "stderr",
     "output_type": "stream",
     "text": [
      "\r",
      " 45%|███████████████▏                  | 11001/24591 [02:13<02:03, 110.11it/s]"
     ]
    },
    {
     "name": "stderr",
     "output_type": "stream",
     "text": [
      "\r",
      " 47%|███████████████▉                  | 11501/24591 [02:17<01:58, 110.17it/s]"
     ]
    },
    {
     "name": "stderr",
     "output_type": "stream",
     "text": [
      "\r",
      " 49%|████████████████▌                 | 12001/24591 [02:22<01:59, 105.60it/s]"
     ]
    },
    {
     "name": "stderr",
     "output_type": "stream",
     "text": [
      "\r",
      " 51%|█████████████████▎                | 12501/24591 [02:27<01:54, 105.61it/s]"
     ]
    },
    {
     "name": "stderr",
     "output_type": "stream",
     "text": [
      "\r",
      " 53%|█████████████████▉                | 13001/24591 [02:32<01:49, 105.39it/s]"
     ]
    },
    {
     "name": "stderr",
     "output_type": "stream",
     "text": [
      "\r",
      " 55%|██████████████████▋               | 13501/24591 [02:36<01:42, 108.29it/s]"
     ]
    },
    {
     "name": "stderr",
     "output_type": "stream",
     "text": [
      "\r",
      " 57%|███████████████████▎              | 14001/24591 [02:41<01:36, 109.21it/s]"
     ]
    },
    {
     "name": "stderr",
     "output_type": "stream",
     "text": [
      "\r",
      " 59%|████████████████████              | 14501/24591 [02:45<01:33, 108.37it/s]"
     ]
    },
    {
     "name": "stderr",
     "output_type": "stream",
     "text": [
      "\r",
      " 61%|████████████████████▋             | 15001/24591 [02:50<01:27, 109.36it/s]"
     ]
    },
    {
     "name": "stderr",
     "output_type": "stream",
     "text": [
      "\r",
      " 63%|█████████████████████▍            | 15501/24591 [02:55<01:24, 107.21it/s]"
     ]
    },
    {
     "name": "stderr",
     "output_type": "stream",
     "text": [
      "\r",
      " 65%|██████████████████████            | 16001/24591 [02:59<01:19, 107.41it/s]"
     ]
    },
    {
     "name": "stderr",
     "output_type": "stream",
     "text": [
      "\r",
      " 67%|██████████████████████▊           | 16501/24591 [03:03<01:12, 110.82it/s]"
     ]
    },
    {
     "name": "stderr",
     "output_type": "stream",
     "text": [
      "\r",
      " 69%|███████████████████████▌          | 17001/24591 [03:09<01:13, 103.79it/s]"
     ]
    },
    {
     "name": "stderr",
     "output_type": "stream",
     "text": [
      "\r",
      " 71%|████████████████████████▏         | 17501/24591 [03:13<01:06, 107.19it/s]"
     ]
    },
    {
     "name": "stderr",
     "output_type": "stream",
     "text": [
      "\r",
      " 73%|████████████████████████▉         | 18001/24591 [03:18<01:02, 106.28it/s]"
     ]
    },
    {
     "name": "stderr",
     "output_type": "stream",
     "text": [
      "\r",
      " 75%|█████████████████████████▌        | 18501/24591 [03:22<00:55, 110.35it/s]"
     ]
    },
    {
     "name": "stderr",
     "output_type": "stream",
     "text": [
      "\r",
      " 77%|███████████████████████████        | 19001/24591 [03:32<01:07, 82.70it/s]"
     ]
    },
    {
     "name": "stderr",
     "output_type": "stream",
     "text": [
      "\r",
      " 79%|██████████████████████████▉       | 19501/24591 [03:33<00:45, 112.08it/s]"
     ]
    },
    {
     "name": "stderr",
     "output_type": "stream",
     "text": [
      "\r",
      " 81%|███████████████████████████▋      | 20001/24591 [03:37<00:39, 115.19it/s]"
     ]
    },
    {
     "name": "stderr",
     "output_type": "stream",
     "text": [
      "\r",
      " 83%|████████████████████████████▎     | 20501/24591 [03:41<00:36, 113.09it/s]"
     ]
    },
    {
     "name": "stderr",
     "output_type": "stream",
     "text": [
      "\r",
      " 85%|█████████████████████████████     | 21001/24591 [03:46<00:32, 110.86it/s]"
     ]
    },
    {
     "name": "stderr",
     "output_type": "stream",
     "text": [
      "\r",
      " 87%|█████████████████████████████▋    | 21501/24591 [03:51<00:28, 106.65it/s]"
     ]
    },
    {
     "name": "stderr",
     "output_type": "stream",
     "text": [
      "\r",
      " 89%|██████████████████████████████▍   | 22001/24591 [03:55<00:23, 108.70it/s]"
     ]
    },
    {
     "name": "stderr",
     "output_type": "stream",
     "text": [
      "\r",
      " 92%|███████████████████████████████   | 22501/24591 [04:00<00:19, 109.88it/s]"
     ]
    },
    {
     "name": "stderr",
     "output_type": "stream",
     "text": [
      "\r",
      " 92%|███████████████████████████████   | 22501/24591 [04:11<00:19, 109.88it/s]"
     ]
    },
    {
     "name": "stderr",
     "output_type": "stream",
     "text": [
      "\r",
      " 94%|████████████████████████████████▋  | 23001/24591 [04:11<00:20, 77.50it/s]"
     ]
    },
    {
     "name": "stderr",
     "output_type": "stream",
     "text": [
      "\r",
      " 96%|████████████████████████████████▍ | 23501/24591 [04:11<00:09, 109.07it/s]"
     ]
    },
    {
     "name": "stderr",
     "output_type": "stream",
     "text": [
      "\r",
      " 98%|█████████████████████████████████▏| 24001/24591 [04:16<00:05, 106.90it/s]"
     ]
    },
    {
     "name": "stderr",
     "output_type": "stream",
     "text": [
      "\r",
      "100%|███████████████████████████████████| 24591/24591 [04:16<00:00, 95.93it/s]"
     ]
    },
    {
     "name": "stderr",
     "output_type": "stream",
     "text": [
      "\n"
     ]
    },
    {
     "name": "stderr",
     "output_type": "stream",
     "text": [
      "\r",
      "  0%|                                               | 0/24591 [00:00<?, ?it/s]"
     ]
    },
    {
     "name": "stderr",
     "output_type": "stream",
     "text": [
      "\r",
      "  0%|                           | 1/24591 [9:08:33<224820:39:19, 32913.96s/it]"
     ]
    },
    {
     "name": "stderr",
     "output_type": "stream",
     "text": [
      "\r",
      " 10%|███▏                           | 2501/24591 [9:09:35<56:41:08,  9.24s/it]"
     ]
    },
    {
     "name": "stderr",
     "output_type": "stream",
     "text": [
      "\r",
      " 10%|███▏                           | 2501/24591 [9:09:54<56:41:08,  9.24s/it]"
     ]
    },
    {
     "name": "stderr",
     "output_type": "stream",
     "text": [
      "\r",
      " 41%|███████████▊                 | 10001/24591 [12:49:00<12:51:09,  3.17s/it]"
     ]
    },
    {
     "name": "stderr",
     "output_type": "stream",
     "text": [
      "\r",
      " 43%|████████████▍                | 10501/24591 [13:07:21<12:08:24,  3.10s/it]"
     ]
    },
    {
     "name": "stderr",
     "output_type": "stream",
     "text": [
      "\r",
      " 45%|████████████▉                | 11001/24591 [13:11:32<10:47:51,  2.86s/it]"
     ]
    },
    {
     "name": "stderr",
     "output_type": "stream",
     "text": [
      "\r",
      " 47%|██████████████                | 11501/24591 [13:25:21<9:53:17,  2.72s/it]"
     ]
    },
    {
     "name": "stderr",
     "output_type": "stream",
     "text": [
      "\r",
      " 51%|███████████████▎              | 12501/24591 [13:26:34<6:54:12,  2.06s/it]"
     ]
    },
    {
     "name": "stderr",
     "output_type": "stream",
     "text": [
      "\r",
      " 51%|███████████████▎              | 12501/24591 [13:26:46<6:54:12,  2.06s/it]"
     ]
    },
    {
     "name": "stderr",
     "output_type": "stream",
     "text": [
      "\r",
      " 81%|████████████████████████▍     | 20001/24591 [15:15:48<1:31:22,  1.19s/it]"
     ]
    },
    {
     "name": "stderr",
     "output_type": "stream",
     "text": [
      "\r",
      " 83%|█████████████████████████     | 20501/24591 [15:24:29<1:20:44,  1.18s/it]"
     ]
    },
    {
     "name": "stderr",
     "output_type": "stream",
     "text": [
      "\r",
      "100%|████████████████████████████████| 24591/24591 [15:24:29<00:00,  2.26s/it]"
     ]
    },
    {
     "name": "stderr",
     "output_type": "stream",
     "text": [
      "\n"
     ]
    },
    {
     "name": "stderr",
     "output_type": "stream",
     "text": [
      "\r",
      "  0%|                                               | 0/24591 [00:00<?, ?it/s]"
     ]
    },
    {
     "name": "stderr",
     "output_type": "stream",
     "text": [
      "\r",
      "  0%|                                   | 1/24591 [00:47<323:39:24, 47.38s/it]"
     ]
    },
    {
     "name": "stderr",
     "output_type": "stream",
     "text": [
      "\r",
      "  4%|█▍                                  | 1001/24591 [00:47<13:12, 29.76it/s]"
     ]
    },
    {
     "name": "stderr",
     "output_type": "stream",
     "text": [
      "\r",
      " 12%|████▎                              | 3001/24591 [00:48<03:11, 112.94it/s]"
     ]
    },
    {
     "name": "stderr",
     "output_type": "stream",
     "text": [
      "\r",
      " 22%|███████▊                           | 5501/24591 [00:48<01:14, 255.38it/s]"
     ]
    },
    {
     "name": "stderr",
     "output_type": "stream",
     "text": [
      "\r",
      " 26%|█████████▎                         | 6501/24591 [00:49<00:57, 315.79it/s]"
     ]
    },
    {
     "name": "stderr",
     "output_type": "stream",
     "text": [
      "\r",
      " 37%|████████████▊                      | 9001/24591 [00:49<00:26, 585.65it/s]"
     ]
    },
    {
     "name": "stderr",
     "output_type": "stream",
     "text": [
      "\r",
      " 37%|████████████▊                      | 9001/24591 [01:02<00:26, 585.65it/s]"
     ]
    },
    {
     "name": "stderr",
     "output_type": "stream",
     "text": [
      "\r",
      " 41%|██████████████▏                    | 10001/24591 [01:31<02:28, 98.06it/s]"
     ]
    },
    {
     "name": "stderr",
     "output_type": "stream",
     "text": [
      "\r",
      " 43%|██████████████▌                   | 10501/24591 [01:32<02:07, 110.53it/s]"
     ]
    },
    {
     "name": "stderr",
     "output_type": "stream",
     "text": [
      "\r",
      " 46%|███████████████▌                  | 11214/24591 [01:32<01:37, 137.09it/s]"
     ]
    },
    {
     "name": "stderr",
     "output_type": "stream",
     "text": [
      "\r",
      " 48%|████████████████▏                 | 11740/24591 [01:33<01:18, 162.68it/s]"
     ]
    },
    {
     "name": "stderr",
     "output_type": "stream",
     "text": [
      "\r",
      " 57%|███████████████████▎              | 14001/24591 [01:33<00:31, 337.76it/s]"
     ]
    },
    {
     "name": "stderr",
     "output_type": "stream",
     "text": [
      "\r",
      " 59%|████████████████████▏             | 14577/24591 [01:33<00:25, 395.34it/s]"
     ]
    },
    {
     "name": "stderr",
     "output_type": "stream",
     "text": [
      "\r",
      " 65%|██████████████████████            | 16001/24591 [01:34<00:14, 590.19it/s]"
     ]
    },
    {
     "name": "stderr",
     "output_type": "stream",
     "text": [
      "\r",
      " 69%|███████████████████████▌          | 17001/24591 [01:34<00:09, 765.98it/s]"
     ]
    },
    {
     "name": "stderr",
     "output_type": "stream",
     "text": [
      "\r",
      " 71%|████████████████████████▏         | 17501/24591 [01:34<00:08, 870.31it/s]"
     ]
    },
    {
     "name": "stderr",
     "output_type": "stream",
     "text": [
      "\r",
      " 73%|████████████████████████▉         | 18001/24591 [01:34<00:06, 969.27it/s]"
     ]
    },
    {
     "name": "stderr",
     "output_type": "stream",
     "text": [
      "\r",
      " 75%|█████████████████████████▌        | 18501/24591 [01:35<00:07, 833.74it/s]"
     ]
    },
    {
     "name": "stderr",
     "output_type": "stream",
     "text": [
      "\r",
      " 77%|██████████████████████████▎       | 19001/24591 [01:35<00:05, 984.84it/s]"
     ]
    },
    {
     "name": "stderr",
     "output_type": "stream",
     "text": [
      "\r",
      " 79%|██████████████████████████▉       | 19501/24591 [01:40<00:15, 333.96it/s]"
     ]
    },
    {
     "name": "stderr",
     "output_type": "stream",
     "text": [
      "\r",
      " 79%|██████████████████████████▉       | 19501/24591 [01:52<00:15, 333.96it/s]"
     ]
    },
    {
     "name": "stderr",
     "output_type": "stream",
     "text": [
      "\r",
      " 81%|████████████████████████████▍      | 20001/24591 [02:16<01:37, 47.10it/s]"
     ]
    },
    {
     "name": "stderr",
     "output_type": "stream",
     "text": [
      "\r",
      " 83%|█████████████████████████████▏     | 20501/24591 [02:17<01:04, 62.94it/s]"
     ]
    },
    {
     "name": "stderr",
     "output_type": "stream",
     "text": [
      "\r",
      " 85%|█████████████████████████████▉     | 21001/24591 [02:18<00:43, 83.25it/s]"
     ]
    },
    {
     "name": "stderr",
     "output_type": "stream",
     "text": [
      "\r",
      " 87%|█████████████████████████████▋    | 21501/24591 [02:19<00:27, 110.77it/s]"
     ]
    },
    {
     "name": "stderr",
     "output_type": "stream",
     "text": [
      "\r",
      " 94%|███████████████████████████████▊  | 23001/24591 [02:20<00:06, 227.23it/s]"
     ]
    },
    {
     "name": "stderr",
     "output_type": "stream",
     "text": [
      "\r",
      "100%|██████████████████████████████████| 24591/24591 [02:20<00:00, 175.34it/s]"
     ]
    },
    {
     "name": "stderr",
     "output_type": "stream",
     "text": [
      "\n"
     ]
    }
   ],
   "source": [
    "drbart_model_R_A_S_RC_AC = DRBART(parser_dir = '../../../models/'+model_name+'/concept-name_resource_seconds-in-day_activity-count_resource_count/',\n",
    "                     strict_parser=False)\n",
    "evaluator_R_A_S_RC_AC = conduct_evaluation.ConductEvaluation(drbart_model_R_A_S_RC_AC, SampleOutcomes_DRBART_Normal_R_A_S_RC_AC,\n",
    "                                                   {\n",
    "                                                        'activity_key' : 'concept:name',\n",
    "                                                        'resource_key' : 'org:resource_start',\n",
    "                                                        'known_resources' : known_resources,\n",
    "                                                        'known_activities' : known_activities,\n",
    "                                                    },\n",
    "                                     test_event_log, n=N, n_processes=n_processes)\n",
    "likelihoods_R_A_S_RC_AC = evaluator_R_A_S_RC_AC.sample_cases(False, True)"
   ]
  },
  {
   "cell_type": "code",
   "execution_count": 23,
   "id": "1dc0c22b-5c03-48ad-ad3b-f4856bf283f6",
   "metadata": {
    "execution": {
     "iopub.execute_input": "2024-11-24T04:02:00.820424Z",
     "iopub.status.busy": "2024-11-24T04:02:00.819598Z",
     "iopub.status.idle": "2024-11-24T04:02:01.761376Z",
     "shell.execute_reply": "2024-11-24T04:02:01.759093Z"
    }
   },
   "outputs": [
    {
     "data": {
      "text/plain": [
       "Decimal('-Infinity')"
      ]
     },
     "execution_count": 23,
     "metadata": {},
     "output_type": "execute_result"
    }
   ],
   "source": [
    "np.mean([v.ln() for v in likelihoods_R_A_S_RC_AC[0].values()])"
   ]
  },
  {
   "cell_type": "code",
   "execution_count": 24,
   "id": "46cc5f25-0676-4bc5-890d-2a127a5617e3",
   "metadata": {
    "execution": {
     "iopub.execute_input": "2024-11-24T04:02:01.767063Z",
     "iopub.status.busy": "2024-11-24T04:02:01.766737Z",
     "iopub.status.idle": "2024-11-24T04:02:20.610960Z",
     "shell.execute_reply": "2024-11-24T04:02:20.608663Z"
    }
   },
   "outputs": [
    {
     "data": {
      "text/plain": [
       "np.float64(3.0009038512066285e+17)"
      ]
     },
     "execution_count": 24,
     "metadata": {},
     "output_type": "execute_result"
    }
   ],
   "source": [
    "np.mean(get_pscores(likelihoods_R_A_S_RC_AC))"
   ]
  },
  {
   "cell_type": "code",
   "execution_count": 25,
   "id": "bc343074-59e9-4883-b8b4-4c5497133d6a",
   "metadata": {
    "execution": {
     "iopub.execute_input": "2024-11-24T04:02:20.618682Z",
     "iopub.status.busy": "2024-11-24T04:02:20.617924Z",
     "iopub.status.idle": "2024-11-24T04:07:04.762758Z",
     "shell.execute_reply": "2024-11-24T04:07:04.760269Z"
    }
   },
   "outputs": [
    {
     "name": "stderr",
     "output_type": "stream",
     "text": [
      "\r",
      "  0%|                                               | 0/24591 [00:00<?, ?it/s]"
     ]
    },
    {
     "name": "stderr",
     "output_type": "stream",
     "text": [
      "\r",
      "  0%|                                   | 1/24591 [00:24<170:30:15, 24.96s/it]"
     ]
    },
    {
     "name": "stderr",
     "output_type": "stream",
     "text": [
      "\r",
      "  2%|▊                                    | 501/24591 [00:29<17:18, 23.19it/s]"
     ]
    },
    {
     "name": "stderr",
     "output_type": "stream",
     "text": [
      "\r",
      "  4%|█▍                                  | 1001/24591 [00:38<11:10, 35.16it/s]"
     ]
    },
    {
     "name": "stderr",
     "output_type": "stream",
     "text": [
      "\r",
      "  6%|██▏                                 | 1501/24591 [00:39<06:26, 59.71it/s]"
     ]
    },
    {
     "name": "stderr",
     "output_type": "stream",
     "text": [
      "\r",
      "  8%|██▉                                 | 2001/24591 [00:43<04:50, 77.72it/s]"
     ]
    },
    {
     "name": "stderr",
     "output_type": "stream",
     "text": [
      "\r",
      " 10%|███▋                                | 2501/24591 [00:48<04:27, 82.73it/s]"
     ]
    },
    {
     "name": "stderr",
     "output_type": "stream",
     "text": [
      "\r",
      " 12%|████▍                               | 3001/24591 [00:53<04:01, 89.57it/s]"
     ]
    },
    {
     "name": "stderr",
     "output_type": "stream",
     "text": [
      "\r",
      " 14%|█████▏                              | 3501/24591 [00:57<03:39, 96.07it/s]"
     ]
    },
    {
     "name": "stderr",
     "output_type": "stream",
     "text": [
      "\r",
      " 16%|█████▊                              | 4001/24591 [01:02<03:35, 95.57it/s]"
     ]
    },
    {
     "name": "stderr",
     "output_type": "stream",
     "text": [
      "\r",
      " 18%|██████▍                            | 4501/24591 [01:06<03:12, 104.12it/s]"
     ]
    },
    {
     "name": "stderr",
     "output_type": "stream",
     "text": [
      "\r",
      " 20%|███████▎                            | 5001/24591 [01:12<03:19, 98.00it/s]"
     ]
    },
    {
     "name": "stderr",
     "output_type": "stream",
     "text": [
      "\r",
      " 22%|███████▊                           | 5501/24591 [01:16<03:01, 105.14it/s]"
     ]
    },
    {
     "name": "stderr",
     "output_type": "stream",
     "text": [
      "\r",
      " 24%|████████▊                           | 6001/24591 [01:24<03:30, 88.15it/s]"
     ]
    },
    {
     "name": "stderr",
     "output_type": "stream",
     "text": [
      "\r",
      " 26%|█████████▎                         | 6501/24591 [01:25<02:33, 117.83it/s]"
     ]
    },
    {
     "name": "stderr",
     "output_type": "stream",
     "text": [
      "\r",
      " 28%|█████████▉                         | 7001/24591 [01:30<02:36, 112.16it/s]"
     ]
    },
    {
     "name": "stderr",
     "output_type": "stream",
     "text": [
      "\r",
      " 31%|██████████▋                        | 7501/24591 [01:34<02:29, 114.65it/s]"
     ]
    },
    {
     "name": "stderr",
     "output_type": "stream",
     "text": [
      "\r",
      " 33%|███████████▍                       | 8001/24591 [01:38<02:28, 111.65it/s]"
     ]
    },
    {
     "name": "stderr",
     "output_type": "stream",
     "text": [
      "\r",
      " 35%|████████████                       | 8501/24591 [01:43<02:27, 108.77it/s]"
     ]
    },
    {
     "name": "stderr",
     "output_type": "stream",
     "text": [
      "\r",
      " 37%|████████████▊                      | 9001/24591 [01:48<02:25, 107.06it/s]"
     ]
    },
    {
     "name": "stderr",
     "output_type": "stream",
     "text": [
      "\r",
      " 39%|█████████████▌                     | 9501/24591 [01:54<02:30, 100.17it/s]"
     ]
    },
    {
     "name": "stderr",
     "output_type": "stream",
     "text": [
      "\r",
      " 41%|█████████████▊                    | 10001/24591 [01:57<02:10, 111.44it/s]"
     ]
    },
    {
     "name": "stderr",
     "output_type": "stream",
     "text": [
      "\r",
      " 43%|██████████████▉                    | 10501/24591 [02:06<02:45, 85.12it/s]"
     ]
    },
    {
     "name": "stderr",
     "output_type": "stream",
     "text": [
      "\r",
      " 45%|███████████████▏                  | 11001/24591 [02:07<01:54, 118.27it/s]"
     ]
    },
    {
     "name": "stderr",
     "output_type": "stream",
     "text": [
      "\r",
      " 47%|███████████████▉                  | 11501/24591 [02:12<02:00, 108.77it/s]"
     ]
    },
    {
     "name": "stderr",
     "output_type": "stream",
     "text": [
      "\r",
      " 49%|████████████████▌                 | 12001/24591 [02:16<01:47, 117.65it/s]"
     ]
    },
    {
     "name": "stderr",
     "output_type": "stream",
     "text": [
      "\r",
      " 51%|█████████████████▎                | 12501/24591 [02:20<01:43, 116.68it/s]"
     ]
    },
    {
     "name": "stderr",
     "output_type": "stream",
     "text": [
      "\r",
      " 53%|█████████████████▉                | 13001/24591 [02:25<01:42, 113.01it/s]"
     ]
    },
    {
     "name": "stderr",
     "output_type": "stream",
     "text": [
      "\r",
      " 55%|███████████████████▏               | 13501/24591 [02:33<02:05, 88.21it/s]"
     ]
    },
    {
     "name": "stderr",
     "output_type": "stream",
     "text": [
      "\r",
      " 57%|███████████████████▎              | 14001/24591 [02:34<01:26, 122.07it/s]"
     ]
    },
    {
     "name": "stderr",
     "output_type": "stream",
     "text": [
      "\r",
      " 59%|████████████████████              | 14501/24591 [02:38<01:25, 117.49it/s]"
     ]
    },
    {
     "name": "stderr",
     "output_type": "stream",
     "text": [
      "\r",
      " 61%|████████████████████▋             | 15001/24591 [02:43<01:26, 110.66it/s]"
     ]
    },
    {
     "name": "stderr",
     "output_type": "stream",
     "text": [
      "\r",
      " 63%|██████████████████████             | 15501/24591 [02:52<01:43, 87.42it/s]"
     ]
    },
    {
     "name": "stderr",
     "output_type": "stream",
     "text": [
      "\r",
      " 65%|██████████████████████            | 16001/24591 [02:52<01:09, 123.26it/s]"
     ]
    },
    {
     "name": "stderr",
     "output_type": "stream",
     "text": [
      "\r",
      " 67%|██████████████████████▊           | 16501/24591 [02:58<01:12, 110.83it/s]"
     ]
    },
    {
     "name": "stderr",
     "output_type": "stream",
     "text": [
      "\r",
      " 69%|███████████████████████▌          | 17001/24591 [03:02<01:07, 113.20it/s]"
     ]
    },
    {
     "name": "stderr",
     "output_type": "stream",
     "text": [
      "\r",
      " 69%|███████████████████████▌          | 17001/24591 [03:17<01:07, 113.20it/s]"
     ]
    },
    {
     "name": "stderr",
     "output_type": "stream",
     "text": [
      "\r",
      " 71%|████████████████████████▉          | 17501/24591 [03:21<02:03, 57.37it/s]"
     ]
    },
    {
     "name": "stderr",
     "output_type": "stream",
     "text": [
      "\r",
      " 73%|█████████████████████████▌         | 18001/24591 [03:21<01:21, 81.27it/s]"
     ]
    },
    {
     "name": "stderr",
     "output_type": "stream",
     "text": [
      "\r",
      " 75%|█████████████████████████▌        | 18501/24591 [03:21<00:53, 114.65it/s]"
     ]
    },
    {
     "name": "stderr",
     "output_type": "stream",
     "text": [
      "\r",
      " 77%|██████████████████████████▎       | 19001/24591 [03:21<00:34, 161.29it/s]"
     ]
    },
    {
     "name": "stderr",
     "output_type": "stream",
     "text": [
      "\r",
      " 79%|██████████████████████████▉       | 19501/24591 [03:26<00:35, 142.21it/s]"
     ]
    },
    {
     "name": "stderr",
     "output_type": "stream",
     "text": [
      "\r",
      " 79%|██████████████████████████▉       | 19501/24591 [03:39<00:35, 142.21it/s]"
     ]
    },
    {
     "name": "stderr",
     "output_type": "stream",
     "text": [
      "\r",
      " 81%|████████████████████████████▍      | 20001/24591 [03:40<01:01, 75.22it/s]"
     ]
    },
    {
     "name": "stderr",
     "output_type": "stream",
     "text": [
      "\r",
      " 83%|█████████████████████████████▏     | 20501/24591 [03:44<00:49, 82.44it/s]"
     ]
    },
    {
     "name": "stderr",
     "output_type": "stream",
     "text": [
      "\r",
      " 85%|█████████████████████████████▉     | 21001/24591 [03:49<00:40, 88.15it/s]"
     ]
    },
    {
     "name": "stderr",
     "output_type": "stream",
     "text": [
      "\r",
      " 87%|██████████████████████████████▌    | 21501/24591 [03:55<00:34, 88.49it/s]"
     ]
    },
    {
     "name": "stderr",
     "output_type": "stream",
     "text": [
      "\r",
      " 89%|███████████████████████████████▎   | 22001/24591 [03:58<00:25, 99.77it/s]"
     ]
    },
    {
     "name": "stderr",
     "output_type": "stream",
     "text": [
      "\r",
      " 92%|███████████████████████████████   | 22501/24591 [04:03<00:20, 104.00it/s]"
     ]
    },
    {
     "name": "stderr",
     "output_type": "stream",
     "text": [
      "\r",
      " 94%|████████████████████████████████▋  | 23001/24591 [04:08<00:15, 99.38it/s]"
     ]
    },
    {
     "name": "stderr",
     "output_type": "stream",
     "text": [
      "\r",
      " 96%|████████████████████████████████▍ | 23501/24591 [04:12<00:10, 108.13it/s]"
     ]
    },
    {
     "name": "stderr",
     "output_type": "stream",
     "text": [
      "\r",
      " 98%|█████████████████████████████████▏| 24001/24591 [04:16<00:05, 109.93it/s]"
     ]
    },
    {
     "name": "stderr",
     "output_type": "stream",
     "text": [
      "\r",
      "100%|███████████████████████████████████| 24591/24591 [04:16<00:00, 95.81it/s]"
     ]
    },
    {
     "name": "stderr",
     "output_type": "stream",
     "text": [
      "\n"
     ]
    },
    {
     "name": "stderr",
     "output_type": "stream",
     "text": [
      "\r",
      "  0%|                                               | 0/24591 [00:00<?, ?it/s]"
     ]
    },
    {
     "name": "stderr",
     "output_type": "stream",
     "text": [
      "\r",
      "  0%|                                               | 0/24591 [00:06<?, ?it/s]"
     ]
    },
    {
     "name": "stderr",
     "output_type": "stream",
     "text": [
      "\n"
     ]
    },
    {
     "ename": "TypeError",
     "evalue": "'<' not supported between instances of 'NoneType' and 'float'",
     "output_type": "error",
     "traceback": [
      "\u001b[0;31m---------------------------------------------------------------------------\u001b[0m",
      "\u001b[0;31mRemoteTraceback\u001b[0m                           Traceback (most recent call last)",
      "\u001b[0;31mRemoteTraceback\u001b[0m: \n\"\"\"\nTraceback (most recent call last):\n  File \"/home/fedora/.pyenv/versions/3.10.15/lib/python3.10/multiprocessing/pool.py\", line 125, in worker\n    result = (True, func(*args, **kwds))\n  File \"/home/fedora/.pyenv/versions/3.10.15/lib/python3.10/multiprocessing/pool.py\", line 48, in mapstar\n    return list(map(*args))\n  File \"/home/fedora/Projects/TaskExecutionTimeMining/src/notebooks/BPIC_2017/../../Evaluation/conduct_evaluation.py\", line 108, in sample_case_static\n    return [sample_model.sample_case(case_log) for i in range(n)]\n  File \"/home/fedora/Projects/TaskExecutionTimeMining/src/notebooks/BPIC_2017/../../Evaluation/conduct_evaluation.py\", line 108, in <listcomp>\n    return [sample_model.sample_case(case_log) for i in range(n)]\n  File \"/home/fedora/Projects/TaskExecutionTimeMining/src/notebooks/BPIC_2017/../../Evaluation/normal_evaluation/normal_evaluation.py\", line 95, in sample_case\n    return self.sample_end_time(case_log, start_time)\n  File \"/home/fedora/Projects/TaskExecutionTimeMining/src/notebooks/BPIC_2017/../../Evaluation/normal_evaluation/normal_evaluation.py\", line 71, in sample_end_time\n    finish_time = self.sample_duration(seconds_in_day = seconds_in_day,\n  File \"/home/fedora/Projects/TaskExecutionTimeMining/src/notebooks/BPIC_2017/../../Evaluation/normal_evaluation/drbart_evaluation.py\", line 33, in sample_duration\n    sampled_time = sample_time()\n  File \"/home/fedora/Projects/TaskExecutionTimeMining/src/notebooks/BPIC_2017/../../Evaluation/normal_evaluation/drbart_evaluation.py\", line 31, in <lambda>\n    sample_time = lambda : pf()[1][0]\n  File \"/home/fedora/Projects/TaskExecutionTimeMining/src/notebooks/BPIC_2017/../../TaskExecutionTimeMining/drbart_parser.py\", line 267, in sample\n    res = self.sample_enc(x_rows, n)\n  File \"/home/fedora/Projects/TaskExecutionTimeMining/src/notebooks/BPIC_2017/../../TaskExecutionTimeMining/drbart_parser.py\", line 302, in sample_enc\n    mean = self.all_trees.mean_trees[selected_it].fit_i(des)\n  File \"/home/fedora/Projects/TaskExecutionTimeMining/src/notebooks/BPIC_2017/../../TaskExecutionTimeMining/drbart_parser.py\", line 159, in fit_i\n    bn = tree.get_bottom_node(x_row)\n  File \"/home/fedora/Projects/TaskExecutionTimeMining/src/notebooks/BPIC_2017/../../TaskExecutionTimeMining/drbart_parser.py\", line 144, in get_bottom_node\n    if x_row[current.variable] < current.cut_value:\nTypeError: '<' not supported between instances of 'NoneType' and 'float'\n\"\"\"",
      "\nThe above exception was the direct cause of the following exception:\n",
      "\u001b[0;31mTypeError\u001b[0m                                 Traceback (most recent call last)",
      "Cell \u001b[0;32mIn[25], line 12\u001b[0m\n\u001b[1;32m      1\u001b[0m drbart_model_R_A_S_RC_AC_V \u001b[38;5;241m=\u001b[39m DRBART(parser_dir \u001b[38;5;241m=\u001b[39m \u001b[38;5;124m'\u001b[39m\u001b[38;5;124m../../../models/\u001b[39m\u001b[38;5;124m'\u001b[39m\u001b[38;5;241m+\u001b[39mmodel_name\u001b[38;5;241m+\u001b[39m\u001b[38;5;124m'\u001b[39m\u001b[38;5;124m/concept-name_resource_seconds-in-day_activity-count_resource_count_amount/\u001b[39m\u001b[38;5;124m'\u001b[39m,\n\u001b[1;32m      2\u001b[0m                      strict_parser\u001b[38;5;241m=\u001b[39m\u001b[38;5;28;01mFalse\u001b[39;00m)\n\u001b[1;32m      3\u001b[0m evaluator_R_A_S_RC_AC_V \u001b[38;5;241m=\u001b[39m conduct_evaluation\u001b[38;5;241m.\u001b[39mConductEvaluation(drbart_model_R_A_S_RC_AC_V, SampleOutcomes_DRBART_Normal_R_A_S_RC_AC_V,\n\u001b[1;32m      4\u001b[0m                                                    {\n\u001b[1;32m      5\u001b[0m                                                         \u001b[38;5;124m'\u001b[39m\u001b[38;5;124mactivity_key\u001b[39m\u001b[38;5;124m'\u001b[39m : \u001b[38;5;124m'\u001b[39m\u001b[38;5;124mconcept:name\u001b[39m\u001b[38;5;124m'\u001b[39m,\n\u001b[0;32m   (...)\u001b[0m\n\u001b[1;32m     10\u001b[0m                                                     },\n\u001b[1;32m     11\u001b[0m                                      test_event_log, n\u001b[38;5;241m=\u001b[39mN, n_processes\u001b[38;5;241m=\u001b[39mn_processes)\n\u001b[0;32m---> 12\u001b[0m likelihoods_R_A_S_RC_AC_V \u001b[38;5;241m=\u001b[39m \u001b[43mevaluator_R_A_S_RC_AC_V\u001b[49m\u001b[38;5;241;43m.\u001b[39;49m\u001b[43msample_cases\u001b[49m\u001b[43m(\u001b[49m\u001b[38;5;28;43;01mFalse\u001b[39;49;00m\u001b[43m,\u001b[49m\u001b[43m \u001b[49m\u001b[38;5;28;43;01mTrue\u001b[39;49;00m\u001b[43m)\u001b[49m\n",
      "File \u001b[0;32m~/Projects/TaskExecutionTimeMining/src/notebooks/BPIC_2017/../../Evaluation/conduct_evaluation.py:132\u001b[0m, in \u001b[0;36mConductEvaluation.sample_cases\u001b[0;34m(self, plot_cases, multiprocessing)\u001b[0m\n\u001b[1;32m    129\u001b[0m \u001b[38;5;28;01mwith\u001b[39;00m Pool(processes\u001b[38;5;241m=\u001b[39m\u001b[38;5;28mself\u001b[39m\u001b[38;5;241m.\u001b[39mn_processes) \u001b[38;5;28;01mas\u001b[39;00m pool:\n\u001b[1;32m    130\u001b[0m     \u001b[38;5;66;03m# Use `imap` to track progress with tqdm\u001b[39;00m\n\u001b[1;32m    131\u001b[0m     func \u001b[38;5;241m=\u001b[39m partial(ConductEvaluation\u001b[38;5;241m.\u001b[39msample_case_static, sample_model\u001b[38;5;241m=\u001b[39m\u001b[38;5;28mself\u001b[39m\u001b[38;5;241m.\u001b[39msample_model, n\u001b[38;5;241m=\u001b[39m\u001b[38;5;28mself\u001b[39m\u001b[38;5;241m.\u001b[39mn)\n\u001b[0;32m--> 132\u001b[0m     sample_results \u001b[38;5;241m=\u001b[39m \u001b[38;5;28mlist\u001b[39m(tqdm(\n\u001b[1;32m    133\u001b[0m         pool\u001b[38;5;241m.\u001b[39mimap(func, [c[\u001b[38;5;241m1\u001b[39m] \u001b[38;5;28;01mfor\u001b[39;00m c \u001b[38;5;129;01min\u001b[39;00m case_data\u001b[38;5;241m.\u001b[39mvalues()], \u001b[38;5;241m500\u001b[39m),\n\u001b[1;32m    134\u001b[0m         total\u001b[38;5;241m=\u001b[39m\u001b[38;5;28mlen\u001b[39m(cases)\n\u001b[1;32m    135\u001b[0m     ))\n\u001b[1;32m    137\u001b[0m \u001b[38;5;28;01mwith\u001b[39;00m Pool(processes\u001b[38;5;241m=\u001b[39m\u001b[38;5;28mself\u001b[39m\u001b[38;5;241m.\u001b[39mn_processes) \u001b[38;5;28;01mas\u001b[39;00m pool:\n\u001b[1;32m    138\u001b[0m     \u001b[38;5;66;03m#func = lambda i, c : self.__get_kde_from_samples(sample_results[i], case_data[c][3])\u001b[39;00m\n\u001b[1;32m    139\u001b[0m     rr \u001b[38;5;241m=\u001b[39m \u001b[38;5;28mlist\u001b[39m(tqdm(\n\u001b[1;32m    140\u001b[0m         pool\u001b[38;5;241m.\u001b[39mimap(ConductEvaluation\u001b[38;5;241m.\u001b[39m_get_kde_from_samples_args, [(sample_results[i], case_data[c][\u001b[38;5;241m3\u001b[39m]) \u001b[38;5;28;01mfor\u001b[39;00m i, c \u001b[38;5;129;01min\u001b[39;00m \u001b[38;5;28menumerate\u001b[39m(case_data)], \u001b[38;5;241m500\u001b[39m),\n\u001b[1;32m    141\u001b[0m         total\u001b[38;5;241m=\u001b[39m\u001b[38;5;28mlen\u001b[39m(case_data)\n\u001b[1;32m    142\u001b[0m     ))\n",
      "File \u001b[0;32m~/.local/share/virtualenvs/TaskExecutionTimeMining-8sMuoYIP/lib/python3.10/site-packages/tqdm/std.py:1181\u001b[0m, in \u001b[0;36mtqdm.__iter__\u001b[0;34m(self)\u001b[0m\n\u001b[1;32m   1178\u001b[0m time \u001b[38;5;241m=\u001b[39m \u001b[38;5;28mself\u001b[39m\u001b[38;5;241m.\u001b[39m_time\n\u001b[1;32m   1180\u001b[0m \u001b[38;5;28;01mtry\u001b[39;00m:\n\u001b[0;32m-> 1181\u001b[0m     \u001b[38;5;28;01mfor\u001b[39;00m obj \u001b[38;5;129;01min\u001b[39;00m iterable:\n\u001b[1;32m   1182\u001b[0m         \u001b[38;5;28;01myield\u001b[39;00m obj\n\u001b[1;32m   1183\u001b[0m         \u001b[38;5;66;03m# Update and possibly print the progressbar.\u001b[39;00m\n\u001b[1;32m   1184\u001b[0m         \u001b[38;5;66;03m# Note: does not call self.update(1) for speed optimisation.\u001b[39;00m\n",
      "File \u001b[0;32m~/.pyenv/versions/3.10.15/lib/python3.10/multiprocessing/pool.py:423\u001b[0m, in \u001b[0;36m<genexpr>\u001b[0;34m(.0)\u001b[0m\n\u001b[1;32m    415\u001b[0m result \u001b[38;5;241m=\u001b[39m IMapIterator(\u001b[38;5;28mself\u001b[39m)\n\u001b[1;32m    416\u001b[0m \u001b[38;5;28mself\u001b[39m\u001b[38;5;241m.\u001b[39m_taskqueue\u001b[38;5;241m.\u001b[39mput(\n\u001b[1;32m    417\u001b[0m     (\n\u001b[1;32m    418\u001b[0m         \u001b[38;5;28mself\u001b[39m\u001b[38;5;241m.\u001b[39m_guarded_task_generation(result\u001b[38;5;241m.\u001b[39m_job,\n\u001b[0;32m   (...)\u001b[0m\n\u001b[1;32m    421\u001b[0m         result\u001b[38;5;241m.\u001b[39m_set_length\n\u001b[1;32m    422\u001b[0m     ))\n\u001b[0;32m--> 423\u001b[0m \u001b[38;5;28;01mreturn\u001b[39;00m (item \u001b[38;5;28;01mfor\u001b[39;00m chunk \u001b[38;5;129;01min\u001b[39;00m result \u001b[38;5;28;01mfor\u001b[39;00m item \u001b[38;5;129;01min\u001b[39;00m chunk)\n",
      "File \u001b[0;32m~/.pyenv/versions/3.10.15/lib/python3.10/multiprocessing/pool.py:873\u001b[0m, in \u001b[0;36mIMapIterator.next\u001b[0;34m(self, timeout)\u001b[0m\n\u001b[1;32m    871\u001b[0m \u001b[38;5;28;01mif\u001b[39;00m success:\n\u001b[1;32m    872\u001b[0m     \u001b[38;5;28;01mreturn\u001b[39;00m value\n\u001b[0;32m--> 873\u001b[0m \u001b[38;5;28;01mraise\u001b[39;00m value\n",
      "\u001b[0;31mTypeError\u001b[0m: '<' not supported between instances of 'NoneType' and 'float'"
     ]
    }
   ],
   "source": [
    "drbart_model_R_A_S_RC_AC_V = DRBART(parser_dir = '../../../models/'+model_name+'/concept-name_resource_seconds-in-day_activity-count_resource_count_amount/',\n",
    "                     strict_parser=False)\n",
    "evaluator_R_A_S_RC_AC_V = conduct_evaluation.ConductEvaluation(drbart_model_R_A_S_RC_AC_V, SampleOutcomes_DRBART_Normal_R_A_S_RC_AC_V,\n",
    "                                                   {\n",
    "                                                        'activity_key' : 'concept:name',\n",
    "                                                        'resource_key' : 'org:resource_start',\n",
    "                                                        'amount' : 'case.RequestedAmount_start',\n",
    "                                                        'known_resources' : known_resources,\n",
    "                                                        'known_activities' : known_activities,\n",
    "                                                    },\n",
    "                                     test_event_log, n=N, n_processes=n_processes)\n",
    "likelihoods_R_A_S_RC_AC_V = evaluator_R_A_S_RC_AC_V.sample_cases(False, True)"
   ]
  },
  {
   "cell_type": "code",
   "execution_count": 26,
   "id": "8f77d5bf-1ff7-4378-ab9f-442897c51f6e",
   "metadata": {
    "execution": {
     "iopub.execute_input": "2024-11-24T04:07:04.768909Z",
     "iopub.status.busy": "2024-11-24T04:07:04.768616Z",
     "iopub.status.idle": "2024-11-24T04:07:04.795472Z",
     "shell.execute_reply": "2024-11-24T04:07:04.793360Z"
    }
   },
   "outputs": [
    {
     "ename": "TypeError",
     "evalue": "'NoneType' object is not subscriptable",
     "output_type": "error",
     "traceback": [
      "\u001b[0;31m---------------------------------------------------------------------------\u001b[0m",
      "\u001b[0;31mTypeError\u001b[0m                                 Traceback (most recent call last)",
      "Cell \u001b[0;32mIn[26], line 1\u001b[0m\n\u001b[0;32m----> 1\u001b[0m np\u001b[38;5;241m.\u001b[39mmean([v\u001b[38;5;241m.\u001b[39mln() \u001b[38;5;28;01mfor\u001b[39;00m v \u001b[38;5;129;01min\u001b[39;00m \u001b[43mlikelihoods_R_A_S_RC_AC_V\u001b[49m\u001b[43m[\u001b[49m\u001b[38;5;241;43m0\u001b[39;49m\u001b[43m]\u001b[49m\u001b[38;5;241m.\u001b[39mvalues()])\n",
      "\u001b[0;31mTypeError\u001b[0m: 'NoneType' object is not subscriptable"
     ]
    }
   ],
   "source": [
    "np.mean([v.ln() for v in likelihoods_R_A_S_RC_AC_V[0].values()])"
   ]
  },
  {
   "cell_type": "code",
   "execution_count": 27,
   "id": "d2a529d7-2ceb-4a21-b2b5-bdcbb9d87c5b",
   "metadata": {
    "execution": {
     "iopub.execute_input": "2024-11-24T04:07:04.801010Z",
     "iopub.status.busy": "2024-11-24T04:07:04.800792Z",
     "iopub.status.idle": "2024-11-24T04:07:04.830313Z",
     "shell.execute_reply": "2024-11-24T04:07:04.828724Z"
    }
   },
   "outputs": [
    {
     "ename": "TypeError",
     "evalue": "'NoneType' object is not subscriptable",
     "output_type": "error",
     "traceback": [
      "\u001b[0;31m---------------------------------------------------------------------------\u001b[0m",
      "\u001b[0;31mTypeError\u001b[0m                                 Traceback (most recent call last)",
      "Cell \u001b[0;32mIn[27], line 1\u001b[0m\n\u001b[0;32m----> 1\u001b[0m np\u001b[38;5;241m.\u001b[39mmean(\u001b[43mget_pscores\u001b[49m\u001b[43m(\u001b[49m\u001b[43mlikelihoods_R_A_S_RC_AC_V\u001b[49m\u001b[43m)\u001b[49m)\n",
      "Cell \u001b[0;32mIn[3], line 5\u001b[0m, in \u001b[0;36m<lambda>\u001b[0;34m(likelihoods)\u001b[0m\n\u001b[1;32m      2\u001b[0m n_processes \u001b[38;5;241m=\u001b[39m \u001b[38;5;241m20\u001b[39m\n\u001b[1;32m      4\u001b[0m \u001b[38;5;28;01mimport\u001b[39;00m \u001b[38;5;21;01mconduct_evaluation\u001b[39;00m\n\u001b[0;32m----> 5\u001b[0m get_pscores \u001b[38;5;241m=\u001b[39m \u001b[38;5;28;01mlambda\u001b[39;00m likelihoods : [pscore(likelihoods[\u001b[38;5;241m1\u001b[39m][i], likelihoods[\u001b[38;5;241m2\u001b[39m][k][\u001b[38;5;241m3\u001b[39m])\u001b[38;5;241m.\u001b[39mcompute()[\u001b[38;5;241m0\u001b[39m] \u001b[38;5;28;01mfor\u001b[39;00m i, k \u001b[38;5;129;01min\u001b[39;00m \u001b[38;5;28menumerate\u001b[39m(\u001b[38;5;28mlist\u001b[39m(\u001b[43mlikelihoods\u001b[49m\u001b[43m[\u001b[49m\u001b[38;5;241;43m0\u001b[39;49m\u001b[43m]\u001b[49m\u001b[38;5;241m.\u001b[39mkeys()))]\n\u001b[1;32m      7\u001b[0m likelihoods_A \u001b[38;5;241m=\u001b[39m \u001b[38;5;28;01mNone\u001b[39;00m\n\u001b[1;32m      8\u001b[0m likelihoods_R \u001b[38;5;241m=\u001b[39m \u001b[38;5;28;01mNone\u001b[39;00m\n",
      "\u001b[0;31mTypeError\u001b[0m: 'NoneType' object is not subscriptable"
     ]
    }
   ],
   "source": [
    "np.mean(get_pscores(likelihoods_R_A_S_RC_AC_V))"
   ]
  },
  {
   "cell_type": "code",
   "execution_count": null,
   "id": "7d295bbc-cbac-460f-957f-cb2f9e17c5d1",
   "metadata": {},
   "outputs": [],
   "source": []
  },
  {
   "cell_type": "code",
   "execution_count": 28,
   "id": "386aa5bd-bdf4-4a4c-ae4b-c8f51cce52d5",
   "metadata": {
    "execution": {
     "iopub.execute_input": "2024-11-24T04:07:04.835939Z",
     "iopub.status.busy": "2024-11-24T04:07:04.835728Z",
     "iopub.status.idle": "2024-11-24T13:41:54.303332Z",
     "shell.execute_reply": "2024-11-24T13:41:54.300034Z"
    }
   },
   "outputs": [
    {
     "name": "stderr",
     "output_type": "stream",
     "text": [
      "\r",
      "  0%|                                               | 0/24591 [00:00<?, ?it/s]"
     ]
    },
    {
     "name": "stderr",
     "output_type": "stream",
     "text": [
      "\r",
      "  0%|                                   | 1/24591 [00:22<152:29:07, 22.32s/it]"
     ]
    },
    {
     "name": "stderr",
     "output_type": "stream",
     "text": [
      "\r",
      "  2%|▊                                    | 501/24591 [00:26<15:52, 25.28it/s]"
     ]
    },
    {
     "name": "stderr",
     "output_type": "stream",
     "text": [
      "\r",
      "  4%|█▍                                  | 1001/24591 [00:31<08:41, 45.24it/s]"
     ]
    },
    {
     "name": "stderr",
     "output_type": "stream",
     "text": [
      "\r",
      "  6%|██▏                                 | 1501/24591 [00:35<06:13, 61.86it/s]"
     ]
    },
    {
     "name": "stderr",
     "output_type": "stream",
     "text": [
      "\r",
      "  8%|██▉                                 | 2001/24591 [00:40<05:09, 72.92it/s]"
     ]
    },
    {
     "name": "stderr",
     "output_type": "stream",
     "text": [
      "\r",
      " 10%|███▋                                | 2501/24591 [00:46<04:41, 78.60it/s]"
     ]
    },
    {
     "name": "stderr",
     "output_type": "stream",
     "text": [
      "\r",
      " 12%|████▍                               | 3001/24591 [00:50<04:07, 87.29it/s]"
     ]
    },
    {
     "name": "stderr",
     "output_type": "stream",
     "text": [
      "\r",
      " 14%|█████▏                              | 3501/24591 [00:55<03:51, 91.14it/s]"
     ]
    },
    {
     "name": "stderr",
     "output_type": "stream",
     "text": [
      "\r",
      " 16%|█████▊                              | 4001/24591 [01:00<03:39, 93.92it/s]"
     ]
    },
    {
     "name": "stderr",
     "output_type": "stream",
     "text": [
      "\r",
      " 18%|██████▍                            | 4501/24591 [01:05<03:20, 100.43it/s]"
     ]
    },
    {
     "name": "stderr",
     "output_type": "stream",
     "text": [
      "\r",
      " 20%|███████▎                            | 5001/24591 [01:14<04:06, 79.58it/s]"
     ]
    },
    {
     "name": "stderr",
     "output_type": "stream",
     "text": [
      "\r",
      " 22%|███████▊                           | 5501/24591 [01:16<03:08, 101.53it/s]"
     ]
    },
    {
     "name": "stderr",
     "output_type": "stream",
     "text": [
      "\r",
      " 24%|████████▌                          | 6001/24591 [01:19<02:45, 112.40it/s]"
     ]
    },
    {
     "name": "stderr",
     "output_type": "stream",
     "text": [
      "\r",
      " 26%|█████████▎                         | 6501/24591 [01:24<02:42, 111.40it/s]"
     ]
    },
    {
     "name": "stderr",
     "output_type": "stream",
     "text": [
      "\r",
      " 28%|█████████▉                         | 7001/24591 [01:28<02:38, 110.78it/s]"
     ]
    },
    {
     "name": "stderr",
     "output_type": "stream",
     "text": [
      "\r",
      " 31%|██████████▋                        | 7501/24591 [01:33<02:39, 106.87it/s]"
     ]
    },
    {
     "name": "stderr",
     "output_type": "stream",
     "text": [
      "\r",
      " 33%|███████████▍                       | 8001/24591 [01:38<02:32, 108.47it/s]"
     ]
    },
    {
     "name": "stderr",
     "output_type": "stream",
     "text": [
      "\r",
      " 35%|████████████                       | 8501/24591 [01:43<02:33, 105.00it/s]"
     ]
    },
    {
     "name": "stderr",
     "output_type": "stream",
     "text": [
      "\r",
      " 37%|████████████▊                      | 9001/24591 [01:48<02:27, 105.39it/s]"
     ]
    },
    {
     "name": "stderr",
     "output_type": "stream",
     "text": [
      "\r",
      " 39%|█████████████▌                     | 9501/24591 [01:52<02:19, 108.37it/s]"
     ]
    },
    {
     "name": "stderr",
     "output_type": "stream",
     "text": [
      "\r",
      " 41%|█████████████▊                    | 10001/24591 [01:56<02:14, 108.62it/s]"
     ]
    },
    {
     "name": "stderr",
     "output_type": "stream",
     "text": [
      "\r",
      " 43%|██████████████▌                   | 10501/24591 [02:01<02:11, 107.24it/s]"
     ]
    },
    {
     "name": "stderr",
     "output_type": "stream",
     "text": [
      "\r",
      " 45%|███████████████▏                  | 11001/24591 [02:06<02:07, 106.57it/s]"
     ]
    },
    {
     "name": "stderr",
     "output_type": "stream",
     "text": [
      "\r",
      " 47%|███████████████▉                  | 11501/24591 [02:11<02:06, 103.26it/s]"
     ]
    },
    {
     "name": "stderr",
     "output_type": "stream",
     "text": [
      "\r",
      " 49%|████████████████▌                 | 12001/24591 [02:16<01:58, 106.34it/s]"
     ]
    },
    {
     "name": "stderr",
     "output_type": "stream",
     "text": [
      "\r",
      " 51%|█████████████████▎                | 12501/24591 [02:21<01:56, 103.49it/s]"
     ]
    },
    {
     "name": "stderr",
     "output_type": "stream",
     "text": [
      "\r",
      " 53%|█████████████████▉                | 13001/24591 [02:26<01:54, 101.08it/s]"
     ]
    },
    {
     "name": "stderr",
     "output_type": "stream",
     "text": [
      "\r",
      " 55%|███████████████████▏               | 13501/24591 [02:31<01:51, 99.04it/s]"
     ]
    },
    {
     "name": "stderr",
     "output_type": "stream",
     "text": [
      "\r",
      " 57%|███████████████████▉               | 14001/24591 [02:36<01:46, 99.79it/s]"
     ]
    },
    {
     "name": "stderr",
     "output_type": "stream",
     "text": [
      "\r",
      " 59%|████████████████████              | 14501/24591 [02:41<01:40, 100.17it/s]"
     ]
    },
    {
     "name": "stderr",
     "output_type": "stream",
     "text": [
      "\r",
      " 61%|████████████████████▋             | 15001/24591 [02:46<01:35, 100.37it/s]"
     ]
    },
    {
     "name": "stderr",
     "output_type": "stream",
     "text": [
      "\r",
      " 63%|██████████████████████             | 15501/24591 [02:51<01:31, 99.68it/s]"
     ]
    },
    {
     "name": "stderr",
     "output_type": "stream",
     "text": [
      "\r",
      " 65%|██████████████████████▊            | 16001/24591 [02:56<01:26, 98.79it/s]"
     ]
    },
    {
     "name": "stderr",
     "output_type": "stream",
     "text": [
      "\r",
      " 67%|███████████████████████▍           | 16501/24591 [03:01<01:22, 97.88it/s]"
     ]
    },
    {
     "name": "stderr",
     "output_type": "stream",
     "text": [
      "\r",
      " 69%|████████████████████████▏          | 17001/24591 [03:07<01:18, 96.52it/s]"
     ]
    },
    {
     "name": "stderr",
     "output_type": "stream",
     "text": [
      "\r",
      " 71%|████████████████████████▉          | 17501/24591 [03:12<01:12, 97.80it/s]"
     ]
    },
    {
     "name": "stderr",
     "output_type": "stream",
     "text": [
      "\r",
      " 73%|████████████████████████▉         | 18001/24591 [03:16<01:04, 101.69it/s]"
     ]
    },
    {
     "name": "stderr",
     "output_type": "stream",
     "text": [
      "\r",
      " 75%|█████████████████████████▌        | 18501/24591 [03:21<00:58, 103.49it/s]"
     ]
    },
    {
     "name": "stderr",
     "output_type": "stream",
     "text": [
      "\r",
      " 77%|██████████████████████████▎       | 19001/24591 [03:26<00:54, 103.23it/s]"
     ]
    },
    {
     "name": "stderr",
     "output_type": "stream",
     "text": [
      "\r",
      " 79%|███████████████████████████▊       | 19501/24591 [03:34<00:59, 85.12it/s]"
     ]
    },
    {
     "name": "stderr",
     "output_type": "stream",
     "text": [
      "\r",
      " 81%|███████████████████████████▋      | 20001/24591 [03:35<00:39, 117.43it/s]"
     ]
    },
    {
     "name": "stderr",
     "output_type": "stream",
     "text": [
      "\r",
      " 81%|███████████████████████████▋      | 20001/24591 [03:52<00:39, 117.43it/s]"
     ]
    },
    {
     "name": "stderr",
     "output_type": "stream",
     "text": [
      "\r",
      " 83%|█████████████████████████████▏     | 20501/24591 [03:56<01:17, 52.88it/s]"
     ]
    },
    {
     "name": "stderr",
     "output_type": "stream",
     "text": [
      "\r",
      " 85%|█████████████████████████████▉     | 21001/24591 [03:56<00:47, 75.13it/s]"
     ]
    },
    {
     "name": "stderr",
     "output_type": "stream",
     "text": [
      "\r",
      " 87%|█████████████████████████████▋    | 21501/24591 [03:56<00:29, 106.44it/s]"
     ]
    },
    {
     "name": "stderr",
     "output_type": "stream",
     "text": [
      "\r",
      " 89%|██████████████████████████████▍   | 22001/24591 [03:56<00:17, 150.36it/s]"
     ]
    },
    {
     "name": "stderr",
     "output_type": "stream",
     "text": [
      "\r",
      " 92%|███████████████████████████████   | 22501/24591 [03:57<00:09, 211.95it/s]"
     ]
    },
    {
     "name": "stderr",
     "output_type": "stream",
     "text": [
      "\r",
      " 92%|███████████████████████████████   | 22501/24591 [04:14<00:09, 211.95it/s]"
     ]
    },
    {
     "name": "stderr",
     "output_type": "stream",
     "text": [
      "\r",
      " 94%|████████████████████████████████▋  | 23001/24591 [04:15<00:22, 69.27it/s]"
     ]
    },
    {
     "name": "stderr",
     "output_type": "stream",
     "text": [
      "\r",
      " 96%|█████████████████████████████████▍ | 23501/24591 [04:20<00:14, 75.61it/s]"
     ]
    },
    {
     "name": "stderr",
     "output_type": "stream",
     "text": [
      "\r",
      " 98%|██████████████████████████████████▏| 24001/24591 [04:24<00:06, 86.22it/s]"
     ]
    },
    {
     "name": "stderr",
     "output_type": "stream",
     "text": [
      "\r",
      "100%|███████████████████████████████████| 24591/24591 [04:24<00:00, 92.89it/s]"
     ]
    },
    {
     "name": "stderr",
     "output_type": "stream",
     "text": [
      "\n"
     ]
    },
    {
     "name": "stderr",
     "output_type": "stream",
     "text": [
      "\r",
      "  0%|                                               | 0/24591 [00:00<?, ?it/s]"
     ]
    },
    {
     "name": "stderr",
     "output_type": "stream",
     "text": [
      "\r",
      "  0%|                           | 1/24591 [4:11:03<102894:38:10, 15063.88s/it]"
     ]
    },
    {
     "name": "stderr",
     "output_type": "stream",
     "text": [
      "\r",
      "  2%|▋                              | 501/24591 [4:22:40<150:14:17, 22.45s/it]"
     ]
    },
    {
     "name": "stderr",
     "output_type": "stream",
     "text": [
      "\r",
      "  8%|██▌                            | 2001/24591 [4:25:06<27:10:47,  4.33s/it]"
     ]
    },
    {
     "name": "stderr",
     "output_type": "stream",
     "text": [
      "\r",
      "  8%|██▌                            | 2001/24591 [4:25:26<27:10:47,  4.33s/it]"
     ]
    },
    {
     "name": "stderr",
     "output_type": "stream",
     "text": [
      "\r",
      " 41%|████████████▌                  | 10001/24591 [7:19:24<7:00:20,  1.73s/it]"
     ]
    },
    {
     "name": "stderr",
     "output_type": "stream",
     "text": [
      "\r",
      " 43%|█████████████▏                 | 10501/24591 [7:19:50<6:17:50,  1.61s/it]"
     ]
    },
    {
     "name": "stderr",
     "output_type": "stream",
     "text": [
      "\r",
      " 43%|█████████████▏                 | 10501/24591 [7:20:00<6:17:50,  1.61s/it]"
     ]
    },
    {
     "name": "stderr",
     "output_type": "stream",
     "text": [
      "\r",
      " 49%|███████████████▏               | 12001/24591 [7:24:08<4:27:00,  1.27s/it]"
     ]
    },
    {
     "name": "stderr",
     "output_type": "stream",
     "text": [
      "\r",
      " 51%|███████████████▊               | 12501/24591 [7:35:58<4:19:22,  1.29s/it]"
     ]
    },
    {
     "name": "stderr",
     "output_type": "stream",
     "text": [
      "\r",
      " 81%|█████████████████████████▏     | 20001/24591 [9:28:03<1:18:04,  1.02s/it]"
     ]
    },
    {
     "name": "stderr",
     "output_type": "stream",
     "text": [
      "\r",
      "100%|█████████████████████████████████| 24591/24591 [9:28:03<00:00,  1.39s/it]"
     ]
    },
    {
     "name": "stderr",
     "output_type": "stream",
     "text": [
      "\n"
     ]
    },
    {
     "name": "stderr",
     "output_type": "stream",
     "text": [
      "\r",
      "  0%|                                                          | 0/24591 [00:00<?, ?it/s]"
     ]
    },
    {
     "name": "stderr",
     "output_type": "stream",
     "text": [
      "\r",
      "  0%|                                              | 1/24591 [00:40<276:39:51, 40.50s/it]"
     ]
    },
    {
     "name": "stderr",
     "output_type": "stream",
     "text": [
      "\r",
      " 12%|█████▌                                        | 3001/24591 [00:40<03:25, 105.08it/s]"
     ]
    },
    {
     "name": "stderr",
     "output_type": "stream",
     "text": [
      "\r",
      " 18%|████████▍                                     | 4501/24591 [00:41<01:57, 171.59it/s]"
     ]
    },
    {
     "name": "stderr",
     "output_type": "stream",
     "text": [
      "\r",
      " 18%|████████▍                                     | 4501/24591 [01:01<01:57, 171.59it/s]"
     ]
    },
    {
     "name": "stderr",
     "output_type": "stream",
     "text": [
      "\r",
      " 41%|██████████████████▎                          | 10001/24591 [01:17<01:32, 157.56it/s]"
     ]
    },
    {
     "name": "stderr",
     "output_type": "stream",
     "text": [
      "\r",
      " 45%|████████████████████▏                        | 11001/24591 [01:19<01:15, 179.55it/s]"
     ]
    },
    {
     "name": "stderr",
     "output_type": "stream",
     "text": [
      "\r",
      " 67%|██████████████████████████████▏              | 16501/24591 [01:20<00:21, 375.95it/s]"
     ]
    },
    {
     "name": "stderr",
     "output_type": "stream",
     "text": [
      "\r",
      " 79%|███████████████████████████████████▋         | 19501/24591 [01:22<00:10, 488.51it/s]"
     ]
    },
    {
     "name": "stderr",
     "output_type": "stream",
     "text": [
      "\r",
      " 79%|███████████████████████████████████▋         | 19501/24591 [01:41<00:10, 488.51it/s]"
     ]
    },
    {
     "name": "stderr",
     "output_type": "stream",
     "text": [
      "\r",
      " 81%|████████████████████████████████████▌        | 20001/24591 [01:55<00:29, 157.04it/s]"
     ]
    },
    {
     "name": "stderr",
     "output_type": "stream",
     "text": [
      "\r",
      " 87%|███████████████████████████████████████▎     | 21501/24591 [01:56<00:15, 195.32it/s]"
     ]
    },
    {
     "name": "stderr",
     "output_type": "stream",
     "text": [
      "\r",
      "100%|█████████████████████████████████████████████| 24591/24591 [01:56<00:00, 210.43it/s]"
     ]
    },
    {
     "name": "stderr",
     "output_type": "stream",
     "text": [
      "\n"
     ]
    }
   ],
   "source": [
    "drbart_model_R_A_S_D = DRBART(parser_dir = '../../../models/'+model_name+'/concept-name_resource_seconds-in-day_day-of-week/',\n",
    "                     strict_parser=False)\n",
    "evaluator_R_A_S_D = conduct_evaluation.ConductEvaluation(drbart_model_R_A_S_D, SampleOutcomes_DRBART_Normal_R_A_S_D,\n",
    "                                                   {\n",
    "                                                        'activity_key' : 'concept:name',\n",
    "                                                        'resource_key' : 'org:resource_start',\n",
    "                                                    },\n",
    "                                     test_event_log, n=N, n_processes=n_processes)\n",
    "likelihoods_R_A_S_D = evaluator_R_A_S_D.sample_cases(False, True)"
   ]
  },
  {
   "cell_type": "code",
   "execution_count": 29,
   "id": "a986c83b-5e4d-493a-8ce6-ebdb5d3bb387",
   "metadata": {
    "execution": {
     "iopub.execute_input": "2024-11-24T13:41:54.312496Z",
     "iopub.status.busy": "2024-11-24T13:41:54.311637Z",
     "iopub.status.idle": "2024-11-24T13:41:55.244828Z",
     "shell.execute_reply": "2024-11-24T13:41:55.242503Z"
    }
   },
   "outputs": [
    {
     "data": {
      "text/plain": [
       "Decimal('-16.10564803523800678574309000')"
      ]
     },
     "execution_count": 29,
     "metadata": {},
     "output_type": "execute_result"
    }
   ],
   "source": [
    "np.mean([v.ln() for v in likelihoods_R_A_S_D[0].values()])"
   ]
  },
  {
   "cell_type": "code",
   "execution_count": 30,
   "id": "bb8814d2-0412-4185-b39f-352af13720fe",
   "metadata": {
    "execution": {
     "iopub.execute_input": "2024-11-24T13:41:55.250581Z",
     "iopub.status.busy": "2024-11-24T13:41:55.250276Z",
     "iopub.status.idle": "2024-11-24T13:42:16.863062Z",
     "shell.execute_reply": "2024-11-24T13:42:16.860886Z"
    }
   },
   "outputs": [
    {
     "data": {
      "text/plain": [
       "np.float64(2.0850864999178035e+19)"
      ]
     },
     "execution_count": 30,
     "metadata": {},
     "output_type": "execute_result"
    }
   ],
   "source": [
    "np.mean(get_pscores(likelihoods_R_A_S_D))"
   ]
  },
  {
   "cell_type": "code",
   "execution_count": 31,
   "id": "a81de2b4-733a-44bc-9af8-a4d54139ee95",
   "metadata": {
    "execution": {
     "iopub.execute_input": "2024-11-24T13:42:16.869132Z",
     "iopub.status.busy": "2024-11-24T13:42:16.868864Z",
     "iopub.status.idle": "2024-11-24T21:24:51.985977Z",
     "shell.execute_reply": "2024-11-24T21:24:51.982264Z"
    }
   },
   "outputs": [
    {
     "name": "stderr",
     "output_type": "stream",
     "text": [
      "\r",
      "  0%|                                                          | 0/24591 [00:00<?, ?it/s]"
     ]
    },
    {
     "name": "stderr",
     "output_type": "stream",
     "text": [
      "\r",
      "  0%|                                              | 1/24591 [00:22<156:25:45, 22.90s/it]"
     ]
    },
    {
     "name": "stderr",
     "output_type": "stream",
     "text": [
      "\r",
      "  2%|▉                                               | 501/24591 [00:31<19:57, 20.11it/s]"
     ]
    },
    {
     "name": "stderr",
     "output_type": "stream",
     "text": [
      "\r",
      "  4%|█▉                                             | 1001/24591 [00:32<08:14, 47.69it/s]"
     ]
    },
    {
     "name": "stderr",
     "output_type": "stream",
     "text": [
      "\r",
      "  6%|██▊                                            | 1501/24591 [00:37<06:05, 63.10it/s]"
     ]
    },
    {
     "name": "stderr",
     "output_type": "stream",
     "text": [
      "\r",
      "  8%|███▊                                           | 2001/24591 [00:42<05:11, 72.54it/s]"
     ]
    },
    {
     "name": "stderr",
     "output_type": "stream",
     "text": [
      "\r",
      " 10%|████▊                                          | 2501/24591 [00:47<04:30, 81.52it/s]"
     ]
    },
    {
     "name": "stderr",
     "output_type": "stream",
     "text": [
      "\r",
      " 12%|█████▋                                         | 3001/24591 [00:52<04:07, 87.07it/s]"
     ]
    },
    {
     "name": "stderr",
     "output_type": "stream",
     "text": [
      "\r",
      " 14%|██████▋                                        | 3501/24591 [00:57<03:50, 91.50it/s]"
     ]
    },
    {
     "name": "stderr",
     "output_type": "stream",
     "text": [
      "\r",
      " 16%|███████▋                                       | 4001/24591 [01:01<03:37, 94.77it/s]"
     ]
    },
    {
     "name": "stderr",
     "output_type": "stream",
     "text": [
      "\r",
      " 18%|████████▌                                      | 4501/24591 [01:06<03:27, 96.79it/s]"
     ]
    },
    {
     "name": "stderr",
     "output_type": "stream",
     "text": [
      "\r",
      " 20%|█████████▌                                     | 5001/24591 [01:11<03:20, 97.61it/s]"
     ]
    },
    {
     "name": "stderr",
     "output_type": "stream",
     "text": [
      "\r",
      " 22%|██████████▎                                   | 5501/24591 [01:16<03:10, 100.05it/s]"
     ]
    },
    {
     "name": "stderr",
     "output_type": "stream",
     "text": [
      "\r",
      " 24%|███████████▏                                  | 6001/24591 [01:21<03:05, 100.43it/s]"
     ]
    },
    {
     "name": "stderr",
     "output_type": "stream",
     "text": [
      "\r",
      " 26%|████████████▏                                 | 6501/24591 [01:26<03:00, 100.23it/s]"
     ]
    },
    {
     "name": "stderr",
     "output_type": "stream",
     "text": [
      "\r",
      " 28%|█████████████                                 | 7001/24591 [01:31<02:51, 102.80it/s]"
     ]
    },
    {
     "name": "stderr",
     "output_type": "stream",
     "text": [
      "\r",
      " 31%|██████████████                                | 7501/24591 [01:35<02:42, 105.26it/s]"
     ]
    },
    {
     "name": "stderr",
     "output_type": "stream",
     "text": [
      "\r",
      " 33%|██████████████▉                               | 8001/24591 [01:40<02:36, 106.05it/s]"
     ]
    },
    {
     "name": "stderr",
     "output_type": "stream",
     "text": [
      "\r",
      " 35%|████████████████▏                              | 8501/24591 [01:46<02:45, 97.46it/s]"
     ]
    },
    {
     "name": "stderr",
     "output_type": "stream",
     "text": [
      "\r",
      " 37%|████████████████▊                             | 9001/24591 [01:50<02:28, 104.76it/s]"
     ]
    },
    {
     "name": "stderr",
     "output_type": "stream",
     "text": [
      "\r",
      " 39%|█████████████████▊                            | 9501/24591 [01:55<02:28, 101.45it/s]"
     ]
    },
    {
     "name": "stderr",
     "output_type": "stream",
     "text": [
      "\r",
      " 41%|██████████████████▎                          | 10001/24591 [01:59<02:13, 109.56it/s]"
     ]
    },
    {
     "name": "stderr",
     "output_type": "stream",
     "text": [
      "\r",
      " 43%|███████████████████▏                         | 10501/24591 [02:03<02:07, 110.60it/s]"
     ]
    },
    {
     "name": "stderr",
     "output_type": "stream",
     "text": [
      "\r",
      " 45%|████████████████████▏                        | 11001/24591 [02:08<02:08, 105.52it/s]"
     ]
    },
    {
     "name": "stderr",
     "output_type": "stream",
     "text": [
      "\r",
      " 47%|█████████████████████                        | 11501/24591 [02:13<02:02, 106.51it/s]"
     ]
    },
    {
     "name": "stderr",
     "output_type": "stream",
     "text": [
      "\r",
      " 49%|█████████████████████▉                       | 12001/24591 [02:18<01:59, 105.32it/s]"
     ]
    },
    {
     "name": "stderr",
     "output_type": "stream",
     "text": [
      "\r",
      " 51%|██████████████████████▉                      | 12501/24591 [02:23<01:56, 104.12it/s]"
     ]
    },
    {
     "name": "stderr",
     "output_type": "stream",
     "text": [
      "\r",
      " 53%|███████████████████████▊                     | 13001/24591 [02:28<01:52, 102.68it/s]"
     ]
    },
    {
     "name": "stderr",
     "output_type": "stream",
     "text": [
      "\r",
      " 55%|████████████████████████▋                    | 13501/24591 [02:33<01:47, 103.54it/s]"
     ]
    },
    {
     "name": "stderr",
     "output_type": "stream",
     "text": [
      "\r",
      " 57%|█████████████████████████▌                   | 14001/24591 [02:37<01:40, 105.44it/s]"
     ]
    },
    {
     "name": "stderr",
     "output_type": "stream",
     "text": [
      "\r",
      " 59%|██████████████████████████▌                  | 14501/24591 [02:42<01:34, 106.78it/s]"
     ]
    },
    {
     "name": "stderr",
     "output_type": "stream",
     "text": [
      "\r",
      " 61%|███████████████████████████▍                 | 15001/24591 [02:47<01:34, 101.67it/s]"
     ]
    },
    {
     "name": "stderr",
     "output_type": "stream",
     "text": [
      "\r",
      " 63%|████████████████████████████▉                 | 15501/24591 [02:53<01:33, 97.60it/s]"
     ]
    },
    {
     "name": "stderr",
     "output_type": "stream",
     "text": [
      "\r",
      " 65%|█████████████████████████████▎               | 16001/24591 [02:57<01:21, 105.84it/s]"
     ]
    },
    {
     "name": "stderr",
     "output_type": "stream",
     "text": [
      "\r",
      " 67%|██████████████████████████████▏              | 16501/24591 [03:01<01:16, 105.72it/s]"
     ]
    },
    {
     "name": "stderr",
     "output_type": "stream",
     "text": [
      "\r",
      " 69%|███████████████████████████████              | 17001/24591 [03:07<01:14, 101.36it/s]"
     ]
    },
    {
     "name": "stderr",
     "output_type": "stream",
     "text": [
      "\r",
      " 71%|████████████████████████████████             | 17501/24591 [03:11<01:06, 106.00it/s]"
     ]
    },
    {
     "name": "stderr",
     "output_type": "stream",
     "text": [
      "\r",
      " 73%|████████████████████████████████▉            | 18001/24591 [03:16<01:03, 104.55it/s]"
     ]
    },
    {
     "name": "stderr",
     "output_type": "stream",
     "text": [
      "\r",
      " 75%|█████████████████████████████████▊           | 18501/24591 [03:21<00:58, 104.40it/s]"
     ]
    },
    {
     "name": "stderr",
     "output_type": "stream",
     "text": [
      "\r",
      " 77%|██████████████████████████████████▊          | 19001/24591 [03:25<00:52, 106.60it/s]"
     ]
    },
    {
     "name": "stderr",
     "output_type": "stream",
     "text": [
      "\r",
      " 77%|██████████████████████████████████▊          | 19001/24591 [03:43<00:52, 106.60it/s]"
     ]
    },
    {
     "name": "stderr",
     "output_type": "stream",
     "text": [
      "\r",
      " 79%|████████████████████████████████████▍         | 19501/24591 [03:47<01:39, 51.37it/s]"
     ]
    },
    {
     "name": "stderr",
     "output_type": "stream",
     "text": [
      "\r",
      " 81%|█████████████████████████████████████▍        | 20001/24591 [03:47<01:03, 72.76it/s]"
     ]
    },
    {
     "name": "stderr",
     "output_type": "stream",
     "text": [
      "\r",
      " 83%|█████████████████████████████████████▌       | 20501/24591 [03:47<00:39, 102.90it/s]"
     ]
    },
    {
     "name": "stderr",
     "output_type": "stream",
     "text": [
      "\r",
      " 85%|██████████████████████████████████████▍      | 21001/24591 [03:47<00:24, 144.99it/s]"
     ]
    },
    {
     "name": "stderr",
     "output_type": "stream",
     "text": [
      "\r",
      " 87%|███████████████████████████████████████▎     | 21501/24591 [03:52<00:24, 127.51it/s]"
     ]
    },
    {
     "name": "stderr",
     "output_type": "stream",
     "text": [
      "\r",
      " 89%|█████████████████████████████████████████▏    | 22001/24591 [04:06<00:35, 72.30it/s]"
     ]
    },
    {
     "name": "stderr",
     "output_type": "stream",
     "text": [
      "\r",
      " 92%|██████████████████████████████████████████    | 22501/24591 [04:11<00:26, 79.55it/s]"
     ]
    },
    {
     "name": "stderr",
     "output_type": "stream",
     "text": [
      "\r",
      " 94%|███████████████████████████████████████████   | 23001/24591 [04:16<00:18, 86.13it/s]"
     ]
    },
    {
     "name": "stderr",
     "output_type": "stream",
     "text": [
      "\r",
      " 96%|███████████████████████████████████████████▉  | 23501/24591 [04:21<00:12, 88.73it/s]"
     ]
    },
    {
     "name": "stderr",
     "output_type": "stream",
     "text": [
      "\r",
      " 98%|████████████████████████████████████████████▉ | 24001/24591 [04:24<00:05, 98.72it/s]"
     ]
    },
    {
     "name": "stderr",
     "output_type": "stream",
     "text": [
      "\r",
      "100%|██████████████████████████████████████████████| 24591/24591 [04:24<00:00, 92.80it/s]"
     ]
    },
    {
     "name": "stderr",
     "output_type": "stream",
     "text": [
      "\n"
     ]
    },
    {
     "name": "stderr",
     "output_type": "stream",
     "text": [
      "\r",
      "  0%|                                                          | 0/24591 [00:00<?, ?it/s]"
     ]
    },
    {
     "name": "stderr",
     "output_type": "stream",
     "text": [
      "\r",
      "  0%|                                       | 1/24591 [3:31:46<86790:08:03, 12706.16s/it]"
     ]
    },
    {
     "name": "stderr",
     "output_type": "stream",
     "text": [
      "\r",
      "  8%|███▍                                      | 2001/24591 [3:34:10<28:20:53,  4.52s/it]"
     ]
    },
    {
     "name": "stderr",
     "output_type": "stream",
     "text": [
      "\r",
      "  8%|███▍                                      | 2001/24591 [3:34:29<28:20:53,  4.52s/it]"
     ]
    },
    {
     "name": "stderr",
     "output_type": "stream",
     "text": [
      "\r",
      " 41%|█████████████████                         | 10001/24591 [6:01:47<6:32:46,  1.62s/it]"
     ]
    },
    {
     "name": "stderr",
     "output_type": "stream",
     "text": [
      "\r",
      " 45%|██████████████████▊                       | 11001/24591 [6:04:27<5:22:22,  1.42s/it]"
     ]
    },
    {
     "name": "stderr",
     "output_type": "stream",
     "text": [
      "\r",
      " 49%|████████████████████▍                     | 12001/24591 [6:07:45<4:17:52,  1.23s/it]"
     ]
    },
    {
     "name": "stderr",
     "output_type": "stream",
     "text": [
      "\r",
      " 81%|██████████████████████████████████▏       | 20001/24591 [7:33:11<1:05:01,  1.18it/s]"
     ]
    },
    {
     "name": "stderr",
     "output_type": "stream",
     "text": [
      "\r",
      " 83%|████████████████████████████████████▋       | 20501/24591 [7:35:20<55:44,  1.22it/s]"
     ]
    },
    {
     "name": "stderr",
     "output_type": "stream",
     "text": [
      "\r",
      "100%|████████████████████████████████████████████| 24591/24591 [7:35:20<00:00,  1.11s/it]"
     ]
    },
    {
     "name": "stderr",
     "output_type": "stream",
     "text": [
      "\n"
     ]
    },
    {
     "name": "stderr",
     "output_type": "stream",
     "text": [
      "\r",
      "  0%|                                                                                                                                                                                      | 0/24591 [00:00<?, ?it/s]"
     ]
    },
    {
     "name": "stderr",
     "output_type": "stream",
     "text": [
      "\r",
      "  0%|                                                                                                                                                                          | 1/24591 [00:47<323:31:08, 47.36s/it]"
     ]
    },
    {
     "name": "stderr",
     "output_type": "stream",
     "text": [
      "\r",
      "  4%|██████▉                                                                                                                                                                    | 1001/24591 [00:47<13:15, 29.65it/s]"
     ]
    },
    {
     "name": "stderr",
     "output_type": "stream",
     "text": [
      "\r",
      " 10%|█████████████████▍                                                                                                                                                         | 2501/24591 [00:48<04:05, 89.83it/s]"
     ]
    },
    {
     "name": "stderr",
     "output_type": "stream",
     "text": [
      "\r",
      " 12%|████████████████████▋                                                                                                                                                     | 3001/24591 [00:49<03:10, 113.06it/s]"
     ]
    },
    {
     "name": "stderr",
     "output_type": "stream",
     "text": [
      "\r",
      " 12%|████████████████████▋                                                                                                                                                     | 3001/24591 [01:04<03:10, 113.06it/s]"
     ]
    },
    {
     "name": "stderr",
     "output_type": "stream",
     "text": [
      "\r",
      " 41%|████████████████████████████████████████████████████████████████████▋                                                                                                    | 10001/24591 [01:33<01:38, 148.30it/s]"
     ]
    },
    {
     "name": "stderr",
     "output_type": "stream",
     "text": [
      "\r",
      " 43%|████████████████████████████████████████████████████████████████████████▏                                                                                                | 10501/24591 [01:34<01:28, 158.96it/s]"
     ]
    },
    {
     "name": "stderr",
     "output_type": "stream",
     "text": [
      "\r",
      " 45%|███████████████████████████████████████████████████████████████████████████▌                                                                                             | 11001/24591 [01:34<01:17, 175.98it/s]"
     ]
    },
    {
     "name": "stderr",
     "output_type": "stream",
     "text": [
      "\r",
      " 47%|███████████████████████████████████████████████████████████████████████████████                                                                                          | 11501/24591 [01:34<01:05, 198.78it/s]"
     ]
    },
    {
     "name": "stderr",
     "output_type": "stream",
     "text": [
      "\r",
      " 51%|█████████████████████████████████████████████████████████████████████████████████████▉                                                                                   | 12501/24591 [01:35<00:45, 263.56it/s]"
     ]
    },
    {
     "name": "stderr",
     "output_type": "stream",
     "text": [
      "\r",
      " 53%|█████████████████████████████████████████████████████████████████████████████████████████▎                                                                               | 13001/24591 [01:35<00:37, 306.86it/s]"
     ]
    },
    {
     "name": "stderr",
     "output_type": "stream",
     "text": [
      "\r",
      " 63%|██████████████████████████████████████████████████████████████████████████████████████████████████████████▌                                                              | 15501/24591 [01:36<00:16, 549.98it/s]"
     ]
    },
    {
     "name": "stderr",
     "output_type": "stream",
     "text": [
      "\r",
      " 65%|█████████████████████████████████████████████████████████████████████████████████████████████████████████████▉                                                           | 16001/24591 [01:38<00:17, 483.89it/s]"
     ]
    },
    {
     "name": "stderr",
     "output_type": "stream",
     "text": [
      "\r",
      " 65%|█████████████████████████████████████████████████████████████████████████████████████████████████████████████▉                                                           | 16001/24591 [01:54<00:17, 483.89it/s]"
     ]
    },
    {
     "name": "stderr",
     "output_type": "stream",
     "text": [
      "\r",
      " 81%|█████████████████████████████████████████████████████████████████████████████████████████████████████████████████████████████████████████▍                               | 20001/24591 [02:22<00:34, 134.76it/s]"
     ]
    },
    {
     "name": "stderr",
     "output_type": "stream",
     "text": [
      "\r",
      " 89%|███████████████████████████████████████████████████████████████████████████████████████████████████████████████████████████████████████████████████████▏                 | 22001/24591 [02:25<00:14, 175.57it/s]"
     ]
    },
    {
     "name": "stderr",
     "output_type": "stream",
     "text": [
      "\r",
      "100%|█████████████████████████████████████████████████████████████████████████████████████████████████████████████████████████████████████████████████████████████████████████| 24591/24591 [02:25<00:00, 168.66it/s]"
     ]
    },
    {
     "name": "stderr",
     "output_type": "stream",
     "text": [
      "\n"
     ]
    }
   ],
   "source": [
    "drbart_model_R_A_S_D_RC_AC = DRBART(parser_dir = '../../../models/'+model_name+'/concept-name_resource_seconds-in-day_day-of-week_activity-count_resoure-count/',\n",
    "                     strict_parser=True)\n",
    "evaluator_R_A_S_D_RC_AC = conduct_evaluation.ConductEvaluation(drbart_model_R_A_S_D_RC_AC, SampleOutcomes_DRBART_Normal_R_A_S_D_RC_AC,\n",
    "                                                   {\n",
    "                                                        'activity_key' : 'concept:name',\n",
    "                                                        'resource_key' : 'org:resource_start',\n",
    "                                                        'known_resources' : known_resources,\n",
    "                                                        'known_activities' : known_activities,\n",
    "                                                    },\n",
    "                                     test_event_log, n=N, n_processes=n_processes)\n",
    "likelihoods_R_A_S_D_RC_AC = evaluator_R_A_S_D_RC_AC.sample_cases(False, True)"
   ]
  },
  {
   "cell_type": "code",
   "execution_count": 32,
   "id": "894d8617-95dc-45cd-8c41-f79fbe8e65fe",
   "metadata": {
    "execution": {
     "iopub.execute_input": "2024-11-24T21:24:51.994917Z",
     "iopub.status.busy": "2024-11-24T21:24:51.994048Z",
     "iopub.status.idle": "2024-11-24T21:24:52.947688Z",
     "shell.execute_reply": "2024-11-24T21:24:52.946675Z"
    }
   },
   "outputs": [
    {
     "data": {
      "text/plain": [
       "Decimal('-9.771245546448926080299853463')"
      ]
     },
     "execution_count": 32,
     "metadata": {},
     "output_type": "execute_result"
    }
   ],
   "source": [
    "np.mean([v.ln() for v in likelihoods_R_A_S_D_RC_AC[0].values()])"
   ]
  },
  {
   "cell_type": "code",
   "execution_count": 33,
   "id": "3c3859d4-dda2-4c3f-ae9f-f19733399a1b",
   "metadata": {
    "execution": {
     "iopub.execute_input": "2024-11-24T21:24:52.953202Z",
     "iopub.status.busy": "2024-11-24T21:24:52.952907Z",
     "iopub.status.idle": "2024-11-24T21:25:13.264726Z",
     "shell.execute_reply": "2024-11-24T21:25:13.262530Z"
    }
   },
   "outputs": [
    {
     "data": {
      "text/plain": [
       "np.float64(2.8469223868022835e+17)"
      ]
     },
     "execution_count": 33,
     "metadata": {},
     "output_type": "execute_result"
    }
   ],
   "source": [
    "np.mean(get_pscores(likelihoods_R_A_S_D_RC_AC))"
   ]
  },
  {
   "cell_type": "code",
   "execution_count": 34,
   "id": "dc7170cb-b4a1-4725-b14f-37b3311e2e27",
   "metadata": {
    "execution": {
     "iopub.execute_input": "2024-11-24T21:25:13.270427Z",
     "iopub.status.busy": "2024-11-24T21:25:13.270158Z",
     "iopub.status.idle": "2024-11-24T21:26:12.204364Z",
     "shell.execute_reply": "2024-11-24T21:26:12.202016Z"
    }
   },
   "outputs": [],
   "source": [
    "results = {\n",
    "    'drbart_model_A' : likelihoods_A,\n",
    "    'drbart_model_R' : likelihoods_R,\n",
    "    'drbart_model_R_A' : likelihoods_R_A,\n",
    "    'drbart_model_R_A_S' : likelihoods_R_A_S,\n",
    "    'drbart_model_R_A_S_AC' : likelihoods_R_A_S_AC,\n",
    "    'drbart_model_R_A_S_RC' : likelihoods_R_A_S_RC,\n",
    "    'drbart_model_R_A_S_RC_AC' : likelihoods_R_A_S_RC_AC,\n",
    "    'drbart_model_R_A_S_RC_AC_V' : likelihoods_R_A_S_RC_AC_V,\n",
    "    'drbart_model_R_A_S_D' : likelihoods_R_A_S_D,\n",
    "    'drbart_model_R_A_S_D_RC_CC' : likelihoods_R_A_S_D_RC_AC\n",
    "}\n",
    "with open('./'+model_name+'_dr_bart_evaluation_'+log_name+'.pickle', 'wb') as handle:\n",
    "    pickle.dump(results, handle)"
   ]
  }
 ],
 "metadata": {
  "kernelspec": {
   "display_name": "Python 3 (ipykernel)",
   "language": "python",
   "name": "python3"
  },
  "language_info": {
   "codemirror_mode": {
    "name": "ipython",
    "version": 3
   },
   "file_extension": ".py",
   "mimetype": "text/x-python",
   "name": "python",
   "nbconvert_exporter": "python",
   "pygments_lexer": "ipython3",
   "version": "3.10.15"
  }
 },
 "nbformat": 4,
 "nbformat_minor": 5
}
