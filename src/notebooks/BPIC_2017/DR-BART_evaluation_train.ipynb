{
 "cells": [
  {
   "cell_type": "code",
   "execution_count": 1,
   "id": "b76fb6b4-b5bb-4ed9-b3f5-2d35b620297d",
   "metadata": {},
   "outputs": [],
   "source": [
    "import numpy as np\n",
    "import pandas\n",
    "import pm4py\n",
    "from matplotlib import pyplot as plt\n",
    "from sklearn.mixture import GaussianMixture\n",
    "import scipy.stats as stats\n",
    "import ot\n",
    "import os\n",
    "from tqdm import tqdm\n",
    "import collections\n",
    "import matplotlib.dates as md\n",
    "import importlib\n",
    "import pickle\n",
    "import random\n",
    "import math\n",
    "import CRPS.CRPS as pscore\n",
    "import datetime\n",
    "\n",
    "pandas.set_option('display.max_columns', None)\n",
    "#pandas.set_option('display.max_rows', None)\n",
    "\n",
    "\n",
    "import sys\n",
    "sys.path.append('../../TaskExecutionTimeMining/')\n",
    "from drbart_parser import *\n",
    "from event_log_transformer import *\n",
    "\n",
    "#sys.path.append('../../Evaluation')\n",
    "sys.path.append('../../Evaluation/')\n",
    "from normal_evaluation.drbart_evaluation import *"
   ]
  },
  {
   "cell_type": "code",
   "execution_count": 2,
   "id": "947bebfa-e936-4dfa-8fb9-74a358dcfd1f",
   "metadata": {},
   "outputs": [
    {
     "name": "stderr",
     "output_type": "stream",
     "text": [
      "/tmp/ipykernel_2048696/1655077238.py:5: DeprecationWarning: numpy.core.numeric is deprecated and has been renamed to numpy._core.numeric. The numpy._core namespace contains private NumPy internals and its use is discouraged, as NumPy internals can change without warning in any release. In practice, most real-world usage of numpy.core is to access functionality in the public NumPy API. If that is the case, use the public NumPy API. If not, you are using NumPy internals. If you would still like to access an internal attribute, use numpy._core.numeric._frombuffer.\n",
      "  test_event_log = pickle.load(f)\n"
     ]
    }
   ],
   "source": [
    "#model_name = 'bpic_2017_all_2'\n",
    "model_name = 'bpic_2017_all'\n",
    "\n",
    "log_name = 'train'\n",
    "with open('../transformed_event_logs/BPIC_2017_all_'+log_name+'.pickle', 'rb') as f:\n",
    "    test_event_log = pickle.load(f)\n",
    "\n",
    "test_event_log['case:concept:name'] = test_event_log['case:concept:name'].astype(str)\n",
    "known_resources = ['User_1','User_10','User_100','User_101','User_102','User_103','User_104','User_105','User_106','User_107','User_108','User_109','User_11','User_110','User_111','User_112','User_113','User_114','User_115','User_116','User_117','User_118','User_119','User_12','User_120','User_121','User_122','User_123','User_124','User_125','User_126','User_127','User_128','User_129','User_13','User_130','User_131','User_132','User_133','User_134','User_135','User_136','User_137','User_138','User_139','User_14','User_140','User_141','User_142','User_143','User_144','User_145','User_146','User_147','User_148','User_149','User_15','User_16','User_17','User_18','User_19','User_2','User_20','User_21','User_22','User_23','User_24','User_25','User_26','User_27','User_28','User_29','User_3','User_30','User_31','User_32','User_33','User_34','User_35','User_36','User_37','User_38','User_39','User_4','User_40','User_41','User_42','User_43','User_44','User_45','User_46','User_47','User_48','User_49','User_5','User_50','User_51','User_52','User_53','User_54','User_55','User_56','User_57','User_58','User_59','User_6','User_60','User_61','User_62','User_63','User_64','User_65','User_66','User_67','User_68','User_69','User_7','User_70','User_71','User_72','User_73','User_74','User_75','User_76','User_77','User_78','User_79','User_8','User_80','User_81','User_82','User_83','User_84','User_85','User_86','User_87','User_88','User_89','User_9','User_90','User_91','User_92','User_93','User_94','User_95','User_96','User_97','User_98','User_99']\n",
    "known_activities = ['W_Assess potential fraud__ate_abort','W_Assess potential fraud__complete','W_Assess potential fraud__resume','W_Assess potential fraud__schedule','W_Assess potential fraud__start','W_Assess potential fraud__suspend','W_Assess potential fraud__withdraw','W_Call after offers__ate_abort','W_Call after offers__complete','W_Call after offers__resume','W_Call after offers__schedule','W_Call after offers__start','W_Call after offers__suspend','W_Call after offers__withdraw','W_Call incomplete files__ate_abort','W_Call incomplete files__complete','W_Call incomplete files__resume','W_Call incomplete files__schedule','W_Call incomplete files__start','W_Call incomplete files__suspend','W_Complete application__ate_abort','W_Complete application__complete','W_Complete application__resume','W_Complete application__schedule','W_Complete application__start','W_Complete application__suspend','W_Handle leads__complete','W_Handle leads__resume','W_Handle leads__schedule','W_Handle leads__start','W_Handle leads__suspend','W_Handle leads__withdraw','W_Shortened completion __resume','W_Shortened completion __schedule','W_Shortened completion __start','W_Shortened completion __suspend','W_Validate application__ate_abort','W_Validate application__complete','W_Validate application__resume','W_Validate application__schedule','W_Validate application__start','W_Validate application__suspend']"
   ]
  },
  {
   "cell_type": "code",
   "execution_count": 3,
   "id": "b5035e82-57d7-466f-bedf-c2520361b5e2",
   "metadata": {},
   "outputs": [],
   "source": [
    "N = 1000\n",
    "n_processes = 12\n",
    "\n",
    "import conduct_evaluation\n",
    "get_pscores = lambda likelihoods : [pscore(likelihoods[1][i], likelihoods[2][k][3]).compute()[0] for i, k in enumerate(list(likelihoods[0].keys()))]\n",
    "\n",
    "likelihoods_A = None\n",
    "likelihoods_R = None\n",
    "likelihoods_R_A = None\n",
    "likelihoods_R_A_S = None\n",
    "likelihoods_R_A_S_AC = None\n",
    "likelihoods_R_A_S_RC = None\n",
    "likelihoods_R_A_S_RC_AC = None\n",
    "likelihoods_R_A_S_RC_AC_V = None\n",
    "likelihoods_R_A_S_D = None\n",
    "likelihoods_R_A_S_D_RC_AC = None"
   ]
  },
  {
   "cell_type": "code",
   "execution_count": 4,
   "id": "58c47d35-5bf5-4643-a5b2-9618cfc0f045",
   "metadata": {},
   "outputs": [
    {
     "ename": "FileNotFoundError",
     "evalue": "[Errno 2] No such file or directory: '../../../models/bpic_2017_all_2/concept-name/ucuts.json'",
     "output_type": "error",
     "traceback": [
      "\u001b[0;31m---------------------------------------------------------------------------\u001b[0m",
      "\u001b[0;31mFileNotFoundError\u001b[0m                         Traceback (most recent call last)",
      "Cell \u001b[0;32mIn[4], line 1\u001b[0m\n\u001b[0;32m----> 1\u001b[0m drbart_model_A \u001b[38;5;241m=\u001b[39m \u001b[43mDRBART\u001b[49m\u001b[43m(\u001b[49m\u001b[43mparser_dir\u001b[49m\u001b[43m \u001b[49m\u001b[38;5;241;43m=\u001b[39;49m\u001b[43m \u001b[49m\u001b[38;5;124;43m'\u001b[39;49m\u001b[38;5;124;43m../../../models/\u001b[39;49m\u001b[38;5;124;43m'\u001b[39;49m\u001b[38;5;241;43m+\u001b[39;49m\u001b[43mmodel_name\u001b[49m\u001b[38;5;241;43m+\u001b[39;49m\u001b[38;5;124;43m'\u001b[39;49m\u001b[38;5;124;43m/concept-name/\u001b[39;49m\u001b[38;5;124;43m'\u001b[39;49m\u001b[43m,\u001b[49m\n\u001b[1;32m      2\u001b[0m \u001b[43m                     \u001b[49m\u001b[43mstrict_parser\u001b[49m\u001b[38;5;241;43m=\u001b[39;49m\u001b[38;5;28;43;01mTrue\u001b[39;49;00m\u001b[43m)\u001b[49m\n\u001b[1;32m      3\u001b[0m evaluator_A \u001b[38;5;241m=\u001b[39m conduct_evaluation\u001b[38;5;241m.\u001b[39mConductEvaluation(drbart_model_A, SampleOutcomes_DRBART_Normal_A, {\n\u001b[1;32m      4\u001b[0m                                                         \u001b[38;5;124m'\u001b[39m\u001b[38;5;124mactivity_key\u001b[39m\u001b[38;5;124m'\u001b[39m : \u001b[38;5;124m'\u001b[39m\u001b[38;5;124mconcept:name\u001b[39m\u001b[38;5;124m'\u001b[39m,\n\u001b[1;32m      5\u001b[0m                                                         \u001b[38;5;124m'\u001b[39m\u001b[38;5;124mresource_key\u001b[39m\u001b[38;5;124m'\u001b[39m : \u001b[38;5;124m'\u001b[39m\u001b[38;5;124morg:resource_start\u001b[39m\u001b[38;5;124m'\u001b[39m,\n\u001b[1;32m      6\u001b[0m                                                     },\n\u001b[1;32m      7\u001b[0m                                      test_event_log, n\u001b[38;5;241m=\u001b[39mN)\n\u001b[1;32m      8\u001b[0m likelihoods_A \u001b[38;5;241m=\u001b[39m evaluator_A\u001b[38;5;241m.\u001b[39msample_cases(\u001b[38;5;28;01mFalse\u001b[39;00m, \u001b[38;5;28;01mTrue\u001b[39;00m)\n",
      "File \u001b[0;32m~/TaskExecutionTimeMining/src/notebooks/BPIC_2017/../../TaskExecutionTimeMining/drbart_parser.py:218\u001b[0m, in \u001b[0;36mDRBART.__init__\u001b[0;34m(self, parser, parser_dir, strict_parser)\u001b[0m\n\u001b[1;32m    214\u001b[0m \u001b[38;5;28;01mdef\u001b[39;00m \u001b[38;5;21m__init__\u001b[39m(\u001b[38;5;28mself\u001b[39m, parser : Parser \u001b[38;5;241m=\u001b[39m \u001b[38;5;28;01mNone\u001b[39;00m,\n\u001b[1;32m    215\u001b[0m              parser_dir : \u001b[38;5;28mstr\u001b[39m \u001b[38;5;241m=\u001b[39m \u001b[38;5;124m'\u001b[39m\u001b[38;5;124m'\u001b[39m,\n\u001b[1;32m    216\u001b[0m              strict_parser \u001b[38;5;241m=\u001b[39m \u001b[38;5;28;01mTrue\u001b[39;00m):\n\u001b[1;32m    217\u001b[0m     \u001b[38;5;28;01mif\u001b[39;00m \u001b[38;5;129;01mnot\u001b[39;00m parser:\n\u001b[0;32m--> 218\u001b[0m         \u001b[38;5;28mself\u001b[39m\u001b[38;5;241m.\u001b[39mparser \u001b[38;5;241m=\u001b[39m \u001b[43mParser\u001b[49m\u001b[43m(\u001b[49m\u001b[43mparser_dir\u001b[49m\u001b[43m,\u001b[49m\u001b[43m \u001b[49m\u001b[43mstrict_parser\u001b[49m\u001b[43m)\u001b[49m\n\u001b[1;32m    219\u001b[0m     \u001b[38;5;28mself\u001b[39m\u001b[38;5;241m.\u001b[39mmean_cut_variables, \u001b[38;5;28mself\u001b[39m\u001b[38;5;241m.\u001b[39mmean_trees \u001b[38;5;241m=\u001b[39m \u001b[38;5;28mself\u001b[39m\u001b[38;5;241m.\u001b[39mparser\u001b[38;5;241m.\u001b[39mparse_mean()\n\u001b[1;32m    220\u001b[0m     \u001b[38;5;28mself\u001b[39m\u001b[38;5;241m.\u001b[39mprec_cut_variables, \u001b[38;5;28mself\u001b[39m\u001b[38;5;241m.\u001b[39mprec_trees \u001b[38;5;241m=\u001b[39m \u001b[38;5;28mself\u001b[39m\u001b[38;5;241m.\u001b[39mparser\u001b[38;5;241m.\u001b[39mparse_prec()\n",
      "File \u001b[0;32m~/TaskExecutionTimeMining/src/notebooks/BPIC_2017/../../TaskExecutionTimeMining/drbart_parser.py:11\u001b[0m, in \u001b[0;36mParser.__init__\u001b[0;34m(self, dir, strict)\u001b[0m\n\u001b[1;32m      9\u001b[0m \u001b[38;5;28mself\u001b[39m\u001b[38;5;241m.\u001b[39mf_dr_bart_mean \u001b[38;5;241m=\u001b[39m \u001b[38;5;28mopen\u001b[39m(\u001b[38;5;28mdir\u001b[39m \u001b[38;5;241m+\u001b[39m \u001b[38;5;124m'\u001b[39m\u001b[38;5;124mdr_bart_mean.txt\u001b[39m\u001b[38;5;124m'\u001b[39m)\n\u001b[1;32m     10\u001b[0m \u001b[38;5;28mself\u001b[39m\u001b[38;5;241m.\u001b[39mf_dr_bart_prec \u001b[38;5;241m=\u001b[39m \u001b[38;5;28mopen\u001b[39m(\u001b[38;5;28mdir\u001b[39m \u001b[38;5;241m+\u001b[39m \u001b[38;5;124m'\u001b[39m\u001b[38;5;124mdr_bart_prec.txt\u001b[39m\u001b[38;5;124m'\u001b[39m)\n\u001b[0;32m---> 11\u001b[0m \u001b[38;5;28mself\u001b[39m\u001b[38;5;241m.\u001b[39mucut_file \u001b[38;5;241m=\u001b[39m \u001b[38;5;28;43mopen\u001b[39;49m\u001b[43m(\u001b[49m\u001b[38;5;28;43mdir\u001b[39;49m\u001b[43m \u001b[49m\u001b[38;5;241;43m+\u001b[39;49m\u001b[43m \u001b[49m\u001b[38;5;124;43m'\u001b[39;49m\u001b[38;5;124;43mucuts.json\u001b[39;49m\u001b[38;5;124;43m'\u001b[39;49m\u001b[43m)\u001b[49m\n\u001b[1;32m     12\u001b[0m \u001b[38;5;28mself\u001b[39m\u001b[38;5;241m.\u001b[39mphistar_file \u001b[38;5;241m=\u001b[39m \u001b[38;5;28mopen\u001b[39m(\u001b[38;5;28mdir\u001b[39m \u001b[38;5;241m+\u001b[39m \u001b[38;5;124m'\u001b[39m\u001b[38;5;124mphistar.json\u001b[39m\u001b[38;5;124m'\u001b[39m)\n\u001b[1;32m     13\u001b[0m \u001b[38;5;28mself\u001b[39m\u001b[38;5;241m.\u001b[39mencoding_file \u001b[38;5;241m=\u001b[39m \u001b[38;5;28mopen\u001b[39m(\u001b[38;5;28mdir\u001b[39m \u001b[38;5;241m+\u001b[39m \u001b[38;5;124m'\u001b[39m\u001b[38;5;124mencoding.json\u001b[39m\u001b[38;5;124m'\u001b[39m)\n",
      "\u001b[0;31mFileNotFoundError\u001b[0m: [Errno 2] No such file or directory: '../../../models/bpic_2017_all_2/concept-name/ucuts.json'"
     ]
    }
   ],
   "source": [
    "drbart_model_A = DRBART(parser_dir = '../../../models/'+model_name+'/concept-name/',\n",
    "                     strict_parser=True)\n",
    "evaluator_A = conduct_evaluation.ConductEvaluation(drbart_model_A, SampleOutcomes_DRBART_Normal_A, {\n",
    "                                                        'activity_key' : 'concept:name',\n",
    "                                                        'resource_key' : 'org:resource_start',\n",
    "                                                    },\n",
    "                                     test_event_log, n=N, n_processes=n_processes)\n",
    "likelihoods_A = evaluator_A.sample_cases(False, True)"
   ]
  },
  {
   "cell_type": "code",
   "execution_count": null,
   "id": "f2d16c44-6feb-4bb8-bb9c-8c57aa84951e",
   "metadata": {},
   "outputs": [],
   "source": [
    "np.mean([v.ln() for v in likelihoods_A[0].values()])"
   ]
  },
  {
   "cell_type": "code",
   "execution_count": null,
   "id": "831debb8-db1e-4739-96a4-af9909b1e3d0",
   "metadata": {},
   "outputs": [],
   "source": [
    "np.mean(get_pscores(likelihoods_A))"
   ]
  },
  {
   "cell_type": "code",
   "execution_count": null,
   "id": "15dfd50d-caaf-4d1b-86b7-9c128ee41681",
   "metadata": {},
   "outputs": [],
   "source": [
    "drbart_model_R_A = DRBART(parser_dir = '../../../models/'+model_name+'/concept-name_resource/',\n",
    "                     strict_parser=False)\n",
    "evaluator_R_A = conduct_evaluation.ConductEvaluation(drbart_model_R_A, SampleOutcomes_DRBART_Normal_R_A,\n",
    "                                                   {\n",
    "                                                        'activity_key' : 'concept:name',\n",
    "                                                        'resource_key' : 'org:resource_start',\n",
    "                                                    },\n",
    "                                     test_event_log, n=N, n_processes=n_processes)\n",
    "likelihoods_R_A = evaluator_R_A.sample_cases(False, True)"
   ]
  },
  {
   "cell_type": "code",
   "execution_count": null,
   "id": "d7932c1b-dc40-4697-8098-4d3f8499d46d",
   "metadata": {},
   "outputs": [],
   "source": [
    "np.mean([v.ln() for v in likelihoods_R_A[0].values()])"
   ]
  },
  {
   "cell_type": "code",
   "execution_count": null,
   "id": "e7573911-d4d1-434c-91e4-bb1d451fc42c",
   "metadata": {},
   "outputs": [],
   "source": [
    "np.mean(get_pscores(likelihoods_R_A))"
   ]
  },
  {
   "cell_type": "code",
   "execution_count": null,
   "id": "50beeceb-33bc-41ed-8f40-9a84e46e7b59",
   "metadata": {},
   "outputs": [],
   "source": [
    "drbart_model_R = DRBART(parser_dir = '../../../models/'+model_name+'/resource/',\n",
    "                     strict_parser=False)\n",
    "evaluator_R = conduct_evaluation.ConductEvaluation(drbart_model_R, SampleOutcomes_DRBART_Normal_R,\n",
    "                                                   {\n",
    "                                                        'activity_key' : 'concept:name',\n",
    "                                                        'resource_key' : 'org:resource_start',\n",
    "                                                    },\n",
    "                                     test_event_log, n=N, n_processes=n_processes)\n",
    "likelihoods_R = evaluator_R.sample_cases(False, True)"
   ]
  },
  {
   "cell_type": "code",
   "execution_count": null,
   "id": "7e461dc7-bc5d-4e78-971d-2d6c7ed18966",
   "metadata": {},
   "outputs": [],
   "source": [
    "np.mean([v.ln() for v in likelihoods_R[0].values()])"
   ]
  },
  {
   "cell_type": "code",
   "execution_count": null,
   "id": "9750f12c-75bc-4c03-9e4f-5cf48876f8d4",
   "metadata": {},
   "outputs": [],
   "source": [
    "np.mean(get_pscores(likelihoods_R))"
   ]
  },
  {
   "cell_type": "code",
   "execution_count": null,
   "id": "cf6e1732-5330-4358-9d32-aa0fd4267a86",
   "metadata": {},
   "outputs": [],
   "source": [
    "drbart_model_R_A_S = DRBART(parser_dir = '../../../models/'+model_name+'/concept-name_resource_seconds-in-day/',\n",
    "                     strict_parser=False)\n",
    "evaluator_R_A_S = conduct_evaluation.ConductEvaluation(drbart_model_R_A_S, SampleOutcomes_DRBART_Normal_R_A_S,\n",
    "                                                   {\n",
    "                                                        'activity_key' : 'concept:name',\n",
    "                                                        'resource_key' : 'org:resource_start',\n",
    "                                                    },\n",
    "                                     test_event_log, n=N, n_processes=n_processes)\n",
    "likelihoods_R_A_S = evaluator_R_A_S.sample_cases(False, True)"
   ]
  },
  {
   "cell_type": "code",
   "execution_count": null,
   "id": "c1c766c5-64fb-42ac-84a2-f0a8bb2a20fe",
   "metadata": {},
   "outputs": [],
   "source": [
    "np.mean([v.ln() for v in likelihoods_R_A_S[0].values()])"
   ]
  },
  {
   "cell_type": "code",
   "execution_count": null,
   "id": "840e203d-19f1-4121-99b5-79f94632bc8c",
   "metadata": {},
   "outputs": [],
   "source": [
    "np.mean(get_pscores(likelihoods_R_A_S))"
   ]
  },
  {
   "cell_type": "code",
   "execution_count": null,
   "id": "3efa4f23-9d9b-4918-9ea2-66928efed225",
   "metadata": {},
   "outputs": [],
   "source": [
    "drbart_model_R_A_S_AC = DRBART(parser_dir = '../../../models/'+model_name+'/concept-name_resource_seconds-in-day_activity-count/',\n",
    "                     strict_parser=False)\n",
    "evaluator_R_A_S_AC = conduct_evaluation.ConductEvaluation(drbart_model_R_A_S_AC, SampleOutcomes_DRBART_Normal_R_A_S_AC,\n",
    "                                                   {\n",
    "                                                        'activity_key' : 'concept:name',\n",
    "                                                        'resource_key' : 'org:resource_start',\n",
    "                                                        'known_activities' : known_activities,\n",
    "                                                    },\n",
    "                                     test_event_log, n=N, n_processes=n_processes)\n",
    "likelihoods_R_A_S_AC = evaluator_R_A_S_AC.sample_cases(False, True)"
   ]
  },
  {
   "cell_type": "code",
   "execution_count": null,
   "id": "6cc9fd3b-a0dd-44cb-9bd9-b2951e3246da",
   "metadata": {},
   "outputs": [],
   "source": [
    "np.mean([v.ln() for v in likelihoods_R_A_S_AC[0].values()])"
   ]
  },
  {
   "cell_type": "code",
   "execution_count": null,
   "id": "c2070461-4377-48ec-8bf3-8963fbfe455a",
   "metadata": {},
   "outputs": [],
   "source": [
    "np.mean(get_pscores(likelihoods_R_A_S_AC))"
   ]
  },
  {
   "cell_type": "code",
   "execution_count": null,
   "id": "3db10062-4115-4d0a-956e-1e36ebda9fd5",
   "metadata": {},
   "outputs": [],
   "source": [
    "drbart_model_R_A_S_RC = DRBART(parser_dir = '../../../models/'+model_name+'/concept-name_resource_seconds-in-day_resource-count/',\n",
    "                     strict_parser=False)\n",
    "evaluator_R_A_S_RC = conduct_evaluation.ConductEvaluation(drbart_model_R_A_S_RC, SampleOutcomes_DRBART_Normal_R_A_S_RC,\n",
    "                                                   {\n",
    "                                                        'activity_key' : 'concept:name',\n",
    "                                                        'resource_key' : 'org:resource_start',\n",
    "                                                        'known_resources' : known_resources\n",
    "                                                    },\n",
    "                                     test_event_log, n=N, n_processes=n_processes)\n",
    "likelihoods_R_A_S_RC = evaluator_R_A_S_RC.sample_cases(False, True)"
   ]
  },
  {
   "cell_type": "code",
   "execution_count": null,
   "id": "adf31d51-e701-4d65-98d3-66a6decbfb34",
   "metadata": {},
   "outputs": [],
   "source": [
    "np.mean([v.ln() for v in likelihoods_R_A_S_RC[0].values()])"
   ]
  },
  {
   "cell_type": "code",
   "execution_count": null,
   "id": "6d08d847-1e9c-482c-96d0-2a255bd4201b",
   "metadata": {},
   "outputs": [],
   "source": [
    "np.mean(get_pscores(likelihoods_R_A_S_RC))"
   ]
  },
  {
   "cell_type": "code",
   "execution_count": 5,
   "id": "0a70d939-f643-4d14-8818-0ad27d6e2550",
   "metadata": {},
   "outputs": [
    {
     "name": "stderr",
     "output_type": "stream",
     "text": [
      "  0%|                                                                      | 1/6018 [02:38<264:43:30, 158.39s/it]\n"
     ]
    },
    {
     "ename": "KeyboardInterrupt",
     "evalue": "",
     "output_type": "error",
     "traceback": [
      "\u001b[0;31m---------------------------------------------------------------------------\u001b[0m",
      "\u001b[0;31mKeyboardInterrupt\u001b[0m                         Traceback (most recent call last)",
      "Cell \u001b[0;32mIn[5], line 11\u001b[0m\n\u001b[1;32m      1\u001b[0m drbart_model_R_A_S_RC_AC \u001b[38;5;241m=\u001b[39m DRBART(parser_dir \u001b[38;5;241m=\u001b[39m \u001b[38;5;124m'\u001b[39m\u001b[38;5;124m../../../models/\u001b[39m\u001b[38;5;124m'\u001b[39m\u001b[38;5;241m+\u001b[39mmodel_name\u001b[38;5;241m+\u001b[39m\u001b[38;5;124m'\u001b[39m\u001b[38;5;124m/concept-name_resource_seconds-in-day_activity-count_resource_count/\u001b[39m\u001b[38;5;124m'\u001b[39m,\n\u001b[1;32m      2\u001b[0m                      strict_parser\u001b[38;5;241m=\u001b[39m\u001b[38;5;28;01mFalse\u001b[39;00m)\n\u001b[1;32m      3\u001b[0m evaluator_R_A_S_RC_AC \u001b[38;5;241m=\u001b[39m conduct_evaluation\u001b[38;5;241m.\u001b[39mConductEvaluation(drbart_model_R_A_S_RC_AC, SampleOutcomes_DRBART_Normal_R_A_S_RC_AC,\n\u001b[1;32m      4\u001b[0m                                                    {\n\u001b[1;32m      5\u001b[0m                                                         \u001b[38;5;124m'\u001b[39m\u001b[38;5;124mactivity_key\u001b[39m\u001b[38;5;124m'\u001b[39m : \u001b[38;5;124m'\u001b[39m\u001b[38;5;124mconcept:name\u001b[39m\u001b[38;5;124m'\u001b[39m,\n\u001b[0;32m   (...)\u001b[0m\n\u001b[1;32m      9\u001b[0m                                                     },\n\u001b[1;32m     10\u001b[0m                                      test_event_log, n\u001b[38;5;241m=\u001b[39mN)\n\u001b[0;32m---> 11\u001b[0m likelihoods_R_A_S_RC_AC \u001b[38;5;241m=\u001b[39m \u001b[43mevaluator_R_A_S_RC_AC\u001b[49m\u001b[38;5;241;43m.\u001b[39;49m\u001b[43msample_cases\u001b[49m\u001b[43m(\u001b[49m\u001b[38;5;28;43;01mFalse\u001b[39;49;00m\u001b[43m,\u001b[49m\u001b[43m \u001b[49m\u001b[38;5;28;43;01mFalse\u001b[39;49;00m\u001b[43m)\u001b[49m\n",
      "File \u001b[0;32m~/TaskExecutionTimeMining/src/notebooks/BPIC_2017/../../Evaluation/conduct_evaluation.py:111\u001b[0m, in \u001b[0;36mConductEvaluation.sample_cases\u001b[0;34m(self, plot_cases, multiprocessing)\u001b[0m\n\u001b[1;32m    109\u001b[0m     \u001b[38;5;28;01mfor\u001b[39;00m c \u001b[38;5;129;01min\u001b[39;00m tqdm(cases):\n\u001b[1;32m    110\u001b[0m         case_data[c] \u001b[38;5;241m=\u001b[39m \u001b[38;5;28mself\u001b[39m\u001b[38;5;241m.\u001b[39mget_case_data(c)\n\u001b[0;32m--> 111\u001b[0m         r \u001b[38;5;241m=\u001b[39m \u001b[43mfunc\u001b[49m\u001b[43m(\u001b[49m\u001b[43mcase_data\u001b[49m\u001b[43m[\u001b[49m\u001b[43mc\u001b[49m\u001b[43m]\u001b[49m\u001b[43m[\u001b[49m\u001b[38;5;241;43m1\u001b[39;49m\u001b[43m]\u001b[49m\u001b[43m)\u001b[49m\n\u001b[1;32m    112\u001b[0m         sample_results\u001b[38;5;241m.\u001b[39mappend(r)\n\u001b[1;32m    115\u001b[0m \u001b[38;5;66;03m#if plot_cases:\u001b[39;00m\n\u001b[1;32m    116\u001b[0m \u001b[38;5;66;03m#    for r in results:\u001b[39;00m\n\u001b[1;32m    117\u001b[0m \u001b[38;5;66;03m#        self._plot_case(r[0], r[1], r[2])\u001b[39;00m\n",
      "File \u001b[0;32m~/TaskExecutionTimeMining/src/notebooks/BPIC_2017/../../Evaluation/conduct_evaluation.py:91\u001b[0m, in \u001b[0;36mConductEvaluation.sample_case_static\u001b[0;34m(case_log, sample_model, n)\u001b[0m\n\u001b[1;32m     89\u001b[0m \u001b[38;5;129m@staticmethod\u001b[39m\n\u001b[1;32m     90\u001b[0m \u001b[38;5;28;01mdef\u001b[39;00m \u001b[38;5;21msample_case_static\u001b[39m(case_log, sample_model, n):\n\u001b[0;32m---> 91\u001b[0m     \u001b[38;5;28;01mreturn\u001b[39;00m [sample_model\u001b[38;5;241m.\u001b[39msample_case(case_log) \u001b[38;5;28;01mfor\u001b[39;00m i \u001b[38;5;129;01min\u001b[39;00m \u001b[38;5;28mrange\u001b[39m(n)]\n",
      "File \u001b[0;32m~/TaskExecutionTimeMining/src/notebooks/BPIC_2017/../../Evaluation/conduct_evaluation.py:91\u001b[0m, in \u001b[0;36m<listcomp>\u001b[0;34m(.0)\u001b[0m\n\u001b[1;32m     89\u001b[0m \u001b[38;5;129m@staticmethod\u001b[39m\n\u001b[1;32m     90\u001b[0m \u001b[38;5;28;01mdef\u001b[39;00m \u001b[38;5;21msample_case_static\u001b[39m(case_log, sample_model, n):\n\u001b[0;32m---> 91\u001b[0m     \u001b[38;5;28;01mreturn\u001b[39;00m [\u001b[43msample_model\u001b[49m\u001b[38;5;241;43m.\u001b[39;49m\u001b[43msample_case\u001b[49m\u001b[43m(\u001b[49m\u001b[43mcase_log\u001b[49m\u001b[43m)\u001b[49m \u001b[38;5;28;01mfor\u001b[39;00m i \u001b[38;5;129;01min\u001b[39;00m \u001b[38;5;28mrange\u001b[39m(n)]\n",
      "File \u001b[0;32m~/TaskExecutionTimeMining/src/notebooks/BPIC_2017/../../Evaluation/normal_evaluation/normal_evaluation.py:87\u001b[0m, in \u001b[0;36mSampleOutcomes_Normal.sample_case\u001b[0;34m(self, case_log)\u001b[0m\n\u001b[1;32m     80\u001b[0m \u001b[38;5;28;01mdef\u001b[39;00m \u001b[38;5;21msample_case\u001b[39m(\u001b[38;5;28mself\u001b[39m, case_log):\n\u001b[1;32m     81\u001b[0m     \u001b[38;5;66;03m#case_log = self.event_log[self.event_log['case:concept:name'] == case_name]\u001b[39;00m\n\u001b[1;32m     82\u001b[0m     \u001b[38;5;66;03m#net, im, fm = pm4py.discover_petri_net_inductive(case_log,\u001b[39;00m\n\u001b[1;32m     83\u001b[0m     \u001b[38;5;66;03m#                                                activity_key=self.activity_key,\u001b[39;00m\n\u001b[1;32m     84\u001b[0m     \u001b[38;5;66;03m#                                                case_id_key=self.case_id_key,\u001b[39;00m\n\u001b[1;32m     85\u001b[0m     \u001b[38;5;66;03m#                                                timestamp_key=self.timestamp_key)\u001b[39;00m\n\u001b[1;32m     86\u001b[0m     start_time \u001b[38;5;241m=\u001b[39m case_log[\u001b[38;5;28mself\u001b[39m\u001b[38;5;241m.\u001b[39mtimestamp_key]\u001b[38;5;241m.\u001b[39mmin()\u001b[38;5;241m.\u001b[39mtimestamp()\n\u001b[0;32m---> 87\u001b[0m     \u001b[38;5;28;01mreturn\u001b[39;00m \u001b[38;5;28;43mself\u001b[39;49m\u001b[38;5;241;43m.\u001b[39;49m\u001b[43msample_end_time\u001b[49m\u001b[43m(\u001b[49m\u001b[43mcase_log\u001b[49m\u001b[43m,\u001b[49m\u001b[43m \u001b[49m\u001b[43mstart_time\u001b[49m\u001b[43m)\u001b[49m\n",
      "File \u001b[0;32m~/TaskExecutionTimeMining/src/notebooks/BPIC_2017/../../Evaluation/normal_evaluation/normal_evaluation.py:64\u001b[0m, in \u001b[0;36mSampleOutcomes_Normal.sample_end_time\u001b[0;34m(self, case_log, start_time)\u001b[0m\n\u001b[1;32m     61\u001b[0m     seconds_in_day \u001b[38;5;241m=\u001b[39m (current_time_ts \u001b[38;5;241m-\u001b[39m current_time_ts\u001b[38;5;241m.\u001b[39mreplace(hour\u001b[38;5;241m=\u001b[39m\u001b[38;5;241m0\u001b[39m, minute\u001b[38;5;241m=\u001b[39m\u001b[38;5;241m0\u001b[39m, second\u001b[38;5;241m=\u001b[39m\u001b[38;5;241m0\u001b[39m, microsecond\u001b[38;5;241m=\u001b[39m\u001b[38;5;241m0\u001b[39m))\u001b[38;5;241m.\u001b[39mtotal_seconds()\n\u001b[1;32m     62\u001b[0m     day_of_week \u001b[38;5;241m=\u001b[39m datetime\u001b[38;5;241m.\u001b[39mdatetime\u001b[38;5;241m.\u001b[39mfromtimestamp(current_time)\u001b[38;5;241m.\u001b[39mweekday()\n\u001b[0;32m---> 64\u001b[0m     finish_time \u001b[38;5;241m=\u001b[39m \u001b[38;5;28;43mself\u001b[39;49m\u001b[38;5;241;43m.\u001b[39;49m\u001b[43msample_duration\u001b[49m\u001b[43m(\u001b[49m\u001b[43mseconds_in_day\u001b[49m\u001b[43m \u001b[49m\u001b[38;5;241;43m=\u001b[39;49m\u001b[43m \u001b[49m\u001b[43mseconds_in_day\u001b[49m\u001b[43m,\u001b[49m\n\u001b[1;32m     65\u001b[0m \u001b[43m                                       \u001b[49m\u001b[43mresource\u001b[49m\u001b[43m \u001b[49m\u001b[38;5;241;43m=\u001b[39;49m\u001b[43m \u001b[49m\u001b[43mresource\u001b[49m\u001b[43m,\u001b[49m\n\u001b[1;32m     66\u001b[0m \u001b[43m                                       \u001b[49m\u001b[43mconcept_name\u001b[49m\u001b[43m \u001b[49m\u001b[38;5;241;43m=\u001b[39;49m\u001b[43m \u001b[49m\u001b[43mconcept_name\u001b[49m\u001b[43m,\u001b[49m\n\u001b[1;32m     67\u001b[0m \u001b[43m                                       \u001b[49m\u001b[43mresource_count\u001b[49m\u001b[43m \u001b[49m\u001b[38;5;241;43m=\u001b[39;49m\u001b[43m \u001b[49m\u001b[43mresource_count\u001b[49m\u001b[43m,\u001b[49m\n\u001b[1;32m     68\u001b[0m \u001b[43m                                       \u001b[49m\u001b[43mactivity_count\u001b[49m\u001b[43m \u001b[49m\u001b[38;5;241;43m=\u001b[39;49m\u001b[43m \u001b[49m\u001b[43mactivity_count\u001b[49m\u001b[43m,\u001b[49m\n\u001b[1;32m     69\u001b[0m \u001b[43m                                       \u001b[49m\u001b[43mday_of_week\u001b[49m\u001b[43m \u001b[49m\u001b[38;5;241;43m=\u001b[39;49m\u001b[43m \u001b[49m\u001b[43mday_of_week\u001b[49m\n\u001b[1;32m     70\u001b[0m \u001b[43m                                      \u001b[49m\u001b[43m)\u001b[49m\n\u001b[1;32m     72\u001b[0m     current_time \u001b[38;5;241m+\u001b[39m\u001b[38;5;241m=\u001b[39m finish_time\n\u001b[1;32m     73\u001b[0m     \u001b[38;5;66;03m#marking = semantics.execute(pn_task, net, marking)\u001b[39;00m\n\u001b[1;32m     74\u001b[0m \n\u001b[1;32m     75\u001b[0m \u001b[38;5;66;03m#print('total:', current_time)\u001b[39;00m\n\u001b[1;32m     76\u001b[0m \u001b[38;5;66;03m#print('---------')\u001b[39;00m\n",
      "File \u001b[0;32m~/TaskExecutionTimeMining/src/notebooks/BPIC_2017/../../Evaluation/normal_evaluation/drbart_evaluation.py:32\u001b[0m, in \u001b[0;36mSampleOutcomes_DRBART_Normal.sample_duration\u001b[0;34m(self, seconds_in_day, resource, concept_name, resource_count, activity_count, day_of_week)\u001b[0m\n\u001b[1;32m     30\u001b[0m sample_time \u001b[38;5;241m=\u001b[39m \u001b[38;5;28;01mlambda\u001b[39;00m : pf()[\u001b[38;5;241m1\u001b[39m][\u001b[38;5;241m0\u001b[39m]\n\u001b[1;32m     31\u001b[0m \u001b[38;5;28;01mfor\u001b[39;00m i \u001b[38;5;129;01min\u001b[39;00m \u001b[38;5;28mrange\u001b[39m(\u001b[38;5;28mself\u001b[39m\u001b[38;5;241m.\u001b[39mmax_sample):\n\u001b[0;32m---> 32\u001b[0m     sampled_time \u001b[38;5;241m=\u001b[39m \u001b[43msample_time\u001b[49m\u001b[43m(\u001b[49m\u001b[43m)\u001b[49m\n\u001b[1;32m     33\u001b[0m     \u001b[38;5;28;01mif\u001b[39;00m sampled_time \u001b[38;5;241m>\u001b[39m \u001b[38;5;241m0\u001b[39m:\n\u001b[1;32m     34\u001b[0m         \u001b[38;5;28;01mbreak\u001b[39;00m\n",
      "File \u001b[0;32m~/TaskExecutionTimeMining/src/notebooks/BPIC_2017/../../Evaluation/normal_evaluation/drbart_evaluation.py:30\u001b[0m, in \u001b[0;36mSampleOutcomes_DRBART_Normal.sample_duration.<locals>.<lambda>\u001b[0;34m()\u001b[0m\n\u001b[1;32m     25\u001b[0m         categorical_variables\u001b[38;5;241m.\u001b[39mappend(r)\n\u001b[1;32m     26\u001b[0m pf \u001b[38;5;241m=\u001b[39m partial(\u001b[38;5;28mself\u001b[39m\u001b[38;5;241m.\u001b[39mdrbart_model\u001b[38;5;241m.\u001b[39msample,\n\u001b[1;32m     27\u001b[0m                             categorical_variables,\n\u001b[1;32m     28\u001b[0m                             continuous_variables\n\u001b[1;32m     29\u001b[0m             )\n\u001b[0;32m---> 30\u001b[0m sample_time \u001b[38;5;241m=\u001b[39m \u001b[38;5;28;01mlambda\u001b[39;00m : \u001b[43mpf\u001b[49m\u001b[43m(\u001b[49m\u001b[43m)\u001b[49m[\u001b[38;5;241m1\u001b[39m][\u001b[38;5;241m0\u001b[39m]\n\u001b[1;32m     31\u001b[0m \u001b[38;5;28;01mfor\u001b[39;00m i \u001b[38;5;129;01min\u001b[39;00m \u001b[38;5;28mrange\u001b[39m(\u001b[38;5;28mself\u001b[39m\u001b[38;5;241m.\u001b[39mmax_sample):\n\u001b[1;32m     32\u001b[0m     sampled_time \u001b[38;5;241m=\u001b[39m sample_time()\n",
      "File \u001b[0;32m~/TaskExecutionTimeMining/src/notebooks/BPIC_2017/../../TaskExecutionTimeMining/drbart_parser.py:267\u001b[0m, in \u001b[0;36mDRBART.sample\u001b[0;34m(self, x_categorical, x_continous, n)\u001b[0m\n\u001b[1;32m    265\u001b[0m x_encoded_categorical \u001b[38;5;241m=\u001b[39m \u001b[38;5;28mself\u001b[39m\u001b[38;5;241m.\u001b[39mparser\u001b[38;5;241m.\u001b[39mget_encoding(x_categorical)\n\u001b[1;32m    266\u001b[0m x_rows \u001b[38;5;241m=\u001b[39m x_encoded_categorical \u001b[38;5;241m+\u001b[39m x_continous\n\u001b[0;32m--> 267\u001b[0m res \u001b[38;5;241m=\u001b[39m \u001b[38;5;28;43mself\u001b[39;49m\u001b[38;5;241;43m.\u001b[39;49m\u001b[43msample_enc\u001b[49m\u001b[43m(\u001b[49m\u001b[43mx_rows\u001b[49m\u001b[43m,\u001b[49m\u001b[43m \u001b[49m\u001b[43mn\u001b[49m\u001b[43m)\u001b[49m\n\u001b[1;32m    268\u001b[0m \u001b[38;5;28;01mreturn\u001b[39;00m (x_rows_decoded, res)\n",
      "File \u001b[0;32m~/TaskExecutionTimeMining/src/notebooks/BPIC_2017/../../TaskExecutionTimeMining/drbart_parser.py:291\u001b[0m, in \u001b[0;36mDRBART.sample_enc\u001b[0;34m(self, x, n)\u001b[0m\n\u001b[1;32m    289\u001b[0m \u001b[38;5;28;01mdef\u001b[39;00m \u001b[38;5;21msample_enc\u001b[39m(\u001b[38;5;28mself\u001b[39m, x : \u001b[38;5;28mlist\u001b[39m, n : \u001b[38;5;28mint\u001b[39m):\n\u001b[1;32m    290\u001b[0m     \u001b[38;5;66;03m#logprobs = [np.log(np.diff(np.array([0] + ucuts_i + [1]))) for ucuts_i in self.ucuts ]\u001b[39;00m\n\u001b[0;32m--> 291\u001b[0m     mids \u001b[38;5;241m=\u001b[39m [np\u001b[38;5;241m.\u001b[39marray([\u001b[38;5;241m0\u001b[39m] \u001b[38;5;241m+\u001b[39m ucuts_i) \u001b[38;5;241m+\u001b[39m np\u001b[38;5;241m.\u001b[39mdiff(np\u001b[38;5;241m.\u001b[39marray([\u001b[38;5;241m0\u001b[39m] \u001b[38;5;241m+\u001b[39m ucuts_i \u001b[38;5;241m+\u001b[39m [\u001b[38;5;241m1\u001b[39m])) \u001b[38;5;241m/\u001b[39m \u001b[38;5;241m2\u001b[39m \u001b[38;5;28;01mfor\u001b[39;00m ucuts_i \u001b[38;5;129;01min\u001b[39;00m \u001b[38;5;28mself\u001b[39m\u001b[38;5;241m.\u001b[39mucuts]\n\u001b[1;32m    292\u001b[0m     res \u001b[38;5;241m=\u001b[39m []\n\u001b[1;32m    293\u001b[0m     \u001b[38;5;28;01mfor\u001b[39;00m i \u001b[38;5;129;01min\u001b[39;00m \u001b[38;5;28mrange\u001b[39m(n):\n",
      "File \u001b[0;32m~/TaskExecutionTimeMining/src/notebooks/BPIC_2017/../../TaskExecutionTimeMining/drbart_parser.py:291\u001b[0m, in \u001b[0;36m<listcomp>\u001b[0;34m(.0)\u001b[0m\n\u001b[1;32m    289\u001b[0m \u001b[38;5;28;01mdef\u001b[39;00m \u001b[38;5;21msample_enc\u001b[39m(\u001b[38;5;28mself\u001b[39m, x : \u001b[38;5;28mlist\u001b[39m, n : \u001b[38;5;28mint\u001b[39m):\n\u001b[1;32m    290\u001b[0m     \u001b[38;5;66;03m#logprobs = [np.log(np.diff(np.array([0] + ucuts_i + [1]))) for ucuts_i in self.ucuts ]\u001b[39;00m\n\u001b[0;32m--> 291\u001b[0m     mids \u001b[38;5;241m=\u001b[39m [np\u001b[38;5;241m.\u001b[39marray([\u001b[38;5;241m0\u001b[39m] \u001b[38;5;241m+\u001b[39m ucuts_i) \u001b[38;5;241m+\u001b[39m np\u001b[38;5;241m.\u001b[39mdiff(np\u001b[38;5;241m.\u001b[39marray([\u001b[38;5;241m0\u001b[39m] \u001b[38;5;241m+\u001b[39m ucuts_i \u001b[38;5;241m+\u001b[39m [\u001b[38;5;241m1\u001b[39m])) \u001b[38;5;241m/\u001b[39m \u001b[38;5;241m2\u001b[39m \u001b[38;5;28;01mfor\u001b[39;00m ucuts_i \u001b[38;5;129;01min\u001b[39;00m \u001b[38;5;28mself\u001b[39m\u001b[38;5;241m.\u001b[39mucuts]\n\u001b[1;32m    292\u001b[0m     res \u001b[38;5;241m=\u001b[39m []\n\u001b[1;32m    293\u001b[0m     \u001b[38;5;28;01mfor\u001b[39;00m i \u001b[38;5;129;01min\u001b[39;00m \u001b[38;5;28mrange\u001b[39m(n):\n",
      "\u001b[0;31mKeyboardInterrupt\u001b[0m: "
     ]
    }
   ],
   "source": [
    "drbart_model_R_A_S_RC_AC = DRBART(parser_dir = '../../../models/'+model_name+'/concept-name_resource_seconds-in-day_activity-count_resource_count/',\n",
    "                     strict_parser=False)\n",
    "evaluator_R_A_S_RC_AC = conduct_evaluation.ConductEvaluation(drbart_model_R_A_S_RC_AC, SampleOutcomes_DRBART_Normal_R_A_S_RC_AC,\n",
    "                                                   {\n",
    "                                                        'activity_key' : 'concept:name',\n",
    "                                                        'resource_key' : 'org:resource_start',\n",
    "                                                        'known_resources' : known_resources,\n",
    "                                                        'known_activities' : known_activities,\n",
    "                                                    },\n",
    "                                     test_event_log, n=N, n_processes=n_processes)\n",
    "likelihoods_R_A_S_RC_AC = evaluator_R_A_S_RC_AC.sample_cases(False, True)"
   ]
  },
  {
   "cell_type": "code",
   "execution_count": null,
   "id": "1dc0c22b-5c03-48ad-ad3b-f4856bf283f6",
   "metadata": {},
   "outputs": [],
   "source": [
    "np.mean([v.ln() for v in likelihoods_R_A_S_RC_AC[0].values()])"
   ]
  },
  {
   "cell_type": "code",
   "execution_count": null,
   "id": "46cc5f25-0676-4bc5-890d-2a127a5617e3",
   "metadata": {},
   "outputs": [],
   "source": [
    "np.mean(get_pscores(likelihoods_R_A_S_RC_AC))"
   ]
  },
  {
   "cell_type": "code",
   "execution_count": null,
   "id": "bc343074-59e9-4883-b8b4-4c5497133d6a",
   "metadata": {},
   "outputs": [],
   "source": [
    "drbart_model_R_A_S_RC_AC_V = DRBART(parser_dir = '../../../models/'+model_name+'/concept-name_resource_seconds-in-day_activity-count_resource_count_amount/',\n",
    "                     strict_parser=False)\n",
    "evaluator_R_A_S_RC_AC_V = conduct_evaluation.ConductEvaluation(drbart_model_R_A_S_RC_AC_V, SampleOutcomes_DRBART_Normal_R_A_S_RC_AC_V,\n",
    "                                                   {\n",
    "                                                        'activity_key' : 'concept:name',\n",
    "                                                        'resource_key' : 'org:resource_start',\n",
    "                                                        'amount' : 'case.RequestedAmount_start',\n",
    "                                                        'known_resources' : known_resources,\n",
    "                                                        'known_activities' : known_activities,\n",
    "                                                    },\n",
    "                                     test_event_log, n=N, n_processes=n_processes)\n",
    "likelihoods_R_A_S_RC_AC_V = evaluator_R_A_S_RC_AC_V.sample_cases(False, True)"
   ]
  },
  {
   "cell_type": "code",
   "execution_count": null,
   "id": "8f77d5bf-1ff7-4378-ab9f-442897c51f6e",
   "metadata": {},
   "outputs": [],
   "source": [
    "np.mean([v.ln() for v in likelihoods_R_A_S_RC_AC_V[0].values()])"
   ]
  },
  {
   "cell_type": "code",
   "execution_count": null,
   "id": "d2a529d7-2ceb-4a21-b2b5-bdcbb9d87c5b",
   "metadata": {},
   "outputs": [],
   "source": [
    "np.mean(get_pscores(likelihoods_R_A_S_RC_AC_V))"
   ]
  },
  {
   "cell_type": "code",
   "execution_count": null,
   "id": "7d295bbc-cbac-460f-957f-cb2f9e17c5d1",
   "metadata": {},
   "outputs": [],
   "source": []
  },
  {
   "cell_type": "code",
   "execution_count": null,
   "id": "386aa5bd-bdf4-4a4c-ae4b-c8f51cce52d5",
   "metadata": {},
   "outputs": [],
   "source": [
    "drbart_model_R_A_S_D = DRBART(parser_dir = '../../../models/'+model_name+'/concept-name_resource_seconds-in-day_day-of-week/',\n",
    "                     strict_parser=False)\n",
    "evaluator_R_A_S_D = conduct_evaluation.ConductEvaluation(drbart_model_R_A_S_D, SampleOutcomes_DRBART_Normal_R_A_S_D,\n",
    "                                                   {\n",
    "                                                        'activity_key' : 'concept:name',\n",
    "                                                        'resource_key' : 'org:resource_start',\n",
    "                                                    },\n",
    "                                     test_event_log, n=N, n_processes=n_processes)\n",
    "likelihoods_R_A_S_D = evaluator_R_A_S_D.sample_cases(False, True)"
   ]
  },
  {
   "cell_type": "code",
   "execution_count": null,
   "id": "a986c83b-5e4d-493a-8ce6-ebdb5d3bb387",
   "metadata": {},
   "outputs": [],
   "source": [
    "np.mean([v.ln() for v in likelihoods_R_A_S_D[0].values()])"
   ]
  },
  {
   "cell_type": "code",
   "execution_count": null,
   "id": "bb8814d2-0412-4185-b39f-352af13720fe",
   "metadata": {},
   "outputs": [],
   "source": [
    "np.mean(get_pscores(likelihoods_R_A_S_D))"
   ]
  },
  {
   "cell_type": "code",
   "execution_count": null,
   "id": "a81de2b4-733a-44bc-9af8-a4d54139ee95",
   "metadata": {},
   "outputs": [],
   "source": [
    "drbart_model_R_A_S_D_RC_AC = DRBART(parser_dir = '../../../models/'+model_name+'/concept-name_resource_seconds-in-day_day-of-week_activity-count_resoure-count/',\n",
    "                     strict_parser=True)\n",
    "evaluator_R_A_S_D_RC_AC = conduct_evaluation.ConductEvaluation(drbart_model_R_A_S_D_RC_AC, SampleOutcomes_DRBART_Normal_R_A_S_D_RC_AC,\n",
    "                                                   {\n",
    "                                                        'activity_key' : 'concept:name',\n",
    "                                                        'resource_key' : 'org:resource_start',\n",
    "                                                        'known_resources' : known_resources,\n",
    "                                                        'known_activities' : known_activities,\n",
    "                                                    },\n",
    "                                     test_event_log, n=N, n_processes=n_processes)\n",
    "likelihoods_R_A_S_D_RC_AC = evaluator_R_A_S_D_RC_AC.sample_cases(False, True)"
   ]
  },
  {
   "cell_type": "code",
   "execution_count": null,
   "id": "894d8617-95dc-45cd-8c41-f79fbe8e65fe",
   "metadata": {},
   "outputs": [],
   "source": [
    "np.mean([v.ln() for v in likelihoods_R_A_S_D_RC_AC[0].values()])"
   ]
  },
  {
   "cell_type": "code",
   "execution_count": null,
   "id": "3c3859d4-dda2-4c3f-ae9f-f19733399a1b",
   "metadata": {},
   "outputs": [],
   "source": [
    "np.mean(get_pscores(likelihoods_R_A_S_D_RC_AC))"
   ]
  },
  {
   "cell_type": "code",
   "execution_count": null,
   "id": "dc7170cb-b4a1-4725-b14f-37b3311e2e27",
   "metadata": {},
   "outputs": [],
   "source": [
    "results = {\n",
    "    'drbart_model_A' : likelihoods_A,\n",
    "    'drbart_model_R' : likelihoods_R,\n",
    "    'drbart_model_R_A' : likelihoods_R_A,\n",
    "    'drbart_model_R_A_S' : likelihoods_R_A_S,\n",
    "    'drbart_model_R_A_S_AC' : likelihoods_R_A_S_AC,\n",
    "    'drbart_model_R_A_S_RC' : likelihoods_R_A_S_RC,\n",
    "    'drbart_model_R_A_S_RC_AC' : likelihoods_R_A_S_RC_AC,\n",
    "    'drbart_model_R_A_S_RC_AC_V' : likelihoods_R_A_S_RC_AC_V,\n",
    "    'drbart_model_R_A_S_D' : likelihoods_R_A_S_D,\n",
    "    'drbart_model_R_A_S_D_RC_CC' : likelihoods_R_A_S_D_RC_AC\n",
    "}\n",
    "with open('./'+model_name+'_dr_bart_evaluation_'+log_name+'.pickle', 'wb') as handle:\n",
    "    pickle.dump(results, handle)"
   ]
  }
 ],
 "metadata": {
  "kernelspec": {
   "display_name": "Python 3 (ipykernel)",
   "language": "python",
   "name": "python3"
  },
  "language_info": {
   "codemirror_mode": {
    "name": "ipython",
    "version": 3
   },
   "file_extension": ".py",
   "mimetype": "text/x-python",
   "name": "python",
   "nbconvert_exporter": "python",
   "pygments_lexer": "ipython3",
   "version": "3.10.13+"
  }
 },
 "nbformat": 4,
 "nbformat_minor": 5
}
