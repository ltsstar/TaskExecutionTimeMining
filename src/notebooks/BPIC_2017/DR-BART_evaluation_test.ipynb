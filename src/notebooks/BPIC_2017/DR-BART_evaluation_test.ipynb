{
 "cells": [
  {
   "cell_type": "code",
   "execution_count": 1,
   "id": "b76fb6b4-b5bb-4ed9-b3f5-2d35b620297d",
   "metadata": {},
   "outputs": [],
   "source": [
    "import numpy as np\n",
    "import pandas\n",
    "import pm4py\n",
    "from matplotlib import pyplot as plt\n",
    "from sklearn.mixture import GaussianMixture\n",
    "import scipy.stats as stats\n",
    "import ot\n",
    "import os\n",
    "from tqdm import tqdm\n",
    "import collections\n",
    "import matplotlib.dates as md\n",
    "import importlib\n",
    "import pickle\n",
    "import random\n",
    "import math\n",
    "import CRPS.CRPS as pscore\n",
    "import datetime\n",
    "\n",
    "pandas.set_option('display.max_columns', None)\n",
    "#pandas.set_option('display.max_rows', None)\n",
    "\n",
    "\n",
    "import sys\n",
    "sys.path.append('../../TaskExecutionTimeMining/')\n",
    "from drbart_parser import *\n",
    "from event_log_transformer import *\n",
    "\n",
    "#sys.path.append('../../Evaluation')\n",
    "sys.path.append('../../Evaluation/')\n",
    "from normal_evaluation.drbart_evaluation import *"
   ]
  },
  {
   "cell_type": "code",
   "execution_count": 2,
   "id": "947bebfa-e936-4dfa-8fb9-74a358dcfd1f",
   "metadata": {},
   "outputs": [
    {
     "name": "stderr",
     "output_type": "stream",
     "text": [
      "/tmp/ipykernel_1916609/3301179562.py:3: DeprecationWarning: numpy.core.numeric is deprecated and has been renamed to numpy._core.numeric. The numpy._core namespace contains private NumPy internals and its use is discouraged, as NumPy internals can change without warning in any release. In practice, most real-world usage of numpy.core is to access functionality in the public NumPy API. If that is the case, use the public NumPy API. If not, you are using NumPy internals. If you would still like to access an internal attribute, use numpy._core.numeric._frombuffer.\n",
      "  test_event_log = pickle.load(f)\n"
     ]
    }
   ],
   "source": [
    "log_name = 'test'\n",
    "with open('../transformed_event_logs/BPIC_2017_all_'+log_name+'.pickle', 'rb') as f:\n",
    "    test_event_log = pickle.load(f)\n",
    "\n",
    "test_event_log['case:concept:name'] = test_event_log['case:concept:name'].astype(str)\n",
    "known_resources = ['User_1','User_10','User_100','User_101','User_102','User_103','User_104','User_105','User_106','User_107','User_108','User_109','User_11','User_110','User_111','User_112','User_113','User_114','User_115','User_116','User_117','User_118','User_119','User_12','User_120','User_121','User_122','User_123','User_124','User_125','User_126','User_127','User_128','User_129','User_13','User_130','User_131','User_132','User_133','User_134','User_135','User_136','User_137','User_138','User_139','User_14','User_140','User_141','User_142','User_143','User_144','User_145','User_146','User_147','User_148','User_149','User_15','User_16','User_17','User_18','User_19','User_2','User_20','User_21','User_22','User_23','User_24','User_25','User_26','User_27','User_28','User_29','User_3','User_30','User_31','User_32','User_33','User_34','User_35','User_36','User_37','User_38','User_39','User_4','User_40','User_41','User_42','User_43','User_44','User_45','User_46','User_47','User_48','User_49','User_5','User_50','User_51','User_52','User_53','User_54','User_55','User_56','User_57','User_58','User_59','User_6','User_60','User_61','User_62','User_63','User_64','User_65','User_66','User_67','User_68','User_69','User_7','User_70','User_71','User_72','User_73','User_74','User_75','User_76','User_77','User_78','User_79','User_8','User_80','User_81','User_82','User_83','User_84','User_85','User_86','User_87','User_88','User_89','User_9','User_90','User_91','User_92','User_93','User_94','User_95','User_96','User_97','User_98','User_99']\n",
    "known_activities = ['W_Assess potential fraud__ate_abort','W_Assess potential fraud__complete','W_Assess potential fraud__resume','W_Assess potential fraud__schedule','W_Assess potential fraud__start','W_Assess potential fraud__suspend','W_Assess potential fraud__withdraw','W_Call after offers__ate_abort','W_Call after offers__complete','W_Call after offers__resume','W_Call after offers__schedule','W_Call after offers__start','W_Call after offers__suspend','W_Call after offers__withdraw','W_Call incomplete files__ate_abort','W_Call incomplete files__complete','W_Call incomplete files__resume','W_Call incomplete files__schedule','W_Call incomplete files__start','W_Call incomplete files__suspend','W_Complete application__ate_abort','W_Complete application__complete','W_Complete application__resume','W_Complete application__schedule','W_Complete application__start','W_Complete application__suspend','W_Handle leads__complete','W_Handle leads__resume','W_Handle leads__schedule','W_Handle leads__start','W_Handle leads__suspend','W_Handle leads__withdraw','W_Shortened completion __resume','W_Shortened completion __schedule','W_Shortened completion __start','W_Shortened completion __suspend','W_Validate application__ate_abort','W_Validate application__complete','W_Validate application__resume','W_Validate application__schedule','W_Validate application__start','W_Validate application__suspend']"
   ]
  },
  {
   "cell_type": "code",
   "execution_count": 3,
   "id": "b5035e82-57d7-466f-bedf-c2520361b5e2",
   "metadata": {},
   "outputs": [],
   "source": [
    "N = 1000\n",
    "import conduct_evaluation\n",
    "get_pscores = lambda likelihoods : [pscore(likelihoods[1][i], likelihoods[2][k][3]).compute()[0] for i, k in enumerate(list(likelihoods[0].keys()))]"
   ]
  },
  {
   "cell_type": "code",
   "execution_count": 4,
   "id": "58c47d35-5bf5-4643-a5b2-9618cfc0f045",
   "metadata": {},
   "outputs": [
    {
     "name": "stderr",
     "output_type": "stream",
     "text": [
      "  0%|                                                                                                                        | 0/6018 [00:00<?, ?it/s]\n"
     ]
    },
    {
     "ename": "OverflowError",
     "evalue": "timestamp out of range for platform time_t",
     "output_type": "error",
     "traceback": [
      "\u001b[0;31m---------------------------------------------------------------------------\u001b[0m",
      "\u001b[0;31mOverflowError\u001b[0m                             Traceback (most recent call last)",
      "Cell \u001b[0;32mIn[4], line 8\u001b[0m\n\u001b[1;32m      1\u001b[0m drbart_model_A \u001b[38;5;241m=\u001b[39m DRBART(parser_dir \u001b[38;5;241m=\u001b[39m \u001b[38;5;124m'\u001b[39m\u001b[38;5;124m../../../models/bpic_2017_all/concept-name/\u001b[39m\u001b[38;5;124m'\u001b[39m,\n\u001b[1;32m      2\u001b[0m                      strict_parser\u001b[38;5;241m=\u001b[39m\u001b[38;5;28;01mTrue\u001b[39;00m)\n\u001b[1;32m      3\u001b[0m evaluator_A \u001b[38;5;241m=\u001b[39m conduct_evaluation\u001b[38;5;241m.\u001b[39mConductEvaluation(drbart_model_A, SampleOutcomes_DRBART_Normal_A, {\n\u001b[1;32m      4\u001b[0m                                                         \u001b[38;5;124m'\u001b[39m\u001b[38;5;124mactivity_key\u001b[39m\u001b[38;5;124m'\u001b[39m : \u001b[38;5;124m'\u001b[39m\u001b[38;5;124mconcept:name\u001b[39m\u001b[38;5;124m'\u001b[39m,\n\u001b[1;32m      5\u001b[0m                                                         \u001b[38;5;124m'\u001b[39m\u001b[38;5;124mresource_key\u001b[39m\u001b[38;5;124m'\u001b[39m : \u001b[38;5;124m'\u001b[39m\u001b[38;5;124morg:resource_start\u001b[39m\u001b[38;5;124m'\u001b[39m,\n\u001b[1;32m      6\u001b[0m                                                     },\n\u001b[1;32m      7\u001b[0m                                      test_event_log, n\u001b[38;5;241m=\u001b[39mN)\n\u001b[0;32m----> 8\u001b[0m likelihoods_A \u001b[38;5;241m=\u001b[39m \u001b[43mevaluator_A\u001b[49m\u001b[38;5;241;43m.\u001b[39;49m\u001b[43msample_cases\u001b[49m\u001b[43m(\u001b[49m\u001b[38;5;28;43;01mFalse\u001b[39;49;00m\u001b[43m,\u001b[49m\u001b[43m \u001b[49m\u001b[38;5;28;43;01mFalse\u001b[39;49;00m\u001b[43m)\u001b[49m\n",
      "File \u001b[0;32m~/TaskExecutionTimeMining/src/notebooks/BPIC_2017/../../Evaluation/conduct_evaluation.py:111\u001b[0m, in \u001b[0;36mConductEvaluation.sample_cases\u001b[0;34m(self, plot_cases, multiprocessing)\u001b[0m\n\u001b[1;32m    109\u001b[0m     \u001b[38;5;28;01mfor\u001b[39;00m c \u001b[38;5;129;01min\u001b[39;00m tqdm(cases):\n\u001b[1;32m    110\u001b[0m         case_data[c] \u001b[38;5;241m=\u001b[39m \u001b[38;5;28mself\u001b[39m\u001b[38;5;241m.\u001b[39mget_case_data(c)\n\u001b[0;32m--> 111\u001b[0m         r \u001b[38;5;241m=\u001b[39m \u001b[43mfunc\u001b[49m\u001b[43m(\u001b[49m\u001b[43mcase_data\u001b[49m\u001b[43m[\u001b[49m\u001b[43mc\u001b[49m\u001b[43m]\u001b[49m\u001b[43m[\u001b[49m\u001b[38;5;241;43m1\u001b[39;49m\u001b[43m]\u001b[49m\u001b[43m)\u001b[49m\n\u001b[1;32m    112\u001b[0m         sample_results\u001b[38;5;241m.\u001b[39mappend(r)\n\u001b[1;32m    115\u001b[0m \u001b[38;5;66;03m#if plot_cases:\u001b[39;00m\n\u001b[1;32m    116\u001b[0m \u001b[38;5;66;03m#    for r in results:\u001b[39;00m\n\u001b[1;32m    117\u001b[0m \u001b[38;5;66;03m#        self._plot_case(r[0], r[1], r[2])\u001b[39;00m\n",
      "File \u001b[0;32m~/TaskExecutionTimeMining/src/notebooks/BPIC_2017/../../Evaluation/conduct_evaluation.py:91\u001b[0m, in \u001b[0;36mConductEvaluation.sample_case_static\u001b[0;34m(case_log, sample_model, n)\u001b[0m\n\u001b[1;32m     89\u001b[0m \u001b[38;5;129m@staticmethod\u001b[39m\n\u001b[1;32m     90\u001b[0m \u001b[38;5;28;01mdef\u001b[39;00m \u001b[38;5;21msample_case_static\u001b[39m(case_log, sample_model, n):\n\u001b[0;32m---> 91\u001b[0m     \u001b[38;5;28;01mreturn\u001b[39;00m [sample_model\u001b[38;5;241m.\u001b[39msample_case(case_log) \u001b[38;5;28;01mfor\u001b[39;00m i \u001b[38;5;129;01min\u001b[39;00m \u001b[38;5;28mrange\u001b[39m(n)]\n",
      "File \u001b[0;32m~/TaskExecutionTimeMining/src/notebooks/BPIC_2017/../../Evaluation/conduct_evaluation.py:91\u001b[0m, in \u001b[0;36m<listcomp>\u001b[0;34m(.0)\u001b[0m\n\u001b[1;32m     89\u001b[0m \u001b[38;5;129m@staticmethod\u001b[39m\n\u001b[1;32m     90\u001b[0m \u001b[38;5;28;01mdef\u001b[39;00m \u001b[38;5;21msample_case_static\u001b[39m(case_log, sample_model, n):\n\u001b[0;32m---> 91\u001b[0m     \u001b[38;5;28;01mreturn\u001b[39;00m [\u001b[43msample_model\u001b[49m\u001b[38;5;241;43m.\u001b[39;49m\u001b[43msample_case\u001b[49m\u001b[43m(\u001b[49m\u001b[43mcase_log\u001b[49m\u001b[43m)\u001b[49m \u001b[38;5;28;01mfor\u001b[39;00m i \u001b[38;5;129;01min\u001b[39;00m \u001b[38;5;28mrange\u001b[39m(n)]\n",
      "File \u001b[0;32m~/TaskExecutionTimeMining/src/notebooks/BPIC_2017/../../Evaluation/normal_evaluation/normal_evaluation.py:81\u001b[0m, in \u001b[0;36mSampleOutcomes_Normal.sample_case\u001b[0;34m(self, case_log)\u001b[0m\n\u001b[1;32m     74\u001b[0m \u001b[38;5;28;01mdef\u001b[39;00m \u001b[38;5;21msample_case\u001b[39m(\u001b[38;5;28mself\u001b[39m, case_log):\n\u001b[1;32m     75\u001b[0m     \u001b[38;5;66;03m#case_log = self.event_log[self.event_log['case:concept:name'] == case_name]\u001b[39;00m\n\u001b[1;32m     76\u001b[0m     \u001b[38;5;66;03m#net, im, fm = pm4py.discover_petri_net_inductive(case_log,\u001b[39;00m\n\u001b[1;32m     77\u001b[0m     \u001b[38;5;66;03m#                                                activity_key=self.activity_key,\u001b[39;00m\n\u001b[1;32m     78\u001b[0m     \u001b[38;5;66;03m#                                                case_id_key=self.case_id_key,\u001b[39;00m\n\u001b[1;32m     79\u001b[0m     \u001b[38;5;66;03m#                                                timestamp_key=self.timestamp_key)\u001b[39;00m\n\u001b[1;32m     80\u001b[0m     start_time \u001b[38;5;241m=\u001b[39m case_log[\u001b[38;5;28mself\u001b[39m\u001b[38;5;241m.\u001b[39mtimestamp_key]\u001b[38;5;241m.\u001b[39mmin()\u001b[38;5;241m.\u001b[39mtimestamp()\n\u001b[0;32m---> 81\u001b[0m     \u001b[38;5;28;01mreturn\u001b[39;00m \u001b[38;5;28;43mself\u001b[39;49m\u001b[38;5;241;43m.\u001b[39;49m\u001b[43msample_end_time\u001b[49m\u001b[43m(\u001b[49m\u001b[43mcase_log\u001b[49m\u001b[43m,\u001b[49m\u001b[43m \u001b[49m\u001b[43mstart_time\u001b[49m\u001b[43m)\u001b[49m\n",
      "File \u001b[0;32m~/TaskExecutionTimeMining/src/notebooks/BPIC_2017/../../Evaluation/normal_evaluation/normal_evaluation.py:54\u001b[0m, in \u001b[0;36mSampleOutcomes_Normal.sample_end_time\u001b[0;34m(self, case_log, start_time)\u001b[0m\n\u001b[1;32m     51\u001b[0m     resource_count \u001b[38;5;241m=\u001b[39m \u001b[38;5;28;01mNone\u001b[39;00m\n\u001b[1;32m     53\u001b[0m \u001b[38;5;66;03m# feature engineering\u001b[39;00m\n\u001b[0;32m---> 54\u001b[0m current_time_ts \u001b[38;5;241m=\u001b[39m \u001b[43mdatetime\u001b[49m\u001b[38;5;241;43m.\u001b[39;49m\u001b[43mdatetime\u001b[49m\u001b[38;5;241;43m.\u001b[39;49m\u001b[43mfromtimestamp\u001b[49m\u001b[43m(\u001b[49m\u001b[43mcurrent_time\u001b[49m\u001b[43m)\u001b[49m\n\u001b[1;32m     55\u001b[0m seconds_in_day \u001b[38;5;241m=\u001b[39m (current_time_ts \u001b[38;5;241m-\u001b[39m current_time_ts\u001b[38;5;241m.\u001b[39mreplace(hour\u001b[38;5;241m=\u001b[39m\u001b[38;5;241m0\u001b[39m, minute\u001b[38;5;241m=\u001b[39m\u001b[38;5;241m0\u001b[39m, second\u001b[38;5;241m=\u001b[39m\u001b[38;5;241m0\u001b[39m, microsecond\u001b[38;5;241m=\u001b[39m\u001b[38;5;241m0\u001b[39m))\u001b[38;5;241m.\u001b[39mtotal_seconds()\n\u001b[1;32m     56\u001b[0m day_of_week \u001b[38;5;241m=\u001b[39m datetime\u001b[38;5;241m.\u001b[39mdatetime\u001b[38;5;241m.\u001b[39mfromtimestamp(current_time)\u001b[38;5;241m.\u001b[39mweekday()\n",
      "\u001b[0;31mOverflowError\u001b[0m: timestamp out of range for platform time_t"
     ]
    }
   ],
   "source": [
    "drbart_model_A = DRBART(parser_dir = '../../../models/bpic_2017_all/concept-name/',\n",
    "                     strict_parser=True)\n",
    "evaluator_A = conduct_evaluation.ConductEvaluation(drbart_model_A, SampleOutcomes_DRBART_Normal_A, {\n",
    "                                                        'activity_key' : 'concept:name',\n",
    "                                                        'resource_key' : 'org:resource_start',\n",
    "                                                    },\n",
    "                                     test_event_log, n=N)\n",
    "likelihoods_A = evaluator_A.sample_cases(False, False)"
   ]
  },
  {
   "cell_type": "code",
   "execution_count": null,
   "id": "f2d16c44-6feb-4bb8-bb9c-8c57aa84951e",
   "metadata": {},
   "outputs": [],
   "source": [
    "sum([v.ln() for v in likelihoods_A[0].values()])"
   ]
  },
  {
   "cell_type": "code",
   "execution_count": null,
   "id": "831debb8-db1e-4739-96a4-af9909b1e3d0",
   "metadata": {},
   "outputs": [],
   "source": [
    "np.mean(get_pscores(likelihoods_A))"
   ]
  },
  {
   "cell_type": "code",
   "execution_count": null,
   "id": "15dfd50d-caaf-4d1b-86b7-9c128ee41681",
   "metadata": {},
   "outputs": [],
   "source": [
    "drbart_model_A_R = DRBART(parser_dir = '../../../models/bpic_2017_all/concept-name_resource/',\n",
    "                     strict_parser=True)\n",
    "evaluator_A_R = conduct_evaluation.ConductEvaluation(drbart_model_A_R, SampleOutcomes_DRBART_Normal_A_R,\n",
    "                                                   {\n",
    "                                                        'activity_key' : 'concept:name',\n",
    "                                                        'resource_key' : 'org:resource',\n",
    "                                                    },\n",
    "                                     test_event_log, n=N)\n",
    "likelihoods_A_R = evaluator_A_R.sample_cases(False, False)"
   ]
  },
  {
   "cell_type": "code",
   "execution_count": null,
   "id": "d7932c1b-dc40-4697-8098-4d3f8499d46d",
   "metadata": {},
   "outputs": [],
   "source": [
    "np.mean([v.ln() for v in likelihoods_A_R[0].values()])"
   ]
  },
  {
   "cell_type": "code",
   "execution_count": null,
   "id": "e7573911-d4d1-434c-91e4-bb1d451fc42c",
   "metadata": {},
   "outputs": [],
   "source": [
    "np.mean(get_pscores(likelihoods_A_R))"
   ]
  },
  {
   "cell_type": "code",
   "execution_count": null,
   "id": "50beeceb-33bc-41ed-8f40-9a84e46e7b59",
   "metadata": {},
   "outputs": [],
   "source": [
    "drbart_model_R = DRBART(parser_dir = '../../../models/bpic_2017_all/resource/',\n",
    "                     strict_parser=True)\n",
    "evaluator_R = conduct_evaluation.ConductEvaluation(drbart_model_R, SampleOutcomes_DRBART_Normal_R,\n",
    "                                                   {\n",
    "                                                        'activity_key' : 'concept:name_start',\n",
    "                                                        'resource_key' : 'org:resource_start',\n",
    "                                                    },\n",
    "                                     test_event_log, n=N)\n",
    "likelihoods_R = evaluator_R.sample_cases(False, True)"
   ]
  },
  {
   "cell_type": "code",
   "execution_count": null,
   "id": "7e461dc7-bc5d-4e78-971d-2d6c7ed18966",
   "metadata": {},
   "outputs": [],
   "source": [
    "np.mean([v.ln() for v in likelihoods_R[0].values()])"
   ]
  },
  {
   "cell_type": "code",
   "execution_count": null,
   "id": "9750f12c-75bc-4c03-9e4f-5cf48876f8d4",
   "metadata": {},
   "outputs": [],
   "source": [
    "np.mean(get_pscores(likelihoods_R))"
   ]
  },
  {
   "cell_type": "code",
   "execution_count": 5,
   "id": "cf6e1732-5330-4358-9d32-aa0fd4267a86",
   "metadata": {},
   "outputs": [
    {
     "name": "stderr",
     "output_type": "stream",
     "text": [
      "  0%|                                                                                                                        | 0/6018 [00:01<?, ?it/s]\n"
     ]
    },
    {
     "ename": "KeyError",
     "evalue": "'concept:name_start'",
     "output_type": "error",
     "traceback": [
      "\u001b[0;31m---------------------------------------------------------------------------\u001b[0m",
      "\u001b[0;31mRemoteTraceback\u001b[0m                           Traceback (most recent call last)",
      "\u001b[0;31mRemoteTraceback\u001b[0m: \n\"\"\"\nTraceback (most recent call last):\n  File \"/home/LordKunkler/.local/share/virtualenvs/TaskExecutionTimeMining-yRnjZRF7/lib/python3.10/site-packages/pandas/core/indexes/base.py\", line 3805, in get_loc\n    return self._engine.get_loc(casted_key)\n  File \"index.pyx\", line 167, in pandas._libs.index.IndexEngine.get_loc\n  File \"index.pyx\", line 196, in pandas._libs.index.IndexEngine.get_loc\n  File \"pandas/_libs/hashtable_class_helper.pxi\", line 7081, in pandas._libs.hashtable.PyObjectHashTable.get_item\n  File \"pandas/_libs/hashtable_class_helper.pxi\", line 7089, in pandas._libs.hashtable.PyObjectHashTable.get_item\nKeyError: 'concept:name_start'\n\nThe above exception was the direct cause of the following exception:\n\nTraceback (most recent call last):\n  File \"/home/LordKunkler/.pyenv/versions/3.10-dev/lib/python3.10/multiprocessing/pool.py\", line 125, in worker\n    result = (True, func(*args, **kwds))\n  File \"/home/LordKunkler/TaskExecutionTimeMining/src/notebooks/BPIC_2017/../../Evaluation/conduct_evaluation.py\", line 91, in sample_case_static\n    return [sample_model.sample_case(case_log) for i in range(n)]\n  File \"/home/LordKunkler/TaskExecutionTimeMining/src/notebooks/BPIC_2017/../../Evaluation/conduct_evaluation.py\", line 91, in <listcomp>\n    return [sample_model.sample_case(case_log) for i in range(n)]\n  File \"/home/LordKunkler/TaskExecutionTimeMining/src/notebooks/BPIC_2017/../../Evaluation/normal_evaluation/normal_evaluation.py\", line 81, in sample_case\n    return self.sample_end_time(case_log, start_time)\n  File \"/home/LordKunkler/TaskExecutionTimeMining/src/notebooks/BPIC_2017/../../Evaluation/normal_evaluation/normal_evaluation.py\", line 44, in sample_end_time\n    concept_name = current_event[self.activity_key]\n  File \"/home/LordKunkler/.local/share/virtualenvs/TaskExecutionTimeMining-yRnjZRF7/lib/python3.10/site-packages/pandas/core/series.py\", line 1121, in __getitem__\n    return self._get_value(key)\n  File \"/home/LordKunkler/.local/share/virtualenvs/TaskExecutionTimeMining-yRnjZRF7/lib/python3.10/site-packages/pandas/core/series.py\", line 1237, in _get_value\n    loc = self.index.get_loc(label)\n  File \"/home/LordKunkler/.local/share/virtualenvs/TaskExecutionTimeMining-yRnjZRF7/lib/python3.10/site-packages/pandas/core/indexes/base.py\", line 3812, in get_loc\n    raise KeyError(key) from err\nKeyError: 'concept:name_start'\n\"\"\"",
      "\nThe above exception was the direct cause of the following exception:\n",
      "\u001b[0;31mKeyError\u001b[0m                                  Traceback (most recent call last)",
      "Cell \u001b[0;32mIn[5], line 9\u001b[0m\n\u001b[1;32m      1\u001b[0m drbart_model_A_R_S \u001b[38;5;241m=\u001b[39m DRBART(parser_dir \u001b[38;5;241m=\u001b[39m \u001b[38;5;124m'\u001b[39m\u001b[38;5;124m../../../models/bpic_2017_all/concept-name_resource_seconds-in-day/\u001b[39m\u001b[38;5;124m'\u001b[39m,\n\u001b[1;32m      2\u001b[0m                      strict_parser\u001b[38;5;241m=\u001b[39m\u001b[38;5;28;01mTrue\u001b[39;00m)\n\u001b[1;32m      3\u001b[0m evaluator_A_R_S \u001b[38;5;241m=\u001b[39m conduct_evaluation\u001b[38;5;241m.\u001b[39mConductEvaluation(drbart_model_A_R_S, SampleOutcomes_DRBART_Normal_A_R_S,\n\u001b[1;32m      4\u001b[0m                                                    {\n\u001b[1;32m      5\u001b[0m                                                         \u001b[38;5;124m'\u001b[39m\u001b[38;5;124mactivity_key\u001b[39m\u001b[38;5;124m'\u001b[39m : \u001b[38;5;124m'\u001b[39m\u001b[38;5;124mconcept:name_start\u001b[39m\u001b[38;5;124m'\u001b[39m,\n\u001b[1;32m      6\u001b[0m                                                         \u001b[38;5;124m'\u001b[39m\u001b[38;5;124mresource_key\u001b[39m\u001b[38;5;124m'\u001b[39m : \u001b[38;5;124m'\u001b[39m\u001b[38;5;124morg:resource_start\u001b[39m\u001b[38;5;124m'\u001b[39m,\n\u001b[1;32m      7\u001b[0m                                                     },\n\u001b[1;32m      8\u001b[0m                                      test_event_log, n\u001b[38;5;241m=\u001b[39mN)\n\u001b[0;32m----> 9\u001b[0m likelihoods_A_R_S \u001b[38;5;241m=\u001b[39m \u001b[43mevaluator_A_R_S\u001b[49m\u001b[38;5;241;43m.\u001b[39;49m\u001b[43msample_cases\u001b[49m\u001b[43m(\u001b[49m\u001b[38;5;28;43;01mFalse\u001b[39;49;00m\u001b[43m,\u001b[49m\u001b[43m \u001b[49m\u001b[38;5;28;43;01mTrue\u001b[39;49;00m\u001b[43m)\u001b[49m\n",
      "File \u001b[0;32m~/TaskExecutionTimeMining/src/notebooks/BPIC_2017/../../Evaluation/conduct_evaluation.py:104\u001b[0m, in \u001b[0;36mConductEvaluation.sample_cases\u001b[0;34m(self, plot_cases, multiprocessing)\u001b[0m\n\u001b[1;32m    101\u001b[0m     \u001b[38;5;28;01mwith\u001b[39;00m Pool(processes\u001b[38;5;241m=\u001b[39m\u001b[38;5;241m96\u001b[39m) \u001b[38;5;28;01mas\u001b[39;00m pool:\n\u001b[1;32m    102\u001b[0m         \u001b[38;5;66;03m# Use `imap` to track progress with tqdm\u001b[39;00m\n\u001b[1;32m    103\u001b[0m         func \u001b[38;5;241m=\u001b[39m partial(ConductEvaluation\u001b[38;5;241m.\u001b[39msample_case_static, sample_model\u001b[38;5;241m=\u001b[39m\u001b[38;5;28mself\u001b[39m\u001b[38;5;241m.\u001b[39msample_model, n\u001b[38;5;241m=\u001b[39m\u001b[38;5;28mself\u001b[39m\u001b[38;5;241m.\u001b[39mn)\n\u001b[0;32m--> 104\u001b[0m         sample_results \u001b[38;5;241m=\u001b[39m \u001b[38;5;28;43mlist\u001b[39;49m\u001b[43m(\u001b[49m\u001b[43mtqdm\u001b[49m\u001b[43m(\u001b[49m\u001b[43mpool\u001b[49m\u001b[38;5;241;43m.\u001b[39;49m\u001b[43mimap\u001b[49m\u001b[43m(\u001b[49m\u001b[43mfunc\u001b[49m\u001b[43m,\u001b[49m\u001b[43m \u001b[49m\u001b[43m[\u001b[49m\u001b[43mc\u001b[49m\u001b[43m[\u001b[49m\u001b[38;5;241;43m1\u001b[39;49m\u001b[43m]\u001b[49m\u001b[43m \u001b[49m\u001b[38;5;28;43;01mfor\u001b[39;49;00m\u001b[43m \u001b[49m\u001b[43mc\u001b[49m\u001b[43m \u001b[49m\u001b[38;5;129;43;01min\u001b[39;49;00m\u001b[43m \u001b[49m\u001b[43mcase_data\u001b[49m\u001b[38;5;241;43m.\u001b[39;49m\u001b[43mvalues\u001b[49m\u001b[43m(\u001b[49m\u001b[43m)\u001b[49m\u001b[43m]\u001b[49m\u001b[43m)\u001b[49m\u001b[43m,\u001b[49m\u001b[43m \u001b[49m\u001b[43mtotal\u001b[49m\u001b[38;5;241;43m=\u001b[39;49m\u001b[38;5;28;43mlen\u001b[39;49m\u001b[43m(\u001b[49m\u001b[43mcases\u001b[49m\u001b[43m)\u001b[49m\u001b[43m)\u001b[49m\u001b[43m)\u001b[49m\n\u001b[1;32m    105\u001b[0m \u001b[38;5;28;01melse\u001b[39;00m:\n\u001b[1;32m    106\u001b[0m     case_data \u001b[38;5;241m=\u001b[39m \u001b[38;5;28mdict\u001b[39m()\n",
      "File \u001b[0;32m~/.local/share/virtualenvs/TaskExecutionTimeMining-yRnjZRF7/lib/python3.10/site-packages/tqdm/std.py:1181\u001b[0m, in \u001b[0;36mtqdm.__iter__\u001b[0;34m(self)\u001b[0m\n\u001b[1;32m   1178\u001b[0m time \u001b[38;5;241m=\u001b[39m \u001b[38;5;28mself\u001b[39m\u001b[38;5;241m.\u001b[39m_time\n\u001b[1;32m   1180\u001b[0m \u001b[38;5;28;01mtry\u001b[39;00m:\n\u001b[0;32m-> 1181\u001b[0m     \u001b[38;5;28;01mfor\u001b[39;00m obj \u001b[38;5;129;01min\u001b[39;00m iterable:\n\u001b[1;32m   1182\u001b[0m         \u001b[38;5;28;01myield\u001b[39;00m obj\n\u001b[1;32m   1183\u001b[0m         \u001b[38;5;66;03m# Update and possibly print the progressbar.\u001b[39;00m\n\u001b[1;32m   1184\u001b[0m         \u001b[38;5;66;03m# Note: does not call self.update(1) for speed optimisation.\u001b[39;00m\n",
      "File \u001b[0;32m~/.pyenv/versions/3.10-dev/lib/python3.10/multiprocessing/pool.py:873\u001b[0m, in \u001b[0;36mIMapIterator.next\u001b[0;34m(self, timeout)\u001b[0m\n\u001b[1;32m    871\u001b[0m \u001b[38;5;28;01mif\u001b[39;00m success:\n\u001b[1;32m    872\u001b[0m     \u001b[38;5;28;01mreturn\u001b[39;00m value\n\u001b[0;32m--> 873\u001b[0m \u001b[38;5;28;01mraise\u001b[39;00m value\n",
      "\u001b[0;31mKeyError\u001b[0m: 'concept:name_start'"
     ]
    }
   ],
   "source": [
    "drbart_model_R_A_S = DRBART(parser_dir = '../../../models/bpic_2017_all/concept-name_resource_seconds-in-day/',\n",
    "                     strict_parser=True)\n",
    "evaluator_R_A_S = conduct_evaluation.ConductEvaluation(drbart_model_R_A_S, SampleOutcomes_DRBART_Normal_R_A_S,\n",
    "                                                   {\n",
    "                                                        'activity_key' : 'concept:name',\n",
    "                                                        'resource_key' : 'org:resource_start',\n",
    "                                                    },\n",
    "                                     test_event_log, n=N)\n",
    "likelihoods_R_A_S = evaluator_R_A_S.sample_cases(False, False)"
   ]
  },
  {
   "cell_type": "code",
   "execution_count": null,
   "id": "c1c766c5-64fb-42ac-84a2-f0a8bb2a20fe",
   "metadata": {},
   "outputs": [],
   "source": [
    "np.mean([v.ln() for v in likelihoods_A_R_S[0].values()])"
   ]
  },
  {
   "cell_type": "code",
   "execution_count": null,
   "id": "840e203d-19f1-4121-99b5-79f94632bc8c",
   "metadata": {},
   "outputs": [],
   "source": [
    "np.mean(get_pscores(likelihoods_A_R_S))"
   ]
  },
  {
   "cell_type": "code",
   "execution_count": null,
   "id": "3efa4f23-9d9b-4918-9ea2-66928efed225",
   "metadata": {},
   "outputs": [],
   "source": [
    "drbart_model_R_A_S_AC = DRBART(parser_dir = '../../../models/bpic_2017_all/concept-name_resource_seconds-in-day_activity-count/',\n",
    "                     strict_parser=True)\n",
    "evaluator_R_A_S_AC = conduct_evaluation.ConductEvaluation(drbart_model_R_A_S_AC, SampleOutcomes_DRBART_Normal_R_A_S_AC,\n",
    "                                                   {\n",
    "                                                        'activity_key' : 'concept:name',\n",
    "                                                        'resource_key' : 'org:resource_start',\n",
    "                                                        'known_activities' : known_activities,\n",
    "                                                        'max_sample' : 1000,\n",
    "                                                    },\n",
    "                                     test_event_log, n=1)\n",
    "likelihoods_R_A_S_AC = evaluator_R_A_S_AC.sample_cases(False, False)"
   ]
  },
  {
   "cell_type": "code",
   "execution_count": null,
   "id": "6cc9fd3b-a0dd-44cb-9bd9-b2951e3246da",
   "metadata": {},
   "outputs": [],
   "source": [
    "np.mean([v.ln() for v in likelihoods_A_R_S_AC[0].values()])"
   ]
  },
  {
   "cell_type": "code",
   "execution_count": null,
   "id": "c2070461-4377-48ec-8bf3-8963fbfe455a",
   "metadata": {},
   "outputs": [],
   "source": [
    "np.mean(get_pscores(likelihoods_A_R_S_AC))"
   ]
  },
  {
   "cell_type": "code",
   "execution_count": null,
   "id": "3db10062-4115-4d0a-956e-1e36ebda9fd5",
   "metadata": {},
   "outputs": [],
   "source": [
    "drbart_model_R_A_S_RC = DRBART(parser_dir = '../../../models/bpic_2017_all/concept-name_resource_seconds-in-day_resource-count/',\n",
    "                     strict_parser=True)\n",
    "evaluator_R_A_S_RC = conduct_evaluation.ConductEvaluation(drbart_model_R_A_S_RC, SampleOutcomes_DRBART_Normal_R_A_S_RC,\n",
    "                                                   {\n",
    "                                                        'activity_key' : 'concept:name',\n",
    "                                                        'resource_key' : 'org:resource_start',\n",
    "                                                    },\n",
    "                                     test_event_log, n=N)\n",
    "likelihoods_R_A_S_RC = evaluator_R_A_S_RC.sample_cases(False, True)"
   ]
  },
  {
   "cell_type": "code",
   "execution_count": null,
   "id": "3f52a57f-2d1c-4580-b507-2138d012ed08",
   "metadata": {},
   "outputs": [],
   "source": [
    "drbart_model_R_A_S_AC_RC = DRBART(parser_dir = '../../../models/bpic_2017_all/concept-name_resource_seconds-in-day_activitiy-count_resource-count/',\n",
    "                     strict_parser=True)\n",
    "evaluator_R_A_S_AC_RC = conduct_evaluation.ConductEvaluation(drbart_model_R_A_S_AC_RC, SampleOutcomes_DRBART_Normal_R_A_S_AC_RC,\n",
    "                                                   {\n",
    "                                                        'activity_key' : 'concept:name',\n",
    "                                                        'resource_key' : 'org:resource_start',\n",
    "                                                    },\n",
    "                                     test_event_log, n=N)\n",
    "likelihoods_R_A_S_AC_RC = evaluator_R_A_S_AC_RC.sample_cases(False, True)"
   ]
  },
  {
   "cell_type": "code",
   "execution_count": null,
   "id": "1015f97f-e58b-411d-bc4b-b41b31b0448a",
   "metadata": {},
   "outputs": [],
   "source": [
    "np.mean([v.ln() for v in likelihoods_R_A_S_AC_RC[0].values()])"
   ]
  },
  {
   "cell_type": "code",
   "execution_count": null,
   "id": "cdee137f-3d9c-4d67-a3b3-deab4a113791",
   "metadata": {},
   "outputs": [],
   "source": [
    "np.mean(get_pscores(likelihoods_R_A_S_AC_RC))"
   ]
  },
  {
   "cell_type": "code",
   "execution_count": null,
   "id": "386aa5bd-bdf4-4a4c-ae4b-c8f51cce52d5",
   "metadata": {},
   "outputs": [],
   "source": [
    "drbart_model_R_A_S_D = DRBART(parser_dir = '../../../models/bpic_2017_all/concept-name_resource_seconds-in-day_day-in-week/',\n",
    "                     strict_parser=True)\n",
    "evaluator_R_A_S_D = conduct_evaluation.ConductEvaluation(drbart_model_R_A_S_D, SampleOutcomes_DRBART_Normal_R_A_S_D,\n",
    "                                                   {\n",
    "                                                        'activity_key' : 'concept:name',\n",
    "                                                        'resource_key' : 'org:resource_start',\n",
    "                                                    },\n",
    "                                     test_event_log, n=N)\n",
    "likelihoods_R_A_S_D = evaluator_R_A_S_D.sample_cases(False, True)"
   ]
  },
  {
   "cell_type": "code",
   "execution_count": null,
   "id": "a986c83b-5e4d-493a-8ce6-ebdb5d3bb387",
   "metadata": {},
   "outputs": [],
   "source": [
    "np.mean([v.ln() for v in likelihoods_R_A_S_D[0].values()])"
   ]
  },
  {
   "cell_type": "code",
   "execution_count": null,
   "id": "bb8814d2-0412-4185-b39f-352af13720fe",
   "metadata": {},
   "outputs": [],
   "source": [
    "np.mean(get_pscores(likelihoods_R_A_S_D))"
   ]
  },
  {
   "cell_type": "code",
   "execution_count": null,
   "id": "a81de2b4-733a-44bc-9af8-a4d54139ee95",
   "metadata": {
    "jupyter": {
     "source_hidden": true
    }
   },
   "outputs": [],
   "source": [
    "drbart_model_R_A_S_D_AC_RC = DRBART(parser_dir = '../../../models/bpic_2017_all/concept-name_resource_seconds-in-day_day-of-week_activity-count_resoure-count/',\n",
    "                     strict_parser=True)\n",
    "evaluator_R_A_S_D_AC_RC = conduct_evaluation.ConductEvaluation(drbart_model_R_A_S_D_AC_RC, SampleOutcomes_DRBART_Normal_R_A_S_D_AC_RC,\n",
    "                                                   {\n",
    "                                                        'activity_key' : 'concept:name',\n",
    "                                                        'resource_key' : 'org:resource_start',\n",
    "                                                    },\n",
    "                                     test_event_log, n=N)\n",
    "likelihoods_R_A_S_D_AC_RC = evaluator_R_A_S_D_AC_RC.sample_cases(False, True)"
   ]
  },
  {
   "cell_type": "code",
   "execution_count": null,
   "id": "894d8617-95dc-45cd-8c41-f79fbe8e65fe",
   "metadata": {},
   "outputs": [],
   "source": [
    "np.mean([v.ln() for v in likelihoods_R_A_S_D_AC_RC[0].values()])"
   ]
  },
  {
   "cell_type": "code",
   "execution_count": null,
   "id": "3c3859d4-dda2-4c3f-ae9f-f19733399a1b",
   "metadata": {},
   "outputs": [],
   "source": [
    "np.mean(get_pscores(likelihoods_R_A_S_D_AC_RC))"
   ]
  },
  {
   "cell_type": "code",
   "execution_count": null,
   "id": "dc7170cb-b4a1-4725-b14f-37b3311e2e27",
   "metadata": {},
   "outputs": [],
   "source": [
    "results = {\n",
    "    'drbart_model_A' : likelihoods_A,\n",
    "    'drbart_model_A_S' : likelihoods_A_S,\n",
    "    'drbart_model_A_S_D' : likelihoods_A_S_D,\n",
    "    'drbart_model_A_S_AC' : likelihoods_A_S_AC\n",
    "}\n",
    "with open('./pcr_dr_bart_evaluation_'+log_name+'.pickle', 'wb') as handle:\n",
    "    pickle.dump(results, handle)"
   ]
  },
  {
   "cell_type": "code",
   "execution_count": null,
   "id": "38f236f4-ad2c-47d7-9def-8ee991e851ac",
   "metadata": {},
   "outputs": [],
   "source": [
    "with open('./pcr_dr_bart_evaluation_'+log_name+'.pickle', 'rb') as handle:\n",
    "    results = pickle.load(handle)"
   ]
  },
  {
   "cell_type": "code",
   "execution_count": null,
   "id": "ef2db493-9881-412d-addf-dccc69734093",
   "metadata": {},
   "outputs": [],
   "source": [
    "likelihoods_A_S_D = results['drbart_model_A_S_D']"
   ]
  },
  {
   "cell_type": "code",
   "execution_count": null,
   "id": "b7af6d7c-1a21-4184-9949-985da8d4ea46",
   "metadata": {},
   "outputs": [],
   "source": []
  }
 ],
 "metadata": {
  "kernelspec": {
   "display_name": "Python 3 (ipykernel)",
   "language": "python",
   "name": "python3"
  },
  "language_info": {
   "codemirror_mode": {
    "name": "ipython",
    "version": 3
   },
   "file_extension": ".py",
   "mimetype": "text/x-python",
   "name": "python",
   "nbconvert_exporter": "python",
   "pygments_lexer": "ipython3",
   "version": "3.10.13+"
  }
 },
 "nbformat": 4,
 "nbformat_minor": 5
}
