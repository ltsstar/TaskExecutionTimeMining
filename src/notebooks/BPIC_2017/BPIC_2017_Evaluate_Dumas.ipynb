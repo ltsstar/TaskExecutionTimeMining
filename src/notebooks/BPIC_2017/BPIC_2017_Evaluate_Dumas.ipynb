{
 "cells": [
  {
   "cell_type": "code",
   "execution_count": 1,
   "id": "b23efad2-bb13-488a-ac26-d2dcfb3bdea7",
   "metadata": {},
   "outputs": [],
   "source": [
    "import numpy as np\n",
    "import pandas\n",
    "import pm4py\n",
    "from matplotlib import pyplot as plt\n",
    "from sklearn.mixture import GaussianMixture\n",
    "import scipy.stats as stats\n",
    "import ot\n",
    "import os\n",
    "from tqdm import tqdm\n",
    "import collections\n",
    "import matplotlib.dates as md\n",
    "import importlib\n",
    "import pickle\n",
    "import random\n",
    "import CRPS.CRPS as pscore\n",
    "\n",
    "\n",
    "pandas.set_option('display.max_columns', None)\n",
    "#pandas.set_option('display.max_rows', None)\n",
    "\n",
    "\n",
    "import sys\n",
    "sys.path.append('../../TaskExecutionTimeMining/')\n",
    "from drbart_parser import *\n",
    "from event_log_transformer import *\n",
    "\n",
    "#sys.path.append('../../Evaluation')\n",
    "sys.path.append('../../Evaluation/')\n",
    "from normal_evaluation.dumas_evaluation import *"
   ]
  },
  {
   "cell_type": "code",
   "execution_count": 2,
   "id": "28ddeb63-9223-41a3-9861-25c457a15fb2",
   "metadata": {},
   "outputs": [],
   "source": [
    "with open('./dumas_model.pickle', 'rb') as f:\n",
    "    dumas_model = pickle.load(f)\n",
    "\n",
    "#with open('../../../models/bpic_2017/dumas_model_no_resource.pickle', 'rb') as f:\n",
    "#    dumas_model_no_resource = pickle.load(f)"
   ]
  },
  {
   "cell_type": "code",
   "execution_count": 3,
   "id": "6b486be5-96fd-4579-9ace-464021a6f682",
   "metadata": {},
   "outputs": [],
   "source": [
    "import conduct_evaluation\n",
    "get_pscores = lambda likelihoods : [pscore(likelihoods[1][i], likelihoods[2][k][3]).compute()[0] for i, k in enumerate(list(likelihoods[0].keys()))]\n",
    "\n",
    "N = 1000"
   ]
  },
  {
   "cell_type": "code",
   "execution_count": 4,
   "id": "c62957ba-ae96-422f-a280-e3ba3e2e6689",
   "metadata": {},
   "outputs": [
    {
     "name": "stderr",
     "output_type": "stream",
     "text": [
      "/tmp/ipykernel_2026688/3084422296.py:2: DeprecationWarning: numpy.core.numeric is deprecated and has been renamed to numpy._core.numeric. The numpy._core namespace contains private NumPy internals and its use is discouraged, as NumPy internals can change without warning in any release. In practice, most real-world usage of numpy.core is to access functionality in the public NumPy API. If that is the case, use the public NumPy API. If not, you are using NumPy internals. If you would still like to access an internal attribute, use numpy._core.numeric._frombuffer.\n",
      "  train_data = pickle.load(f)\n",
      "/tmp/ipykernel_2026688/3084422296.py:5: DeprecationWarning: numpy.core.numeric is deprecated and has been renamed to numpy._core.numeric. The numpy._core namespace contains private NumPy internals and its use is discouraged, as NumPy internals can change without warning in any release. In practice, most real-world usage of numpy.core is to access functionality in the public NumPy API. If that is the case, use the public NumPy API. If not, you are using NumPy internals. If you would still like to access an internal attribute, use numpy._core.numeric._frombuffer.\n",
      "  test_data = pickle.load(f)\n"
     ]
    }
   ],
   "source": [
    "with open('../transformed_event_logs/BPIC_2017_all_train.pickle', 'rb') as f:\n",
    "    train_data = pickle.load(f)\n",
    "\n",
    "with open('../transformed_event_logs/BPIC_2017_all_test.pickle', 'rb') as f:\n",
    "    test_data = pickle.load(f)"
   ]
  },
  {
   "cell_type": "code",
   "execution_count": 6,
   "id": "96bdccf9-b46b-4da7-8278-1a28ffe09ca5",
   "metadata": {},
   "outputs": [
    {
     "ename": "KeyboardInterrupt",
     "evalue": "",
     "output_type": "error",
     "traceback": [
      "\u001b[0;31m---------------------------------------------------------------------------\u001b[0m",
      "\u001b[0;31mKeyboardInterrupt\u001b[0m                         Traceback (most recent call last)",
      "Cell \u001b[0;32mIn[6], line 7\u001b[0m\n\u001b[1;32m      1\u001b[0m evaluator \u001b[38;5;241m=\u001b[39m conduct_evaluation\u001b[38;5;241m.\u001b[39mConductEvaluation(dumas_model, SampleOutcomes_Dumas_Normal,\n\u001b[1;32m      2\u001b[0m                                                  {\n\u001b[1;32m      3\u001b[0m                                                         \u001b[38;5;124m'\u001b[39m\u001b[38;5;124mactivity_key\u001b[39m\u001b[38;5;124m'\u001b[39m : \u001b[38;5;124m'\u001b[39m\u001b[38;5;124mconcept:name\u001b[39m\u001b[38;5;124m'\u001b[39m,\n\u001b[1;32m      4\u001b[0m                                                         \u001b[38;5;124m'\u001b[39m\u001b[38;5;124mresource_key\u001b[39m\u001b[38;5;124m'\u001b[39m : \u001b[38;5;124m'\u001b[39m\u001b[38;5;124morg:resource_start\u001b[39m\u001b[38;5;124m'\u001b[39m,\n\u001b[1;32m      5\u001b[0m                                                  },\n\u001b[1;32m      6\u001b[0m                                      train_data, n\u001b[38;5;241m=\u001b[39mN)\n\u001b[0;32m----> 7\u001b[0m likelihoods_train_A_R \u001b[38;5;241m=\u001b[39m \u001b[43mevaluator\u001b[49m\u001b[38;5;241;43m.\u001b[39;49m\u001b[43msample_cases\u001b[49m\u001b[43m(\u001b[49m\u001b[43mplot_cases\u001b[49m\u001b[38;5;241;43m=\u001b[39;49m\u001b[38;5;28;43;01mFalse\u001b[39;49;00m\u001b[43m,\u001b[49m\u001b[43m \u001b[49m\u001b[43mmultiprocessing\u001b[49m\u001b[38;5;241;43m=\u001b[39;49m\u001b[38;5;28;43;01mTrue\u001b[39;49;00m\u001b[43m)\u001b[49m\n",
      "File \u001b[0;32m~/TaskExecutionTimeMining/src/notebooks/BPIC_2017/../../Evaluation/conduct_evaluation.py:99\u001b[0m, in \u001b[0;36mConductEvaluation.sample_cases\u001b[0;34m(self, plot_cases, multiprocessing)\u001b[0m\n\u001b[1;32m     95\u001b[0m results \u001b[38;5;241m=\u001b[39m \u001b[38;5;28mdict\u001b[39m()\n\u001b[1;32m     97\u001b[0m \u001b[38;5;28;01mif\u001b[39;00m multiprocessing:\n\u001b[1;32m     98\u001b[0m     \u001b[38;5;66;03m#prepare case data\u001b[39;00m\n\u001b[0;32m---> 99\u001b[0m     case_data \u001b[38;5;241m=\u001b[39m \u001b[38;5;28mdict\u001b[39m([(case_name, \u001b[38;5;28mself\u001b[39m\u001b[38;5;241m.\u001b[39mget_case_data(case_name)) \u001b[38;5;28;01mfor\u001b[39;00m case_name \u001b[38;5;129;01min\u001b[39;00m cases])\n\u001b[1;32m    101\u001b[0m     \u001b[38;5;28;01mwith\u001b[39;00m Pool(processes\u001b[38;5;241m=\u001b[39m\u001b[38;5;241m96\u001b[39m) \u001b[38;5;28;01mas\u001b[39;00m pool:\n\u001b[1;32m    102\u001b[0m         \u001b[38;5;66;03m# Use `imap` to track progress with tqdm\u001b[39;00m\n\u001b[1;32m    103\u001b[0m         func \u001b[38;5;241m=\u001b[39m partial(ConductEvaluation\u001b[38;5;241m.\u001b[39msample_case_static, sample_model\u001b[38;5;241m=\u001b[39m\u001b[38;5;28mself\u001b[39m\u001b[38;5;241m.\u001b[39msample_model, n\u001b[38;5;241m=\u001b[39m\u001b[38;5;28mself\u001b[39m\u001b[38;5;241m.\u001b[39mn)\n",
      "File \u001b[0;32m~/TaskExecutionTimeMining/src/notebooks/BPIC_2017/../../Evaluation/conduct_evaluation.py:99\u001b[0m, in \u001b[0;36m<listcomp>\u001b[0;34m(.0)\u001b[0m\n\u001b[1;32m     95\u001b[0m results \u001b[38;5;241m=\u001b[39m \u001b[38;5;28mdict\u001b[39m()\n\u001b[1;32m     97\u001b[0m \u001b[38;5;28;01mif\u001b[39;00m multiprocessing:\n\u001b[1;32m     98\u001b[0m     \u001b[38;5;66;03m#prepare case data\u001b[39;00m\n\u001b[0;32m---> 99\u001b[0m     case_data \u001b[38;5;241m=\u001b[39m \u001b[38;5;28mdict\u001b[39m([(case_name, \u001b[38;5;28;43mself\u001b[39;49m\u001b[38;5;241;43m.\u001b[39;49m\u001b[43mget_case_data\u001b[49m\u001b[43m(\u001b[49m\u001b[43mcase_name\u001b[49m\u001b[43m)\u001b[49m) \u001b[38;5;28;01mfor\u001b[39;00m case_name \u001b[38;5;129;01min\u001b[39;00m cases])\n\u001b[1;32m    101\u001b[0m     \u001b[38;5;28;01mwith\u001b[39;00m Pool(processes\u001b[38;5;241m=\u001b[39m\u001b[38;5;241m96\u001b[39m) \u001b[38;5;28;01mas\u001b[39;00m pool:\n\u001b[1;32m    102\u001b[0m         \u001b[38;5;66;03m# Use `imap` to track progress with tqdm\u001b[39;00m\n\u001b[1;32m    103\u001b[0m         func \u001b[38;5;241m=\u001b[39m partial(ConductEvaluation\u001b[38;5;241m.\u001b[39msample_case_static, sample_model\u001b[38;5;241m=\u001b[39m\u001b[38;5;28mself\u001b[39m\u001b[38;5;241m.\u001b[39msample_model, n\u001b[38;5;241m=\u001b[39m\u001b[38;5;28mself\u001b[39m\u001b[38;5;241m.\u001b[39mn)\n",
      "File \u001b[0;32m~/TaskExecutionTimeMining/src/notebooks/BPIC_2017/../../Evaluation/conduct_evaluation.py:80\u001b[0m, in \u001b[0;36mConductEvaluation.get_case_data\u001b[0;34m(self, case_name)\u001b[0m\n\u001b[1;32m     79\u001b[0m \u001b[38;5;28;01mdef\u001b[39;00m \u001b[38;5;21mget_case_data\u001b[39m(\u001b[38;5;28mself\u001b[39m, case_name):\n\u001b[0;32m---> 80\u001b[0m     case_log \u001b[38;5;241m=\u001b[39m \u001b[38;5;28mself\u001b[39m\u001b[38;5;241m.\u001b[39mevent_log[\u001b[38;5;28;43mself\u001b[39;49m\u001b[38;5;241;43m.\u001b[39;49m\u001b[43mevent_log\u001b[49m\u001b[43m[\u001b[49m\u001b[38;5;124;43m'\u001b[39;49m\u001b[38;5;124;43mcase:concept:name\u001b[39;49m\u001b[38;5;124;43m'\u001b[39;49m\u001b[43m]\u001b[49m\u001b[43m \u001b[49m\u001b[38;5;241;43m==\u001b[39;49m\u001b[43m \u001b[49m\u001b[43mcase_name\u001b[49m]\n\u001b[1;32m     81\u001b[0m     real_start_time_ts \u001b[38;5;241m=\u001b[39m \u001b[38;5;28mself\u001b[39m\u001b[38;5;241m.\u001b[39m_get_real_start_time(case_log)\n\u001b[1;32m     82\u001b[0m     real_end_time_ts \u001b[38;5;241m=\u001b[39m \u001b[38;5;28mself\u001b[39m\u001b[38;5;241m.\u001b[39m_get_real_end_time(case_log)\n",
      "File \u001b[0;32m~/.local/share/virtualenvs/TaskExecutionTimeMining-yRnjZRF7/lib/python3.10/site-packages/pandas/core/ops/common.py:76\u001b[0m, in \u001b[0;36m_unpack_zerodim_and_defer.<locals>.new_method\u001b[0;34m(self, other)\u001b[0m\n\u001b[1;32m     72\u001b[0m             \u001b[38;5;28;01mreturn\u001b[39;00m \u001b[38;5;28mNotImplemented\u001b[39m\n\u001b[1;32m     74\u001b[0m other \u001b[38;5;241m=\u001b[39m item_from_zerodim(other)\n\u001b[0;32m---> 76\u001b[0m \u001b[38;5;28;01mreturn\u001b[39;00m \u001b[43mmethod\u001b[49m\u001b[43m(\u001b[49m\u001b[38;5;28;43mself\u001b[39;49m\u001b[43m,\u001b[49m\u001b[43m \u001b[49m\u001b[43mother\u001b[49m\u001b[43m)\u001b[49m\n",
      "File \u001b[0;32m~/.local/share/virtualenvs/TaskExecutionTimeMining-yRnjZRF7/lib/python3.10/site-packages/pandas/core/arraylike.py:40\u001b[0m, in \u001b[0;36mOpsMixin.__eq__\u001b[0;34m(self, other)\u001b[0m\n\u001b[1;32m     38\u001b[0m \u001b[38;5;129m@unpack_zerodim_and_defer\u001b[39m(\u001b[38;5;124m\"\u001b[39m\u001b[38;5;124m__eq__\u001b[39m\u001b[38;5;124m\"\u001b[39m)\n\u001b[1;32m     39\u001b[0m \u001b[38;5;28;01mdef\u001b[39;00m \u001b[38;5;21m__eq__\u001b[39m(\u001b[38;5;28mself\u001b[39m, other):\n\u001b[0;32m---> 40\u001b[0m     \u001b[38;5;28;01mreturn\u001b[39;00m \u001b[38;5;28;43mself\u001b[39;49m\u001b[38;5;241;43m.\u001b[39;49m\u001b[43m_cmp_method\u001b[49m\u001b[43m(\u001b[49m\u001b[43mother\u001b[49m\u001b[43m,\u001b[49m\u001b[43m \u001b[49m\u001b[43moperator\u001b[49m\u001b[38;5;241;43m.\u001b[39;49m\u001b[43meq\u001b[49m\u001b[43m)\u001b[49m\n",
      "File \u001b[0;32m~/.local/share/virtualenvs/TaskExecutionTimeMining-yRnjZRF7/lib/python3.10/site-packages/pandas/core/series.py:6119\u001b[0m, in \u001b[0;36mSeries._cmp_method\u001b[0;34m(self, other, op)\u001b[0m\n\u001b[1;32m   6116\u001b[0m lvalues \u001b[38;5;241m=\u001b[39m \u001b[38;5;28mself\u001b[39m\u001b[38;5;241m.\u001b[39m_values\n\u001b[1;32m   6117\u001b[0m rvalues \u001b[38;5;241m=\u001b[39m extract_array(other, extract_numpy\u001b[38;5;241m=\u001b[39m\u001b[38;5;28;01mTrue\u001b[39;00m, extract_range\u001b[38;5;241m=\u001b[39m\u001b[38;5;28;01mTrue\u001b[39;00m)\n\u001b[0;32m-> 6119\u001b[0m res_values \u001b[38;5;241m=\u001b[39m \u001b[43mops\u001b[49m\u001b[38;5;241;43m.\u001b[39;49m\u001b[43mcomparison_op\u001b[49m\u001b[43m(\u001b[49m\u001b[43mlvalues\u001b[49m\u001b[43m,\u001b[49m\u001b[43m \u001b[49m\u001b[43mrvalues\u001b[49m\u001b[43m,\u001b[49m\u001b[43m \u001b[49m\u001b[43mop\u001b[49m\u001b[43m)\u001b[49m\n\u001b[1;32m   6121\u001b[0m \u001b[38;5;28;01mreturn\u001b[39;00m \u001b[38;5;28mself\u001b[39m\u001b[38;5;241m.\u001b[39m_construct_result(res_values, name\u001b[38;5;241m=\u001b[39mres_name)\n",
      "File \u001b[0;32m~/.local/share/virtualenvs/TaskExecutionTimeMining-yRnjZRF7/lib/python3.10/site-packages/pandas/core/ops/array_ops.py:344\u001b[0m, in \u001b[0;36mcomparison_op\u001b[0;34m(left, right, op)\u001b[0m\n\u001b[1;32m    341\u001b[0m     \u001b[38;5;28;01mreturn\u001b[39;00m invalid_comparison(lvalues, rvalues, op)\n\u001b[1;32m    343\u001b[0m \u001b[38;5;28;01melif\u001b[39;00m lvalues\u001b[38;5;241m.\u001b[39mdtype \u001b[38;5;241m==\u001b[39m \u001b[38;5;28mobject\u001b[39m \u001b[38;5;129;01mor\u001b[39;00m \u001b[38;5;28misinstance\u001b[39m(rvalues, \u001b[38;5;28mstr\u001b[39m):\n\u001b[0;32m--> 344\u001b[0m     res_values \u001b[38;5;241m=\u001b[39m \u001b[43mcomp_method_OBJECT_ARRAY\u001b[49m\u001b[43m(\u001b[49m\u001b[43mop\u001b[49m\u001b[43m,\u001b[49m\u001b[43m \u001b[49m\u001b[43mlvalues\u001b[49m\u001b[43m,\u001b[49m\u001b[43m \u001b[49m\u001b[43mrvalues\u001b[49m\u001b[43m)\u001b[49m\n\u001b[1;32m    346\u001b[0m \u001b[38;5;28;01melse\u001b[39;00m:\n\u001b[1;32m    347\u001b[0m     res_values \u001b[38;5;241m=\u001b[39m _na_arithmetic_op(lvalues, rvalues, op, is_cmp\u001b[38;5;241m=\u001b[39m\u001b[38;5;28;01mTrue\u001b[39;00m)\n",
      "File \u001b[0;32m~/.local/share/virtualenvs/TaskExecutionTimeMining-yRnjZRF7/lib/python3.10/site-packages/pandas/core/ops/array_ops.py:129\u001b[0m, in \u001b[0;36mcomp_method_OBJECT_ARRAY\u001b[0;34m(op, x, y)\u001b[0m\n\u001b[1;32m    127\u001b[0m     result \u001b[38;5;241m=\u001b[39m libops\u001b[38;5;241m.\u001b[39mvec_compare(x\u001b[38;5;241m.\u001b[39mravel(), y\u001b[38;5;241m.\u001b[39mravel(), op)\n\u001b[1;32m    128\u001b[0m \u001b[38;5;28;01melse\u001b[39;00m:\n\u001b[0;32m--> 129\u001b[0m     result \u001b[38;5;241m=\u001b[39m \u001b[43mlibops\u001b[49m\u001b[38;5;241;43m.\u001b[39;49m\u001b[43mscalar_compare\u001b[49m\u001b[43m(\u001b[49m\u001b[43mx\u001b[49m\u001b[38;5;241;43m.\u001b[39;49m\u001b[43mravel\u001b[49m\u001b[43m(\u001b[49m\u001b[43m)\u001b[49m\u001b[43m,\u001b[49m\u001b[43m \u001b[49m\u001b[43my\u001b[49m\u001b[43m,\u001b[49m\u001b[43m \u001b[49m\u001b[43mop\u001b[49m\u001b[43m)\u001b[49m\n\u001b[1;32m    130\u001b[0m \u001b[38;5;28;01mreturn\u001b[39;00m result\u001b[38;5;241m.\u001b[39mreshape(x\u001b[38;5;241m.\u001b[39mshape)\n",
      "\u001b[0;31mKeyboardInterrupt\u001b[0m: "
     ]
    }
   ],
   "source": [
    "evaluator = conduct_evaluation.ConductEvaluation(dumas_model, SampleOutcomes_Dumas_Normal,\n",
    "                                                 {\n",
    "                                                        'activity_key' : 'concept:name',\n",
    "                                                        'resource_key' : 'org:resource_start',\n",
    "                                                 },\n",
    "                                     train_data, n=N)\n",
    "likelihoods_train_A_R = evaluator.sample_cases(plot_cases=False, multiprocessing=True)"
   ]
  },
  {
   "cell_type": "code",
   "execution_count": null,
   "id": "5f63bad8-75f5-4ed3-a97b-ae1079cf6000",
   "metadata": {},
   "outputs": [],
   "source": [
    "np.mean([v.ln() for v in likelihoods_train_A_R[0].values()])"
   ]
  },
  {
   "cell_type": "code",
   "execution_count": null,
   "id": "83e7e3a5-9558-4e65-893c-f549fdbecb3b",
   "metadata": {},
   "outputs": [],
   "source": [
    "np.mean([v.ln() for v in likelihoods_train_A_R[0].values()])"
   ]
  },
  {
   "cell_type": "code",
   "execution_count": null,
   "id": "db3e6023-f48b-4309-8361-81a67b69b37e",
   "metadata": {},
   "outputs": [],
   "source": [
    "evaluator = conduct_evaluation.ConductEvaluation(dumas_model, SampleOutcomes_Dumas_Normal,\n",
    "                                                 {\n",
    "                                                        'activity_key' : 'concept:name',\n",
    "                                                        'resource_key' : 'org:resource_start',\n",
    "                                                 },\n",
    "                                     test_data, n=N)\n",
    "likelihoods_test_A_R = evaluator.sample_cases(plot_cases=False, multiprocessing=True)"
   ]
  },
  {
   "cell_type": "code",
   "execution_count": null,
   "id": "eb19f297-c700-454a-ba13-c83798f0ee19",
   "metadata": {},
   "outputs": [],
   "source": [
    "np.mean([v.ln() for v in likelihoods_test_A_R[0].values()])"
   ]
  },
  {
   "cell_type": "code",
   "execution_count": null,
   "id": "717423da-c5d3-457c-9cfc-a7f48a113405",
   "metadata": {},
   "outputs": [],
   "source": [
    "np.mean(get_pscores(likelihoods_test_A_R))"
   ]
  },
  {
   "cell_type": "code",
   "execution_count": null,
   "id": "2f3615f5-c7b0-4039-8b75-eddb47396020",
   "metadata": {},
   "outputs": [],
   "source": [
    "evaluator = conduct_evaluation.ConductEvaluation(dumas_model_no_resource, SampleOutcomes_Dumas_Normal,\n",
    "                                                 {\n",
    "                                                        'activity_key' : 'concept:name',\n",
    "                                                        'resource_key' : 'org:resource_start',\n",
    "                                                 },\n",
    "                                     train_data, n=N)\n",
    "likelihoods_train_A = evaluator.sample_cases(plot_cases=False, multiprocessing=True)"
   ]
  },
  {
   "cell_type": "code",
   "execution_count": null,
   "id": "e4b5d3eb-bb79-45ba-af2d-3e866e31314b",
   "metadata": {},
   "outputs": [],
   "source": [
    "np.mean([v.ln() for v in likelihoods_train_A[0].values()])"
   ]
  },
  {
   "cell_type": "code",
   "execution_count": null,
   "id": "56c661de-ac51-4191-a115-ff94cefb5f83",
   "metadata": {},
   "outputs": [],
   "source": [
    "np.mean(get_pscores(likelihoods_train_A))"
   ]
  },
  {
   "cell_type": "code",
   "execution_count": null,
   "id": "c83fa656-175c-4abb-b1f7-b901ca2676b3",
   "metadata": {},
   "outputs": [],
   "source": [
    "evaluator = conduct_evaluation.ConductEvaluation(dumas_model_no_resource, SampleOutcomes_Dumas_Normal,\n",
    "                                                 {\n",
    "                                                        'activity_key' : 'concept:name',\n",
    "                                                        'resource_key' : 'org:resource_start',\n",
    "                                                 },\n",
    "                                     test_data, n=N)\n",
    "likelihoods_test_A = evaluator.sample_cases(plot_cases=False, multiprocessing=True)"
   ]
  },
  {
   "cell_type": "code",
   "execution_count": null,
   "id": "e74cceaa-d1ec-4325-9a89-43fa8e12dbb3",
   "metadata": {},
   "outputs": [],
   "source": [
    "np.mean([v.ln() for v in likelihoods_test_A[0].values()])"
   ]
  },
  {
   "cell_type": "code",
   "execution_count": null,
   "id": "ebc9cb73-2d53-4c53-b60a-925004b6c731",
   "metadata": {},
   "outputs": [],
   "source": [
    "np.mean(get_pscores(likelihoods_test_A))"
   ]
  },
  {
   "cell_type": "code",
   "execution_count": null,
   "id": "fbc63a0d-98d9-4c74-a2e3-f838bfe5ccfb",
   "metadata": {},
   "outputs": [],
   "source": [
    "results = {\n",
    "    'dumas_test_A' : likelihoods_test_A,\n",
    "    'dumas_test_A_R' : likelihoods_test_A_R,\n",
    "    'dumas_train_A' : likelihoods_train_A,\n",
    "    'dumas_train_A_R' : likelihoods_train_A_R\n",
    "}\n",
    "\n",
    "with open('./artificial_dumas_evaluation_.pickle', 'wb') as handle:\n",
    "    pickle.dump(results, handle)"
   ]
  }
 ],
 "metadata": {
  "kernelspec": {
   "display_name": "Python 3 (ipykernel)",
   "language": "python",
   "name": "python3"
  },
  "language_info": {
   "codemirror_mode": {
    "name": "ipython",
    "version": 3
   },
   "file_extension": ".py",
   "mimetype": "text/x-python",
   "name": "python",
   "nbconvert_exporter": "python",
   "pygments_lexer": "ipython3",
   "version": "3.10.13+"
  }
 },
 "nbformat": 4,
 "nbformat_minor": 5
}
