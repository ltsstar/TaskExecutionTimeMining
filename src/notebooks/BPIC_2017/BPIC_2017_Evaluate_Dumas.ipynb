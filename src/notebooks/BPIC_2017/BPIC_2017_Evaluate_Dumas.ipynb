{
 "cells": [
  {
   "cell_type": "code",
   "execution_count": 2,
   "id": "b23efad2-bb13-488a-ac26-d2dcfb3bdea7",
   "metadata": {},
   "outputs": [],
   "source": [
    "import numpy as np\n",
    "import pandas\n",
    "import pm4py\n",
    "from matplotlib import pyplot as plt\n",
    "from sklearn.mixture import GaussianMixture\n",
    "import scipy.stats as stats\n",
    "import ot\n",
    "import os\n",
    "from tqdm import tqdm\n",
    "import collections\n",
    "import matplotlib.dates as md\n",
    "import importlib\n",
    "import pickle\n",
    "import random\n",
    "import CRPS.CRPS as pscore\n",
    "\n",
    "\n",
    "pandas.set_option('display.max_columns', None)\n",
    "#pandas.set_option('display.max_rows', None)\n",
    "\n",
    "\n",
    "import sys\n",
    "sys.path.append('../../TaskExecutionTimeMining/')\n",
    "from drbart_parser import *\n",
    "from event_log_transformer import *\n",
    "\n",
    "#sys.path.append('../../Evaluation')\n",
    "sys.path.append('../../Evaluation/')\n",
    "from normal_evaluation.dumas_evaluation import *"
   ]
  },
  {
   "cell_type": "code",
   "execution_count": 3,
   "id": "28ddeb63-9223-41a3-9861-25c457a15fb2",
   "metadata": {},
   "outputs": [],
   "source": [
    "with open('./dumas_model.pickle', 'rb') as f:\n",
    "    dumas_model = pickle.load(f)\n",
    "\n",
    "#with open('../../../models/bpic_2017/dumas_model_no_resource.pickle', 'rb') as f:\n",
    "#    dumas_model_no_resource = pickle.load(f)"
   ]
  },
  {
   "cell_type": "code",
   "execution_count": 4,
   "id": "6b486be5-96fd-4579-9ace-464021a6f682",
   "metadata": {},
   "outputs": [],
   "source": [
    "import conduct_evaluation\n",
    "get_pscores = lambda likelihoods : [pscore(likelihoods[1][i], likelihoods[2][k][3]).compute()[0] for i, k in enumerate(list(likelihoods[0].keys()))]\n",
    "\n",
    "N = 1000"
   ]
  },
  {
   "cell_type": "code",
   "execution_count": 5,
   "id": "c62957ba-ae96-422f-a280-e3ba3e2e6689",
   "metadata": {},
   "outputs": [
    {
     "name": "stderr",
     "output_type": "stream",
     "text": [
      "/tmp/ipykernel_2010501/3084422296.py:2: DeprecationWarning: numpy.core.numeric is deprecated and has been renamed to numpy._core.numeric. The numpy._core namespace contains private NumPy internals and its use is discouraged, as NumPy internals can change without warning in any release. In practice, most real-world usage of numpy.core is to access functionality in the public NumPy API. If that is the case, use the public NumPy API. If not, you are using NumPy internals. If you would still like to access an internal attribute, use numpy._core.numeric._frombuffer.\n",
      "  train_data = pickle.load(f)\n",
      "/tmp/ipykernel_2010501/3084422296.py:5: DeprecationWarning: numpy.core.numeric is deprecated and has been renamed to numpy._core.numeric. The numpy._core namespace contains private NumPy internals and its use is discouraged, as NumPy internals can change without warning in any release. In practice, most real-world usage of numpy.core is to access functionality in the public NumPy API. If that is the case, use the public NumPy API. If not, you are using NumPy internals. If you would still like to access an internal attribute, use numpy._core.numeric._frombuffer.\n",
      "  test_data = pickle.load(f)\n"
     ]
    }
   ],
   "source": [
    "with open('../transformed_event_logs/BPIC_2017_all_train.pickle', 'rb') as f:\n",
    "    train_data = pickle.load(f)\n",
    "\n",
    "with open('../transformed_event_logs/BPIC_2017_all_test.pickle', 'rb') as f:\n",
    "    test_data = pickle.load(f)"
   ]
  },
  {
   "cell_type": "code",
   "execution_count": null,
   "id": "96bdccf9-b46b-4da7-8278-1a28ffe09ca5",
   "metadata": {},
   "outputs": [],
   "source": [
    "evaluator = conduct_evaluation.ConductEvaluation(dumas_model, SampleOutcomes_Dumas_Normal,\n",
    "                                                 {\n",
    "                                                        'activity_key' : 'concept:name',\n",
    "                                                        'resource_key' : 'org:resource_start',\n",
    "                                                 },\n",
    "                                     train_data, n=N)\n",
    "likelihoods_train_A_R = evaluator.sample_cases(plot_cases=False, multiprocessing=False)"
   ]
  },
  {
   "cell_type": "code",
   "execution_count": null,
   "id": "5f63bad8-75f5-4ed3-a97b-ae1079cf6000",
   "metadata": {},
   "outputs": [],
   "source": [
    "np.mean([v.ln() for v in likelihoods_train_A_R[0].values()])"
   ]
  },
  {
   "cell_type": "code",
   "execution_count": null,
   "id": "83e7e3a5-9558-4e65-893c-f549fdbecb3b",
   "metadata": {},
   "outputs": [],
   "source": [
    "np.mean([v.ln() for v in likelihoods_train_A_R[0].values()])"
   ]
  },
  {
   "cell_type": "code",
   "execution_count": null,
   "id": "db3e6023-f48b-4309-8361-81a67b69b37e",
   "metadata": {},
   "outputs": [
    {
     "name": "stderr",
     "output_type": "stream",
     "text": [
      "  8%|███▌                                          | 467/6018 [23:24<4:57:57,  3.22s/it]"
     ]
    }
   ],
   "source": [
    "evaluator = conduct_evaluation.ConductEvaluation(dumas_model, SampleOutcomes_Dumas_Normal,\n",
    "                                                 {\n",
    "                                                        'activity_key' : 'concept:name',\n",
    "                                                        'resource_key' : 'org:resource_start',\n",
    "                                                 },\n",
    "                                     test_data, n=N)\n",
    "likelihoods_test_A_R = evaluator.sample_cases(plot_cases=False, multiprocessing=False)"
   ]
  },
  {
   "cell_type": "code",
   "execution_count": null,
   "id": "eb19f297-c700-454a-ba13-c83798f0ee19",
   "metadata": {},
   "outputs": [],
   "source": [
    "np.mean([v.ln() for v in likelihoods_test_A_R[0].values()])"
   ]
  },
  {
   "cell_type": "code",
   "execution_count": null,
   "id": "717423da-c5d3-457c-9cfc-a7f48a113405",
   "metadata": {},
   "outputs": [],
   "source": [
    "np.mean(get_pscores(likelihoods_test_A_R))"
   ]
  },
  {
   "cell_type": "code",
   "execution_count": null,
   "id": "2f3615f5-c7b0-4039-8b75-eddb47396020",
   "metadata": {},
   "outputs": [],
   "source": [
    "evaluator = conduct_evaluation.ConductEvaluation(dumas_model_no_resource, SampleOutcomes_Dumas_Normal,\n",
    "                                                 {\n",
    "                                                        'activity_key' : 'concept:name',\n",
    "                                                        'resource_key' : 'org:resource_start',\n",
    "                                                 },\n",
    "                                     train_data, n=N)\n",
    "likelihoods_train_A = evaluator.sample_cases(plot_cases=False, multiprocessing=False)"
   ]
  },
  {
   "cell_type": "code",
   "execution_count": null,
   "id": "e4b5d3eb-bb79-45ba-af2d-3e866e31314b",
   "metadata": {},
   "outputs": [],
   "source": [
    "np.mean([v.ln() for v in likelihoods_train_A[0].values()])"
   ]
  },
  {
   "cell_type": "code",
   "execution_count": null,
   "id": "56c661de-ac51-4191-a115-ff94cefb5f83",
   "metadata": {},
   "outputs": [],
   "source": [
    "np.mean(get_pscores(likelihoods_train_A))"
   ]
  },
  {
   "cell_type": "code",
   "execution_count": null,
   "id": "c83fa656-175c-4abb-b1f7-b901ca2676b3",
   "metadata": {},
   "outputs": [],
   "source": [
    "evaluator = conduct_evaluation.ConductEvaluation(dumas_model_no_resource, SampleOutcomes_Dumas_Normal,\n",
    "                                                 {\n",
    "                                                        'activity_key' : 'concept:name',\n",
    "                                                        'resource_key' : 'org:resource_start',\n",
    "                                                 },\n",
    "                                     test_data, n=N)\n",
    "likelihoods_test_A = evaluator.sample_cases(plot_cases=False, multiprocessing=False)"
   ]
  },
  {
   "cell_type": "code",
   "execution_count": null,
   "id": "e74cceaa-d1ec-4325-9a89-43fa8e12dbb3",
   "metadata": {},
   "outputs": [],
   "source": [
    "np.mean([v.ln() for v in likelihoods_test_A[0].values()])"
   ]
  },
  {
   "cell_type": "code",
   "execution_count": null,
   "id": "ebc9cb73-2d53-4c53-b60a-925004b6c731",
   "metadata": {},
   "outputs": [],
   "source": [
    "np.mean(get_pscores(likelihoods_test_A))"
   ]
  },
  {
   "cell_type": "code",
   "execution_count": null,
   "id": "fbc63a0d-98d9-4c74-a2e3-f838bfe5ccfb",
   "metadata": {},
   "outputs": [],
   "source": [
    "results = {\n",
    "    'dumas_test_A' : likelihoods_test_A,\n",
    "    'dumas_test_A_R' : likelihoods_test_A_R,\n",
    "    'dumas_train_A' : likelihoods_train_A,\n",
    "    'dumas_train_A_R' : likelihoods_train_A_R\n",
    "}\n",
    "\n",
    "with open('./artificial_dumas_evaluation_.pickle', 'wb') as handle:\n",
    "    pickle.dump(results, handle)"
   ]
  }
 ],
 "metadata": {
  "kernelspec": {
   "display_name": "Python 3 (ipykernel)",
   "language": "python",
   "name": "python3"
  },
  "language_info": {
   "codemirror_mode": {
    "name": "ipython",
    "version": 3
   },
   "file_extension": ".py",
   "mimetype": "text/x-python",
   "name": "python",
   "nbconvert_exporter": "python",
   "pygments_lexer": "ipython3",
   "version": "3.10.13+"
  }
 },
 "nbformat": 4,
 "nbformat_minor": 5
}
