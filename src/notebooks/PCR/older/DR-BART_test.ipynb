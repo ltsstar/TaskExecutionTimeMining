{
 "cells": [
  {
   "cell_type": "code",
   "execution_count": null,
   "id": "46185b2e-f04e-4120-acb9-bd2961c4979a",
   "metadata": {},
   "outputs": [],
   "source": [
    "import numpy as np\n",
    "import pandas\n",
    "import pm4py\n",
    "from matplotlib import pyplot as plt\n",
    "from sklearn.mixture import GaussianMixture\n",
    "import scipy.stats as stats\n",
    "import ot\n",
    "import os\n",
    "from tqdm import tqdm\n",
    "import collections\n",
    "import matplotlib.dates as md\n",
    "import importlib\n",
    "import pickle\n",
    "import random\n",
    "\n",
    "pandas.set_option('display.max_columns', None)\n",
    "#pandas.set_option('display.max_rows', None)\n",
    "\n",
    "\n",
    "import sys\n",
    "sys.path.append('../../TaskExecutionTimeMining/')\n",
    "from drbart_parser import *\n",
    "from event_log_transformer import *\n",
    "\n",
    "#sys.path.append('../../Evaluation')\n",
    "sys.path.append('../../Evaluation/')\n",
    "from PCR_evaluation.drbart_evaluation import *"
   ]
  },
  {
   "cell_type": "code",
   "execution_count": null,
   "id": "1bddd47b-b4bb-4ed4-b160-3469952d9e21",
   "metadata": {},
   "outputs": [],
   "source": [
    "with open('../transformed_event_logs/PCR_start_end_train.pickle', 'rb') as f:\n",
    "    test_event_log = pickle.load(f)\n",
    "\n",
    "#test_event_log['time:timestamp'] = test_event_log['time:timestamp_complete']\n",
    "test_event_log['case:concept:name'] = test_event_log['case:concept:name'].astype(str)"
   ]
  },
  {
   "cell_type": "code",
   "execution_count": null,
   "id": "0938122b-135c-4731-b402-3e42dfbd4ff1",
   "metadata": {},
   "outputs": [],
   "source": [
    "drbart_model = DRBART(parser_dir = '../../../models/pcr/concept-name_seconds-in-day/',\n",
    "                     strict_parser=False)"
   ]
  },
  {
   "cell_type": "code",
   "execution_count": null,
   "id": "2aa326de-bed7-4280-a47d-ece0b6ccb10d",
   "metadata": {},
   "outputs": [],
   "source": [
    "known_activities = test_event_log['concept:name'].unique()\n",
    "known_activities"
   ]
  },
  {
   "cell_type": "code",
   "execution_count": null,
   "id": "500484e6-17ca-410e-ac23-ae19d0158ecc",
   "metadata": {},
   "outputs": [],
   "source": [
    "def show_pdf(concept_names, seconds_in_days):\n",
    "    y_grid = np.linspace(0, 20000, 1000)\n",
    "    ps = drbart_model.proba(y_grid, concept_names, seconds_in_days)\n",
    "    for j, i in ps:\n",
    "        plt.plot(y_grid, i, label=str(j))\n",
    "    plt.legend(loc=\"upper left\")\n",
    "    plt.grid(True)\n",
    "    plt.xlabel(\"x\")\n",
    "    plt.ylim(0, 0.01)\n",
    "    plt.ylabel(\"y\")\n",
    "    plt.show()"
   ]
  },
  {
   "cell_type": "code",
   "execution_count": null,
   "id": "32962023-2742-4c52-8d01-e023c620ae68",
   "metadata": {},
   "outputs": [],
   "source": [
    "show_pdf([['timeout'], ['Export to EMS']], [[8*3600], [8*3600]])"
   ]
  },
  {
   "cell_type": "code",
   "execution_count": null,
   "id": "322ef500-a117-4282-92c3-75ff8363e2ca",
   "metadata": {},
   "outputs": [],
   "source": [
    "show_pdf([[known_activity] for known_activity in known_activities], [[8*3600] for i in range(len(known_activities))])"
   ]
  },
  {
   "cell_type": "code",
   "execution_count": null,
   "id": "37ec6ad2-fb70-4807-a9d3-f04332167ba4",
   "metadata": {},
   "outputs": [],
   "source": [
    "show_pdf([['timeout'] for i in range(4, 20, 4)], [[i*3600] for i in range(4, 20, 4)])"
   ]
  },
  {
   "cell_type": "code",
   "execution_count": null,
   "id": "0303b4ae-bf03-436b-942f-45486c0bed15",
   "metadata": {},
   "outputs": [],
   "source": [
    "show_pdf([['Wait for plate validation'] for i in range(4, 20, 4)], [[i*3600] for i in range(4, 20, 4)])"
   ]
  },
  {
   "cell_type": "code",
   "execution_count": null,
   "id": "55e544f3-3122-4482-84f8-5e47fd52e258",
   "metadata": {},
   "outputs": [],
   "source": [
    "show_pdf([['Match patient data'] for i in range(4, 20, 4)], [[i*3600] for i in range(4, 20, 4)])"
   ]
  },
  {
   "cell_type": "code",
   "execution_count": null,
   "id": "8a368ab7-186f-4a69-920f-84e4b07c3051",
   "metadata": {},
   "outputs": [],
   "source": [
    "list(known_activities)"
   ]
  },
  {
   "cell_type": "code",
   "execution_count": null,
   "id": "cd741b0a-58ef-47fa-98e7-bd1c9cdfbca1",
   "metadata": {},
   "outputs": [],
   "source": [
    "def proba(x_categorical : list[list], x_continous : list[list]):\n",
    "    x_rows_decoded = [l1 + l2 for l1, l2 in zip(x_categorical, x_continous)]\n",
    "    x_encoded_categorical = drbart_model.parser.get_encodings(x_categorical)\n",
    "    print(x_encoded_categorical)\n",
    "    x_rows = [k[0] + k[1] for k in zip(x_encoded_categorical, x_continous)]\n",
    "    print(x_rows)\n",
    "proba([[known_activity] for known_activity in known_activities], [[8*3600] for i in range(len(known_activities)+1)])"
   ]
  },
  {
   "cell_type": "code",
   "execution_count": null,
   "id": "718ea76f-cbc3-4b20-b9db-246c1bf41027",
   "metadata": {},
   "outputs": [],
   "source": [
    "proba([['asdf']], [[8*3600]])"
   ]
  },
  {
   "cell_type": "code",
   "execution_count": null,
   "id": "3a6c7e2d-eb8c-46bf-acee-7c93e9b04ac9",
   "metadata": {},
   "outputs": [],
   "source": [
    "drbart_model.parser.strict"
   ]
  },
  {
   "cell_type": "code",
   "execution_count": null,
   "id": "d43e6825-b2f8-4235-b649-8ad2d9ff5e5d",
   "metadata": {},
   "outputs": [],
   "source": [
    "# Two lists of lists with the same length\n",
    "list1 = [[1, 2], [3, 4], [5, 6]]\n",
    "list2 = [[7, 8], [9, 10], [11, 12]]\n",
    "\n",
    "# Concatenate the sublists element-wise\n",
    "result = [sublist1 + sublist2 for sublist1, sublist2 in zip(list1, list2)]\n",
    "\n",
    "print(result)"
   ]
  }
 ],
 "metadata": {
  "kernelspec": {
   "display_name": "Python 3 (ipykernel)",
   "language": "python",
   "name": "python3"
  },
  "language_info": {
   "codemirror_mode": {
    "name": "ipython",
    "version": 3
   },
   "file_extension": ".py",
   "mimetype": "text/x-python",
   "name": "python",
   "nbconvert_exporter": "python",
   "pygments_lexer": "ipython3",
   "version": "3.12.7"
  }
 },
 "nbformat": 4,
 "nbformat_minor": 5
}
