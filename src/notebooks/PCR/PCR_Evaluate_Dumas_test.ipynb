{
 "cells": [
  {
   "cell_type": "code",
   "execution_count": 1,
   "id": "7fc3de6b-1100-4a37-aa96-92fb38b537f3",
   "metadata": {},
   "outputs": [],
   "source": [
    "import numpy as np\n",
    "import pandas\n",
    "import pm4py\n",
    "from matplotlib import pyplot as plt\n",
    "from sklearn.mixture import GaussianMixture\n",
    "import scipy.stats as stats\n",
    "import ot\n",
    "import os\n",
    "from tqdm import tqdm\n",
    "import collections\n",
    "import matplotlib.dates as md\n",
    "import importlib\n",
    "import pickle\n",
    "import random\n",
    "import CRPS.CRPS as pscore\n",
    "\n",
    "\n",
    "pandas.set_option('display.max_columns', None)\n",
    "#pandas.set_option('display.max_rows', None)\n",
    "\n",
    "\n",
    "import sys\n",
    "sys.path.append('../../TaskExecutionTimeMining/')\n",
    "from drbart_parser import *\n",
    "from event_log_transformer import *\n",
    "\n",
    "#sys.path.append('../../Evaluation')\n",
    "sys.path.append('../../Evaluation/')\n",
    "from PCR_evaluation.dumas_evaluation import *"
   ]
  },
  {
   "cell_type": "code",
   "execution_count": 2,
   "id": "5dc939fc-0a9d-48a2-9baa-7e5625107e39",
   "metadata": {},
   "outputs": [
    {
     "name": "stderr",
     "output_type": "stream",
     "text": [
      "/tmp/ipykernel_4161/2614114049.py:3: DeprecationWarning: numpy.core.numeric is deprecated and has been renamed to numpy._core.numeric. The numpy._core namespace contains private NumPy internals and its use is discouraged, as NumPy internals can change without warning in any release. In practice, most real-world usage of numpy.core is to access functionality in the public NumPy API. If that is the case, use the public NumPy API. If not, you are using NumPy internals. If you would still like to access an internal attribute, use numpy._core.numeric._frombuffer.\n",
      "  test_event_log = pickle.load(f)\n"
     ]
    }
   ],
   "source": [
    "log_name = 'test'\n",
    "with open('../transformed_event_logs/PCR_start_end_'+log_name+'.pickle', 'rb') as f:\n",
    "    test_event_log = pickle.load(f)"
   ]
  },
  {
   "cell_type": "code",
   "execution_count": 3,
   "id": "2a14cd35-1bfb-4edb-a0c8-3fdfe860f77a",
   "metadata": {},
   "outputs": [],
   "source": [
    "with open('./dumas_model.pickle', 'rb') as f:\n",
    "    dumas_model = pickle.load(f)"
   ]
  },
  {
   "cell_type": "code",
   "execution_count": 4,
   "id": "8bd03e2c-c0a3-4055-b399-9e6f6c6c231d",
   "metadata": {},
   "outputs": [],
   "source": [
    "import conduct_evaluation\n",
    "#sample_dumas = SampleOutcomes_Dumas_Normal(test_event_log, dumas_model)\n",
    "\n",
    "evaluator = conduct_evaluation.ConductEvaluation(dumas_model, SampleOutcomes_Dumas_Normal, {},\n",
    "                                     test_event_log, n=1000)"
   ]
  },
  {
   "cell_type": "code",
   "execution_count": 5,
   "id": "26bd0083-dfd2-4940-a29f-d1eda47afa16",
   "metadata": {},
   "outputs": [
    {
     "name": "stderr",
     "output_type": "stream",
     "text": [
      "100%|█| 1235/1235 [00:00<00:00, 1840.38it\n",
      "100%|█| 1235/1235 [07:36<00:00,  2.71it/s\n",
      "100%|██████████████████████| 1235/1235 [00:53<00:00, 23.09it/s]\n"
     ]
    }
   ],
   "source": [
    "likelihoods = evaluator.sample_cases(plot_cases=False, multiprocessing=True)"
   ]
  },
  {
   "cell_type": "code",
   "execution_count": 6,
   "id": "0685a2f1-ee9f-4012-9df1-ecbd9ce13fa3",
   "metadata": {},
   "outputs": [
    {
     "data": {
      "text/plain": [
       "Decimal('0.1413094856579221573587854184')"
      ]
     },
     "execution_count": 6,
     "metadata": {},
     "output_type": "execute_result"
    }
   ],
   "source": [
    "np.mean([v.ln() for v in likelihoods[0].values()])"
   ]
  },
  {
   "cell_type": "code",
   "execution_count": 7,
   "id": "ba43d2be-02fe-4aa1-9169-c580828950b4",
   "metadata": {},
   "outputs": [
    {
     "data": {
      "text/plain": [
       "np.float64(10752.85436477798)"
      ]
     },
     "execution_count": 7,
     "metadata": {},
     "output_type": "execute_result"
    }
   ],
   "source": [
    "get_pscores = lambda likelihoods : [pscore(likelihoods[1][i], likelihoods[2][k][3]).compute()[0] for i, k in enumerate(list(likelihoods[0].keys()))]\n",
    "\n",
    "np.mean(get_pscores(likelihoods))"
   ]
  },
  {
   "cell_type": "code",
   "execution_count": 8,
   "id": "4a445305-a77f-470a-804c-55713a1c056c",
   "metadata": {},
   "outputs": [],
   "source": [
    "results = {\n",
    "    'dumas_model' : likelihoods,\n",
    "}\n",
    "with open('./pcr_dumas_evaluation_'+log_name+'.pickle', 'wb') as handle:\n",
    "    pickle.dump(results, handle)"
   ]
  }
 ],
 "metadata": {
  "kernelspec": {
   "display_name": "Python 3 (ipykernel)",
   "language": "python",
   "name": "python3"
  },
  "language_info": {
   "codemirror_mode": {
    "name": "ipython",
    "version": 3
   },
   "file_extension": ".py",
   "mimetype": "text/x-python",
   "name": "python",
   "nbconvert_exporter": "python",
   "pygments_lexer": "ipython3",
   "version": "3.10.15"
  }
 },
 "nbformat": 4,
 "nbformat_minor": 5
}
