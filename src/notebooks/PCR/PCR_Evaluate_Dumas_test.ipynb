{
 "cells": [
  {
   "cell_type": "code",
   "execution_count": 1,
   "id": "7fc3de6b-1100-4a37-aa96-92fb38b537f3",
   "metadata": {},
   "outputs": [],
   "source": [
    "import numpy as np\n",
    "import pandas\n",
    "import pm4py\n",
    "from matplotlib import pyplot as plt\n",
    "from sklearn.mixture import GaussianMixture\n",
    "import scipy.stats as stats\n",
    "import ot\n",
    "import os\n",
    "from tqdm import tqdm\n",
    "import collections\n",
    "import matplotlib.dates as md\n",
    "import importlib\n",
    "import pickle\n",
    "import random\n",
    "import CRPS.CRPS as pscore\n",
    "\n",
    "\n",
    "pandas.set_option('display.max_columns', None)\n",
    "#pandas.set_option('display.max_rows', None)\n",
    "\n",
    "\n",
    "import sys\n",
    "sys.path.append('../../TaskExecutionTimeMining/')\n",
    "from drbart_parser import *\n",
    "from event_log_transformer import *\n",
    "\n",
    "#sys.path.append('../../Evaluation')\n",
    "sys.path.append('../../Evaluation/')\n",
    "from PCR_evaluation.dumas_evaluation import *"
   ]
  },
  {
   "cell_type": "code",
   "execution_count": 2,
   "id": "5dc939fc-0a9d-48a2-9baa-7e5625107e39",
   "metadata": {},
   "outputs": [
    {
     "name": "stderr",
     "output_type": "stream",
     "text": [
      "/tmp/ipykernel_1061740/2720744415.py:2: DeprecationWarning: numpy.core.numeric is deprecated and has been renamed to numpy._core.numeric. The numpy._core namespace contains private NumPy internals and its use is discouraged, as NumPy internals can change without warning in any release. In practice, most real-world usage of numpy.core is to access functionality in the public NumPy API. If that is the case, use the public NumPy API. If not, you are using NumPy internals. If you would still like to access an internal attribute, use numpy._core.numeric._frombuffer.\n",
      "  test_event_log = pickle.load(f)\n"
     ]
    }
   ],
   "source": [
    "with open('../transformed_event_logs/PCR_start_end_test.pickle', 'rb') as f:\n",
    "    test_event_log = pickle.load(f)"
   ]
  },
  {
   "cell_type": "code",
   "execution_count": 3,
   "id": "2a14cd35-1bfb-4edb-a0c8-3fdfe860f77a",
   "metadata": {},
   "outputs": [],
   "source": [
    "with open('../../../models/pcr_dumas/dumas_model.pickle', 'rb') as f:\n",
    "    dumas_model = pickle.load(f)"
   ]
  },
  {
   "cell_type": "code",
   "execution_count": 4,
   "id": "8bd03e2c-c0a3-4055-b399-9e6f6c6c231d",
   "metadata": {},
   "outputs": [],
   "source": [
    "import conduct_evaluation\n",
    "#sample_dumas = SampleOutcomes_Dumas_Normal(test_event_log, dumas_model)\n",
    "\n",
    "evaluator = conduct_evaluation.ConductEvaluation(dumas_model, SampleOutcomes_Dumas_Normal, {},\n",
    "                                     test_event_log, n=10000)"
   ]
  },
  {
   "cell_type": "code",
   "execution_count": null,
   "id": "26bd0083-dfd2-4940-a29f-d1eda47afa16",
   "metadata": {},
   "outputs": [
    {
     "name": "stderr",
     "output_type": "stream",
     "text": [
      "  6%|███████▋                                                                                                                           | 72/1235 [13:47<3:34:11, 11.05s/it]"
     ]
    }
   ],
   "source": [
    "likelihoods = evaluator.sample_cases(plot_cases=False, multiprocessing=False)"
   ]
  },
  {
   "cell_type": "code",
   "execution_count": null,
   "id": "a64614d8-93c5-4053-96e9-e02388793e81",
   "metadata": {},
   "outputs": [],
   "source": [
    "exclude = list(filter(lambda k : k[1]==0, likelihoods[0].items()))"
   ]
  },
  {
   "cell_type": "code",
   "execution_count": null,
   "id": "2b598c3b-b56a-4b9a-bfd0-fa4a696c11e4",
   "metadata": {},
   "outputs": [],
   "source": [
    "exclude"
   ]
  },
  {
   "cell_type": "code",
   "execution_count": null,
   "id": "0685a2f1-ee9f-4012-9df1-ecbd9ce13fa3",
   "metadata": {},
   "outputs": [],
   "source": [
    "np.sum(np.log(np.array(list(likelihoods[0].values()))))"
   ]
  },
  {
   "cell_type": "code",
   "execution_count": null,
   "id": "ba43d2be-02fe-4aa1-9169-c580828950b4",
   "metadata": {},
   "outputs": [],
   "source": [
    "get_pscores = lambda likelihoods : [pscore(likelihoods[1][i], likelihoods[2][k][3]).compute()[0] for i, k in enumerate(list(likelihoods[0].keys()))]\n",
    "\n",
    "np.mean(get_pscores(likelihoods))"
   ]
  }
 ],
 "metadata": {
  "kernelspec": {
   "display_name": "Python 3 (ipykernel)",
   "language": "python",
   "name": "python3"
  },
  "language_info": {
   "codemirror_mode": {
    "name": "ipython",
    "version": 3
   },
   "file_extension": ".py",
   "mimetype": "text/x-python",
   "name": "python",
   "nbconvert_exporter": "python",
   "pygments_lexer": "ipython3",
   "version": "3.10.13+"
  }
 },
 "nbformat": 4,
 "nbformat_minor": 5
}
