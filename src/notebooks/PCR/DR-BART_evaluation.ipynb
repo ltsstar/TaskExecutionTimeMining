{
 "cells": [
  {
   "cell_type": "code",
   "execution_count": 1,
   "id": "b76fb6b4-b5bb-4ed9-b3f5-2d35b620297d",
   "metadata": {},
   "outputs": [],
   "source": [
    "import numpy as np\n",
    "import pandas\n",
    "import pm4py\n",
    "from matplotlib import pyplot as plt\n",
    "from sklearn.mixture import GaussianMixture\n",
    "import scipy.stats as stats\n",
    "import ot\n",
    "import os\n",
    "from tqdm import tqdm\n",
    "import collections\n",
    "import matplotlib.dates as md\n",
    "import importlib\n",
    "import pickle\n",
    "import random\n",
    "import math\n",
    "\n",
    "pandas.set_option('display.max_columns', None)\n",
    "#pandas.set_option('display.max_rows', None)\n",
    "\n",
    "\n",
    "import sys\n",
    "sys.path.append('../../TaskExecutionTimeMining/')\n",
    "from drbart_parser import *\n",
    "from event_log_transformer import *\n",
    "\n",
    "#sys.path.append('../../Evaluation')\n",
    "sys.path.append('../../Evaluation/')\n",
    "from PCR_evaluation.drbart_evaluation import *"
   ]
  },
  {
   "cell_type": "code",
   "execution_count": 2,
   "id": "947bebfa-e936-4dfa-8fb9-74a358dcfd1f",
   "metadata": {},
   "outputs": [],
   "source": [
    "with open('../transformed_event_logs/PCR_start_end_test.pickle', 'rb') as f:\n",
    "    test_event_log = pickle.load(f)\n",
    "\n",
    "#test_event_log['time:timestamp'] = test_event_log['time:timestamp_complete']\n",
    "test_event_log['case:concept:name'] = test_event_log['case:concept:name'].astype(str)"
   ]
  },
  {
   "cell_type": "code",
   "execution_count": 3,
   "id": "58c47d35-5bf5-4643-a5b2-9618cfc0f045",
   "metadata": {},
   "outputs": [
    {
     "name": "stderr",
     "output_type": "stream",
     "text": [
      "  1%|██▌                                                                                                                                                                                        | 17/1235 [11:00<13:08:32, 38.84s/it]\n"
     ]
    },
    {
     "ename": "KeyboardInterrupt",
     "evalue": "",
     "output_type": "error",
     "traceback": [
      "\u001b[0;31m---------------------------------------------------------------------------\u001b[0m",
      "\u001b[0;31mKeyboardInterrupt\u001b[0m                         Traceback (most recent call last)",
      "Cell \u001b[0;32mIn[3], line 7\u001b[0m\n\u001b[1;32m      3\u001b[0m drbart_model_A \u001b[38;5;241m=\u001b[39m DRBART(parser_dir \u001b[38;5;241m=\u001b[39m \u001b[38;5;124m'\u001b[39m\u001b[38;5;124m../../../models/pcr/concept-name/\u001b[39m\u001b[38;5;124m'\u001b[39m,\n\u001b[1;32m      4\u001b[0m                      strict_parser\u001b[38;5;241m=\u001b[39m\u001b[38;5;28;01mFalse\u001b[39;00m)\n\u001b[1;32m      5\u001b[0m evaluator_A \u001b[38;5;241m=\u001b[39m conduct_evaluation\u001b[38;5;241m.\u001b[39mConductEvaluation(drbart_model_A, SampleOutcomes_DRBART_PCR_A, {},\n\u001b[1;32m      6\u001b[0m                                      test_event_log)\n\u001b[0;32m----> 7\u001b[0m likelihoods_A \u001b[38;5;241m=\u001b[39m \u001b[43mevaluator_A\u001b[49m\u001b[38;5;241;43m.\u001b[39;49m\u001b[43msample_cases\u001b[49m\u001b[43m(\u001b[49m\u001b[38;5;28;43;01mFalse\u001b[39;49;00m\u001b[43m)\u001b[49m\n\u001b[1;32m      9\u001b[0m drbart_model_A_S \u001b[38;5;241m=\u001b[39m DRBART(parser_dir \u001b[38;5;241m=\u001b[39m \u001b[38;5;124m'\u001b[39m\u001b[38;5;124m../../../models/pcr/concept-name_seconds-in-day/\u001b[39m\u001b[38;5;124m'\u001b[39m,\n\u001b[1;32m     10\u001b[0m                      strict_parser\u001b[38;5;241m=\u001b[39m\u001b[38;5;28;01mFalse\u001b[39;00m)\n\u001b[1;32m     11\u001b[0m evaluator_A_S \u001b[38;5;241m=\u001b[39m conduct_evaluation\u001b[38;5;241m.\u001b[39mConductEvaluation(drbart_model_A_S, SampleOutcomes_DRBART_PCR_A_S, {},\n\u001b[1;32m     12\u001b[0m                                      test_event_log)\n",
      "File \u001b[0;32m~/Documents/TaskExecutionTimeMining/src/notebooks/PCR/../../Evaluation/conduct_evaluation.py:72\u001b[0m, in \u001b[0;36mConductEvaluation.sample_cases\u001b[0;34m(self, plot_cases)\u001b[0m\n\u001b[1;32m     69\u001b[0m real_start_time_ts \u001b[38;5;241m=\u001b[39m \u001b[38;5;28mself\u001b[39m\u001b[38;5;241m.\u001b[39m_get_real_start_time(case_log)\n\u001b[1;32m     70\u001b[0m real_end_time_ts \u001b[38;5;241m=\u001b[39m \u001b[38;5;28mself\u001b[39m\u001b[38;5;241m.\u001b[39m_get_real_end_time(case_log)\n\u001b[0;32m---> 72\u001b[0m case_samples \u001b[38;5;241m=\u001b[39m [\u001b[38;5;28;43mself\u001b[39;49m\u001b[38;5;241;43m.\u001b[39;49m\u001b[43msample_model\u001b[49m\u001b[38;5;241;43m.\u001b[39;49m\u001b[43msample_case\u001b[49m\u001b[43m(\u001b[49m\u001b[43mcase_name\u001b[49m\u001b[43m)\u001b[49m \u001b[38;5;28;01mfor\u001b[39;00m i \u001b[38;5;129;01min\u001b[39;00m \u001b[38;5;28mrange\u001b[39m(\u001b[38;5;28mself\u001b[39m\u001b[38;5;241m.\u001b[39mn)]\n\u001b[1;32m     73\u001b[0m likelihood \u001b[38;5;241m=\u001b[39m \u001b[38;5;28mself\u001b[39m\u001b[38;5;241m.\u001b[39m_get_kde_from_samples(case_samples, real_end_time_ts)\n\u001b[1;32m     75\u001b[0m \u001b[38;5;28;01mif\u001b[39;00m plot_cases:\n",
      "File \u001b[0;32m~/Documents/TaskExecutionTimeMining/src/notebooks/PCR/../../Evaluation/PCR_evaluation/normal_evaluation.py:64\u001b[0m, in \u001b[0;36mSampleOutcomes_PCR.sample_case\u001b[0;34m(self, case_name)\u001b[0m\n\u001b[1;32m     62\u001b[0m case_log \u001b[38;5;241m=\u001b[39m \u001b[38;5;28mself\u001b[39m\u001b[38;5;241m.\u001b[39mevent_log[\u001b[38;5;28mself\u001b[39m\u001b[38;5;241m.\u001b[39mevent_log[\u001b[38;5;124m'\u001b[39m\u001b[38;5;124mcase:concept:name\u001b[39m\u001b[38;5;124m'\u001b[39m] \u001b[38;5;241m==\u001b[39m case_name]\n\u001b[1;32m     63\u001b[0m start_time \u001b[38;5;241m=\u001b[39m case_log[\u001b[38;5;124m'\u001b[39m\u001b[38;5;124mtime:timestamp_start\u001b[39m\u001b[38;5;124m'\u001b[39m]\u001b[38;5;241m.\u001b[39mmin()\u001b[38;5;241m.\u001b[39mtimestamp()\n\u001b[0;32m---> 64\u001b[0m \u001b[38;5;28;01mreturn\u001b[39;00m \u001b[38;5;28;43mself\u001b[39;49m\u001b[38;5;241;43m.\u001b[39;49m\u001b[43msample_end_time\u001b[49m\u001b[43m(\u001b[49m\u001b[43mcase_log\u001b[49m\u001b[43m,\u001b[49m\u001b[43m \u001b[49m\u001b[43mstart_time\u001b[49m\u001b[43m)\u001b[49m\n",
      "File \u001b[0;32m~/Documents/TaskExecutionTimeMining/src/notebooks/PCR/../../Evaluation/PCR_evaluation/normal_evaluation.py:53\u001b[0m, in \u001b[0;36mSampleOutcomes_PCR.sample_end_time\u001b[0;34m(self, case_log, start_time)\u001b[0m\n\u001b[1;32m     45\u001b[0m     duration \u001b[38;5;241m=\u001b[39m \u001b[38;5;28mself\u001b[39m\u001b[38;5;241m.\u001b[39msample_duration(seconds_in_day \u001b[38;5;241m=\u001b[39m seconds_in_day,\n\u001b[1;32m     46\u001b[0m                                     resource \u001b[38;5;241m=\u001b[39m \u001b[38;5;28;01mNone\u001b[39;00m,\n\u001b[1;32m     47\u001b[0m                                     concept_name \u001b[38;5;241m=\u001b[39m event_name,\n\u001b[0;32m   (...)\u001b[0m\n\u001b[1;32m     50\u001b[0m                                     day_of_week \u001b[38;5;241m=\u001b[39m day_of_week\n\u001b[1;32m     51\u001b[0m                )\n\u001b[1;32m     52\u001b[0m     finish_times[event_name] \u001b[38;5;241m=\u001b[39m prev_finish_ts \u001b[38;5;241m+\u001b[39m duration\n\u001b[0;32m---> 53\u001b[0m     durations[event_name] \u001b[38;5;241m=\u001b[39m duration\n\u001b[1;32m     54\u001b[0m \u001b[38;5;66;03m#finish_time = max(finish_times['timeout'], finish_times['Send notification'], finish_times['Callback timeout'])\u001b[39;00m\n\u001b[1;32m     55\u001b[0m finish_time \u001b[38;5;241m=\u001b[39m \u001b[38;5;28mmax\u001b[39m(finish_times\u001b[38;5;241m.\u001b[39mvalues())\n",
      "\u001b[0;31mKeyboardInterrupt\u001b[0m: "
     ]
    }
   ],
   "source": [
    "import conduct_evaluation\n",
    "\n",
    "drbart_model_A = DRBART(parser_dir = '../../../models/pcr/concept-name/',\n",
    "                     strict_parser=False)\n",
    "evaluator_A = conduct_evaluation.ConductEvaluation(drbart_model_A, SampleOutcomes_DRBART_PCR_A, {},\n",
    "                                     test_event_log)\n",
    "likelihoods_A = evaluator_A.sample_cases(False)\n",
    "\n",
    "drbart_model_A_S = DRBART(parser_dir = '../../../models/pcr/concept-name_seconds-in-day/',\n",
    "                     strict_parser=False)\n",
    "evaluator_A_S = conduct_evaluation.ConductEvaluation(drbart_model_A_S, SampleOutcomes_DRBART_PCR_A_S, {},\n",
    "                                     test_event_log)\n",
    "likelihoods_A_S = evaluator_A_S.sample_cases(False)"
   ]
  },
  {
   "cell_type": "code",
   "execution_count": null,
   "id": "58516d14-faf0-423f-87e9-ca0d1ff28926",
   "metadata": {},
   "outputs": [],
   "source": [
    "lieklihoods.values()"
   ]
  },
  {
   "cell_type": "code",
   "execution_count": null,
   "id": "12280f97-25cc-4934-869b-3cd049caa211",
   "metadata": {},
   "outputs": [],
   "source": [
    "filtered_likelihood = dict(filter(lambda i : (lambda k,v: v!=0)(i[0], i[1]), lieklihoods.items()))"
   ]
  },
  {
   "cell_type": "code",
   "execution_count": null,
   "id": "09f6c0d9-0e13-4085-a6be-fee2aaa2b7af",
   "metadata": {},
   "outputs": [],
   "source": [
    "sum([math.log(lieklihood) for lieklihood in filtered_likelihood.values()])"
   ]
  },
  {
   "cell_type": "code",
   "execution_count": null,
   "id": "99d3eb3c-96be-4d1b-b3e6-0c84821b3d44",
   "metadata": {},
   "outputs": [],
   "source": [
    "lieklihoods.items()"
   ]
  },
  {
   "cell_type": "code",
   "execution_count": null,
   "id": "51806c7f-bbb4-43ea-a624-6b9c7d3b2a96",
   "metadata": {},
   "outputs": [],
   "source": [
    "sum([math.log(lieklihood) for lieklihood in lieklihoods.values()])"
   ]
  },
  {
   "cell_type": "code",
   "execution_count": null,
   "id": "928dc38e-fa5e-4f37-bfef-a1bdf0729c34",
   "metadata": {},
   "outputs": [],
   "source": [
    "known_activities = list(test_event_log['concept:name'].unique())\n",
    "print(len(known_activities))"
   ]
  },
  {
   "cell_type": "code",
   "execution_count": null,
   "id": "98a8ad48-08db-49e7-b6e6-634232b2eb4a",
   "metadata": {},
   "outputs": [],
   "source": [
    "known_activities = ['Callback.timeout', 'Export.result', 'Export.to.EMS', 'Match.patient.data', 'Receive.sample.state', 'Send.notification', 'Wait.for.plate.validation', 'timeout']\n",
    "print(len(known_activities))"
   ]
  },
  {
   "cell_type": "code",
   "execution_count": null,
   "id": "a600d790-666a-4fff-971b-11e9bcdcde5f",
   "metadata": {},
   "outputs": [],
   "source": [
    "lieklihoods"
   ]
  }
 ],
 "metadata": {
  "kernelspec": {
   "display_name": "Python 3 (ipykernel)",
   "language": "python",
   "name": "python3"
  },
  "language_info": {
   "codemirror_mode": {
    "name": "ipython",
    "version": 3
   },
   "file_extension": ".py",
   "mimetype": "text/x-python",
   "name": "python",
   "nbconvert_exporter": "python",
   "pygments_lexer": "ipython3",
   "version": "3.12.7"
  }
 },
 "nbformat": 4,
 "nbformat_minor": 5
}
