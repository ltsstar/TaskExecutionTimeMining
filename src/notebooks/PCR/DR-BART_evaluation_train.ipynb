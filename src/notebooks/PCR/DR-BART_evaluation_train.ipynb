{
 "cells": [
  {
   "cell_type": "code",
   "execution_count": null,
   "id": "b76fb6b4-b5bb-4ed9-b3f5-2d35b620297d",
   "metadata": {
    "execution": {
     "iopub.execute_input": "2024-11-04T21:04:26.455307Z",
     "iopub.status.busy": "2024-11-04T21:04:26.454124Z",
     "iopub.status.idle": "2024-11-04T21:04:28.595528Z",
     "shell.execute_reply": "2024-11-04T21:04:28.594050Z"
    }
   },
   "outputs": [],
   "source": [
    "import numpy as np\n",
    "import pandas\n",
    "import pm4py\n",
    "from matplotlib import pyplot as plt\n",
    "from sklearn.mixture import GaussianMixture\n",
    "import scipy.stats as stats\n",
    "import ot\n",
    "import os\n",
    "from tqdm import tqdm\n",
    "import collections\n",
    "import matplotlib.dates as md\n",
    "import importlib\n",
    "import pickle\n",
    "import random\n",
    "import math\n",
    "import CRPS.CRPS as pscore\n",
    "import datetime\n",
    "\n",
    "pandas.set_option('display.max_columns', None)\n",
    "#pandas.set_option('display.max_rows', None)\n",
    "\n",
    "\n",
    "import sys\n",
    "sys.path.append('../../TaskExecutionTimeMining/')\n",
    "from drbart_parser import *\n",
    "from event_log_transformer import *\n",
    "\n",
    "#sys.path.append('../../Evaluation')\n",
    "sys.path.append('../../Evaluation/')\n",
    "from PCR_evaluation.drbart_evaluation import *"
   ]
  },
  {
   "cell_type": "code",
   "execution_count": null,
   "id": "947bebfa-e936-4dfa-8fb9-74a358dcfd1f",
   "metadata": {
    "execution": {
     "iopub.execute_input": "2024-11-04T21:04:28.601510Z",
     "iopub.status.busy": "2024-11-04T21:04:28.601037Z",
     "iopub.status.idle": "2024-11-04T21:04:28.622250Z",
     "shell.execute_reply": "2024-11-04T21:04:28.620850Z"
    }
   },
   "outputs": [],
   "source": [
    "log_name = 'train'\n",
    "with open('../transformed_event_logs/PCR_start_end_'+log_name+'.pickle', 'rb') as f:\n",
    "    test_event_log = pickle.load(f)\n",
    "\n",
    "#test_event_log['time:timestamp'] = test_event_log['time:timestamp_complete']\n",
    "test_event_log['case:concept:name'] = test_event_log['case:concept:name'].astype(str)"
   ]
  },
  {
   "cell_type": "code",
   "execution_count": null,
   "id": "b5035e82-57d7-466f-bedf-c2520361b5e2",
   "metadata": {
    "execution": {
     "iopub.execute_input": "2024-11-04T21:04:28.627898Z",
     "iopub.status.busy": "2024-11-04T21:04:28.627635Z",
     "iopub.status.idle": "2024-11-04T21:04:28.635159Z",
     "shell.execute_reply": "2024-11-04T21:04:28.633868Z"
    }
   },
   "outputs": [],
   "source": [
    "N = 1000\n",
    "import conduct_evaluation\n"
   ]
  },
  {
   "cell_type": "code",
   "execution_count": null,
   "id": "58c47d35-5bf5-4643-a5b2-9618cfc0f045",
   "metadata": {
    "execution": {
     "iopub.execute_input": "2024-11-04T21:04:28.639770Z",
     "iopub.status.busy": "2024-11-04T21:04:28.639511Z",
     "iopub.status.idle": "2024-11-04T21:34:54.401884Z",
     "shell.execute_reply": "2024-11-04T21:34:54.400687Z"
    }
   },
   "outputs": [],
   "source": [
    "drbart_model_A = DRBART(parser_dir = '../../../models/pcr/concept-name/',\n",
    "                     strict_parser=True)\n",
    "evaluator_A = conduct_evaluation.ConductEvaluation(drbart_model_A, SampleOutcomes_DRBART_PCR_A, {},\n",
    "                                     test_event_log, n=N)\n",
    "likelihoods_A = evaluator_A.sample_cases(False)"
   ]
  },
  {
   "cell_type": "code",
   "execution_count": null,
   "id": "f2d16c44-6feb-4bb8-bb9c-8c57aa84951e",
   "metadata": {
    "execution": {
     "iopub.execute_input": "2024-11-04T21:34:54.408390Z",
     "iopub.status.busy": "2024-11-04T21:34:54.408136Z",
     "iopub.status.idle": "2024-11-04T21:34:54.419407Z",
     "shell.execute_reply": "2024-11-04T21:34:54.418409Z"
    }
   },
   "outputs": [],
   "source": [
    "exclude_A = list(filter(lambda k : k[1]==0, likelihoods_A[0].items()))\n",
    "exclude_A"
   ]
  },
  {
   "cell_type": "code",
   "execution_count": null,
   "id": "831debb8-db1e-4739-96a4-af9909b1e3d0",
   "metadata": {
    "execution": {
     "iopub.execute_input": "2024-11-04T21:34:54.424169Z",
     "iopub.status.busy": "2024-11-04T21:34:54.423894Z",
     "iopub.status.idle": "2024-11-04T21:34:54.466406Z",
     "shell.execute_reply": "2024-11-04T21:34:54.465442Z"
    }
   },
   "outputs": [],
   "source": [
    "sum([v.ln() for v in likelihoods_A[0].values()])"
   ]
  },
  {
   "cell_type": "code",
   "execution_count": null,
   "id": "15dfd50d-caaf-4d1b-86b7-9c128ee41681",
   "metadata": {
    "execution": {
     "iopub.execute_input": "2024-11-04T21:34:54.472214Z",
     "iopub.status.busy": "2024-11-04T21:34:54.472011Z",
     "iopub.status.idle": "2024-11-04T21:34:54.477598Z",
     "shell.execute_reply": "2024-11-04T21:34:54.476512Z"
    }
   },
   "outputs": [],
   "source": [
    "get_pscores = lambda likelihoods : [pscore(likelihoods[1][i], likelihoods[2][k][3]).compute()[0] for i, k in enumerate(list(likelihoods[0].keys()))]"
   ]
  },
  {
   "cell_type": "code",
   "execution_count": null,
   "id": "f179d2cd-cddf-4f2f-af43-1de0979719db",
   "metadata": {
    "execution": {
     "iopub.execute_input": "2024-11-04T21:34:54.481927Z",
     "iopub.status.busy": "2024-11-04T21:34:54.481698Z",
     "iopub.status.idle": "2024-11-04T21:34:55.677909Z",
     "shell.execute_reply": "2024-11-04T21:34:55.676809Z"
    }
   },
   "outputs": [],
   "source": [
    "np.mean(get_pscores(likelihoods_A))"
   ]
  },
  {
   "cell_type": "code",
   "execution_count": null,
   "id": "1cc0bcf7-c36a-4d54-8355-20de939d1503",
   "metadata": {
    "execution": {
     "iopub.execute_input": "2024-11-04T21:34:55.683080Z",
     "iopub.status.busy": "2024-11-04T21:34:55.682852Z",
     "iopub.status.idle": "2024-11-04T22:54:15.282404Z",
     "shell.execute_reply": "2024-11-04T22:54:15.280597Z"
    }
   },
   "outputs": [],
   "source": [
    "drbart_model_A_S = DRBART(parser_dir = '../../../models/pcr/concept-name_seconds-in-day/',\n",
    "                     strict_parser=True)\n",
    "evaluator_A_S = conduct_evaluation.ConductEvaluation(drbart_model_A_S, SampleOutcomes_DRBART_PCR_A_S, {},\n",
    "                                     test_event_log, n=N)\n",
    "likelihoods_A_S = evaluator_A_S.sample_cases(False)"
   ]
  },
  {
   "cell_type": "code",
   "execution_count": null,
   "id": "d34a2a32-5a4e-49ac-a186-ccd9a8106933",
   "metadata": {
    "execution": {
     "iopub.execute_input": "2024-11-04T22:54:15.289116Z",
     "iopub.status.busy": "2024-11-04T22:54:15.288884Z",
     "iopub.status.idle": "2024-11-04T22:54:15.298369Z",
     "shell.execute_reply": "2024-11-04T22:54:15.296870Z"
    }
   },
   "outputs": [],
   "source": [
    "exclude_A_S = list(filter(lambda k : k[1]==0, likelihoods_A_S[0].items()))\n",
    "exclude_A_S"
   ]
  },
  {
   "cell_type": "code",
   "execution_count": null,
   "id": "2aaeb5cc-699e-4ea4-b8f5-712b38be4a56",
   "metadata": {
    "execution": {
     "iopub.execute_input": "2024-11-04T22:54:15.303980Z",
     "iopub.status.busy": "2024-11-04T22:54:15.303665Z",
     "iopub.status.idle": "2024-11-04T22:54:15.344109Z",
     "shell.execute_reply": "2024-11-04T22:54:15.343143Z"
    }
   },
   "outputs": [],
   "source": [
    "sum([v.ln() for v in likelihoods_A_S[0].values()])"
   ]
  },
  {
   "cell_type": "code",
   "execution_count": null,
   "id": "778f87f1-6aec-4ca2-bfad-9cba903e3576",
   "metadata": {
    "execution": {
     "iopub.execute_input": "2024-11-04T22:54:15.350006Z",
     "iopub.status.busy": "2024-11-04T22:54:15.349822Z",
     "iopub.status.idle": "2024-11-04T22:54:16.434710Z",
     "shell.execute_reply": "2024-11-04T22:54:16.433144Z"
    }
   },
   "outputs": [],
   "source": [
    "np.mean(get_pscores(likelihoods_A_S))"
   ]
  },
  {
   "cell_type": "code",
   "execution_count": null,
   "id": "50beeceb-33bc-41ed-8f40-9a84e46e7b59",
   "metadata": {
    "execution": {
     "iopub.execute_input": "2024-11-04T22:54:16.440557Z",
     "iopub.status.busy": "2024-11-04T22:54:16.440262Z",
     "iopub.status.idle": "2024-11-05T01:52:04.743630Z",
     "shell.execute_reply": "2024-11-05T01:52:04.742312Z"
    }
   },
   "outputs": [],
   "source": [
    "drbart_model_A_S_D = DRBART(parser_dir = '../../../models/pcr/concept-name_seconds-in-day_day-of-week/',\n",
    "                     strict_parser=True)\n",
    "evaluator_A_S_D = conduct_evaluation.ConductEvaluation(drbart_model_A_S_D, SampleOutcomes_DRBART_PCR_A_S_D, {},\n",
    "                                     test_event_log, n=N)\n",
    "likelihoods_A_S_D = evaluator_A_S_D.sample_cases(False)"
   ]
  },
  {
   "cell_type": "code",
   "execution_count": null,
   "id": "3b7a89ab-0ab5-4d79-97c7-c816fb660521",
   "metadata": {
    "execution": {
     "iopub.execute_input": "2024-11-05T01:52:04.751160Z",
     "iopub.status.busy": "2024-11-05T01:52:04.750153Z",
     "iopub.status.idle": "2024-11-05T01:52:04.759095Z",
     "shell.execute_reply": "2024-11-05T01:52:04.757840Z"
    }
   },
   "outputs": [],
   "source": [
    "exclude_A_S_D = list(filter(lambda k : k[1]==0, likelihoods_A_S_D[0].items()))\n",
    "exclude_A_S_D"
   ]
  },
  {
   "cell_type": "code",
   "execution_count": null,
   "id": "9c595620-2a70-4d02-b4fc-b82a87e8c66b",
   "metadata": {
    "execution": {
     "iopub.execute_input": "2024-11-05T01:52:04.764199Z",
     "iopub.status.busy": "2024-11-05T01:52:04.764003Z",
     "iopub.status.idle": "2024-11-05T01:52:04.804730Z",
     "shell.execute_reply": "2024-11-05T01:52:04.803534Z"
    }
   },
   "outputs": [],
   "source": [
    "sum([v.ln() for v in likelihoods_A_S_D[0].values()])"
   ]
  },
  {
   "cell_type": "code",
   "execution_count": null,
   "id": "d1ca0f29-97e6-439a-91ac-b02a87c3bdaf",
   "metadata": {
    "execution": {
     "iopub.execute_input": "2024-11-05T01:52:04.809321Z",
     "iopub.status.busy": "2024-11-05T01:52:04.809121Z",
     "iopub.status.idle": "2024-11-05T01:52:05.869278Z",
     "shell.execute_reply": "2024-11-05T01:52:05.867914Z"
    }
   },
   "outputs": [],
   "source": [
    "np.mean(get_pscores(likelihoods_A_S_D))"
   ]
  },
  {
   "cell_type": "code",
   "execution_count": null,
   "id": "cf6e1732-5330-4358-9d32-aa0fd4267a86",
   "metadata": {
    "execution": {
     "iopub.execute_input": "2024-11-05T01:52:05.874072Z",
     "iopub.status.busy": "2024-11-05T01:52:05.873842Z",
     "iopub.status.idle": "2024-11-05T05:22:10.899117Z",
     "shell.execute_reply": "2024-11-05T05:22:10.898335Z"
    }
   },
   "outputs": [],
   "source": [
    "drbart_model_A_S_AC = DRBART(parser_dir = '../../../models/pcr/concept-name_seconds-in-day_activity-count/',\n",
    "                     strict_parser=True)\n",
    "evaluator_A_S_AC = conduct_evaluation.ConductEvaluation(drbart_model_A_S_AC, SampleOutcomes_DRBART_PCR_A_S_AC, {},\n",
    "                                     test_event_log, n=N)\n",
    "likelihoods_A_S_AC = evaluator_A_S_AC.sample_cases(False)"
   ]
  },
  {
   "cell_type": "code",
   "execution_count": null,
   "id": "a27b7c7a-7858-4f4a-be47-e0ec41003d31",
   "metadata": {
    "execution": {
     "iopub.execute_input": "2024-11-05T05:22:10.905445Z",
     "iopub.status.busy": "2024-11-05T05:22:10.905162Z",
     "iopub.status.idle": "2024-11-05T05:22:12.087786Z",
     "shell.execute_reply": "2024-11-05T05:22:12.086668Z"
    }
   },
   "outputs": [],
   "source": [
    "cases = test_event_log['case:concept:name'].unique()\n",
    "case_data = dict([(case_name, evaluator_A_S_AC.get_case_data(case_name)) for case_name in cases])"
   ]
  },
  {
   "cell_type": "code",
   "execution_count": null,
   "id": "99dcaab7-c775-47e9-8d4b-f59f67d96127",
   "metadata": {
    "execution": {
     "iopub.execute_input": "2024-11-05T05:22:12.094001Z",
     "iopub.status.busy": "2024-11-05T05:22:12.093773Z",
     "iopub.status.idle": "2024-11-05T05:22:12.101699Z",
     "shell.execute_reply": "2024-11-05T05:22:12.100462Z"
    }
   },
   "outputs": [],
   "source": [
    "exclude_A_S_AC = list(filter(lambda k : k[1]==0, likelihoods_A_S_AC[0].items()))\n",
    "exclude_A_S_AC"
   ]
  },
  {
   "cell_type": "code",
   "execution_count": null,
   "id": "f033a067-7f1d-4b3b-8f17-b582052120d3",
   "metadata": {
    "execution": {
     "iopub.execute_input": "2024-11-05T05:22:12.106625Z",
     "iopub.status.busy": "2024-11-05T05:22:12.106367Z",
     "iopub.status.idle": "2024-11-05T05:22:12.150891Z",
     "shell.execute_reply": "2024-11-05T05:22:12.149903Z"
    }
   },
   "outputs": [],
   "source": [
    "sum([v.ln() for v in likelihoods_A_S_AC[0].values()])"
   ]
  },
  {
   "cell_type": "code",
   "execution_count": null,
   "id": "1b8200d1-6fb9-4e72-8e14-be26a56c58e8",
   "metadata": {
    "execution": {
     "iopub.execute_input": "2024-11-05T05:22:12.156236Z",
     "iopub.status.busy": "2024-11-05T05:22:12.156043Z",
     "iopub.status.idle": "2024-11-05T05:22:13.227534Z",
     "shell.execute_reply": "2024-11-05T05:22:13.226474Z"
    }
   },
   "outputs": [],
   "source": [
    "np.mean(get_pscores(likelihoods_A_S_AC))"
   ]
  },
  {
   "cell_type": "code",
   "execution_count": null,
   "id": "dc7170cb-b4a1-4725-b14f-37b3311e2e27",
   "metadata": {
    "execution": {
     "iopub.execute_input": "2024-11-05T05:22:13.232936Z",
     "iopub.status.busy": "2024-11-05T05:22:13.232710Z",
     "iopub.status.idle": "2024-11-05T05:22:13.892848Z",
     "shell.execute_reply": "2024-11-05T05:22:13.888741Z"
    }
   },
   "outputs": [],
   "source": [
    "results = {\n",
    "    'drbart_model_A' : likelihoods_A,\n",
    "    'drbart_model_A_S' : likelihoods_A_S,\n",
    "    'drbart_model_A_S_D' : likelihoods_A_S_D,\n",
    "    'drbart_model_A_S_AC' : likelihoods_A_S_AC\n",
    "}\n",
    "with open('./pcr_dr_bart_evaluation_'+log_name+'.pickle', 'wb') as handle:\n",
    "    pickle.dump(results, handle)"
   ]
  },
  {
   "cell_type": "code",
   "execution_count": null,
   "id": "38f236f4-ad2c-47d7-9def-8ee991e851ac",
   "metadata": {
    "execution": {
     "iopub.execute_input": "2024-11-05T05:22:13.908293Z",
     "iopub.status.busy": "2024-11-05T05:22:13.906484Z",
     "iopub.status.idle": "2024-11-05T05:22:16.003555Z",
     "shell.execute_reply": "2024-11-05T05:22:16.002418Z"
    }
   },
   "outputs": [],
   "source": [
    "with open('./pcr_dr_bart_evaluation_'+log_name+'.pickle', 'rb') as handle:\n",
    "    results = pickle.load(handle)"
   ]
  },
  {
   "cell_type": "code",
   "execution_count": null,
   "id": "ef2db493-9881-412d-addf-dccc69734093",
   "metadata": {
    "execution": {
     "iopub.execute_input": "2024-11-05T05:22:16.009167Z",
     "iopub.status.busy": "2024-11-05T05:22:16.008949Z",
     "iopub.status.idle": "2024-11-05T05:22:16.040652Z",
     "shell.execute_reply": "2024-11-05T05:22:16.039631Z"
    }
   },
   "outputs": [],
   "source": [
    "likelihoods_A_S_D = results['drbart_model_A_S_D']"
   ]
  },
  {
   "cell_type": "code",
   "execution_count": null,
   "id": "b7af6d7c-1a21-4184-9949-985da8d4ea46",
   "metadata": {},
   "outputs": [],
   "source": []
  }
 ],
 "metadata": {
  "kernelspec": {
   "display_name": "Python 3 (ipykernel)",
   "language": "python",
   "name": "python3"
  },
  "language_info": {
   "codemirror_mode": {
    "name": "ipython",
    "version": 3
   },
   "file_extension": ".py",
   "mimetype": "text/x-python",
   "name": "python",
   "nbconvert_exporter": "python",
   "pygments_lexer": "ipython3",
   "version": "3.10.13+"
  }
 },
 "nbformat": 4,
 "nbformat_minor": 5
}
