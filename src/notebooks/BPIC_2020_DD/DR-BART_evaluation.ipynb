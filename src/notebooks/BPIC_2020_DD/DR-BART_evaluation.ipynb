{
 "cells": [
  {
   "cell_type": "code",
   "execution_count": 1,
   "id": "91f4fdc2-887c-4855-bfef-225c17e0b6c6",
   "metadata": {},
   "outputs": [],
   "source": [
    "import numpy as np\n",
    "import pandas\n",
    "import pm4py\n",
    "from matplotlib import pyplot as plt\n",
    "from sklearn.mixture import GaussianMixture\n",
    "import scipy.stats as stats\n",
    "import ot\n",
    "import os\n",
    "from tqdm import tqdm\n",
    "import collections\n",
    "import matplotlib.dates as md\n",
    "import importlib\n",
    "import pickle\n",
    "\n",
    "import sys\n",
    "sys.path.append('../../TaskExecutionTimeMining/')\n",
    "from drbart_parser import *\n",
    "from event_log_transformer import *\n",
    "\n",
    "#sys.path.append('../../Evaluation')\n",
    "sys.path.append('../../Evaluation/')\n",
    "from normal_evaluation.drbart_evaluation import *"
   ]
  },
  {
   "cell_type": "code",
   "execution_count": 2,
   "id": "8c8298d8-d1d4-4868-924c-179a796a6733",
   "metadata": {},
   "outputs": [],
   "source": [
    "with open('../transformed_event_logs/BPIC_2020_DD_start_end_test.pickle', 'rb') as f:\n",
    "    test_event_log = pickle.load(f)"
   ]
  },
  {
   "cell_type": "code",
   "execution_count": 3,
   "id": "3f147ed6-07bb-47ca-8a21-6472cf038d52",
   "metadata": {},
   "outputs": [
    {
     "name": "stdout",
     "output_type": "stream",
     "text": [
      "13\n",
      "2\n"
     ]
    }
   ],
   "source": [
    "known_activities = list(test_event_log['concept:name_start'].unique())\n",
    "known_resources = list(test_event_log['org:resource_start'].unique())\n",
    "print(len(known_activities))\n",
    "print(len(known_resources))"
   ]
  },
  {
   "cell_type": "code",
   "execution_count": 4,
   "id": "bdade336-8526-41cf-a706-b918c79075d0",
   "metadata": {},
   "outputs": [
    {
     "name": "stdout",
     "output_type": "stream",
     "text": [
      "13\n",
      "2\n"
     ]
    }
   ],
   "source": [
    "known_activites = ['Declaration.APPROVED.by.ADMINISTRATION', 'Declaration.APPROVED.by.BUDGET.OWNER', 'Declaration.APPROVED.by.PRE_APPROVER', 'Declaration.FINAL_APPROVED.by.SUPERVISOR', 'Declaration.FOR_APPROVAL.by.ADMINISTRATION', 'Declaration.FOR_APPROVAL.by.PRE_APPROVER', 'Declaration.FOR_APPROVAL.by.SUPERVISOR', 'Declaration.REJECTED.by.ADMINISTRATION', 'Declaration.REJECTED.by.BUDGET.OWNER', 'Declaration.REJECTED.by.EMPLOYEE', 'Declaration.REJECTED.by.MISSING', 'Declaration.REJECTED.by.PRE_APPROVER', 'Declaration.REJECTED.by.SUPERVISOR', 'Declaration.SAVED.by.EMPLOYEE', 'Declaration.SUBMITTED.by.EMPLOYEE', 'Payment.Handled', 'Request.Payment']\n",
    "known_resources = ['STAFF.MEMBER', 'SYSTEM']\n",
    "print(len(known_activities))\n",
    "print(len(known_resources))"
   ]
  },
  {
   "cell_type": "code",
   "execution_count": 8,
   "id": "cec8df54-7077-469a-aab0-e8ee3180adc4",
   "metadata": {},
   "outputs": [
    {
     "ename": "ValueError",
     "evalue": "invalid literal for int() with base 10: ''",
     "output_type": "error",
     "traceback": [
      "\u001b[0;31m---------------------------------------------------------------------------\u001b[0m",
      "\u001b[0;31mValueError\u001b[0m                                Traceback (most recent call last)",
      "Cell \u001b[0;32mIn[8], line 1\u001b[0m\n\u001b[0;32m----> 1\u001b[0m drbart_model \u001b[38;5;241m=\u001b[39m \u001b[43mDRBART\u001b[49m\u001b[43m(\u001b[49m\u001b[43mparser_dir\u001b[49m\u001b[43m \u001b[49m\u001b[38;5;241;43m=\u001b[39;49m\u001b[43m \u001b[49m\u001b[38;5;124;43m'\u001b[39;49m\u001b[38;5;124;43m../../../models/bpic_2020/concept-name_resource_seconds-in-day_day-of-week_activity-count_resoure-count/\u001b[39;49m\u001b[38;5;124;43m'\u001b[39;49m\u001b[43m,\u001b[49m\n\u001b[1;32m      2\u001b[0m \u001b[43m                     \u001b[49m\u001b[43mstrict_parser\u001b[49m\u001b[38;5;241;43m=\u001b[39;49m\u001b[38;5;28;43;01mFalse\u001b[39;49;00m\u001b[43m)\u001b[49m\n\u001b[1;32m      3\u001b[0m sample_drbart \u001b[38;5;241m=\u001b[39m SampleOutcomes_DRBART_Normal_R_A_S_D_AC_RC(event_log, drbart_model, known_activities, known_resources)\n",
      "File \u001b[0;32m~/Documents/TaskExecutionTimeMining/src/notebooks/BPIC_2020_DD/../../TaskExecutionTimeMining/drbart_parser.py:188\u001b[0m, in \u001b[0;36mDRBART.__init__\u001b[0;34m(self, parser, parser_dir, strict_parser)\u001b[0m\n\u001b[1;32m    186\u001b[0m \u001b[38;5;28;01mif\u001b[39;00m \u001b[38;5;129;01mnot\u001b[39;00m parser:\n\u001b[1;32m    187\u001b[0m     \u001b[38;5;28mself\u001b[39m\u001b[38;5;241m.\u001b[39mparser \u001b[38;5;241m=\u001b[39m Parser(parser_dir, strict_parser)\n\u001b[0;32m--> 188\u001b[0m \u001b[38;5;28mself\u001b[39m\u001b[38;5;241m.\u001b[39mmean_cut_variables, \u001b[38;5;28mself\u001b[39m\u001b[38;5;241m.\u001b[39mmean_trees \u001b[38;5;241m=\u001b[39m \u001b[38;5;28;43mself\u001b[39;49m\u001b[38;5;241;43m.\u001b[39;49m\u001b[43mparser\u001b[49m\u001b[38;5;241;43m.\u001b[39;49m\u001b[43mparse_mean\u001b[49m\u001b[43m(\u001b[49m\u001b[43m)\u001b[49m\n\u001b[1;32m    189\u001b[0m \u001b[38;5;28mself\u001b[39m\u001b[38;5;241m.\u001b[39mprec_cut_variables, \u001b[38;5;28mself\u001b[39m\u001b[38;5;241m.\u001b[39mprec_trees \u001b[38;5;241m=\u001b[39m \u001b[38;5;28mself\u001b[39m\u001b[38;5;241m.\u001b[39mparser\u001b[38;5;241m.\u001b[39mparse_prec()\n\u001b[1;32m    190\u001b[0m \u001b[38;5;28mself\u001b[39m\u001b[38;5;241m.\u001b[39mphi_star \u001b[38;5;241m=\u001b[39m \u001b[38;5;28mself\u001b[39m\u001b[38;5;241m.\u001b[39mparser\u001b[38;5;241m.\u001b[39mparse_phistar()\n",
      "File \u001b[0;32m~/Documents/TaskExecutionTimeMining/src/notebooks/BPIC_2020_DD/../../TaskExecutionTimeMining/drbart_parser.py:60\u001b[0m, in \u001b[0;36mParser.parse_mean\u001b[0;34m(self)\u001b[0m\n\u001b[1;32m     58\u001b[0m variables \u001b[38;5;241m=\u001b[39m \u001b[38;5;28mself\u001b[39m\u001b[38;5;241m.\u001b[39mparse_variables(\u001b[38;5;28mself\u001b[39m\u001b[38;5;241m.\u001b[39mf_dr_bart_mean)\n\u001b[1;32m     59\u001b[0m \u001b[38;5;28mself\u001b[39m\u001b[38;5;241m.\u001b[39mf_dr_bart_mean\u001b[38;5;241m.\u001b[39mreadline()\n\u001b[0;32m---> 60\u001b[0m tree_variables, trees \u001b[38;5;241m=\u001b[39m \u001b[38;5;28;43mself\u001b[39;49m\u001b[38;5;241;43m.\u001b[39;49m\u001b[43mparse_trees\u001b[49m\u001b[43m(\u001b[49m\u001b[38;5;28;43mself\u001b[39;49m\u001b[38;5;241;43m.\u001b[39;49m\u001b[43mf_dr_bart_mean\u001b[49m\u001b[43m,\u001b[49m\u001b[43m \u001b[49m\u001b[43mvariables\u001b[49m\u001b[43m)\u001b[49m\n\u001b[1;32m     61\u001b[0m iterate_trees \u001b[38;5;241m=\u001b[39m [IterateTrees(trees[i:i \u001b[38;5;241m+\u001b[39m tree_variables[\u001b[38;5;241m0\u001b[39m]]) \u001b[38;5;28;01mfor\u001b[39;00m i \u001b[38;5;129;01min\u001b[39;00m \u001b[38;5;28mrange\u001b[39m(\u001b[38;5;241m0\u001b[39m, \u001b[38;5;28mlen\u001b[39m(trees), tree_variables[\u001b[38;5;241m0\u001b[39m])]\n\u001b[1;32m     62\u001b[0m \u001b[38;5;28;01mreturn\u001b[39;00m variables, iterate_trees\n",
      "File \u001b[0;32m~/Documents/TaskExecutionTimeMining/src/notebooks/BPIC_2020_DD/../../TaskExecutionTimeMining/drbart_parser.py:35\u001b[0m, in \u001b[0;36mParser.parse_trees\u001b[0;34m(self, f, variables)\u001b[0m\n\u001b[1;32m     33\u001b[0m \u001b[38;5;28;01mfor\u001b[39;00m i \u001b[38;5;129;01min\u001b[39;00m \u001b[38;5;28mrange\u001b[39m(n_mh_samples):\n\u001b[1;32m     34\u001b[0m     \u001b[38;5;28;01mfor\u001b[39;00m j \u001b[38;5;129;01min\u001b[39;00m \u001b[38;5;28mrange\u001b[39m(number_trees):\n\u001b[0;32m---> 35\u001b[0m         tree \u001b[38;5;241m=\u001b[39m \u001b[38;5;28;43mself\u001b[39;49m\u001b[38;5;241;43m.\u001b[39;49m\u001b[43mparse_tree\u001b[49m\u001b[43m(\u001b[49m\u001b[43mf\u001b[49m\u001b[43m,\u001b[49m\u001b[43m \u001b[49m\u001b[43mvariables\u001b[49m\u001b[43m)\u001b[49m\n\u001b[1;32m     36\u001b[0m         trees\u001b[38;5;241m.\u001b[39mappend(tree)\n\u001b[1;32m     37\u001b[0m         f\u001b[38;5;241m.\u001b[39mreadline()\n",
      "File \u001b[0;32m~/Documents/TaskExecutionTimeMining/src/notebooks/BPIC_2020_DD/../../TaskExecutionTimeMining/drbart_parser.py:41\u001b[0m, in \u001b[0;36mParser.parse_tree\u001b[0;34m(self, f, variables)\u001b[0m\n\u001b[1;32m     40\u001b[0m \u001b[38;5;28;01mdef\u001b[39;00m \u001b[38;5;21mparse_tree\u001b[39m(\u001b[38;5;28mself\u001b[39m, f, variables):\n\u001b[0;32m---> 41\u001b[0m     num_nodes \u001b[38;5;241m=\u001b[39m \u001b[38;5;28;43mint\u001b[39;49m\u001b[43m(\u001b[49m\u001b[43mf\u001b[49m\u001b[38;5;241;43m.\u001b[39;49m\u001b[43mreadline\u001b[49m\u001b[43m(\u001b[49m\u001b[43m)\u001b[49m\u001b[43m)\u001b[49m\n\u001b[1;32m     42\u001b[0m     nodes \u001b[38;5;241m=\u001b[39m \u001b[38;5;28mdict\u001b[39m()\n\u001b[1;32m     43\u001b[0m     \u001b[38;5;28;01mfor\u001b[39;00m i \u001b[38;5;129;01min\u001b[39;00m \u001b[38;5;28mrange\u001b[39m(num_nodes):\n",
      "\u001b[0;31mValueError\u001b[0m: invalid literal for int() with base 10: ''"
     ]
    }
   ],
   "source": [
    "drbart_model = DRBART(parser_dir = '../../../models/bpic_2020/concept-name_resource_seconds-in-day_day-of-week_activity-count_resoure-count/',\n",
    "                     strict_parser=False)\n",
    "sample_drbart = SampleOutcomes_DRBART_Normal_R_A_S_D_AC_RC(event_log, drbart_model, known_activities, known_resources)"
   ]
  }
 ],
 "metadata": {
  "kernelspec": {
   "display_name": "Python 3 (ipykernel)",
   "language": "python",
   "name": "python3"
  },
  "language_info": {
   "codemirror_mode": {
    "name": "ipython",
    "version": 3
   },
   "file_extension": ".py",
   "mimetype": "text/x-python",
   "name": "python",
   "nbconvert_exporter": "python",
   "pygments_lexer": "ipython3",
   "version": "3.10.12"
  }
 },
 "nbformat": 4,
 "nbformat_minor": 5
}
