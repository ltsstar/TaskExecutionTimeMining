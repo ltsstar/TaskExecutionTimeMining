{
 "cells": [
  {
   "cell_type": "code",
   "execution_count": 1,
   "id": "3b606840-333b-42fa-b41b-c829dd38161e",
   "metadata": {},
   "outputs": [],
   "source": [
    "import numpy as np\n",
    "import pandas\n",
    "import pm4py\n",
    "from matplotlib import pyplot as plt\n",
    "from sklearn.mixture import GaussianMixture\n",
    "import scipy.stats as stats\n",
    "import ot\n",
    "import os\n",
    "from tqdm import tqdm\n",
    "import collections\n",
    "import matplotlib.dates as md\n",
    "import importlib\n",
    "import pickle\n",
    "\n",
    "import sys\n",
    "sys.path.append('../../TaskExecutionTimeMining/')\n",
    "from drbart_parser import *\n",
    "from event_log_transformer import *\n",
    "\n",
    "#sys.path.append('../../Evaluation')\n",
    "sys.path.append('../../Evaluation/')\n",
    "from normal_evaluation.drbart_evaluation import *"
   ]
  },
  {
   "cell_type": "code",
   "execution_count": 7,
   "id": "ef2fa37b-18fc-4ffb-86ec-3475ca98710c",
   "metadata": {},
   "outputs": [],
   "source": [
    "with open('../transformed_event_logs/BPIC_2018_start_end_test.pickle', 'rb') as f:\n",
    "    test_event_log = pickle.load(f)"
   ]
  },
  {
   "cell_type": "code",
   "execution_count": null,
   "id": "0b9940d7-7b00-4eba-a338-8100e8c0eb37",
   "metadata": {},
   "outputs": [],
   "source": []
  },
  {
   "cell_type": "code",
   "execution_count": 14,
   "id": "4c96b81c-09af-4330-8b10-db0328877750",
   "metadata": {},
   "outputs": [
    {
     "name": "stdout",
     "output_type": "stream",
     "text": [
      "41\n",
      "160\n"
     ]
    }
   ],
   "source": [
    "known_activities = list(test_event_log['concept:name_start'].unique())\n",
    "known_resources = list(test_event_log['org:resource_start'].unique())\n",
    "print(len(known_activities))\n",
    "print(len(known_resources))"
   ]
  },
  {
   "cell_type": "code",
   "execution_count": 15,
   "id": "a520b8dc-8c4a-4eb7-9ab9-0a47ea4db3fd",
   "metadata": {},
   "outputs": [
    {
     "name": "stdout",
     "output_type": "stream",
     "text": [
      "41\n",
      "165\n"
     ]
    }
   ],
   "source": [
    "known_activities = ['abort.external', 'abort.payment', 'approve', 'begin.admissibility.check', 'begin.editing', 'begin.editing.from.refused', 'begin.payment', 'begin.preparations', 'calculate', 'calculate.protocol', 'cancel.offline', 'change.department', 'check', 'check.admissibility', 'clear', 'correction.GFM17', 'create', 'decide', 'discard', 'finish.editing', 'finish.payment', 'finish.pre.check', 'finish.preparations', 'initialize', 'insert.document', 'mail.income', 'mail.valid', 'performed', 'performed.offline', 'plan', 'prepare.external', 'prepare.offline', 'refuse', 'remove.document', 'restart.editing', 'revoke.approval', 'revoke.decision', 'revoke.withdrawal', 'save', 'take.original.document', 'withdraw']\n",
    "known_resources = ['X00037f', 'X0087cf', 'X019209', 'X023bb9', 'X03b214', 'X059abc', 'X07361d', 'X08e484', 'X0.n.a', 'X0d884f', 'X0fe39b', 'X13c937', 'X155add', 'X167893', 'X1bd3b5', 'X1c1894', 'X2044b6', 'X21612d', 'X237892', 'X27cc37', 'X28b6bf', 'X2ac4ac', 'X2b8616', 'X2baab0', 'X2bf205', 'X2c546f', 'X2ca0ae', 'X2dc625', 'X313338', 'X346f05', 'X352a49', 'X354865', 'X36c75c', 'X39be3e', 'X3d952e', 'X40178c', 'X425ee3', 'X4298e3', 'X439089', 'X44798d', 'X465290', 'X46e3af', 'X478c4f', 'X483029', 'X4af6fb', 'X4b9a7f', 'X4e9bc2', 'X4fac6d', 'X51d239', 'X520882', 'X556da9', 'X5a21a5', 'X5bf77a', 'X5c1b3c', 'X5d8173', 'X5d9e09', 'X5dd4ec', 'X5e018b', 'X60b0b8', 'X65bf34', 'X6ad4a6', 'X6c720c', 'X6d6ae5', 'X6f6a4e', 'X6fde6b', 'X7078c7', 'X71ffe8', 'X727350', 'X75992a', 'X76f30e', 'X7850e8', 'X7886b1', 'X79367e', 'X796771', 'X7b9b55', 'X7d03a0', 'X7d12ba', 'X7d4a25', 'X7fb8a5', 'X815d19', 'X822fb7', 'X82518f', 'X83c7b7', 'X8a1fba', 'X8aab8f', 'X8beb64', 'X8c9a01', 'X8d8538', 'X91bca0', 'X9765da', 'X97d224', 'X99e048', 'X9aaf68', 'X9e088c', 'X9e337f', 'DP.R', 'DP.Z', 'Document.processing.automaton', 'Inspection.automaton', 'Inspection.service', 'Notification.automaton', 'Parcel.automaton', 'Processing.automaton', 'Reference.alignment.processor', 'Remote.inspection.export', 'Remote.inspection.import', 'a21e1b', 'a5ae3f', 'a5c3dd', 'abe845', 'ad25fc', 'aea7c8', 'af1e1e', 'b2b786', 'b33ed5', 'b4755f', 'b90293', 'ba978b', 'bbd307', 'bc063d', 'bfa0ec', 'c0aa4a', 'c39cb2', 'c4f075', 'c522f8', 'c70c37', 'c70d79', 'c7c478', 'c966f4', 'c98a4a', 'd0f451', 'd114c8', 'd4758f', 'd4d37d', 'd85681', 'd8639c', 'dd04e2', 'dd12cf', 'dde669', 'dee71b', 'dfd1d4', 'e25f20', 'e99397', 'ea52aa', 'eb38eb', 'eb7015', 'ee262f', 'ee28de', 'ef80e3', 'f01c35', 'f3e81e', 'f48280', 'f6846a', 'f6f7f1', 'f7f7b6', 'f8da29', 'f9fe07', 'fa6437', 'fa68d2', 'fb5fa8', 'fc6177', 'fcb55b', 'ffb56b', 'parcel.correction.automaton', 'scheduler']\n",
    "print(len(known_activities))\n",
    "print(len(known_resources))"
   ]
  },
  {
   "cell_type": "code",
   "execution_count": 22,
   "id": "52625bea-a932-4414-8633-cf415275024d",
   "metadata": {
    "scrolled": true
   },
   "outputs": [
    {
     "ename": "ValueError",
     "evalue": "invalid literal for int() with base 10: ''",
     "output_type": "error",
     "traceback": [
      "\u001b[0;31m---------------------------------------------------------------------------\u001b[0m",
      "\u001b[0;31mValueError\u001b[0m                                Traceback (most recent call last)",
      "Cell \u001b[0;32mIn[22], line 1\u001b[0m\n\u001b[0;32m----> 1\u001b[0m drbart_model \u001b[38;5;241m=\u001b[39m \u001b[43mDRBART\u001b[49m\u001b[43m(\u001b[49m\u001b[43mparser_dir\u001b[49m\u001b[43m \u001b[49m\u001b[38;5;241;43m=\u001b[39;49m\u001b[43m \u001b[49m\u001b[38;5;124;43m'\u001b[39;49m\u001b[38;5;124;43m../../../external/bpic_2018_2/concept-name_resource_seconds-in-day_activity-count_resource_count/\u001b[39;49m\u001b[38;5;124;43m'\u001b[39;49m\u001b[43m,\u001b[49m\n\u001b[1;32m      2\u001b[0m \u001b[43m                     \u001b[49m\u001b[43mstrict_parser\u001b[49m\u001b[38;5;241;43m=\u001b[39;49m\u001b[38;5;28;43;01mFalse\u001b[39;49;00m\u001b[43m)\u001b[49m\n\u001b[1;32m      3\u001b[0m sample_drbart \u001b[38;5;241m=\u001b[39m SampleOutcomes_DRBART_Normal_R_A_S_D_AC_RC(event_log, drbart_model, known_activities, known_resources)\n",
      "File \u001b[0;32m~/Documents/TaskExecutionTimeMining/src/notebooks/BPIC_2018/../../TaskExecutionTimeMining/drbart_parser.py:188\u001b[0m, in \u001b[0;36mDRBART.__init__\u001b[0;34m(self, parser, parser_dir, strict_parser)\u001b[0m\n\u001b[1;32m    186\u001b[0m \u001b[38;5;28;01mif\u001b[39;00m \u001b[38;5;129;01mnot\u001b[39;00m parser:\n\u001b[1;32m    187\u001b[0m     \u001b[38;5;28mself\u001b[39m\u001b[38;5;241m.\u001b[39mparser \u001b[38;5;241m=\u001b[39m Parser(parser_dir, strict_parser)\n\u001b[0;32m--> 188\u001b[0m \u001b[38;5;28mself\u001b[39m\u001b[38;5;241m.\u001b[39mmean_cut_variables, \u001b[38;5;28mself\u001b[39m\u001b[38;5;241m.\u001b[39mmean_trees \u001b[38;5;241m=\u001b[39m \u001b[38;5;28;43mself\u001b[39;49m\u001b[38;5;241;43m.\u001b[39;49m\u001b[43mparser\u001b[49m\u001b[38;5;241;43m.\u001b[39;49m\u001b[43mparse_mean\u001b[49m\u001b[43m(\u001b[49m\u001b[43m)\u001b[49m\n\u001b[1;32m    189\u001b[0m \u001b[38;5;28mself\u001b[39m\u001b[38;5;241m.\u001b[39mprec_cut_variables, \u001b[38;5;28mself\u001b[39m\u001b[38;5;241m.\u001b[39mprec_trees \u001b[38;5;241m=\u001b[39m \u001b[38;5;28mself\u001b[39m\u001b[38;5;241m.\u001b[39mparser\u001b[38;5;241m.\u001b[39mparse_prec()\n\u001b[1;32m    190\u001b[0m \u001b[38;5;28mself\u001b[39m\u001b[38;5;241m.\u001b[39mphi_star \u001b[38;5;241m=\u001b[39m \u001b[38;5;28mself\u001b[39m\u001b[38;5;241m.\u001b[39mparser\u001b[38;5;241m.\u001b[39mparse_phistar()\n",
      "File \u001b[0;32m~/Documents/TaskExecutionTimeMining/src/notebooks/BPIC_2018/../../TaskExecutionTimeMining/drbart_parser.py:60\u001b[0m, in \u001b[0;36mParser.parse_mean\u001b[0;34m(self)\u001b[0m\n\u001b[1;32m     58\u001b[0m variables \u001b[38;5;241m=\u001b[39m \u001b[38;5;28mself\u001b[39m\u001b[38;5;241m.\u001b[39mparse_variables(\u001b[38;5;28mself\u001b[39m\u001b[38;5;241m.\u001b[39mf_dr_bart_mean)\n\u001b[1;32m     59\u001b[0m \u001b[38;5;28mself\u001b[39m\u001b[38;5;241m.\u001b[39mf_dr_bart_mean\u001b[38;5;241m.\u001b[39mreadline()\n\u001b[0;32m---> 60\u001b[0m tree_variables, trees \u001b[38;5;241m=\u001b[39m \u001b[38;5;28;43mself\u001b[39;49m\u001b[38;5;241;43m.\u001b[39;49m\u001b[43mparse_trees\u001b[49m\u001b[43m(\u001b[49m\u001b[38;5;28;43mself\u001b[39;49m\u001b[38;5;241;43m.\u001b[39;49m\u001b[43mf_dr_bart_mean\u001b[49m\u001b[43m,\u001b[49m\u001b[43m \u001b[49m\u001b[43mvariables\u001b[49m\u001b[43m)\u001b[49m\n\u001b[1;32m     61\u001b[0m iterate_trees \u001b[38;5;241m=\u001b[39m [IterateTrees(trees[i:i \u001b[38;5;241m+\u001b[39m tree_variables[\u001b[38;5;241m0\u001b[39m]]) \u001b[38;5;28;01mfor\u001b[39;00m i \u001b[38;5;129;01min\u001b[39;00m \u001b[38;5;28mrange\u001b[39m(\u001b[38;5;241m0\u001b[39m, \u001b[38;5;28mlen\u001b[39m(trees), tree_variables[\u001b[38;5;241m0\u001b[39m])]\n\u001b[1;32m     62\u001b[0m \u001b[38;5;28;01mreturn\u001b[39;00m variables, iterate_trees\n",
      "File \u001b[0;32m~/Documents/TaskExecutionTimeMining/src/notebooks/BPIC_2018/../../TaskExecutionTimeMining/drbart_parser.py:35\u001b[0m, in \u001b[0;36mParser.parse_trees\u001b[0;34m(self, f, variables)\u001b[0m\n\u001b[1;32m     33\u001b[0m \u001b[38;5;28;01mfor\u001b[39;00m i \u001b[38;5;129;01min\u001b[39;00m \u001b[38;5;28mrange\u001b[39m(n_mh_samples):\n\u001b[1;32m     34\u001b[0m     \u001b[38;5;28;01mfor\u001b[39;00m j \u001b[38;5;129;01min\u001b[39;00m \u001b[38;5;28mrange\u001b[39m(number_trees):\n\u001b[0;32m---> 35\u001b[0m         tree \u001b[38;5;241m=\u001b[39m \u001b[38;5;28;43mself\u001b[39;49m\u001b[38;5;241;43m.\u001b[39;49m\u001b[43mparse_tree\u001b[49m\u001b[43m(\u001b[49m\u001b[43mf\u001b[49m\u001b[43m,\u001b[49m\u001b[43m \u001b[49m\u001b[43mvariables\u001b[49m\u001b[43m)\u001b[49m\n\u001b[1;32m     36\u001b[0m         trees\u001b[38;5;241m.\u001b[39mappend(tree)\n\u001b[1;32m     37\u001b[0m         f\u001b[38;5;241m.\u001b[39mreadline()\n",
      "File \u001b[0;32m~/Documents/TaskExecutionTimeMining/src/notebooks/BPIC_2018/../../TaskExecutionTimeMining/drbart_parser.py:41\u001b[0m, in \u001b[0;36mParser.parse_tree\u001b[0;34m(self, f, variables)\u001b[0m\n\u001b[1;32m     40\u001b[0m \u001b[38;5;28;01mdef\u001b[39;00m \u001b[38;5;21mparse_tree\u001b[39m(\u001b[38;5;28mself\u001b[39m, f, variables):\n\u001b[0;32m---> 41\u001b[0m     num_nodes \u001b[38;5;241m=\u001b[39m \u001b[38;5;28;43mint\u001b[39;49m\u001b[43m(\u001b[49m\u001b[43mf\u001b[49m\u001b[38;5;241;43m.\u001b[39;49m\u001b[43mreadline\u001b[49m\u001b[43m(\u001b[49m\u001b[43m)\u001b[49m\u001b[43m)\u001b[49m\n\u001b[1;32m     42\u001b[0m     nodes \u001b[38;5;241m=\u001b[39m \u001b[38;5;28mdict\u001b[39m()\n\u001b[1;32m     43\u001b[0m     \u001b[38;5;28;01mfor\u001b[39;00m i \u001b[38;5;129;01min\u001b[39;00m \u001b[38;5;28mrange\u001b[39m(num_nodes):\n",
      "\u001b[0;31mValueError\u001b[0m: invalid literal for int() with base 10: ''"
     ]
    }
   ],
   "source": [
    "drbart_model = DRBART(parser_dir = '../../../external/bpic_2018_2/concept-name_resource_seconds-in-day_activity-count_resource_count/',\n",
    "                     strict_parser=False)\n",
    "sample_drbart = SampleOutcomes_DRBART_Normal_R_A_S_D_AC_RC(event_log, drbart_model, known_activities, known_resources)"
   ]
  }
 ],
 "metadata": {
  "kernelspec": {
   "display_name": "Python 3 (ipykernel)",
   "language": "python",
   "name": "python3"
  },
  "language_info": {
   "codemirror_mode": {
    "name": "ipython",
    "version": 3
   },
   "file_extension": ".py",
   "mimetype": "text/x-python",
   "name": "python",
   "nbconvert_exporter": "python",
   "pygments_lexer": "ipython3",
   "version": "3.10.15"
  }
 },
 "nbformat": 4,
 "nbformat_minor": 5
}
