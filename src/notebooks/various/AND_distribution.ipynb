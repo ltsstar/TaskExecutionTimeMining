{
 "cells": [
  {
   "cell_type": "markdown",
   "id": "e6576ce9-ba12-458a-a6dc-1183cb034cca",
   "metadata": {},
   "source": [
    "# "
   ]
  },
  {
   "cell_type": "code",
   "execution_count": 1,
   "id": "24f2ce34-6817-48d7-92f8-f5c463a246c9",
   "metadata": {},
   "outputs": [],
   "source": [
    "from sklearn.mixture import GaussianMixture\n",
    "import numpy as np\n",
    "import matplotlib.pyplot as plt"
   ]
  },
  {
   "cell_type": "code",
   "execution_count": 2,
   "id": "a3684ebc-6e57-43e2-becb-fe512c89eae5",
   "metadata": {},
   "outputs": [],
   "source": [
    "from pix_framework.statistics import distribution"
   ]
  },
  {
   "cell_type": "code",
   "execution_count": 3,
   "id": "dddda711-069b-4257-b0a1-4c2878846d2c",
   "metadata": {},
   "outputs": [],
   "source": [
    "activity_a = lambda n : np.where(np.random.choice(a=[0, 1], size=n, p=[0.5, 0.5]),\n",
    "         np.random.normal(50, 20, n),\n",
    "         np.random.normal(200, 20, n)\n",
    "        )\n",
    "\n",
    "activity_b = lambda n : np.random.normal(50, 20, n)\n",
    "activity_b = lambda n : np.where(np.random.choice(a=[0, 1], size=n, p=[0.5, 0.5]),\n",
    "         np.random.normal(20, 20, n),\n",
    "         np.random.normal(150, 20, n)\n",
    "        )"
   ]
  },
  {
   "cell_type": "code",
   "execution_count": 4,
   "id": "a1698236-4185-438e-9390-0a07d1d4ff89",
   "metadata": {},
   "outputs": [
    {
     "data": {
      "text/plain": [
       "array([-3.55735895])"
      ]
     },
     "execution_count": 4,
     "metadata": {},
     "output_type": "execute_result"
    }
   ],
   "source": [
    "activity_b(1)w"
   ]
  },
  {
   "cell_type": "code",
   "execution_count": 97,
   "id": "340f8b06-8fec-4be3-9ecf-6dbe1aef06f9",
   "metadata": {},
   "outputs": [],
   "source": [
    "class WF_AND:\n",
    "    def __init__(self, activities):\n",
    "        self.activities = activities\n",
    "    def duration(self):\n",
    "        return np.max([a.duration() for a in self.activities])\n",
    "\n",
    "class WF_OR:\n",
    "    def __init__(self, activities, probabilities):\n",
    "        self.activities = activities\n",
    "        self.probabilities = probabilities\n",
    "    def duration(self):\n",
    "        return self.activities[np.random.choice(a=list(range(len(self.activities))), p=self.probabilities)].duration()\n",
    "\n",
    "class WF_SEQ:\n",
    "    def __init__(self, activities):\n",
    "        self.activities = activities\n",
    "    def duration(self):\n",
    "        return np.sum([a.duration() for a in self.activities])\n",
    "\n",
    "class Activity:\n",
    "    def __init__(self, duration_density):\n",
    "        self.duration_density = duration_density\n",
    "    def duration(self):\n",
    "        return self.duration_density.sample()\n",
    "\n",
    "class DurationDensity:\n",
    "    def __init__(self, duration_density):\n",
    "        self.duration_density = duration_density\n",
    "\n",
    "    def sample(self):\n",
    "        return self.duration_density()\n",
    "        \n",
    "class ActivityA_DurationDensity(DurationDensity):\n",
    "    def __init__(self):\n",
    "        self.duration_density = lambda : np.where(np.random.choice(a=[0, 1], size=1, p=[0.5, 0.5]),\n",
    "             np.random.normal(20, 20, 1),\n",
    "             np.random.normal(150, 20, 1)\n",
    "            )[0]\n",
    "\n",
    "class ActivityB_DurationDensity(DurationDensity):\n",
    "    def __init__(self):\n",
    "        self.duration_density = lambda : np.where(np.random.choice(a=[0, 1], size=1, p=[0.5, 0.5]),\n",
    "         np.random.normal(50, 20, 1),\n",
    "         np.random.normal(200, 20, 1)\n",
    "        )[0]\n",
    "\n",
    "class ActivityA(Activity):\n",
    "    def __init__(self):\n",
    "        self.duration_density = ActivityA_DurationDensity()\n",
    "\n",
    "\n",
    "class ActivityB(Activity):\n",
    "    def __init__(self):\n",
    "        self.duration_density = ActivityB_DurationDensity()\n",
    "        \n",
    "wf_and = lambda activities, n : np.max(np.concatenate([np.array(a(n), ndmin=2) for a in activities]), axis=0)\n",
    "wf_or = lambda choices, activities, n : np.where(np.random.choice(a=list(range(len(activities))), p=choices), *[a for a in activities])\n",
    "wf_seq = lambda activities, n : np.sum([a(n) for a in activities], axis=0)"
   ]
  },
  {
   "cell_type": "code",
   "execution_count": 114,
   "id": "27788c26-fedf-43ef-a8a6-6c5763ef47f3",
   "metadata": {},
   "outputs": [],
   "source": [
    "process = WF_SEQ([ActivityA(), WF_AND([ActivityA(), ActivityB()]), WF_OR([ActivityA(), ActivityB()], [0.5, 0.5])])"
   ]
  },
  {
   "cell_type": "code",
   "execution_count": 115,
   "id": "cf1687c3-c91a-4bd4-bea5-c9339ed338e0",
   "metadata": {},
   "outputs": [],
   "source": [
    "process_durations = np.array([process.duration() for i in range(10000)])"
   ]
  },
  {
   "cell_type": "code",
   "execution_count": 137,
   "id": "215f8f21-3cab-428e-a3dc-84b241df040f",
   "metadata": {},
   "outputs": [
    {
     "data": {
      "text/plain": [
       "(array([  2.,   5.,   1.,   3.,   5.,  12.,   7.,  11.,  20.,  20.,  34.,\n",
       "         32.,  36.,  37.,  48.,  38.,  50.,  49.,  50.,  35.,  38.,  59.,\n",
       "         37.,  55.,  56.,  67.,  85.,  79.,  87., 104., 149., 146., 174.,\n",
       "        182., 191., 211., 174., 201., 180., 196., 184., 144., 158., 162.,\n",
       "        149., 162., 173., 183., 204., 190., 215., 231., 239., 235., 254.,\n",
       "        275., 241., 261., 245., 220., 221., 200., 179., 163., 143., 142.,\n",
       "        116., 122., 109.,  78., 114.,  91.,  91., 107., 126., 103., 107.,\n",
       "         90., 101.,  70.,  77.,  65.,  58.,  55.,  48.,  38.,  26.,  17.,\n",
       "         17.,  15.,   5.,   6.,   3.,   2.,   2.,   0.,   1.,   0.,   0.,\n",
       "          1.]),\n",
       " array([ -3.48018938,   3.37577966,  10.23174871,  17.08771776,\n",
       "         23.94368681,  30.79965585,  37.6556249 ,  44.51159395,\n",
       "         51.367563  ,  58.22353204,  65.07950109,  71.93547014,\n",
       "         78.79143919,  85.64740823,  92.50337728,  99.35934633,\n",
       "        106.21531538, 113.07128443, 119.92725347, 126.78322252,\n",
       "        133.63919157, 140.49516062, 147.35112966, 154.20709871,\n",
       "        161.06306776, 167.91903681, 174.77500585, 181.6309749 ,\n",
       "        188.48694395, 195.342913  , 202.19888204, 209.05485109,\n",
       "        215.91082014, 222.76678919, 229.62275824, 236.47872728,\n",
       "        243.33469633, 250.19066538, 257.04663443, 263.90260347,\n",
       "        270.75857252, 277.61454157, 284.47051062, 291.32647966,\n",
       "        298.18244871, 305.03841776, 311.89438681, 318.75035585,\n",
       "        325.6063249 , 332.46229395, 339.318263  , 346.17423205,\n",
       "        353.03020109, 359.88617014, 366.74213919, 373.59810824,\n",
       "        380.45407728, 387.31004633, 394.16601538, 401.02198443,\n",
       "        407.87795347, 414.73392252, 421.58989157, 428.44586062,\n",
       "        435.30182966, 442.15779871, 449.01376776, 455.86973681,\n",
       "        462.72570586, 469.5816749 , 476.43764395, 483.293613  ,\n",
       "        490.14958205, 497.00555109, 503.86152014, 510.71748919,\n",
       "        517.57345824, 524.42942728, 531.28539633, 538.14136538,\n",
       "        544.99733443, 551.85330347, 558.70927252, 565.56524157,\n",
       "        572.42121062, 579.27717967, 586.13314871, 592.98911776,\n",
       "        599.84508681, 606.70105586, 613.5570249 , 620.41299395,\n",
       "        627.268963  , 634.12493205, 640.98090109, 647.83687014,\n",
       "        654.69283919, 661.54880824, 668.40477729, 675.26074633,\n",
       "        682.11671538]),\n",
       " <BarContainer object of 100 artists>)"
      ]
     },
     "execution_count": 137,
     "metadata": {},
     "output_type": "execute_result"
    },
    {
     "data": {
      "image/png": "[encoded data removed]",
      "text/plain": [
       "<Figure size 640x480 with 1 Axes>"
      ]
     },
     "metadata": {},
     "output_type": "display_data"
    }
   ],
   "source": [
    "plt.hist(process_durations, bins=100 )"
   ]
  },
  {
   "cell_type": "code",
   "execution_count": 131,
   "id": "b0d267f2-8862-4345-83d6-239a527f0532",
   "metadata": {},
   "outputs": [],
   "source": [
    "class FakeActivityA_DurationDensity(DurationDensity):\n",
    "    def __init__(self, n=10000):\n",
    "        real_a = ActivityA_DurationDensity()\n",
    "        fitting = distribution.get_best_fitting_distribution([real_a.sample() for i in range(n)])\n",
    "        self.duration_density = lambda : fitting.generate_sample(1)[0]\n",
    "\n",
    "class FakeActivityB_DurationDensity(DurationDensity):\n",
    "    def __init__(self, n=10000):\n",
    "        real_b = ActivityB_DurationDensity()\n",
    "        fitting = distribution.get_best_fitting_distribution([real_b.sample() for i in range(n)])\n",
    "        self.duration_density = lambda : fitting.generate_sample(1)[0]\n",
    "\n",
    "class FakeActivityA(Activity):\n",
    "    def __init__(self):\n",
    "        self.duration_density = FakeActivityA_DurationDensity()\n",
    "\n",
    "class FakeActivityB(Activity):\n",
    "    def __init__(self):\n",
    "        self.duration_density = FakeActivityB_DurationDensity()"
   ]
  },
  {
   "cell_type": "code",
   "execution_count": 133,
   "id": "69f24ef0-8a8e-46b7-aecf-db0c3fb83b9d",
   "metadata": {},
   "outputs": [],
   "source": [
    "fake_process = WF_SEQ([FakeActivityA(), WF_AND([FakeActivityA(), FakeActivityB()]), WF_OR([FakeActivityA(), FakeActivityB()], [0.5, 0.5])])"
   ]
  },
  {
   "cell_type": "code",
   "execution_count": 134,
   "id": "cb21b0e5-a5b9-445c-a259-9c960f43d84d",
   "metadata": {},
   "outputs": [],
   "source": [
    "fake_process_durations = np.array([fake_process.duration() for i in range(10000)])"
   ]
  },
  {
   "cell_type": "code",
   "execution_count": 139,
   "id": "4a43c5ce-311c-4c5a-bf8d-be89e50c78f9",
   "metadata": {},
   "outputs": [
    {
     "data": {
      "text/plain": [
       "(array([  2.,   6.,   7.,   9.,  13.,  12.,  20.,  16.,  13.,  23.,  25.,\n",
       "         29.,  50.,  36.,  53.,  65.,  72.,  80.,  80.,  90.,  88., 101.,\n",
       "        108., 127., 121., 140., 151., 155., 148., 156., 165., 150., 182.,\n",
       "        209., 193., 251., 202., 233., 219., 216., 229., 226., 222., 188.,\n",
       "        241., 202., 225., 224., 201., 221., 194., 208., 229., 188., 178.,\n",
       "        202., 204., 166., 175., 158., 151., 164., 134., 117., 113.,  94.,\n",
       "        117., 100.,  87.,  79.,  70.,  77.,  72.,  60.,  46.,  60.,  44.,\n",
       "         46.,  37.,  33.,  29.,  24.,  24.,  15.,  15.,  19.,  12.,  10.,\n",
       "         13.,   7.,   5.,   3.,   7.,   4.,   6.,   4.,   2.,   1.,   0.,\n",
       "          2.]),\n",
       " array([ 32.00161941,  39.14284617,  46.28407294,  53.4252997 ,\n",
       "         60.56652647,  67.70775324,  74.84898   ,  81.99020677,\n",
       "         89.13143353,  96.2726603 , 103.41388706, 110.55511383,\n",
       "        117.69634059, 124.83756736, 131.97879413, 139.12002089,\n",
       "        146.26124766, 153.40247442, 160.54370119, 167.68492795,\n",
       "        174.82615472, 181.96738148, 189.10860825, 196.24983502,\n",
       "        203.39106178, 210.53228855, 217.67351531, 224.81474208,\n",
       "        231.95596884, 239.09719561, 246.23842237, 253.37964914,\n",
       "        260.52087591, 267.66210267, 274.80332944, 281.9445562 ,\n",
       "        289.08578297, 296.22700973, 303.3682365 , 310.50946326,\n",
       "        317.65069003, 324.7919168 , 331.93314356, 339.07437033,\n",
       "        346.21559709, 353.35682386, 360.49805062, 367.63927739,\n",
       "        374.78050415, 381.92173092, 389.06295769, 396.20418445,\n",
       "        403.34541122, 410.48663798, 417.62786475, 424.76909151,\n",
       "        431.91031828, 439.05154504, 446.19277181, 453.33399858,\n",
       "        460.47522534, 467.61645211, 474.75767887, 481.89890564,\n",
       "        489.0401324 , 496.18135917, 503.32258594, 510.4638127 ,\n",
       "        517.60503947, 524.74626623, 531.887493  , 539.02871976,\n",
       "        546.16994653, 553.31117329, 560.45240006, 567.59362683,\n",
       "        574.73485359, 581.87608036, 589.01730712, 596.15853389,\n",
       "        603.29976065, 610.44098742, 617.58221418, 624.72344095,\n",
       "        631.86466772, 639.00589448, 646.14712125, 653.28834801,\n",
       "        660.42957478, 667.57080154, 674.71202831, 681.85325507,\n",
       "        688.99448184, 696.13570861, 703.27693537, 710.41816214,\n",
       "        717.5593889 , 724.70061567, 731.84184243, 738.9830692 ,\n",
       "        746.12429596]),\n",
       " <BarContainer object of 100 artists>)"
      ]
     },
     "execution_count": 139,
     "metadata": {},
     "output_type": "execute_result"
    },
    {
     "data": {
      "image/png": "[encoded data removed]",
      "text/plain": [
       "<Figure size 640x480 with 1 Axes>"
      ]
     },
     "metadata": {},
     "output_type": "display_data"
    }
   ],
   "source": [
    "plt.hist(process_durations, bins=100, color='green')\n",
    "plt.hist(fake_process_durations, bins=100, color='orange', alpha=0.5)"
   ]
  },
  {
   "cell_type": "code",
   "execution_count": 126,
   "id": "f1bfde97-c3ab-4cfe-a97a-9d7bf58edb78",
   "metadata": {},
   "outputs": [
    {
     "data": {
      "text/plain": [
       "(array([14., 14.,  8., 11., 16., 13.,  8.,  7.,  9.,  4., 10.,  8.,  9.,\n",
       "         8., 10., 10.,  9.,  9.,  9., 12., 11.,  7.,  8., 15., 20.,  9.,\n",
       "        13., 14., 13., 11., 11.,  8., 10., 15., 13.,  8.,  8.,  8.,  9.,\n",
       "         7., 10., 11., 10.,  7., 10.,  7.,  6., 12., 12.,  8.,  9.,  6.,\n",
       "        13., 10., 11., 12.,  7.,  5.,  8., 15.,  7.,  9., 11.,  8.,  8.,\n",
       "        16., 16., 11., 13., 12., 11., 10.,  9., 11., 12., 10., 11.,  8.,\n",
       "        10., 12., 13.,  5.,  8.,  8.,  7.,  5., 12.,  8.,  7., 11., 10.,\n",
       "        11., 12.,  8.,  9.,  9., 10., 14.,  3., 10.]),\n",
       " array([4.98314351e-02, 2.66040778e+00, 5.27098412e+00, 7.88156046e+00,\n",
       "        1.04921368e+01, 1.31027131e+01, 1.57132895e+01, 1.83238658e+01,\n",
       "        2.09344422e+01, 2.35450185e+01, 2.61555949e+01, 2.87661712e+01,\n",
       "        3.13767475e+01, 3.39873239e+01, 3.65979002e+01, 3.92084766e+01,\n",
       "        4.18190529e+01, 4.44296292e+01, 4.70402056e+01, 4.96507819e+01,\n",
       "        5.22613583e+01, 5.48719346e+01, 5.74825110e+01, 6.00930873e+01,\n",
       "        6.27036636e+01, 6.53142400e+01, 6.79248163e+01, 7.05353927e+01,\n",
       "        7.31459690e+01, 7.57565453e+01, 7.83671217e+01, 8.09776980e+01,\n",
       "        8.35882744e+01, 8.61988507e+01, 8.88094271e+01, 9.14200034e+01,\n",
       "        9.40305797e+01, 9.66411561e+01, 9.92517324e+01, 1.01862309e+02,\n",
       "        1.04472885e+02, 1.07083461e+02, 1.09694038e+02, 1.12304614e+02,\n",
       "        1.14915190e+02, 1.17525767e+02, 1.20136343e+02, 1.22746920e+02,\n",
       "        1.25357496e+02, 1.27968072e+02, 1.30578649e+02, 1.33189225e+02,\n",
       "        1.35799801e+02, 1.38410378e+02, 1.41020954e+02, 1.43631530e+02,\n",
       "        1.46242107e+02, 1.48852683e+02, 1.51463259e+02, 1.54073836e+02,\n",
       "        1.56684412e+02, 1.59294988e+02, 1.61905565e+02, 1.64516141e+02,\n",
       "        1.67126717e+02, 1.69737294e+02, 1.72347870e+02, 1.74958446e+02,\n",
       "        1.77569023e+02, 1.80179599e+02, 1.82790175e+02, 1.85400752e+02,\n",
       "        1.88011328e+02, 1.90621904e+02, 1.93232481e+02, 1.95843057e+02,\n",
       "        1.98453633e+02, 2.01064210e+02, 2.03674786e+02, 2.06285362e+02,\n",
       "        2.08895939e+02, 2.11506515e+02, 2.14117091e+02, 2.16727668e+02,\n",
       "        2.19338244e+02, 2.21948820e+02, 2.24559397e+02, 2.27169973e+02,\n",
       "        2.29780550e+02, 2.32391126e+02, 2.35001702e+02, 2.37612279e+02,\n",
       "        2.40222855e+02, 2.42833431e+02, 2.45444008e+02, 2.48054584e+02,\n",
       "        2.50665160e+02, 2.53275737e+02, 2.55886313e+02, 2.58496889e+02,\n",
       "        2.61107466e+02]),\n",
       " <BarContainer object of 100 artists>)"
      ]
     },
     "execution_count": 126,
     "metadata": {},
     "output_type": "execute_result"
    },
    {
     "data": {
      "image/png": "[encoded data removed]",
      "text/plain": [
       "<Figure size 640x480 with 1 Axes>"
      ]
     },
     "metadata": {},
     "output_type": "display_data"
    }
   ],
   "source": [
    "a = activity_a(1000)\n",
    "d = distribution.get_best_fitting_distribution(a).generate_sample(1000)\n",
    "plt.hist(a, bins=100 )\n",
    "plt.hist(d, bins=100)"
   ]
  },
  {
   "cell_type": "code",
   "execution_count": 32,
   "id": "783e7d47-4231-4000-a7b2-59f12b671870",
   "metadata": {},
   "outputs": [],
   "source": [
    "and_activities_trained = lambda n, m : np.max(np.concatenate((\n",
    "        np.array(distribution.get_best_fitting_distribution(activity_a(m)).generate_sample(n), ndmin=2),\n",
    "        np.array(distribution.get_best_fitting_distribution(activity_b(m)).generate_sample(n), ndmin=2)\n",
    "    )), axis=0)"
   ]
  },
  {
   "cell_type": "code",
   "execution_count": 33,
   "id": "36a6eada-6f02-4a5f-88d7-b56ad9383c5b",
   "metadata": {},
   "outputs": [],
   "source": [
    "real_distribution = and_activities(1000)\n",
    "trained_distribution = and_activities_trained(1000, 1000)\n"
   ]
  },
  {
   "cell_type": "code",
   "execution_count": 35,
   "id": "07a0477a-e9e6-4ae5-925a-29d6d9b656ca",
   "metadata": {},
   "outputs": [
    {
     "data": {
      "text/plain": [
       "(array([ 1.,  2.,  2.,  2.,  1.,  4.,  1.,  1.,  3.,  1.,  3., 10.,  2.,\n",
       "         4.,  2.,  1.,  1.,  4.,  5.,  0.,  3.,  1.,  3.,  0.,  1.,  0.,\n",
       "         1.,  0.,  0.,  0.,  1.,  0.,  1.,  1.,  0.,  1.,  0.,  0.,  1.,\n",
       "         3.,  2.,  5.,  0.,  1.,  1.,  2.,  1.,  6.,  3.,  3.,  1.,  5.,\n",
       "         2.,  2.,  5.,  3.,  5.,  4.,  3.,  8.,  8., 15., 15., 20., 14.,\n",
       "        19., 14., 18., 24., 22., 27., 48., 27., 35., 32., 40., 35., 36.,\n",
       "        48., 45., 50., 36., 49., 30., 23., 17., 21., 17., 15., 14., 13.,\n",
       "        10.,  7., 10.,  4.,  4.,  4.,  1.,  0.,  4.]),\n",
       " array([ 40.61735217,  42.77118911,  44.92502605,  47.07886299,\n",
       "         49.23269993,  51.38653687,  53.54037381,  55.69421075,\n",
       "         57.84804769,  60.00188463,  62.15572157,  64.30955851,\n",
       "         66.46339545,  68.61723239,  70.77106933,  72.92490627,\n",
       "         75.07874321,  77.23258015,  79.38641709,  81.54025403,\n",
       "         83.69409097,  85.84792791,  88.00176485,  90.15560179,\n",
       "         92.30943872,  94.46327566,  96.6171126 ,  98.77094954,\n",
       "        100.92478648, 103.07862342, 105.23246036, 107.3862973 ,\n",
       "        109.54013424, 111.69397118, 113.84780812, 116.00164506,\n",
       "        118.155482  , 120.30931894, 122.46315588, 124.61699282,\n",
       "        126.77082976, 128.9246667 , 131.07850364, 133.23234058,\n",
       "        135.38617752, 137.54001446, 139.6938514 , 141.84768834,\n",
       "        144.00152528, 146.15536222, 148.30919916, 150.4630361 ,\n",
       "        152.61687304, 154.77070998, 156.92454692, 159.07838386,\n",
       "        161.2322208 , 163.38605774, 165.53989468, 167.69373162,\n",
       "        169.84756856, 172.0014055 , 174.15524244, 176.30907938,\n",
       "        178.46291632, 180.61675326, 182.7705902 , 184.92442714,\n",
       "        187.07826408, 189.23210102, 191.38593796, 193.5397749 ,\n",
       "        195.69361184, 197.84744878, 200.00128572, 202.15512266,\n",
       "        204.3089596 , 206.46279654, 208.61663348, 210.77047042,\n",
       "        212.92430736, 215.0781443 , 217.23198124, 219.38581818,\n",
       "        221.53965512, 223.69349206, 225.847329  , 228.00116593,\n",
       "        230.15500287, 232.30883981, 234.46267675, 236.61651369,\n",
       "        238.77035063, 240.92418757, 243.07802451, 245.23186145,\n",
       "        247.38569839, 249.53953533, 251.69337227, 253.84720921,\n",
       "        256.00104615]),\n",
       " <BarContainer object of 100 artists>)"
      ]
     },
     "execution_count": 35,
     "metadata": {},
     "output_type": "execute_result"
    },
    {
     "data": {
      "image/png": "[encoded data removed]",
      "text/plain": [
       "<Figure size 640x480 with 1 Axes>"
      ]
     },
     "metadata": {},
     "output_type": "display_data"
    }
   ],
   "source": [
    "plt.hist(trained_distribution, bins=100)\n",
    "plt.hist(real_distribution, bins=100 )\n"
   ]
  }
 ],
 "metadata": {
  "kernelspec": {
   "display_name": "Python 3 (ipykernel)",
   "language": "python",
   "name": "python3"
  },
  "language_info": {
   "codemirror_mode": {
    "name": "ipython",
    "version": 3
   },
   "file_extension": ".py",
   "mimetype": "text/x-python",
   "name": "python",
   "nbconvert_exporter": "python",
   "pygments_lexer": "ipython3",
   "version": "3.12.3"
  }
 },
 "nbformat": 4,
 "nbformat_minor": 5
}
